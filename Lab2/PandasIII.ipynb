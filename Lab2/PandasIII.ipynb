{
 "cells": [
  {
   "cell_type": "markdown",
   "metadata": {},
   "source": [
    "<h1><font color=\"#004D7F\" size=6>Introducción a Pandas III</font></h1>\n",
    "\n",
    "<br>\n",
    "<div style=\"text-align: right\">\n",
    "<font color=\"#004D7F\" size=3>Antonio Jesús Gil</font><br>\n",
    "<font color=\"#004D7F\" size=3>Ciencia de Datos</font><br>\n",
    "\n",
    "</div>"
   ]
  },
  {
   "cell_type": "markdown",
   "metadata": {},
   "source": [
    "---\n",
    "\n",
    "<a id=\"indice\"></a>\n",
    "<h2><font color=\"#004D7F\" size=5>Índice</font></h2>\n",
    "\n",
    "* [10. Agrupamiento: <font face=\"monospace\">groupby()</font>](#section10)\n",
    "    * [Agregación por grupos](#section101)\n",
    "* [11. Multi-índices](#section11)\n",
    "* [12. Combinación de DataFrames](#section12)\n",
    "    * [<font face=\"monospace\">append()</font>](#section121)\n",
    "    * [<font face=\"monospace\">concat()</font>](#section122)\n",
    "    * [<font face=\"monospace\">merge()</font>](#section123)\n",
    "    * [<font face=\"monospace\">join()</font>](#section124)\n",
    "* [13. Tablas dinámicas y reestructuración](#section13)\n",
    "    * [Creación de tablas dinámicas](#section131)\n",
    "    * [Reestructuración de tablas](#section132)"
   ]
  },
  {
   "cell_type": "markdown",
   "metadata": {},
   "source": [
    "---\n",
    "\n",
    "<a id=\"section10\"></a>\n",
    "# <font color=\"#004D7F\"> 10. Agrupamiento: <font face=\"monospace\"> groupby()</font></font>\n",
    "\n",
    "<br>\n",
    "La función `groupby()` permite agrupar los datos del `DataFrame` según en función de los valores de su índice o columnas. Devuelve una estructura del tipo `DataFrameGroupBy`, que implementa estructuras de datos necesarias para que las operaciones sobre grupos se apliquen de manera eficiente."
   ]
  },
  {
   "cell_type": "code",
   "execution_count": null,
   "metadata": {},
   "outputs": [],
   "source": [
    "import pandas as pd\n",
    "import numpy as np\n",
    "df = pd.read_csv('datos/county.txt', sep='\\t')\n",
    "df.head()"
   ]
  },
  {
   "cell_type": "markdown",
   "metadata": {},
   "source": [
    "La siguiente celda de código agrupa las entradas del conjunto de datos anterior en función del valor del campo _state_."
   ]
  },
  {
   "cell_type": "code",
   "execution_count": null,
   "metadata": {},
   "outputs": [],
   "source": [
    "# grupos_df = df.groupby(df['state']); # Las dos formas son equivalentes. La primera permite entender mejor el \n",
    "grupos_df = df.groupby('state');       # funcionamiento de la función. La segunda es más cómoda. \n",
    "print(type(grupos_df))"
   ]
  },
  {
   "cell_type": "markdown",
   "metadata": {},
   "source": [
    "La estructura `GroupBy.indices`, contiene un diccionario con las posiciones de las filas que corresponden a cada uno de los grupos. Otra estructura, `GroupBy.groups`, devuelve los índices de las filas correspondientes a cada grupo. "
   ]
  },
  {
   "cell_type": "code",
   "execution_count": null,
   "metadata": {},
   "outputs": [],
   "source": [
    "indices = df.groupby('state').indices\n",
    "print(\"Índices\")\n",
    "print(type(indices),'\\n')\n",
    "print(indices.keys())\n",
    "print()\n",
    "print(indices['Alabama'])\n",
    "print()"
   ]
  },
  {
   "cell_type": "markdown",
   "metadata": {},
   "source": [
    "Es posible obtener un `DataFrame` con los elementos correspondientes a cada grupo mediante la función `GroupBy.get_group()`."
   ]
  },
  {
   "cell_type": "code",
   "execution_count": null,
   "metadata": {},
   "outputs": [],
   "source": [
    "df.groupby('state').get_group('Alabama').head()"
   ]
  },
  {
   "cell_type": "markdown",
   "metadata": {},
   "source": [
    "<div class=\"alert alert-block alert-info\">\n",
    "<i class=\"fa fa-info-circle\" aria-hidden=\"true\"></i> __Nota__: Aunque estas estructuras y modo de acceso están disponibles, y permiten entender el funcionamiento de  `groupby()`, no es habitual el trabajo directo con ellas. \n",
    "</div>"
   ]
  },
  {
   "cell_type": "markdown",
   "metadata": {},
   "source": [
    "Es posible iterar sobre la estructura `DataFrameGroupBy` y obtener el `DataFrame` correspondiente a cada grupo."
   ]
  },
  {
   "cell_type": "code",
   "execution_count": null,
   "metadata": {},
   "outputs": [],
   "source": [
    "print(\"Imprime el primer grupo: \\n\")\n",
    "for grupo, df_grupo in df.groupby('state'):\n",
    "    print(\"Grupo: \",grupo)\n",
    "    print(df_grupo.head())\n",
    "    break                                   # Para imprimir solamente un grupo"
   ]
  },
  {
   "cell_type": "markdown",
   "metadata": {},
   "source": [
    "La estructura `DataFrameGroupBy` implementa la mayoría de las funciones que implementa un `DataFrame`, pero éstas se aplican de manera independiente a cada uno de los grupos. El resultado de la aplicación es un `DataFrame`."
   ]
  },
  {
   "cell_type": "code",
   "execution_count": null,
   "metadata": {},
   "outputs": [],
   "source": [
    "grupos_df = df.groupby('state')\n",
    "grupos_df.mean().head()\n",
    "#grupos_df.describe()"
   ]
  },
  {
   "cell_type": "markdown",
   "metadata": {},
   "source": [
    "El acceso a columnas también se aplica de manera independiente a cada grupo, de manera que genera un objeto `SeriesGroupBy` (o `DataFrameGroupBy` si se accede a varias columnas), en el que los datos están agrupados con el mismo criterio que el `DataFrame`."
   ]
  },
  {
   "cell_type": "code",
   "execution_count": null,
   "metadata": {},
   "outputs": [],
   "source": [
    "#grupos_pop2010 = df.groupby(df['state'])['pop2010']      # Equivalente\n",
    "#grupos_pop2010 = df['pop2010'].groupby(df['state'])      # Equivalente\n",
    "grupos_pop2010 = df.groupby('state')['pop2010']\n",
    "print(type(grupos_pop2010)) \n",
    "print()\n",
    "\n",
    "for grupo, serie_grupo in grupos_pop2010:\n",
    "    print(grupo,\": \",len(serie_grupo),\"\\n\")\n",
    "    print(serie_grupo.head())\n",
    "    break;                     # Procesa solamente la primera iteración"
   ]
  },
  {
   "cell_type": "markdown",
   "metadata": {},
   "source": [
    "Es posible grupar los datos según el resultado de una función aplicada sobre el índice del `DataFrame`. La siguiente celda de código implementa una función que determina si un estado está o no en la costa, agrupa las entradas según el resultado de esta función, y devuelve la población total en 2010 de cada uno de los grupos."
   ]
  },
  {
   "cell_type": "code",
   "execution_count": null,
   "metadata": {},
   "outputs": [],
   "source": [
    "costa_este = {'Maine', 'New Hampshire', 'Massachusetts', 'Rhode Island', 'Connecticut', 'New York', \n",
    "              'New Jersey', 'Delaware', 'Maryland', 'Virginia', 'North Carolina', 'South Carolina', \n",
    "              'Georgia', 'Florida'}\n",
    "\n",
    "costa_oeste = {'Alaska','California', 'Oregon', 'Washington'}\n",
    "\n",
    "def es_costa(estado):\n",
    "    return (estado in costa_este) or (estado in costa_oeste)\n",
    "\n",
    "for grupo, data in df.set_index('state').groupby(es_costa):\n",
    "    print(grupo)\n",
    "    print(data.index.unique())\n",
    "    print(\"Población total: \",data['pop2010'].sum())\n",
    "    print()"
   ]
  },
  {
   "cell_type": "markdown",
   "metadata": {},
   "source": [
    "La operación anterior se puede sintetizar."
   ]
  },
  {
   "cell_type": "code",
   "execution_count": null,
   "metadata": {},
   "outputs": [],
   "source": [
    "df.set_index('state').groupby(es_costa)['pop2010'].sum()"
   ]
  },
  {
   "cell_type": "markdown",
   "metadata": {},
   "source": [
    "Indirectamente, es posible agrupar a partir de una función aplicada sobre una o varias columnas. El siguiente código es equivalente al anterior, pero no se establece la columna _state_ como índice. "
   ]
  },
  {
   "cell_type": "code",
   "execution_count": null,
   "metadata": {},
   "outputs": [],
   "source": [
    "for grupo, data in df.groupby(df['state'].apply(es_costa)):\n",
    "    print(grupo)\n",
    "    print(data.index.unique())\n",
    "    print(\"Población total: \",data['pop2010'].sum())\n",
    "    print()"
   ]
  },
  {
   "cell_type": "markdown",
   "metadata": {},
   "source": [
    "La forma de trabajar anterior permite hacer la agrupación mediante una función aplicada sobre varias columnas. \n",
    "El siguiente código determina si un condado ha crecido más del 50% desde el 2000 al 2010, y agrupa los datos en función de ese criterio."
   ]
  },
  {
   "cell_type": "code",
   "execution_count": null,
   "metadata": {},
   "outputs": [],
   "source": [
    "def ha_crecido(county):\n",
    "    return (county['pop2010']/county['pop2000'])>1.5\n",
    "\n",
    "grupos_df = df.groupby(df.apply(ha_crecido, axis=1))\n",
    "# Muestra los que pertenecen al grupo que sí ha crecido más del 50%.\n",
    "grupos_df.get_group(True).head()"
   ]
  },
  {
   "cell_type": "markdown",
   "metadata": {},
   "source": [
    "<div style=\"text-align: right\"> <font size=5> [<i class=\"fa fa-arrow-circle-up\" aria-hidden=\"true\" style=\"color:#004D7F\">](#indice)</i></font></div>\n",
    "\n",
    "---\n",
    "\n",
    "<a id=\"section101\"></a> \n",
    "## <font color=\"#004D7F\">Agregación por grupos </font>\n",
    "\n",
    "<br> Una de los usos más frecuentes de la agrupación es la agregación por grupos. La función `agg()` lleva a cabo la agrupación de manera independiente para cada grupo."
   ]
  },
  {
   "cell_type": "code",
   "execution_count": null,
   "metadata": {},
   "outputs": [],
   "source": [
    "media_estado = df.groupby('state').agg({'pop2010': [np.mean, lambda pop: np.max(pop)], 'med_income':'mean'})\n",
    "media_estado.head()"
   ]
  },
  {
   "cell_type": "markdown",
   "metadata": {},
   "source": [
    "Existe otro modo de llevar a cabo la agregación. Consiste en acceder a la columna determinada, y llevar a cabo la agregación sobre ella."
   ]
  },
  {
   "cell_type": "code",
   "execution_count": null,
   "metadata": {},
   "outputs": [],
   "source": [
    "media_estado = df.groupby('state')['pop2010'].agg([np.max, np.min, 'mean'])\n",
    "media_estado.head()"
   ]
  },
  {
   "cell_type": "markdown",
   "metadata": {},
   "source": [
    "### <font color=\"#004D7F\"> Eficiencia </font>\n",
    "\n",
    "\n",
    "Aunque la agregación por grupos se puede llevar a cabo de otros modos, el uso de una estructura `GroupBy` permite hacerlo de manera más eficiente. La siguiente celda obtiene la media de población en 2010 para las filas correspondientes a cada estado mediante indexación con booleanos. "
   ]
  },
  {
   "cell_type": "code",
   "execution_count": null,
   "metadata": {},
   "outputs": [],
   "source": [
    "%%timeit -n 10 \n",
    "for state in df['state'].unique():\n",
    "    avg = np.average(df[df['state']==state]['pop2010'])"
   ]
  },
  {
   "cell_type": "markdown",
   "metadata": {},
   "source": [
    "La siguiente celda hace la misma operación, pero iterando dobre una estructura `GroupBy`."
   ]
  },
  {
   "cell_type": "code",
   "execution_count": null,
   "metadata": {},
   "outputs": [],
   "source": [
    "%%timeit -n 10\n",
    "for grupo, frame in df.groupby('state'):\n",
    "    avg = np.average(frame['pop2010'])"
   ]
  },
  {
   "cell_type": "markdown",
   "metadata": {},
   "source": [
    "Por último, en esta celda se lleva a cabo el mismo cálculo, pero sin iterar. "
   ]
  },
  {
   "cell_type": "code",
   "execution_count": null,
   "metadata": {},
   "outputs": [],
   "source": [
    "%%timeit -n 10\n",
    "avg = df.groupby('state')['pop2010'].mean()"
   ]
  },
  {
   "cell_type": "markdown",
   "metadata": {},
   "source": [
    "<div style=\"text-align: right\"> <font size=5> [<i class=\"fa fa-arrow-circle-up\" aria-hidden=\"true\" style=\"color:#004D7F\">](#indice)</i></font></div>\n",
    "\n",
    "---\n",
    "\n",
    "<a id=\"section11\"></a> \n",
    "# <font color=\"#004D7F\">Multi-índices </font>\n",
    "\n",
    "<br>\n",
    "Pandas permite utilizar varios niveles de indexación, tanto para filas como para columnas. En este tutorial se describen los conceptos necesarios para el uso más común. Se puede encontrar más información al respecto en la ([documentación](https://pandas.pydata.org/pandas-docs/stable/advanced.html)). \n",
    "\n",
    "<br>\n",
    "Cuando se proporcionan varias colecciones como índice en la construcción del `DataFrame`, se crea un multi-indice. "
   ]
  },
  {
   "cell_type": "code",
   "execution_count": null,
   "metadata": {},
   "outputs": [],
   "source": [
    "compra_1 =  {'Nombre': 'Álvaro', 'Producto': 'Queso', 'Precio': 22.50}\n",
    "compra_2 =  {'Nombre': 'Benito', 'Producto': 'Vino', 'Precio': 14.50}\n",
    "compra_3 =  {'Nombre': 'Fernando','Producto': 'Jamón', 'Precio': 50.00}\n",
    "compra_4 =  {'Nombre': 'Martín', 'Producto': 'Aceite', 'Precio': 20.00}\n",
    "compra_5 =  {'Nombre': 'Hernán'} # Deja a NaN los campos para los que no se proporciona valor.\n",
    "\n",
    "df_compras = pd.DataFrame([compra_1, compra_2, compra_3, compra_4, compra_5], \n",
    "                          index=[['Tienda 1', 'Tienda 1', 'Tienda 2', 'Tienda 3', 'Tienda 3'],\n",
    "                                 ['Albacete', 'Albacete', 'Villarrobledo', 'Tomelloso', 'Tomelloso']])\n",
    "df_compras"
   ]
  },
  {
   "cell_type": "markdown",
   "metadata": {},
   "source": [
    "El índice se divide en niveles, organizados de manera jerárquica. "
   ]
  },
  {
   "cell_type": "code",
   "execution_count": null,
   "metadata": {},
   "outputs": [],
   "source": [
    "df_compras.index"
   ]
  },
  {
   "cell_type": "markdown",
   "metadata": {},
   "source": [
    "La función `swaplevel` permite cambiar la jerarquía de índices. "
   ]
  },
  {
   "cell_type": "code",
   "execution_count": null,
   "metadata": {},
   "outputs": [],
   "source": [
    "df_compras.swaplevel(i=1,j=0)"
   ]
  },
  {
   "cell_type": "markdown",
   "metadata": {},
   "source": [
    "La siguiente celda de código lee un conjunto de datos y establece un índice con un nivel principal, _state_, y otro secundario, _name_. La jerarquía corresponde al orden en que aparecen las columnas. "
   ]
  },
  {
   "cell_type": "code",
   "execution_count": null,
   "metadata": {},
   "outputs": [],
   "source": [
    "import pandas as pd\n",
    "df = pd.read_csv('datos/county.txt', sep='\\t')\n",
    "df.set_index(['state','name'], inplace=True)\n",
    "df.head()"
   ]
  },
  {
   "cell_type": "markdown",
   "metadata": {},
   "source": [
    "Cuando se utiliza un índice a varios niveles, el acceso natural a filas se hace mediante tuplas cuyo tamaño corresponde al número de índices, y con los valores del índice en cada nivel."
   ]
  },
  {
   "cell_type": "code",
   "execution_count": null,
   "metadata": {},
   "outputs": [],
   "source": [
    "#df.loc[('Alabama','Bibb County')]      \n",
    "df.loc['Alabama','Bibb County']             # Estas dos notaciones son equivalentes"
   ]
  },
  {
   "cell_type": "markdown",
   "metadata": {},
   "source": [
    "<div class=\"alert alert-block alert-warning\">\n",
    "<i class=\"fa fa-exclamation-circle\" aria-hidden=\"true\"></i>\n",
    "__Importante__: Hablamos de varios niveles porque pueden ser más de dos. \n",
    "</div>"
   ]
  },
  {
   "cell_type": "markdown",
   "metadata": {},
   "source": [
    "No es necesario especificar valores en todos los niveles para localizar elementos. Es posible omitir los valores a partir de un nivel. "
   ]
  },
  {
   "cell_type": "code",
   "execution_count": null,
   "metadata": {},
   "outputs": [],
   "source": [
    "df.loc['Alabama'].head()"
   ]
  },
  {
   "cell_type": "markdown",
   "metadata": {},
   "source": [
    "Este tipo de indexación, mediante el valor en el índice principal, permite _slicing_."
   ]
  },
  {
   "cell_type": "code",
   "execution_count": null,
   "metadata": {},
   "outputs": [],
   "source": [
    "df.loc['Alabama':'Wyoming'].head()"
   ]
  },
  {
   "cell_type": "markdown",
   "metadata": {},
   "source": [
    "También es posible utilizar multi-índices en las columnas. El siguiente código crea un multi-índice y lo establece en el `DataFrame` anterior."
   ]
  },
  {
   "cell_type": "code",
   "execution_count": null,
   "metadata": {},
   "outputs": [],
   "source": [
    "# Crea un multi-índice\n",
    "level1 = ['population', 'population', 'money', 'money', 'money','money','money','money']\n",
    "level2 = df.columns\n",
    "tuples = list(zip(level1,level2))\n",
    "m_columns = pd.MultiIndex.from_tuples(tuples, names=['principal', 'secundario'])\n",
    "\n",
    "# Establece un multi índice como índice de columnas.\n",
    "df.columns = m_columns\n",
    "df.head()"
   ]
  },
  {
   "cell_type": "markdown",
   "metadata": {},
   "source": [
    "A veces es más cómodo mostrar los índices como tuplas. Es posible hacerlo fijando la opción `display.multi_sparse` de Pandas a `False`. "
   ]
  },
  {
   "cell_type": "code",
   "execution_count": null,
   "metadata": {},
   "outputs": [],
   "source": [
    "pd.set_option('display.multi_sparse', False)\n",
    "df.head()"
   ]
  },
  {
   "cell_type": "code",
   "execution_count": null,
   "metadata": {},
   "outputs": [],
   "source": [
    "pd.set_option('display.multi_sparse', True)"
   ]
  },
  {
   "cell_type": "markdown",
   "metadata": {},
   "source": [
    "También pueden accederse las columnas a través del nivel (o niveles) más bajos del índice. "
   ]
  },
  {
   "cell_type": "code",
   "execution_count": null,
   "metadata": {},
   "outputs": [],
   "source": [
    "df.loc['Alabama','population'].head()"
   ]
  },
  {
   "cell_type": "code",
   "execution_count": null,
   "metadata": {},
   "outputs": [],
   "source": [
    "df.loc['Alabama':'Wyoming','population'].head()"
   ]
  },
  {
   "cell_type": "markdown",
   "metadata": {},
   "source": [
    "Mediante la función `DataFrame.xs` se puede acceder a los datos especificando el nivel del índice. Esto permite la indexación simple con índices en cualquier nivel."
   ]
  },
  {
   "cell_type": "code",
   "execution_count": null,
   "metadata": {},
   "outputs": [],
   "source": [
    "df.xs('Park County', level=1)"
   ]
  },
  {
   "cell_type": "markdown",
   "metadata": {},
   "source": [
    "Este tipo de acceso también puede hacerse para columnas. "
   ]
  },
  {
   "cell_type": "code",
   "execution_count": null,
   "metadata": {},
   "outputs": [],
   "source": [
    "# El nivel se llama 'secundario' porque anteriormente le llamamos así. \n",
    "df.xs('pop2000', level='secundario', axis=1).head()   "
   ]
  },
  {
   "cell_type": "markdown",
   "metadata": {},
   "source": [
    "Es posible ordenar el `DataFrame` en función del índice jerárquico. En ese caso, la jerarquía se utiliza también en la ordenación."
   ]
  },
  {
   "cell_type": "code",
   "execution_count": null,
   "metadata": {
    "scrolled": true
   },
   "outputs": [],
   "source": [
    "df.sort_index(inplace=True)\n",
    "df.head()"
   ]
  },
  {
   "cell_type": "markdown",
   "metadata": {},
   "source": [
    "También se puede ordenar el `DataFrame` en función de un nivel del índice."
   ]
  },
  {
   "cell_type": "code",
   "execution_count": null,
   "metadata": {},
   "outputs": [],
   "source": [
    "df.sort_index(level=1)\n",
    "df.head()"
   ]
  },
  {
   "cell_type": "markdown",
   "metadata": {},
   "source": [
    "Cuando el `DataFrame` está ordenado, es posible hacer slicing con tuplas. "
   ]
  },
  {
   "cell_type": "code",
   "execution_count": null,
   "metadata": {},
   "outputs": [],
   "source": [
    "df.loc[('Alabama','Coosa County'):('Wyoming','Carbon County')].head()"
   ]
  },
  {
   "cell_type": "markdown",
   "metadata": {},
   "source": [
    "Por último, la función `groupby` acepta un parámetro, denominado `level`, que permite agrupar los datos según el valor del índice en un nivel. "
   ]
  },
  {
   "cell_type": "code",
   "execution_count": null,
   "metadata": {},
   "outputs": [],
   "source": [
    "grupos_df = df.groupby(level=0)\n",
    "for grupo, datos in grupos_df:\n",
    "    print(grupo)\n",
    "    print(datos.head())\n",
    "    break;    # Solamente el primer grupo."
   ]
  },
  {
   "cell_type": "markdown",
   "metadata": {},
   "source": [
    "Otro ejemplo. Agrupa por nombre de condado, y muestra las columnas que corresponden al índice _ money_."
   ]
  },
  {
   "cell_type": "code",
   "execution_count": null,
   "metadata": {},
   "outputs": [],
   "source": [
    "grupos_df = df.groupby(level=1)['money']\n",
    "for grupo, datos in grupos_df:\n",
    "    print(grupo)\n",
    "    print(datos.head())\n",
    "    break;    # Solamente el primer grupo."
   ]
  },
  {
   "cell_type": "markdown",
   "metadata": {},
   "source": [
    "<div style=\"text-align: right\"> <font size=5> [<i class=\"fa fa-arrow-circle-up\" aria-hidden=\"true\" style=\"color:#004D7F\">](#indice)</i></font></div>\n",
    "\n",
    "---\n",
    "\n",
    "<a id=\"section12\"></a>\n",
    "# <font color=\"#004D7F\"> 12. Combinación de Dataframes</font>\n",
    "\n",
    "<br>\n",
    "\n",
    "La funcionalidad relativa a combinación de `DataFrame` y `Series` es completa y compleja, ya que uno de los usos principales de Pandas es el de herramienta para la agregación de datos. La documentación oficial de la librería ilustra con ejemplos la mayoría de casos de uso ([documentación](https://pandas.pydata.org/pandas-docs/stable/merging.html)).\n",
    "\n",
    "Para ilustrar los ejemplos de este tutorial, se utilizarán estos tres `DataFrame`. "
   ]
  },
  {
   "cell_type": "code",
   "execution_count": null,
   "metadata": {},
   "outputs": [],
   "source": [
    "pos1_df = pd.DataFrame([{'Nombre': 'Diego Costa', 'Posición': 'Delantero', 'País':'Brasil'},\n",
    "                        {'Nombre': 'Sergio Ramos', 'Posición': 'Defensa', 'País':'España'},\n",
    "                        {'Nombre': 'Gerard Piqué', 'Posición': 'Defensa', 'País':'España'},\n",
    "                        {'Nombre': 'Cristiano Ronaldo', 'Posición': 'Delantero', 'País':'Portugal'}])\n",
    "\n",
    "pos2_df = pd.DataFrame([{'Nombre': 'Leo Messi', 'Posición': 'Delantero', 'País':'Argentina'},\n",
    "                        {'Nombre': 'Luca Modric', 'Posición': 'Centrocampista', 'País':'Croacia'},\n",
    "                        {'Nombre': 'Saúl Ñíguez', 'Posición': 'Centrocampista', 'País':'España'},\n",
    "                        {'Nombre': 'Kareem Benzema', 'Posición': 'Delantero', 'País':'Francia'}])\n",
    "\n",
    "eqp_df = pd.DataFrame([{'Nombre': 'Diego Costa',  'Equipo': 'Atlético de Madrid', 'País':'España'},\n",
    "                       {'Nombre': 'Cristiano Ronaldo','Equipo': 'Real Madrid', 'País':'España'},\n",
    "                       {'Nombre': 'Leo Messi','Equipo': 'FC Barcelona', 'País':'España'},\n",
    "                       {'Nombre': 'Koke','Equipo': 'Atlético de Madrid', 'País':'España'}])\n",
    "\n",
    "print(pos1_df)\n",
    "print()\n",
    "print(eqp_df)"
   ]
  },
  {
   "cell_type": "markdown",
   "metadata": {},
   "source": [
    "<div style=\"text-align: right\"> <font size=5> [<i class=\"fa fa-arrow-circle-up\" aria-hidden=\"true\" style=\"color:#004D7F\">](#indice)</i></font></div>\n",
    "\n",
    "---\n",
    "\n",
    "<a id=\"section121\"></a> \n",
    "## <font color=\"#004D7F\"><font face=\"monospace\"> append()</font></font>\n",
    "    \n",
    "Es la función más sencilla. Permite añadir a un `DataFrame` las filas de otro u otros `Dataframe`. Como resultado, genera un nuevo `DataFrame`."
   ]
  },
  {
   "cell_type": "code",
   "execution_count": null,
   "metadata": {},
   "outputs": [],
   "source": [
    "print(pos1_df.set_index(\"Nombre\").append(pos2_df.set_index(\"Nombre\")))"
   ]
  },
  {
   "cell_type": "markdown",
   "metadata": {},
   "source": [
    "`append()` toma un parámetro, denominado `ignore_index` que permite crear un nuevo índice (numérico) e ignorar el de los `DataFrames` originales. "
   ]
  },
  {
   "cell_type": "code",
   "execution_count": null,
   "metadata": {},
   "outputs": [],
   "source": [
    "print(pos1_df.set_index(\"Nombre\").append(pos2_df.set_index(\"Nombre\"), ignore_index=True))"
   ]
  },
  {
   "cell_type": "markdown",
   "metadata": {},
   "source": [
    "<div class=\"alert alert-block alert-info\">\n",
    "<i class=\"fa fa-info-circle\" aria-hidden=\"true\"></i> __Nota__: La función `append()` es en realidad un caso específico de la función más general `concat()`, que se verá a continuación.\n",
    "</div>"
   ]
  },
  {
   "cell_type": "markdown",
   "metadata": {},
   "source": [
    "<div style=\"text-align: right\"> <font size=5> [<i class=\"fa fa-arrow-circle-up\" aria-hidden=\"true\" style=\"color:#004D7F\">](#indice)</i></font></div>\n",
    "\n",
    "---\n",
    "\n",
    "<a id=\"section122\"></a> \n",
    "## <font color=\"#004D7F\"><font face=\"monospace\"> concat()</font></font>\n",
    "\n",
    "<br>\n",
    "Esta función implementa la concatenación de `DataFrames`. Puede hacerse a nivel de filas (similar a `append()`) como de columnas. Toma varios parámetros. Los más importantes, además de la lista de `DataFrame` que se han de concatenar, son:\n",
    "\n",
    "* `axis`. Determina el eje a lo largo del cual se concatenan los datos, y puede tomar los valores 0 (filas) y 1 (columnas).\n",
    "* `join`. Determina si se considera la unión (`outer`) o la intersección (`inner`) de elementos (según el índice). \n",
    "* `join_axes`. Permite especificar qué elementos se incluyen (se usa en lugar de `join`) en el nuevo `DataFrame`.\n",
    "* `keys`. Es un vector de claves. Si se utiliza, crea un multi-índice, y utiliza estas claves en el primer nivel para marcar el `DataFrame` original en el resultante. \n",
    "\n",
    "La siguiente llamada es equivalente a `append()`. Por defecto lleva a cabo la concatenación a nivel de filas, y une las columnas de ambos `DataFrame`."
   ]
  },
  {
   "cell_type": "code",
   "execution_count": null,
   "metadata": {},
   "outputs": [],
   "source": [
    "pd.concat([pos1_df, pos2_df])\n",
    "#pd.concat([pos1_df, pos2_df], join=\"outer\", axis=0)       # Es equivalente"
   ]
  },
  {
   "cell_type": "markdown",
   "metadata": {},
   "source": [
    "El parámetro join determina qué conjunto de índices (en el eje que no se concatena) se incluye en el `DataFrame` resultado. El siguiente ejemplo concatena las filas de ambos `DataFrame`, y solamente incluye las columnas que aparecen en ambos. Además, crea un nuevo índice, prescindiendo de los anteriores."
   ]
  },
  {
   "cell_type": "code",
   "execution_count": null,
   "metadata": {},
   "outputs": [],
   "source": [
    "pd.concat([pos1_df, eqp_df], join=\"inner\", axis=0, ignore_index=True)      "
   ]
  },
  {
   "cell_type": "markdown",
   "metadata": {},
   "source": [
    "Cuando se unen `DataFrame` con distintas columnas,  los valores indeterminados se fijan a _NaN_ en el nuevo `DataFrame`. Este código, además, añade una clave que permite identificar el origen de los datos. "
   ]
  },
  {
   "cell_type": "code",
   "execution_count": null,
   "metadata": {},
   "outputs": [],
   "source": [
    "pd.concat([pos1_df, eqp_df], join=\"outer\", axis=0, keys=[\"jugadores\", \"Equipos\"])"
   ]
  },
  {
   "cell_type": "markdown",
   "metadata": {},
   "source": [
    "La elección de `axis=1` permite concatenar las columnas. En este ejemplo, indicamos que solamente se consideren aquellas filas cuyo índice aparece en ambos `DataFrame` mediante `join=inner`."
   ]
  },
  {
   "cell_type": "code",
   "execution_count": null,
   "metadata": {},
   "outputs": [],
   "source": [
    "# Previamente, establecemos el nombre del jugador como índice. \n",
    "cp_pos1_df=pos1_df.set_index('Nombre')\n",
    "cp_pos2_df=pos2_df.set_index('Nombre')\n",
    "cp_eqp_df = eqp_df.set_index('Nombre')"
   ]
  },
  {
   "cell_type": "code",
   "execution_count": null,
   "metadata": {},
   "outputs": [],
   "source": [
    "pd.concat([cp_pos1_df, cp_eqp_df], axis=1, join='inner')\n",
    "#pd.concat([cp_pos1_df, cp_eqp_df], axis=1, join='outer')"
   ]
  },
  {
   "cell_type": "markdown",
   "metadata": {},
   "source": [
    "En lugar de `join`, es posible determinar qué índices se incluyen mediante `join_axes`. El siguiente ejemplo incluye todas las filas del primer `DataFrame`."
   ]
  },
  {
   "cell_type": "code",
   "execution_count": null,
   "metadata": {},
   "outputs": [],
   "source": [
    "pd.concat([cp_pos1_df, cp_eqp_df], axis=1, join_axes=[pos1_df.index])"
   ]
  },
  {
   "cell_type": "markdown",
   "metadata": {},
   "source": [
    "<div style=\"text-align: right\"> <font size=5> [<i class=\"fa fa-arrow-circle-up\" aria-hidden=\"true\" style=\"color:#004D7F\">](#indice)</i></font></div>\n",
    "\n",
    "---\n",
    "\n",
    "<a id=\"section123\"></a> \n",
    "## <font color=\"#004D7F\"><font face=\"monospace\"> merge()</font></font>\n",
    "\n",
    "<br>\n",
    "\n",
    "Esta función permite unir las columnas de dos `DataFrame`. A diferencia de `concat()`, permite especificar el modo en que se lleva a cabo esa unión mediante funcionalidades propias de lenguajes de bases de datos relacionales como SQL. Éstas se caracterizan, a _grosso modo_, por establecer una relación entre los dos conjuntos de datos que es función de una columna (que puede o no ser el índice).\n",
    "\n",
    "La función `merge()`, cuenta con numerosos parámetros ([documentación](https://pandas.pydata.org/pandas-docs/stable/generated/pandas.DataFrame.merge.html)) que rigen la unión. Algunos de los más importantes son:\n",
    "\n",
    "* `left`, `right`. Son argumentos posicionales que se refieren a los dos `DataFrame` que son unidos. \n",
    "* `left_index`, `right_index`. Determinan si los índices respectivos se usan como claves de unión.\n",
    "* `on`, `left_on`, `right_on`. Determinan qué columnas (si no se usan índices) son utilizadas como claves de unión. `on` se utiliza cuando las columnas aparecen en ambos `DataFrame`.\n",
    "* `how`. Determina qué elementos se incluyen en la unión. Puede tomar los valores `left`, `right`, `outer`, e `inner` según se consideren, respectivamente, los índices del primer `DataFrame`, del segundo, la unión, o la intersección de ambos.  \n",
    "\n",
    "Además, admite otros parámetros de utilidad a la hora de presentar el conjunto de datos resultante de la unión.\n",
    "\n",
    "* `suffixes`. Es una lista de `Strings` (dos). Cuando existen columnas comunes en ambos `DataFrame`, y no son utilizadas como clave de unión, permite identificarlas en el `DataFrame` resultante. Para ello, añade cada `String` al nombre de la columna correspondiente según incluya los valores de uno u otro `DataFrame`.  \n",
    "* `indicator`. Añade una columna, denominada `_merge` con información sobre el origen de cada fila (un `DataFrame` concreto o los dos.\n",
    "* `validate`. Es un `String` que permite determinar si se cumple una determinada relación entre las claves de unión. Puede tomar los valores `1:1`, `1:m`, `m:1` y `m:m`.\n",
    "\n",
    "<br>\n",
    "En la siguiente celda se lleva a cabo la unión entre los dos `DataFrame` definidos anteriormente en función del nombre del jugador, y considerando la unión de todas las filas. Como la columna _País_ aparece en ambos `DataFrame`, se añade también un sufijo para determinar la correspondencia en el `DataFrame` resultante."
   ]
  },
  {
   "cell_type": "code",
   "execution_count": null,
   "metadata": {},
   "outputs": [],
   "source": [
    "pd.merge(pos1_df,eqp_df, how='outer', left_on='Nombre', right_on='Nombre', suffixes=['_jug','_equ'])\n",
    "# pd.merge(pos1_df,eqp_df, how='outer', on='Nombre', suffixes=['_jug','_equ'])  # Equivalente"
   ]
  },
  {
   "cell_type": "markdown",
   "metadata": {},
   "source": [
    "En este caso, suponemos que los `DataFrame` están indexados según el nombre del jugador. Además, añadimos un indicador, que permite determinar el origen de cada entrada. "
   ]
  },
  {
   "cell_type": "code",
   "execution_count": null,
   "metadata": {},
   "outputs": [],
   "source": [
    "pd.merge(pos1_df.set_index('Nombre'), eqp_df.set_index('Nombre'), how='outer', \n",
    "         left_index=True, right_index=True, suffixes=['_jug','_equ'], indicator=True)"
   ]
  },
  {
   "cell_type": "markdown",
   "metadata": {},
   "source": [
    "<div style=\"text-align: right\"> <font size=5> [<i class=\"fa fa-arrow-circle-up\" aria-hidden=\"true\" style=\"color:#004D7F\">](#indice)</i></font></div>\n",
    "\n",
    "---\n",
    "\n",
    "<a id=\"section124\"></a> \n",
    "\n",
    "## <font color=\"#004D7F\"><font face=\"monospace\"> join()</font></font>\n",
    "\n",
    "Es similar a `merge()`, aunque permite unir varios `DataFrame` y utiliza solo algunos parámetros. Por defecto utiliza los índices como clave de unión y el conjunto de elementos del `DataFrame` de la izquierda, es decir, `how=left` ([documentación](https://pandas.pydata.org/pandas-docs/stable/generated/pandas.DataFrame.join.html)).\n"
   ]
  },
  {
   "cell_type": "code",
   "execution_count": null,
   "metadata": {},
   "outputs": [],
   "source": [
    "pos1_df.set_index('Nombre', inplace=True)\n",
    "pos2_df.set_index('Nombre', inplace=True)\n",
    "eqp_df.set_index('Nombre', inplace=True)"
   ]
  },
  {
   "cell_type": "code",
   "execution_count": null,
   "metadata": {},
   "outputs": [],
   "source": [
    "pos1_df.join(eqp_df, lsuffix='_pos', rsuffix='_equ')"
   ]
  },
  {
   "cell_type": "markdown",
   "metadata": {},
   "source": [
    "La llamada anterior es equivalente a ésta. "
   ]
  },
  {
   "cell_type": "code",
   "execution_count": null,
   "metadata": {},
   "outputs": [],
   "source": [
    "pd.merge(pos1_df, eqp_df, left_index=True, right_index=True, how='left', suffixes=['_jug','_equ'], sort=False)"
   ]
  },
  {
   "cell_type": "markdown",
   "metadata": {},
   "source": [
    "<div style=\"text-align: right\"> <font size=5> [<i class=\"fa fa-arrow-circle-up\" aria-hidden=\"true\" style=\"color:#004D7F\">](#indice)</i></font></div>\n",
    "\n",
    "---\n",
    "\n",
    "<a id=\"section13\"></a>\n",
    "# <font color=\"#004D7F\"> 13. Tablas dinámicas y reestructuración </font>\n",
    "\n",
    "<br>\n",
    "Para ilustrar esta sección, utilizaremos este conjunto de datos. "
   ]
  },
  {
   "cell_type": "code",
   "execution_count": null,
   "metadata": {},
   "outputs": [],
   "source": [
    "def franja_edad(edad):\n",
    "    if edad<18:\n",
    "        return 'joven'\n",
    "    elif edad>65:\n",
    "        return 'anciano'\n",
    "    else:\n",
    "        return 'adulto'\n",
    "\n",
    "df_titanic = pd.read_csv('datos/Titanic.csv', sep=',', skiprows=1, index_col=1,\n",
    "                         names=['ID','Nombre','Clase','Edad','Sexo','Superviviente','Código (Sexo)'])\n",
    "\n",
    "df_titanic['FranjaEdad']=df_titanic['Edad'].apply(franja_edad)\n",
    "del df_titanic['ID']\n",
    "df_titanic.head()"
   ]
  },
  {
   "cell_type": "markdown",
   "metadata": {},
   "source": [
    "<div style=\"text-align: right\"> <font size=5> [<i class=\"fa fa-arrow-circle-up\" aria-hidden=\"true\" style=\"color:#004D7F\">](#indice)</i></font></div>\n",
    "\n",
    "---\n",
    "\n",
    "<a id=\"section131\"></a>\n",
    "\n",
    "## <font color=\"#004D7F\">Creación de tablas dinámicas</font>\n",
    "</font>\n",
    "\n",
    "<br>\n",
    "Las tablas dinámicas se generan  utilizando los valores de una o varias columnas en la tabla origen como nombres de índices o columnas. Se utilizan para mostrar, generalmente, agregaciones de datos.\n",
    "\n",
    "### <font color=\"#004D7F\"> <font face=\"monospace\">pivot_table() </font></font>\n",
    "\n",
    "La función `pivot_table` permite construir una tabla dinámica a partir de los datos de un `DataFrame`. Toma principalment cuatro parámetros:\n",
    "\n",
    "* `index`/`columns`. La columna o columnas cuyos valores serán utilizados como índices/columnas en la nueva tabla. \n",
    "* `values`. Los valores de interés, sobre los que se lleva a cabo la agregación.\n",
    "* `aggfunc`. La función o funciones de agregación.\n",
    "\n",
    "La siguiente función muestra los supervivientes en función de los campos _Sexo_ y _Clase_. (La función `dropna` elimina los registros vacíos)."
   ]
  },
  {
   "cell_type": "code",
   "execution_count": null,
   "metadata": {},
   "outputs": [],
   "source": [
    "pt = df_titanic.pivot_table(index='Clase', columns='Sexo', values='Superviviente', aggfunc=np.sum).dropna()\n",
    "pt"
   ]
  },
  {
   "cell_type": "markdown",
   "metadata": {},
   "source": [
    "En este otro ejemplo, se utilizan como columnas tanto el sexo como la franja de edad. "
   ]
  },
  {
   "cell_type": "code",
   "execution_count": null,
   "metadata": {},
   "outputs": [],
   "source": [
    "df_titanic.pivot_table(index='Clase', columns=['Sexo', 'FranjaEdad'], \n",
    "                       values=['Superviviente'], aggfunc=np.mean).round(2)"
   ]
  },
  {
   "cell_type": "markdown",
   "metadata": {},
   "source": [
    "También se pueden especificar varias columnas como valores, o varias funciones de agregación."
   ]
  },
  {
   "cell_type": "code",
   "execution_count": null,
   "metadata": {},
   "outputs": [],
   "source": [
    "df_titanic.pivot_table(index='Clase', columns=['Sexo'], \n",
    "                       values=['Superviviente','Edad'], aggfunc=[np.mean, np.sum]).round(2)"
   ]
  },
  {
   "cell_type": "markdown",
   "metadata": {},
   "source": [
    "### <font color=\"#004D7F\"> <font face=\"monospace\">unstack() </font></font>\n",
    "\n",
    "La función `unstack()` es más simple que la anterior, ya que trabaja con multi-índices, y no agrega datos, solamente los muestra.  "
   ]
  },
  {
   "cell_type": "code",
   "execution_count": null,
   "metadata": {},
   "outputs": [],
   "source": [
    "df_classex = df_titanic.groupby(['Clase','Sexo'])['Superviviente','Edad'].agg(np.sum)\n",
    "df_classex"
   ]
  },
  {
   "cell_type": "code",
   "execution_count": null,
   "metadata": {},
   "outputs": [],
   "source": [
    "df_classex.unstack('Sexo')"
   ]
  },
  {
   "cell_type": "markdown",
   "metadata": {},
   "source": [
    "<div style=\"text-align: right\"> <font size=5> [<i class=\"fa fa-arrow-circle-up\" aria-hidden=\"true\" style=\"color:#004D7F\">](#indice)</i></font></div>\n",
    "\n",
    "---\n",
    "\n",
    "<a id=\"section132\"></a>\n",
    "\n",
    "## <font color=\"#004D7F\">Reestructuración de tablas</font>\n",
    "</font>\n",
    "\n",
    "Es posible llevar a cabo el proceso inverso al descrito anteriormente. Es decir, convertir los nombres de columnas en valores. "
   ]
  },
  {
   "cell_type": "code",
   "execution_count": null,
   "metadata": {},
   "outputs": [],
   "source": [
    "df_precios = pd.DataFrame({'Casa':[10,20,30], 'Coche':[40,50,60], 'Transporte':[1,2,3]},\n",
    "                         index = ['Madrid', 'Barcelona', 'Paris'])\n",
    "df_precios"
   ]
  },
  {
   "cell_type": "markdown",
   "metadata": {},
   "source": [
    "### <font color=\"#004D7F\"> <font face=\"monospace\">stack() </font></font>\n",
    "\n",
    "El método más sencillo para despivotar tablas es `stack`, que toma un nivel de índices en las columnas, y lo convierte en una índice de la tabla (fila)."
   ]
  },
  {
   "cell_type": "code",
   "execution_count": null,
   "metadata": {},
   "outputs": [],
   "source": [
    "df_precios.stack(level=0)"
   ]
  },
  {
   "cell_type": "markdown",
   "metadata": {},
   "source": [
    "### <font color=\"#004D7F\"> <font face=\"monospace\">melt() </font></font>\n",
    "\n",
    "Otra posibilidad más completa es `melt()`. Esta función convierte los nombres de varias columnas a valores. Toma tres parámetros principales. \n",
    "\n",
    "* `id_vars`. Lista de columnas de referencia. \n",
    "* `value_vars`. Lista de columnas que son despivotadas. \n",
    "* `var_name` y `value_name`. Nombre de las columnas con los nombres de las variables, y los valores correspondientes. "
   ]
  },
  {
   "cell_type": "code",
   "execution_count": null,
   "metadata": {},
   "outputs": [],
   "source": [
    "df_precios.reset_index(inplace=True)\n",
    "df_precios.columns = ['Ciudad','Casa','Coche','Transporte']\n",
    "df_precios"
   ]
  },
  {
   "cell_type": "code",
   "execution_count": null,
   "metadata": {},
   "outputs": [],
   "source": [
    "df_precios.melt(id_vars='Ciudad', value_vars=['Casa','Coche'], var_name='Concepto', value_name='Precio')"
   ]
  },
  {
   "cell_type": "markdown",
   "metadata": {},
   "source": [
    "<div style=\"text-align: right\"> <font size=5> [<i class=\"fa fa-arrow-circle-up\" aria-hidden=\"true\" style=\"color:#004D7F\">](#indice)</i></font></div>\n",
    "\n",
    "---\n",
    "\n",
    "<div style=\"text-align: right\"> <font size=6><i class=\"fa fa-coffee\" aria-hidden=\"true\" style=\"color:#004D7F\"></i> </font></div>"
   ]
  }
 ],
 "metadata": {
  "kernelspec": {
   "display_name": "Python 3",
   "language": "python",
   "name": "python3"
  },
  "language_info": {
   "codemirror_mode": {
    "name": "ipython",
    "version": 3
   },
   "file_extension": ".py",
   "mimetype": "text/x-python",
   "name": "python",
   "nbconvert_exporter": "python",
   "pygments_lexer": "ipython3",
   "version": "3.7.3"
  }
 },
 "nbformat": 4,
 "nbformat_minor": 2
}
