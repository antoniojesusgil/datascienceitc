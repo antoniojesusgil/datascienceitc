{
 "cells": [
  {
   "cell_type": "markdown",
   "metadata": {},
   "source": [
    "<img src=\"cidaenNB.png\" alt=\"Logo ETIC\" align=\"right\">\n",
    "\n",
    "\n",
    "\n",
    "<br><br>\n",
    "\n",
    "\n",
    "<h1><font color=\"#113D68\" size=6>Tutorial de Jupyter Notebook</font></h1>\n",
    "\n",
    "<br><br>\n",
    "<div style=\"text-align: right\">\n",
    "<font color=\"#113D68\" size=3>Antonio Jesús Gil</font><br>\n",
    "<font color=\"#113D68\" size=3>Introducción a la Ciencia de Datos</font><br>\n",
    "\n",
    "</div>"
   ]
  },
  {
   "cell_type": "markdown",
   "metadata": {},
   "source": [
    "---\n",
    "\n",
    "El objetivo de este tutorial es conocer **cómo funciona** y **qué opciones** proporciona la herramienta **Jupyter notebook**. Dado que es la herramienta básica que utilizaremos durante el resto del curso, se hará hincapié en __shortcuts__ para agilizar y facilitar su uso, aunque no es estricatamente necesario la utilización de los mismos.\n",
    "\n",
    "Veremos en primer lugar **cómo gestionar las libretas** a través de la página de inicio.\n",
    "\n",
    "Posteriormente veremos qué opciones disponemos para la **edición** y el manejo de las libretas."
   ]
  },
  {
   "cell_type": "markdown",
   "metadata": {},
   "source": [
    "---\n",
    "\n",
    "## Cómo gestionar las libretas\n",
    "\n",
    "Las libretas son ficheros que contienen _código_ y texto en _markdown_. Cuando una libreta es abierta, se asocia con un **kernel**. Un kernel es un intérprete del lenguaje asociado a la libreta (en este caso _python_).\n",
    "\n",
    "La gestión de las libretas se hace desde la página inicial (Home).\n",
    "\n",
    "Cuando se abre una libreta y se asocia un kernel a la misma, veremos como aparece iluminado en verde el icono de la libreta (la página inicial _Home_). Si seleccionamos la libreta, nos aparecerá una opción para apagarla (_shutdown)_. Esto significa cerrar el intérprete.\n",
    "\n",
    "<div class=\"alert alert-block alert-warning\">\n",
    "<i class=\"fa fa-exclamation-circle\" aria-hidden=\"true\"></i>\n",
    "Aunque la página inicial (Home) permite mover ficheros de directorio, aconsejamos hacerlo desde el explorador o terminal.\n",
    "</div>\n"
   ]
  },
  {
   "cell_type": "markdown",
   "metadata": {},
   "source": [
    "---\n",
    "<h3><font color=\"#113D68\" size=4>Ejercicio 1 - Carpetas</font></h3>\n",
    "\n",
    "Crear una carpeta, llamada _\"Tutorial jupyter\"_, con el objetivo de crear las libretas dentro de esta carpeta y tenerlas así organizadas.\n",
    "\n",
    "Para ello, hacemos click en la barra de tareas, en la lista desplegable _\"New\"_, y seleccionamos _\"Folder\"_.\n",
    "\n",
    "Inicialmente se crea con un nombre por defecto. Para cambiar este nombre, seleccionarla (**checkbox** a la izquierda del nombre) y hacemos click en _\"Rename\"_ (en la barra de herramientas).\n"
   ]
  },
  {
   "cell_type": "markdown",
   "metadata": {},
   "source": [
    "---\n",
    "<h3><font color=\"#113D68\" size=4>Ejercicio 2 - El kernel</font></h3>\n",
    "\n",
    "1. Crear una libreta, llamada _\"Libreta de prueba\"_. Para ello, hacemos click en la barra de tareas, en la lista desplegable \"New\", y seleccionamos \"Python 3\".\n",
    "\n",
    "2. Inicialmente se crea con un nombre por defecto. Para cambiar este nombre, tenemos dos opciones:\n",
    "  * Analogamente al ejercicio anterior, seleccionarla (**checkbox** a la izquierda del nombre) y hacemos click en _\"Rename\"_ (en la barra de herramientas).\n",
    "  * También desde la página de la libreta, en la parte superior (junto al icono de jupyter), podemos ver el nombre de la libreta. Si hacemos click en dicho nombre lo podremos editar.\n",
    "\n",
    "3. Como se puede observar, en la página Home aparece el icono de la libreta en verde, lo que indica que hay un intérprete asociado a la libreta.\n",
    "  * Escribe el código: `s=\"Hola\"` en la primera celda de libreta, y pulsa el botón \"<i class=\"fa fa-step-forward\" aria-hidden=\"true\"></i>\n",
    " Run\". Verás que se crea una celda justo debajo. \n",
    "  * Ahora escribe el código `print(s)` en la segunda celda y pulsa el mismo botón para ejecutar el código. Verás que imprime la palabra \"Hola\".\n",
    "\n",
    "4. Si ahora vamos a la página Home y apagamos la libreta (la seleccionamos con el checkbox y pulsamos el botón _\"Shutdown\"_), veremos que el icono de la libreta vuelve a ser de color gris. Esto significa que ya no hay un intérprete asociado a la libreta. Si ahora intentamos ejecutar de nuevo cualquier celda (probar con la segunda `print(s)`; seleccionarla y pulsar el botón de ejecutar) no dará ningún resultado. Si queremos volver a asociar un intérprete a dicha libreta hay dos opciones:\n",
    "  * Abrimos la libreta desde la página Home (abre una nueva pestaña)\n",
    "  * En la página de la libreta, seleccionamos en la barra de menú la opción Kernel/Restart (reconecta esta libreta, no abre una nueva pestaña).\n",
    "\n",
    "5. Por último en este ejercicio, probaremos a tener dos libretas abiertas simultáneamente (con el kernel asociado). Como dijimos, in interprete de python tiene su propio espacio de trabajo aislado del resto:\n",
    "  * Crear una nueva libreta llamada _\"Otra libreta\"_\n",
    "  * Abrimos la primera libreta  (Libreta de prueba) y ejecutamos **únicamente** la primera celda (`s=\"Hola\"`)\n",
    "  * En la nueva libreta (Otra libreta), ejecutamos el código `print(s)`. Veremos un mensaje de error porque la variable `s` no está declarada en el entorno de trabajo del intérprete de esta segunda libreta (está declarada en la primera)."
   ]
  },
  {
   "cell_type": "markdown",
   "metadata": {},
   "source": [
    "---\n",
    "<h3><font color=\"#113D68\" size=4>Ejercicio 3 - Modos de una celda</font></h3>\n",
    "En este ejercicio trabajaremos en una libreta. En primer lugar **borraremos la libreta** llamada \"Otra libreta\". Para ello, desde la ventana Home seleccionar esta libreta y hacer click en el icono rojo de la papelera.\n",
    "\n",
    "Posteriormente abriremos la libreta \"Libreta de prueba\" para trabajar sobre ella.\n",
    "\n",
    "<div class=\"alert alert-block alert-info\">\n",
    "<i class=\"fa fa-info-circle\" aria-hidden=\"true\"></i>\n",
    "Puede que no se visualice la última libreta creada. Para actualizar el árbol de directorios mostrado en la página Home podemos pulsar el icono de refrescar situado a la derecha de la barra de herramientas.\n",
    "</div>\n",
    "\n",
    "Podemos hacer click en cada una de las celdas para seleccionarlas. Si lo hacemos en el recuadro donde se escribe el código, lo haremos en **modo edición**. Por el contrario, si el click se hace a la izquierda de la misma se seleccionará en **modo comandos**.\n",
    "\n",
    "## El modo edición\n",
    "Está relacionado con todo lo que tenga que ver con el código: **desarollar, ejecutar, menús de ayuda, ...**. Estando seleccionada una celda en modo comandos, se puede cambiar a modo edición pulsando **intro**.\n",
    "\n",
    "* Ejecutar el código de la celda: **Control + Intro**\n",
    "* Ejecutar el código de la celda y seleccionar la celda inferior (en modo comandos). **Nota**: _Si no hay celdas debajo, crea una nueva_: **Shift + Intro**\n",
    "* Autocompletar texto: **Tabulador**\n",
    "* Menú de ayuda para un elemento del código: con el cursor sobre ese elemento, pulsar **Shift + Tabulador**\n",
    "  * Alternativamente, si una línea contiene el símbolo ? seguido del elemento del código a consultar (por ejemplo `?print`) se abrirá un cuadro con la información (_docstring_) del elemento.\n",
    "\n",
    "## El modo comandos\n",
    "Está centrado en la gestión de la libreta: **crear o eliminar celdas, cambiar el tipo de celda (código o markdown), búscar texto en la libreta (y reemplazarlo), ...**. Estando seleccionada una celda en modo edición, se puede cambiar a modo comandos pulsando **escape**.\n",
    "\n",
    "* Para mostrar el cuadro de ayuda (con todos los shortcuts disponibles): **h**\n",
    "* Crear una celda justo encima (above): **a**\n",
    "* Crear una celda justo debajo (below): **b**\n",
    "* Cambio de tipo de celda a _Markdown_ (ver ejercicio 4): **m**\n",
    "* Cambio de tipo de celda a _Código_ (ver ejercicio 4): **y**\n",
    "* Copiar una celda: **c**\n",
    "* Cortar una celda: **x**\n",
    "* Pegar una celda (justo debajo de la seleccionada): **v**\n",
    "* Borrar una celda: pulsar **d** dos veces. _Alternativamente, se puede cortar (x) para evitar tener que pulsar dos teclas._\n",
    "* Ejecutar una celda puede generar un bloque de salida. Para ocultar la este bloque (puede ser útil si la salida es muy larga): **o** _(de output)_\n",
    "* Para buscar texto (find) y reemplazar: **f**. El texto a buscar se debe introducir en el primer campo de texto. Si el botón <i class=\"fa fa-arrows-v\" aria-hidden=\"true\"></i> está activado, la búsqueda será en toda la libreta. Si está desactivado, únicamente en la celda seleccionada. El botón **Aa** sirve para diferenciar entre mayúsculas o no, y **.*** para utilizar _expresiones regulares_ (se explicarán y utilizarán en el módulo 2). Para reemplazar el texto encontrado por otro, introducir este texto en el segundo campo de texto.\n",
    "\n",
    "<div class=\"alert alert-block alert-info\">\n",
    "<i class=\"fa fa-info-circle\" aria-hidden=\"true\"></i>\n",
    "Para buscar texto en la libreta se puede usar el buscador del navegador, normalmente Control+F (o cmd+F en Mac)\n",
    "</div>\n"
   ]
  },
  {
   "cell_type": "markdown",
   "metadata": {},
   "source": [
    "<h3><font color=\"#113D68\" size=4>Ejercicio 4 - Tipos de celda</font></h3>\n",
    "\n",
    "Las celdas pueden ser de 4 tipos distintos. El tipo se indica en la barra de herramientas (lista desplegable):\n",
    "* Code: Contiene código del lenguaje asociado (en este curso python).\n",
    "* Markdown: Contiene texto en formato Markdown. Este formato es un **superconjunto de HTML** (es decir, cualquier código en HTML es interpretado en este tipo de celdas). Además de las etiquetas HTML, incluye [expresiones adicionales](http://jupyter-notebook.readthedocs.io/en/stable/examples/Notebook/Working%20With%20Markdown%20Cells.html).\n",
    "* Raw NBConvert: Formato utilizado internamente en la libreta. Fuera del alcance de este curso. [Pulsa para más información](https://ipython.org/ipython-doc/3/notebook/nbformat.html#raw-nbconvert-cells).\n",
    "\n",
    "Las celdas de tipo código serán utilizadas durante el curso para desarrollar y ejecutar el código en python.\n",
    "\n",
    "Las celdas de tipo Markdown serán utilizadas para introducir texto descriptivo y dotar a la libreta de información adicional. A continuación, se indican los recursos más utilizados para formatear las celdas (al margen de las etiquetas en HTML).\n",
    "\n",
    "## Celdas tipo markdown\n",
    "\n",
    "* Texto en <strong>negrita</strong> usando HTML y usando un formato más **sencillo** (texto encerrado entre doble asterisco).\n",
    "* Texto en <i>cursiva</i> usando HTML y usando un formato más _sencillo_ (texto encerrado entre barra baja _ ).\n",
    "* Texto <strike>tachado</strike> usando HTML y usando un formato más ~~sencillo~~ (texto encerrado entre doble ~).\n",
    "* **Links**: Texto a mostrar entre corchetes, seguido del enlace entre paréntesis (sin espacio entre los corchetes y los paréntesis). Ejemplo: [CiDAEN](http://www.cidaen.es)\n",
    "* **Listas**: El comienzo de la línea debe empezar por * (o -) y un espacio. Por cada dos espacios antes del asterisco, se creará un nivel más de indentación.\n"
   ]
  },
  {
   "cell_type": "markdown",
   "metadata": {},
   "source": [
    "---\n",
    "## Celdas tipo markdown"
   ]
  },
  {
   "cell_type": "markdown",
   "metadata": {},
   "source": [
    "* Texto en <strong>negrita</strong> usando HTML y usando un formato más **sencillo** (texto encerrado entre doble asterisco)."
   ]
  },
  {
   "cell_type": "markdown",
   "metadata": {},
   "source": [
    "* Texto en <i>cursiva</i> usando HTML y usando un formato más _sencillo_ (texto encerrado entre barra baja _ ).\n"
   ]
  },
  {
   "cell_type": "markdown",
   "metadata": {},
   "source": [
    "* Texto <strike>tachado</strike> usando HTML y usando un formato más ~~sencillo~~ (texto encerrado entre doble ~)."
   ]
  },
  {
   "cell_type": "markdown",
   "metadata": {},
   "source": [
    "* **Links**: Texto a mostrar entre corchetes, seguido del enlace entre paréntesis (sin espacio entre los corchetes y los paréntesis). Ejemplo: [CiDAEN](http://www.cidaen.es)"
   ]
  },
  {
   "cell_type": "markdown",
   "metadata": {},
   "source": [
    "* **Listas**: El comienzo de la línea debe empezar por * (o -) y un espacio. Por cada dos espacios antes del asterisco, se creará un nivel más de indentación.\n",
    "\n",
    "\n",
    "* Primer nivel\n",
    "  * Segundo nivel\n",
    "    * Tercer nivel\n",
    "  * Segundo nivel de nuevo\n",
    "* Tercer nivel de nuevo"
   ]
  },
  {
   "cell_type": "markdown",
   "metadata": {},
   "source": [
    "* Se puede renderizar código en $\\LaTeX$ encerrando el texto entre el símbolo del dollar \\\\$ (para escribir este símbolo hay que escaparlo con la barra invertida \\\\). También se puede encerrar entre el doble símbolo \\\\$ para renderizar un bloque en lugar de una línea:\n",
    "\n",
    "$$\n",
    "mean = \\frac{\\sum_{i=1}^N x_i}{N}\n",
    "$$"
   ]
  },
  {
   "cell_type": "markdown",
   "metadata": {},
   "source": [
    "* Por último, también se pueden renderizar tablas. El problema de las tablas en HTML es que hay que escribir mucho texto para especificarlas:\n",
    "\n",
    "<table>\n",
    "    <tr>\n",
    "        <th> Columna 1 </th>\n",
    "        <th> Columna 2 </th>\n",
    "    </tr>\n",
    "    <tr>\n",
    "        <td> Campo 1 </td>\n",
    "        <td> Campo 2 </td>\n",
    "    </tr>\n",
    "</table>\n",
    "\n",
    "Por ello, se proporciona esta alternativa más comoda utilizando símbolos | y - :\n",
    "\n",
    "| Columna 1 | Columna 2 |\n",
    "|-----------|-----------|\n",
    "|  Campo 1  | Campor 2  |"
   ]
  },
  {
   "cell_type": "markdown",
   "metadata": {},
   "source": [
    "# IPython Magics"
   ]
  },
  {
   "cell_type": "markdown",
   "metadata": {},
   "source": [
    "Hay una serie de comandos, propios de IPython, llamados _magics_. Estos comandos permiten ampliar la lista de comandos disponibles en la libreta.\n",
    "\n",
    "A continuación listaremos aquellos que pueden resutar de mayor utilidad a lo largo del curso.\n"
   ]
  },
  {
   "cell_type": "markdown",
   "metadata": {},
   "source": [
    "## lsmagic"
   ]
  },
  {
   "cell_type": "markdown",
   "metadata": {},
   "source": [
    "Este comando lista todos los comandos disponibles:"
   ]
  },
  {
   "cell_type": "code",
   "execution_count": null,
   "metadata": {},
   "outputs": [],
   "source": [
    "%lsmagic"
   ]
  },
  {
   "cell_type": "markdown",
   "metadata": {},
   "source": [
    "## Exclamación symbol (!)"
   ]
  },
  {
   "cell_type": "markdown",
   "metadata": {},
   "source": [
    "Esta _cell magic_ permite ejecutar un comando de _terminal_ dentro de python.\n",
    "\n",
    "Un ejemplo de uso claro puede ser instalar un paquete desde la libreta:"
   ]
  },
  {
   "cell_type": "code",
   "execution_count": null,
   "metadata": {},
   "outputs": [],
   "source": [
    "!pip install numpy"
   ]
  },
  {
   "cell_type": "code",
   "execution_count": null,
   "metadata": {},
   "outputs": [],
   "source": [
    "!pip freeze"
   ]
  },
  {
   "cell_type": "markdown",
   "metadata": {},
   "source": [
    "## Uso de matplotlib interactivo"
   ]
  },
  {
   "cell_type": "markdown",
   "metadata": {},
   "source": [
    "Como veremos al final de este módulo, para usar matplotlib (paquete para la generación de gráficos) de forma interactiva en las libretas, es necesario usar este comando `%matplotlib`.\n",
    "\n",
    "Existen diferentes opciones para lo que se llama el backend. Podemos consultar esta lista mediante `%matplotlib --list`"
   ]
  },
  {
   "cell_type": "code",
   "execution_count": null,
   "metadata": {},
   "outputs": [],
   "source": [
    "%matplotlib --list"
   ]
  },
  {
   "cell_type": "markdown",
   "metadata": {},
   "source": [
    "A continuación, en el ejercicio final, utilizaremos a modo de ejemplo `%matplotlib inline`"
   ]
  },
  {
   "cell_type": "markdown",
   "metadata": {},
   "source": [
    "## Medición de tiempos: time y timeit"
   ]
  },
  {
   "cell_type": "markdown",
   "metadata": {},
   "source": [
    "Para **medir los tiempos** que tarda en ejecutarse una celda podemos usar `%time`. Si además queremos repetir la ejecución un determinado número de veces para medir el tiempo medio y la varianza, podemos usar `%%timeit`. Podemos controlar el número de repeticiones mediante el argumento -r y el número de iteraciones mediante el argumento -n: `%%timeit -n 10 -r 5`. El número de repeticiones se refiere al número de veces que repite el los `n` loops, y el número de iteraciones (loops) es el número de veces que se ejecuta la celda, reportando la media y la desviación típica de estas 10 iteraciones. El número de repeticiones se utiliza para mostrar el mejor resultado (tiempo bás bajo) de esas `r` repeciciones."
   ]
  },
  {
   "cell_type": "code",
   "execution_count": null,
   "metadata": {},
   "outputs": [],
   "source": [
    "%time\n",
    "x = [x*x for x in range(10**6)]"
   ]
  },
  {
   "cell_type": "code",
   "execution_count": null,
   "metadata": {},
   "outputs": [],
   "source": [
    "%%timeit -n 10 -r 3\n",
    "x = [x*x for x in range(10**6)]"
   ]
  }
 ],
 "metadata": {
  "anaconda-cloud": {},
  "kernelspec": {
   "display_name": "Python 3",
   "language": "python",
   "name": "python3"
  },
  "language_info": {
   "codemirror_mode": {
    "name": "ipython",
    "version": 3
   },
   "file_extension": ".py",
   "mimetype": "text/x-python",
   "name": "python",
   "nbconvert_exporter": "python",
   "pygments_lexer": "ipython3",
   "version": "3.7.3"
  }
 },
 "nbformat": 4,
 "nbformat_minor": 1
}
