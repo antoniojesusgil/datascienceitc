{
 "cells": [
  {
   "cell_type": "markdown",
   "metadata": {},
   "source": [
    "<img src=\"../img/crowdlearning-etic.png\" alt=\"Logo ETIC\" align=\"right\">\n",
    "\n",
    "\n",
    "\n",
    "<br>\n",
    "<h2><font color=\"#004D7F\" size=5>Módulo 3</font></h2>\n",
    "\n",
    "\n",
    "\n",
    "<h1><font color=\"#004D7F\" size=6> Análisis de datos</font></h1>\n",
    "\n",
    "<br>\n",
    "<div style=\"text-align: right\">\n",
    "<font color=\"#004D7F\" size=3>Antonio Jesús Gil</font><br>\n",
    "<font color=\"#004D7F\" size=3>Introducción a la Ciencia de Datos</font><br>\n",
    "\n",
    "</div>"
   ]
  },
  {
   "cell_type": "markdown",
   "metadata": {},
   "source": [
    "---\n",
    "\n",
    "<a id=\"indice\"></a>\n",
    "<h2><font color=\"#004D7F\" size=5>Índice</font></h2>\n",
    "\n",
    "* [1. Introducción](#section1)\n",
    "* [2. Representación gráfica de las variables](#section2)\n",
    "* [3. Relación entre variables: análisis demográfico](#section3)"
   ]
  },
  {
   "cell_type": "markdown",
   "metadata": {},
   "source": [
    "---\n",
    "\n",
    "<a id=\"section1\"></a>\n",
    "# <font color=\"#004D7F\"> 1. Introducción</font>\n",
    "\n",
    "<br>\n",
    "\n",
    "El análisis exploratorio de datos es una de las labores más importantes de\n",
    "un _data scientist_. Su función principal es la de ayudarnos a entender el conjunto de datos con el que trabajamos a fin de que seamos capaces de elaborar hipótesis y detectar errores en la captura de datos, así como de permitirnos explorar relaciones entre las variables de nuestro problema. A lo largo de esta práctica llevaremos a cabo el análisis exploratorio de un conjunto de datos, para lo cual emplearemos librerías descritas en módulos anteriores, si bien también introduciremos una de las más utilizadas para llevar a cabo análisis exploratorios en Python: la librería Seaborn. \n"
   ]
  },
  {
   "cell_type": "markdown",
   "metadata": {},
   "source": [
    "<div class=\"alert alert-block alert-warning\">\n",
    "<i class=\"fa fa-exclamation-circle\" aria-hidden=\"true\"></i>\n",
    " &nbsp; Durante el análisis se presentarán las funciones más habituales de Seaborn, no obstante, esta práctica no pretende ser un análisis exhaustivo de las funciones de dicha librería, para lo cual se recomienda consultar la [documentación](http://seaborn.pydata.org/index.html).   \n",
    "</div>"
   ]
  },
  {
   "cell_type": "markdown",
   "metadata": {},
   "source": [
    "Estas son las librerías necesarias para el resto de la práctica"
   ]
  },
  {
   "cell_type": "code",
   "execution_count": 98,
   "metadata": {},
   "outputs": [],
   "source": [
    "# Subconjunto mínimo\n",
    "#import numpy as np\n",
    "#import pandas as pd\n",
    "#import matplotlib.pyplot as plt\n",
    "#import seaborn as sns\n",
    "\n",
    "import numpy as np\n",
    "import matplotlib.pyplot as plt\n",
    "import pandas as pd\n",
    "import colorsys\n",
    "import seaborn as sns\n",
    "import warnings\n",
    "from datetime import datetime\n",
    "%matplotlib inline\n",
    "warnings.simplefilter(\"ignore\")"
   ]
  },
  {
   "cell_type": "markdown",
   "metadata": {},
   "source": [
    "---\n",
    "\n",
    "<a id=\"section11\"></a> \n",
    "## <font color=\"#004D7F\">Conjunto de datos</font>\n",
    "\n",
    "<br>\n",
    "\n",
    "Para realizar este análisis exploratorio vamos a utilizar la base de datos `\"Banco de datos Marathon\"` con el objetivo de estudiar el estado del campo de la ciencia de datos.\n",
    "\n",
    "Este conjunto de datos contiene los tiempos de todos los ganadores de la maratón de Nueva York desde 1970 hasta 1999.\n",
    "Las variables son:\n",
    "\n",
    "* `Year`: Año de la carrera.\n",
    "* `Gender`: Sexo del ganador, m=male, f=female.\n",
    "* `Time`: Tiempo del ganador.\n",
    "\n",
    "Está separado por tabuladores, comenzamos importando los paquetes necesarios."
   ]
  },
  {
   "cell_type": "code",
   "execution_count": 99,
   "metadata": {},
   "outputs": [
    {
     "data": {
      "text/html": [
       "<div>\n",
       "<style scoped>\n",
       "    .dataframe tbody tr th:only-of-type {\n",
       "        vertical-align: middle;\n",
       "    }\n",
       "\n",
       "    .dataframe tbody tr th {\n",
       "        vertical-align: top;\n",
       "    }\n",
       "\n",
       "    .dataframe thead th {\n",
       "        text-align: right;\n",
       "    }\n",
       "</style>\n",
       "<table border=\"1\" class=\"dataframe\">\n",
       "  <thead>\n",
       "    <tr style=\"text-align: right;\">\n",
       "      <th></th>\n",
       "      <th>Unnamed: 0</th>\n",
       "      <th>Bib</th>\n",
       "      <th>Age</th>\n",
       "      <th>M/F</th>\n",
       "      <th>City</th>\n",
       "      <th>State</th>\n",
       "      <th>Country</th>\n",
       "      <th>Citizen</th>\n",
       "      <th>Unnamed: 9</th>\n",
       "      <th>5K</th>\n",
       "      <th>...</th>\n",
       "      <th>30K</th>\n",
       "      <th>35K</th>\n",
       "      <th>40K</th>\n",
       "      <th>Pace</th>\n",
       "      <th>Proj Time</th>\n",
       "      <th>Official Time</th>\n",
       "      <th>Overall</th>\n",
       "      <th>Gender</th>\n",
       "      <th>Division</th>\n",
       "      <th>Unnamed: 8</th>\n",
       "    </tr>\n",
       "    <tr>\n",
       "      <th>Name</th>\n",
       "      <th></th>\n",
       "      <th></th>\n",
       "      <th></th>\n",
       "      <th></th>\n",
       "      <th></th>\n",
       "      <th></th>\n",
       "      <th></th>\n",
       "      <th></th>\n",
       "      <th></th>\n",
       "      <th></th>\n",
       "      <th></th>\n",
       "      <th></th>\n",
       "      <th></th>\n",
       "      <th></th>\n",
       "      <th></th>\n",
       "      <th></th>\n",
       "      <th></th>\n",
       "      <th></th>\n",
       "      <th></th>\n",
       "      <th></th>\n",
       "      <th></th>\n",
       "    </tr>\n",
       "  </thead>\n",
       "  <tbody>\n",
       "    <tr>\n",
       "      <th>Desisa, Lelisa</th>\n",
       "      <td>0.0</td>\n",
       "      <td>3</td>\n",
       "      <td>25</td>\n",
       "      <td>M</td>\n",
       "      <td>Ambo</td>\n",
       "      <td>NaN</td>\n",
       "      <td>ETH</td>\n",
       "      <td>NaN</td>\n",
       "      <td>NaN</td>\n",
       "      <td>0:14:43</td>\n",
       "      <td>...</td>\n",
       "      <td>1:32:00</td>\n",
       "      <td>1:47:59</td>\n",
       "      <td>2:02:39</td>\n",
       "      <td>0:04:56</td>\n",
       "      <td>-</td>\n",
       "      <td>2:09:17</td>\n",
       "      <td>1</td>\n",
       "      <td>1</td>\n",
       "      <td>1</td>\n",
       "      <td>NaN</td>\n",
       "    </tr>\n",
       "    <tr>\n",
       "      <th>Tsegay, Yemane Adhane</th>\n",
       "      <td>1.0</td>\n",
       "      <td>4</td>\n",
       "      <td>30</td>\n",
       "      <td>M</td>\n",
       "      <td>Addis Ababa</td>\n",
       "      <td>NaN</td>\n",
       "      <td>ETH</td>\n",
       "      <td>NaN</td>\n",
       "      <td>NaN</td>\n",
       "      <td>0:14:43</td>\n",
       "      <td>...</td>\n",
       "      <td>1:31:59</td>\n",
       "      <td>1:47:59</td>\n",
       "      <td>2:02:42</td>\n",
       "      <td>0:04:58</td>\n",
       "      <td>-</td>\n",
       "      <td>2:09:48</td>\n",
       "      <td>2</td>\n",
       "      <td>2</td>\n",
       "      <td>2</td>\n",
       "      <td>NaN</td>\n",
       "    </tr>\n",
       "    <tr>\n",
       "      <th>Chebet, Wilson</th>\n",
       "      <td>2.0</td>\n",
       "      <td>8</td>\n",
       "      <td>29</td>\n",
       "      <td>M</td>\n",
       "      <td>Marakwet</td>\n",
       "      <td>NaN</td>\n",
       "      <td>KEN</td>\n",
       "      <td>NaN</td>\n",
       "      <td>NaN</td>\n",
       "      <td>0:14:43</td>\n",
       "      <td>...</td>\n",
       "      <td>1:32:00</td>\n",
       "      <td>1:47:59</td>\n",
       "      <td>2:03:01</td>\n",
       "      <td>0:04:59</td>\n",
       "      <td>-</td>\n",
       "      <td>2:10:22</td>\n",
       "      <td>3</td>\n",
       "      <td>3</td>\n",
       "      <td>3</td>\n",
       "      <td>NaN</td>\n",
       "    </tr>\n",
       "    <tr>\n",
       "      <th>Kipyego, Bernard</th>\n",
       "      <td>3.0</td>\n",
       "      <td>11</td>\n",
       "      <td>28</td>\n",
       "      <td>M</td>\n",
       "      <td>Eldoret</td>\n",
       "      <td>NaN</td>\n",
       "      <td>KEN</td>\n",
       "      <td>NaN</td>\n",
       "      <td>NaN</td>\n",
       "      <td>0:14:43</td>\n",
       "      <td>...</td>\n",
       "      <td>1:32:00</td>\n",
       "      <td>1:48:03</td>\n",
       "      <td>2:03:47</td>\n",
       "      <td>0:05:00</td>\n",
       "      <td>-</td>\n",
       "      <td>2:10:47</td>\n",
       "      <td>4</td>\n",
       "      <td>4</td>\n",
       "      <td>4</td>\n",
       "      <td>NaN</td>\n",
       "    </tr>\n",
       "    <tr>\n",
       "      <th>Korir, Wesley</th>\n",
       "      <td>4.0</td>\n",
       "      <td>10</td>\n",
       "      <td>32</td>\n",
       "      <td>M</td>\n",
       "      <td>Kitale</td>\n",
       "      <td>NaN</td>\n",
       "      <td>KEN</td>\n",
       "      <td>NaN</td>\n",
       "      <td>NaN</td>\n",
       "      <td>0:14:43</td>\n",
       "      <td>...</td>\n",
       "      <td>1:32:00</td>\n",
       "      <td>1:47:59</td>\n",
       "      <td>2:03:27</td>\n",
       "      <td>0:05:00</td>\n",
       "      <td>-</td>\n",
       "      <td>2:10:49</td>\n",
       "      <td>5</td>\n",
       "      <td>5</td>\n",
       "      <td>5</td>\n",
       "      <td>NaN</td>\n",
       "    </tr>\n",
       "  </tbody>\n",
       "</table>\n",
       "<p>5 rows × 25 columns</p>\n",
       "</div>"
      ],
      "text/plain": [
       "                       Unnamed: 0 Bib  Age M/F         City State Country  \\\n",
       "Name                                                                        \n",
       "Desisa, Lelisa                0.0   3   25   M         Ambo   NaN     ETH   \n",
       "Tsegay, Yemane Adhane         1.0   4   30   M  Addis Ababa   NaN     ETH   \n",
       "Chebet, Wilson                2.0   8   29   M     Marakwet   NaN     KEN   \n",
       "Kipyego, Bernard              3.0  11   28   M      Eldoret   NaN     KEN   \n",
       "Korir, Wesley                 4.0  10   32   M       Kitale   NaN     KEN   \n",
       "\n",
       "                      Citizen Unnamed: 9       5K  ...      30K      35K  \\\n",
       "Name                                               ...                     \n",
       "Desisa, Lelisa            NaN        NaN  0:14:43  ...  1:32:00  1:47:59   \n",
       "Tsegay, Yemane Adhane     NaN        NaN  0:14:43  ...  1:31:59  1:47:59   \n",
       "Chebet, Wilson            NaN        NaN  0:14:43  ...  1:32:00  1:47:59   \n",
       "Kipyego, Bernard          NaN        NaN  0:14:43  ...  1:32:00  1:48:03   \n",
       "Korir, Wesley             NaN        NaN  0:14:43  ...  1:32:00  1:47:59   \n",
       "\n",
       "                           40K     Pace Proj Time Official Time Overall  \\\n",
       "Name                                                                      \n",
       "Desisa, Lelisa         2:02:39  0:04:56         -       2:09:17       1   \n",
       "Tsegay, Yemane Adhane  2:02:42  0:04:58         -       2:09:48       2   \n",
       "Chebet, Wilson         2:03:01  0:04:59         -       2:10:22       3   \n",
       "Kipyego, Bernard       2:03:47  0:05:00         -       2:10:47       4   \n",
       "Korir, Wesley          2:03:27  0:05:00         -       2:10:49       5   \n",
       "\n",
       "                      Gender Division Unnamed: 8  \n",
       "Name                                              \n",
       "Desisa, Lelisa             1        1        NaN  \n",
       "Tsegay, Yemane Adhane      2        2        NaN  \n",
       "Chebet, Wilson             3        3        NaN  \n",
       "Kipyego, Bernard           4        4        NaN  \n",
       "Korir, Wesley              5        5        NaN  \n",
       "\n",
       "[5 rows x 25 columns]"
      ]
     },
     "execution_count": 99,
     "metadata": {},
     "output_type": "execute_result"
    }
   ],
   "source": [
    "Boston_15 = pd.read_csv('input/marathon_results_2015.csv', sep=',')\n",
    "Boston_16 = pd.read_csv('input/marathon_results_2016.csv', sep=',')\n",
    "Boston_17 = pd.read_csv('input/marathon_results_2017.csv', sep=',')\n",
    "# El dataset completo:\n",
    "Boston_15_to_17 = pd.concat([Boston_15, Boston_16, Boston_17], ignore_index=True, sort=False).set_index('Name')\n",
    "Boston_15_to_17.head()"
   ]
  },
  {
   "cell_type": "markdown",
   "metadata": {},
   "source": [
    "Comprobamos la existencia de valores nulos en el Dataset"
   ]
  },
  {
   "cell_type": "code",
   "execution_count": 100,
   "metadata": {},
   "outputs": [
    {
     "data": {
      "text/plain": [
       "Unnamed: 0       26630\n",
       "Bib                  0\n",
       "Age                  0\n",
       "M/F                  0\n",
       "City                 1\n",
       "State             8993\n",
       "Country              0\n",
       "Citizen          76198\n",
       "Unnamed: 9       79480\n",
       "5K                   0\n",
       "10K                  0\n",
       "15K                  0\n",
       "20K                  0\n",
       "Half                 0\n",
       "25K                  0\n",
       "30K                  0\n",
       "35K                  0\n",
       "40K                  0\n",
       "Pace                 0\n",
       "Proj Time            0\n",
       "Official Time        0\n",
       "Overall              0\n",
       "Gender               0\n",
       "Division             0\n",
       "Unnamed: 8       79555\n",
       "dtype: int64"
      ]
     },
     "execution_count": 100,
     "metadata": {},
     "output_type": "execute_result"
    }
   ],
   "source": [
    "Boston_15_to_17.isnull().sum(axis=0)"
   ]
  },
  {
   "cell_type": "markdown",
   "metadata": {},
   "source": [
    "Mostramos todas las columnas"
   ]
  },
  {
   "cell_type": "code",
   "execution_count": 101,
   "metadata": {},
   "outputs": [
    {
     "data": {
      "text/plain": [
       "Index(['Unnamed: 0', 'Bib', 'Age', 'M/F', 'City', 'State', 'Country',\n",
       "       'Citizen', 'Unnamed: 9', '5K', '10K', '15K', '20K', 'Half', '25K',\n",
       "       '30K', '35K', '40K', 'Pace', 'Proj Time', 'Official Time', 'Overall',\n",
       "       'Gender', 'Division', 'Unnamed: 8'],\n",
       "      dtype='object')"
      ]
     },
     "execution_count": 101,
     "metadata": {},
     "output_type": "execute_result"
    }
   ],
   "source": [
    "Boston_15_to_17.columns"
   ]
  },
  {
   "cell_type": "markdown",
   "metadata": {},
   "source": [
    "Borramos todas excepto Age, M/F, Country, Official Time y renombramos estas últimas:"
   ]
  },
  {
   "cell_type": "code",
   "execution_count": 102,
   "metadata": {},
   "outputs": [
    {
     "data": {
      "text/html": [
       "<div>\n",
       "<style scoped>\n",
       "    .dataframe tbody tr th:only-of-type {\n",
       "        vertical-align: middle;\n",
       "    }\n",
       "\n",
       "    .dataframe tbody tr th {\n",
       "        vertical-align: top;\n",
       "    }\n",
       "\n",
       "    .dataframe thead th {\n",
       "        text-align: right;\n",
       "    }\n",
       "</style>\n",
       "<table border=\"1\" class=\"dataframe\">\n",
       "  <thead>\n",
       "    <tr style=\"text-align: right;\">\n",
       "      <th></th>\n",
       "      <th>Age</th>\n",
       "      <th>M/F</th>\n",
       "      <th>Country</th>\n",
       "      <th>Official Time</th>\n",
       "    </tr>\n",
       "    <tr>\n",
       "      <th>Name</th>\n",
       "      <th></th>\n",
       "      <th></th>\n",
       "      <th></th>\n",
       "      <th></th>\n",
       "    </tr>\n",
       "  </thead>\n",
       "  <tbody>\n",
       "    <tr>\n",
       "      <th>Desisa, Lelisa</th>\n",
       "      <td>25</td>\n",
       "      <td>M</td>\n",
       "      <td>ETH</td>\n",
       "      <td>2:09:17</td>\n",
       "    </tr>\n",
       "    <tr>\n",
       "      <th>Tsegay, Yemane Adhane</th>\n",
       "      <td>30</td>\n",
       "      <td>M</td>\n",
       "      <td>ETH</td>\n",
       "      <td>2:09:48</td>\n",
       "    </tr>\n",
       "    <tr>\n",
       "      <th>Chebet, Wilson</th>\n",
       "      <td>29</td>\n",
       "      <td>M</td>\n",
       "      <td>KEN</td>\n",
       "      <td>2:10:22</td>\n",
       "    </tr>\n",
       "    <tr>\n",
       "      <th>Kipyego, Bernard</th>\n",
       "      <td>28</td>\n",
       "      <td>M</td>\n",
       "      <td>KEN</td>\n",
       "      <td>2:10:47</td>\n",
       "    </tr>\n",
       "    <tr>\n",
       "      <th>Korir, Wesley</th>\n",
       "      <td>32</td>\n",
       "      <td>M</td>\n",
       "      <td>KEN</td>\n",
       "      <td>2:10:49</td>\n",
       "    </tr>\n",
       "  </tbody>\n",
       "</table>\n",
       "</div>"
      ],
      "text/plain": [
       "                       Age M/F Country Official Time\n",
       "Name                                                \n",
       "Desisa, Lelisa          25   M     ETH       2:09:17\n",
       "Tsegay, Yemane Adhane   30   M     ETH       2:09:48\n",
       "Chebet, Wilson          29   M     KEN       2:10:22\n",
       "Kipyego, Bernard        28   M     KEN       2:10:47\n",
       "Korir, Wesley           32   M     KEN       2:10:49"
      ]
     },
     "execution_count": 102,
     "metadata": {},
     "output_type": "execute_result"
    }
   ],
   "source": [
    "Boston = Boston_15_to_17.drop(['Pace','Unnamed: 0','Bib', 'Gender','Unnamed: 9', 'Division', 'State', 'Citizen','Proj Time','City', 'Unnamed: 8','5K','15K', '10K', '25K', '20K', 'Half', '30K', '35K', '40K', 'Overall'], axis='columns')\n",
    "Boston.head()"
   ]
  },
  {
   "cell_type": "code",
   "execution_count": 103,
   "metadata": {},
   "outputs": [],
   "source": [
    "Boston.rename(columns = {'Age': 'Edad', 'M/F':'Sexo','Country':'Pais','Official Time':'Tiempo'}, inplace = True);\n",
    "#asignando una colección de valores al campo DataFrame.columns.\n",
    "#Boston.columns = ['Edad','Sexo', 'Pais','Tiempo']\n",
    "#Boston"
   ]
  },
  {
   "cell_type": "code",
   "execution_count": 104,
   "metadata": {},
   "outputs": [
    {
     "data": {
      "text/plain": [
       "Edad      0\n",
       "Sexo      0\n",
       "Pais      0\n",
       "Tiempo    0\n",
       "dtype: int64"
      ]
     },
     "execution_count": 104,
     "metadata": {},
     "output_type": "execute_result"
    }
   ],
   "source": [
    "Boston.isnull().sum(axis=0)"
   ]
  },
  {
   "cell_type": "code",
   "execution_count": 105,
   "metadata": {},
   "outputs": [
    {
     "name": "stdout",
     "output_type": "stream",
     "text": [
      "<class 'pandas.core.frame.DataFrame'>\n",
      "Index: 79638 entries, Desisa, Lelisa to Rigsby, Scott\n",
      "Data columns (total 4 columns):\n",
      "Edad      79638 non-null int64\n",
      "Sexo      79638 non-null object\n",
      "Pais      79638 non-null object\n",
      "Tiempo    79638 non-null object\n",
      "dtypes: int64(1), object(3)\n",
      "memory usage: 3.0+ MB\n"
     ]
    },
    {
     "data": {
      "text/html": [
       "<div>\n",
       "<style scoped>\n",
       "    .dataframe tbody tr th:only-of-type {\n",
       "        vertical-align: middle;\n",
       "    }\n",
       "\n",
       "    .dataframe tbody tr th {\n",
       "        vertical-align: top;\n",
       "    }\n",
       "\n",
       "    .dataframe thead th {\n",
       "        text-align: right;\n",
       "    }\n",
       "</style>\n",
       "<table border=\"1\" class=\"dataframe\">\n",
       "  <thead>\n",
       "    <tr style=\"text-align: right;\">\n",
       "      <th></th>\n",
       "      <th>Edad</th>\n",
       "    </tr>\n",
       "  </thead>\n",
       "  <tbody>\n",
       "    <tr>\n",
       "      <th>count</th>\n",
       "      <td>79638.000000</td>\n",
       "    </tr>\n",
       "    <tr>\n",
       "      <th>mean</th>\n",
       "      <td>42.415166</td>\n",
       "    </tr>\n",
       "    <tr>\n",
       "      <th>std</th>\n",
       "      <td>11.355453</td>\n",
       "    </tr>\n",
       "    <tr>\n",
       "      <th>min</th>\n",
       "      <td>18.000000</td>\n",
       "    </tr>\n",
       "    <tr>\n",
       "      <th>25%</th>\n",
       "      <td>34.000000</td>\n",
       "    </tr>\n",
       "    <tr>\n",
       "      <th>50%</th>\n",
       "      <td>42.000000</td>\n",
       "    </tr>\n",
       "    <tr>\n",
       "      <th>75%</th>\n",
       "      <td>50.000000</td>\n",
       "    </tr>\n",
       "    <tr>\n",
       "      <th>max</th>\n",
       "      <td>84.000000</td>\n",
       "    </tr>\n",
       "  </tbody>\n",
       "</table>\n",
       "</div>"
      ],
      "text/plain": [
       "               Edad\n",
       "count  79638.000000\n",
       "mean      42.415166\n",
       "std       11.355453\n",
       "min       18.000000\n",
       "25%       34.000000\n",
       "50%       42.000000\n",
       "75%       50.000000\n",
       "max       84.000000"
      ]
     },
     "execution_count": 105,
     "metadata": {},
     "output_type": "execute_result"
    }
   ],
   "source": [
    "Boston.info()\n",
    "Boston.describe()"
   ]
  },
  {
   "cell_type": "markdown",
   "metadata": {},
   "source": [
    "Una vez que tenemos los datos hay que clasificar las variables:\n",
    "* Cuantitativa discreta\n",
    "* Cualitativa\n",
    "* Cuantitativa contínua"
   ]
  },
  {
   "cell_type": "markdown",
   "metadata": {},
   "source": [
    "---\n",
    "\n",
    "### <font color=\"#004D7F\"> <i class=\"fa fa-pencil-square-o\" aria-hidden=\"true\" style=\"color:#113D68\"></i> Ejercicio </font>\n",
    "\n",
    "Detecta el tipo para cada una de las columnas del dataset.\n",
    "¿Nombre? ¿Edad? ¿Género? ¿País? ¿Tiempo oficial? "
   ]
  },
  {
   "cell_type": "markdown",
   "metadata": {},
   "source": [
    "Cambiamos las columnas con formato string a temporales y el tiempo lo pasamos a minutos y a formato int32"
   ]
  },
  {
   "cell_type": "code",
   "execution_count": 106,
   "metadata": {},
   "outputs": [],
   "source": [
    "Boston.Tiempo = pd.to_timedelta(Boston['Tiempo'])\n",
    "Boston['Tiempo'] = Boston['Tiempo'].astype('m8[m]').astype(np.int32)"
   ]
  },
  {
   "cell_type": "markdown",
   "metadata": {},
   "source": [
    "Mostramos información del dataset"
   ]
  },
  {
   "cell_type": "code",
   "execution_count": 107,
   "metadata": {},
   "outputs": [
    {
     "name": "stdout",
     "output_type": "stream",
     "text": [
      "<class 'pandas.core.frame.DataFrame'>\n",
      "Index: 79638 entries, Desisa, Lelisa to Rigsby, Scott\n",
      "Data columns (total 4 columns):\n",
      "Edad      79638 non-null int64\n",
      "Sexo      79638 non-null object\n",
      "Pais      79638 non-null object\n",
      "Tiempo    79638 non-null int32\n",
      "dtypes: int32(1), int64(1), object(2)\n",
      "memory usage: 2.7+ MB\n"
     ]
    }
   ],
   "source": [
    "Boston.info()"
   ]
  },
  {
   "cell_type": "code",
   "execution_count": 108,
   "metadata": {},
   "outputs": [
    {
     "data": {
      "text/html": [
       "<div>\n",
       "<style scoped>\n",
       "    .dataframe tbody tr th:only-of-type {\n",
       "        vertical-align: middle;\n",
       "    }\n",
       "\n",
       "    .dataframe tbody tr th {\n",
       "        vertical-align: top;\n",
       "    }\n",
       "\n",
       "    .dataframe thead th {\n",
       "        text-align: right;\n",
       "    }\n",
       "</style>\n",
       "<table border=\"1\" class=\"dataframe\">\n",
       "  <thead>\n",
       "    <tr style=\"text-align: right;\">\n",
       "      <th></th>\n",
       "      <th>Edad</th>\n",
       "      <th>Tiempo</th>\n",
       "    </tr>\n",
       "  </thead>\n",
       "  <tbody>\n",
       "    <tr>\n",
       "      <th>count</th>\n",
       "      <td>79638.000000</td>\n",
       "      <td>79638.000000</td>\n",
       "    </tr>\n",
       "    <tr>\n",
       "      <th>mean</th>\n",
       "      <td>42.415166</td>\n",
       "      <td>232.672744</td>\n",
       "    </tr>\n",
       "    <tr>\n",
       "      <th>std</th>\n",
       "      <td>11.355453</td>\n",
       "      <td>41.536700</td>\n",
       "    </tr>\n",
       "    <tr>\n",
       "      <th>min</th>\n",
       "      <td>18.000000</td>\n",
       "      <td>129.000000</td>\n",
       "    </tr>\n",
       "    <tr>\n",
       "      <th>25%</th>\n",
       "      <td>34.000000</td>\n",
       "      <td>204.000000</td>\n",
       "    </tr>\n",
       "    <tr>\n",
       "      <th>50%</th>\n",
       "      <td>42.000000</td>\n",
       "      <td>226.000000</td>\n",
       "    </tr>\n",
       "    <tr>\n",
       "      <th>75%</th>\n",
       "      <td>50.000000</td>\n",
       "      <td>255.000000</td>\n",
       "    </tr>\n",
       "    <tr>\n",
       "      <th>max</th>\n",
       "      <td>84.000000</td>\n",
       "      <td>630.000000</td>\n",
       "    </tr>\n",
       "  </tbody>\n",
       "</table>\n",
       "</div>"
      ],
      "text/plain": [
       "               Edad        Tiempo\n",
       "count  79638.000000  79638.000000\n",
       "mean      42.415166    232.672744\n",
       "std       11.355453     41.536700\n",
       "min       18.000000    129.000000\n",
       "25%       34.000000    204.000000\n",
       "50%       42.000000    226.000000\n",
       "75%       50.000000    255.000000\n",
       "max       84.000000    630.000000"
      ]
     },
     "execution_count": 108,
     "metadata": {},
     "output_type": "execute_result"
    }
   ],
   "source": [
    "Boston.describe()"
   ]
  },
  {
   "cell_type": "markdown",
   "metadata": {},
   "source": [
    "Resumen numérico de la edad y el tiempo, se puede decir que existen casi 80 mil observaciones.\n",
    "la media del tiempo oficial es de 2:32 así que se puede decir que los ganadores finalizan en 2:30 horas. Un posible outlier se puede identificar diferenciando entre el valor mínimo y el máximo a la hora de terminar la marathon.\n",
    "<br>\n",
    "\n",
    "La desviación en la variable `Official Time` es de 41 minutos y medio, interesante comprobar si hay outliers.\n",
    "\n",
    "La media y la mediana (50%) tienen una diferencia de 6 (minutos) luego hay algun valor diferencial que hace haya un desplazamiento.\n",
    "\n",
    "El valor minimo 1:29 y el máximo 6:30 es muy grande, se ha de tener en cuenta que estos tiempos son tanto de hombres como de mujeres. Se debe segmentar por sexos.\n",
    "\n",
    "Los datos atipicos suelen aparecer fijándonos en los valores máx y min. \n",
    "\n",
    "Por ejemplo, una marathon se corre en unas dos horas y media, para hombres profesional o amateur muy experimentado. Si se observa que el valor de `Time` fuera un numero mayor, es porque bien el dato es erróneo, nos hemos equivocado o el medidor cronómetro esta fallando o realmente es un outlier."
   ]
  },
  {
   "cell_type": "code",
   "execution_count": null,
   "metadata": {},
   "outputs": [],
   "source": []
  },
  {
   "cell_type": "markdown",
   "metadata": {},
   "source": [
    "---\n",
    "\n",
    "### <font color=\"#004D7F\"> <i class=\"fa fa-pencil-square-o\" aria-hidden=\"true\" style=\"color:#113D68\"></i> Ejercicio </font>\n",
    "\n",
    "Ejercicio: Mostrar la persona más joven y la más vieja en terminar la marathon."
   ]
  },
  {
   "cell_type": "code",
   "execution_count": null,
   "metadata": {},
   "outputs": [],
   "source": [
    "print('La pesona más vieja tiene {} años.\\nLa más joven {}.'\n",
    "      .format(Boston['Age'].max(), Boston['Age'].min()))"
   ]
  },
  {
   "cell_type": "markdown",
   "metadata": {},
   "source": [
    "Parece que este archivo `.csv` no sigue la codificación utf-8 que es la que espera `pandas` para leerlo. Para obtener información sobre las posibles codificaciones de un fichero puede recurrirse a la herramienta `chardetect`."
   ]
  },
  {
   "cell_type": "markdown",
   "metadata": {},
   "source": [
    "---\n",
    "\n",
    "### <font color=\"#004D7F\"> <i class=\"fa fa-pencil-square-o\" aria-hidden=\"true\" style=\"color:#113D68\"></i> Ejercicio </font>\n",
    "\n"
   ]
  },
  {
   "cell_type": "code",
   "execution_count": null,
   "metadata": {},
   "outputs": [],
   "source": []
  },
  {
   "cell_type": "markdown",
   "metadata": {},
   "source": [
    "<div style=\"text-align: left\"><font size=4> <i class=\"fa fa-check-square-o\" aria-hidden=\"true\" style=\"color:#113D68\"></i>\n",
    " </font></div>"
   ]
  },
  {
   "cell_type": "markdown",
   "metadata": {},
   "source": [
    "---\n",
    "\n",
    "<a id=\"section2\"></a>\n",
    "# <font color=\"#004D7F\"> 2. Representación gráfica de las variables</font>\n",
    "\n",
    "<br>"
   ]
  },
  {
   "cell_type": "markdown",
   "metadata": {},
   "source": [
    "Representaremos el tiempo de carrera mediante un histograma ya que es una variable contínua."
   ]
  },
  {
   "cell_type": "code",
   "execution_count": null,
   "metadata": {},
   "outputs": [],
   "source": [
    "plt.figure(figsize=(8,6))\n",
    "hage = sns.distplot(Boston['Official Time'], color='b')\n",
    "hage.set_xlabel('Tiempo',fontdict= {'size':14})\n",
    "hage.set_ylabel(u'Frecuencia',fontdict= {'size':14})\n",
    "hage.set_title(u'Distribución del tiempo de finalización',fontsize=18)\n",
    "plt.show()\n",
    "warnings.simplefilter(\"ignore\")"
   ]
  },
  {
   "cell_type": "markdown",
   "metadata": {},
   "source": [
    "En los inicios las diferencias entre hombres y mujeres era mayor y se podrian distinguir dos modas (bimodal) el hecho de haber igualado los tiempos y la mayor cantidad de personas hace que el dataset se iguale. En cualquier caso es interesante separar las observaciones por Género."
   ]
  },
  {
   "cell_type": "code",
   "execution_count": 109,
   "metadata": {},
   "outputs": [
    {
     "data": {
      "image/png": "[encoded data removed]",
      "text/plain": [
       "<Figure size 432x288 with 1 Axes>"
      ]
     },
     "metadata": {
      "needs_background": "light"
     },
     "output_type": "display_data"
    }
   ],
   "source": [
    "chicas = Boston.Tiempo[Boston.Sexo=='F']\n",
    "chicos = Boston.Tiempo[Boston.Sexo=='M']\n",
    "data = [chicas, chicos]\n",
    "plt.figure(3)\n",
    "plt.boxplot(data)\n",
    "plt.show()"
   ]
  },
  {
   "cell_type": "markdown",
   "metadata": {},
   "source": [
    "---\n",
    "\n",
    "<a id=\"section3\"></a>\n",
    "# <font color=\"#004D7F\"> 3. Relación entre variables: análisis demográfico</font>\n",
    "\n",
    "<br>"
   ]
  },
  {
   "cell_type": "markdown",
   "metadata": {},
   "source": [
    "Diagrama de dispersion que relaciona tiempo y la edad, vemos que no queda muy claro. Veamos una gráfica por Género"
   ]
  },
  {
   "cell_type": "code",
   "execution_count": null,
   "metadata": {},
   "outputs": [],
   "source": [
    "plt.figure(figsize=(8,6))\n",
    "plt.scatter(Boston.Age, Boston['Official Time'], s=20, marker='o', color='k')\n",
    "plt.xlabel('Años',fontdict= {'size':14})\n",
    "plt.ylabel(u'Tiempo',fontdict= {'size':14})\n",
    "plt.show()\n",
    "#warnings.simplefilter(\"ignore\")"
   ]
  },
  {
   "cell_type": "markdown",
   "metadata": {},
   "source": [
    "En este primer análisis vamos a estudiar la distribución basada en edades"
   ]
  },
  {
   "cell_type": "code",
   "execution_count": null,
   "metadata": {},
   "outputs": [],
   "source": [
    "plt.figure(figsize=(8,6))\n",
    "hage = sns.distplot(Boston.Age, color='g')\n",
    "hage.set_xlabel('Años',fontdict= {'size':14})\n",
    "hage.set_ylabel(u'Distribución',fontdict= {'size':14})\n",
    "hage.set_title(u'Distribución de finalistas por edad',fontsize=18)\n",
    "plt.show()\n",
    "warnings.simplefilter(\"ignore\")"
   ]
  },
  {
   "cell_type": "markdown",
   "metadata": {},
   "source": [
    "Número de finalistas por edad"
   ]
  },
  {
   "cell_type": "code",
   "execution_count": null,
   "metadata": {},
   "outputs": [],
   "source": [
    "plt.figure(figsize=(20,10))\n",
    "agecont = sns.countplot('Age',data=Boston, palette=sns.color_palette(\"RdPu\", n_colors=len(Boston['Age'].value_counts())))\n",
    "agecont.set_title('Finalistas por edad', fontsize=18)\n",
    "agecont.set_xlabel('Añons', fontdict= {'size':16})\n",
    "agecont.set_ylabel('Total participantes', fontdict= {'size':16})\n",
    "plt.show()"
   ]
  },
  {
   "cell_type": "markdown",
   "metadata": {},
   "source": [
    "Para este estudio vamos a centrarnos en `GenderSelect`, `Country`, `Age`, `FormalEducation` y `MajorSelect`. El resto de variables se dejan como ejercicio al alumno. "
   ]
  },
  {
   "cell_type": "markdown",
   "metadata": {},
   "source": [
    "### <font color=\"#004D7F\">Género de los participantes</font>"
   ]
  },
  {
   "cell_type": "markdown",
   "metadata": {},
   "source": [
    "Podemos crear una tabla de frecuencia para ver cuántos casos hay de cada uno de los sexos.  "
   ]
  },
  {
   "cell_type": "code",
   "execution_count": null,
   "metadata": {},
   "outputs": [],
   "source": [
    "plt.figure(figsize=(25,25))\n",
    "d = sns.countplot(x='Age', hue='M/F', data=Boston, palette={'F':'r','M':'b'}, saturation=0.6)\n",
    "d.set_title('Número de finalistas por Edad y Género', fontsize=25)\n",
    "d.set_xlabel('Años',fontdict={'size':20})\n",
    "d.set_ylabel('Finalistas',fontdict={'size':20})\n",
    "d.legend(fontsize=16)\n",
    "plt.show()"
   ]
  },
  {
   "cell_type": "code",
   "execution_count": null,
   "metadata": {},
   "outputs": [],
   "source": [
    "plt.figure(figsize=(25,25))\n",
    "plt = sns.boxplot(x=Boston)\n",
    "plt.show()"
   ]
  },
  {
   "cell_type": "markdown",
   "metadata": {},
   "source": [
    "Otra gráfica muy frecuente es una tarta o `quesito` por Género.  "
   ]
  },
  {
   "cell_type": "code",
   "execution_count": null,
   "metadata": {},
   "outputs": [],
   "source": [
    "plt.figure(figsize=(6,6))\n",
    "l = Boston['M/F'].value_counts().index\n",
    "plt.pie(Boston['M/F'].value_counts(), colors =['b','r'], startangle = 90, autopct='%.2f', textprops=dict(color=\"w\"))\n",
    "#plt.axes().set_aspect('equal','datalim')\n",
    "plt.legend(l, loc='upper right')\n",
    "plt.title(\"Género\",fontsize=18)\n",
    "plt.show()"
   ]
  },
  {
   "cell_type": "markdown",
   "metadata": {},
   "source": [
    "Las gráficas anteriores muestran una participación femenina significativa. En particular, podemos observar que hasta la edad de 38 años la participación femenina es mayor que la participación masculina. Después de esta edad, el escenario se invierte y la participación masculina supera la participación femenina.\n",
    "Una explicación puede ser por la maternidad."
   ]
  },
  {
   "cell_type": "code",
   "execution_count": null,
   "metadata": {},
   "outputs": [],
   "source": [
    "FM_mean = Boston.groupby('M/F').mean()\n",
    "FM_mean"
   ]
  },
  {
   "cell_type": "markdown",
   "metadata": {},
   "source": [
    "<div class=\"alert alert-block alert-info\">\n",
    "<i class=\"fa fa-info-circle\" aria-hidden=\"true\"></i> __Nota__: Puesto que Seaborn está basado en Matplotlib, podemos utilizar diferentes funciones de esta librería para modificar parámetros como el tamaño de fuente o el tamaño de la figura.\n",
    "</div>"
   ]
  },
  {
   "cell_type": "markdown",
   "metadata": {},
   "source": [
    "Para más información sobre el método, puedes consultar su documentación. "
   ]
  },
  {
   "cell_type": "code",
   "execution_count": null,
   "metadata": {},
   "outputs": [],
   "source": [
    "? sns.countplot"
   ]
  },
  {
   "cell_type": "markdown",
   "metadata": {},
   "source": [
    "---\n",
    "\n",
    "### <font color=\"#004D7F\"> <i class=\"fa fa-pencil-square-o\" aria-hidden=\"true\" style=\"color:#113D68\"></i> Ejercicio </font>\n",
    "\n",
    "Obtén ..."
   ]
  },
  {
   "cell_type": "code",
   "execution_count": null,
   "metadata": {},
   "outputs": [],
   "source": []
  },
  {
   "cell_type": "markdown",
   "metadata": {},
   "source": [
    "<div style=\"text-align: left\"><font size=4> <i class=\"fa fa-check-square-o\" aria-hidden=\"true\" style=\"color:#113D68\"></i>\n",
    " </font></div>"
   ]
  },
  {
   "cell_type": "markdown",
   "metadata": {},
   "source": [
    "### <font color=\"#004D7F\">Edad y performance</font>"
   ]
  },
  {
   "cell_type": "markdown",
   "metadata": {},
   "source": [
    "Podemos seguir el mismo proceso para obtener la distribución de las áreas de especialización de los encuestados. "
   ]
  },
  {
   "cell_type": "code",
   "execution_count": null,
   "metadata": {},
   "outputs": [],
   "source": [
    "plt.figure(figsize=(12,10))\n",
    "Boston_copy = Boston.copy()\n",
    "Boston_copy = Boston_copy[Boston_copy['Age'].isin(range(0,85))]\n",
    "\n",
    "x = Boston_copy.Age\n",
    "y = Boston_copy['Official Time']\n",
    "\n",
    "\n",
    "plt.plot(x, y, '.')\n",
    "plt.xlabel(\"Edad\", fontsize=16)\n",
    "plt.ylabel(\"Tiempo oficial (min)\",fontsize=16)\n",
    "plt.title(\"Tiempo oficial por edad\",fontsize=20)\n",
    "plt.show()"
   ]
  },
  {
   "cell_type": "markdown",
   "metadata": {},
   "source": [
    "Como se puede comprobar, con el conjunto total del dataset no es posible encontrar una relación entre la edad y la performance.\n",
    "Consideramos la `media` y la `mediana` del tiempo oficial para cada edad:"
   ]
  },
  {
   "cell_type": "code",
   "execution_count": null,
   "metadata": {},
   "outputs": [],
   "source": [
    "# The mean of official time for the set of Age \n",
    "mean_age_time = Boston.groupby('Age').mean().set_index(np.arange(67))\n",
    "mean_age_time['Age'] = mean_age_time.index \n",
    "mean_age_time.head()"
   ]
  },
  {
   "cell_type": "code",
   "execution_count": null,
   "metadata": {},
   "outputs": [],
   "source": [
    "# The median of official time for the set of Age \n",
    "median_age_time = Boston.groupby('Age').median().set_index(np.arange(67))\n",
    "median_age_time['Age'] = median_age_time.index \n",
    "median_age_time.head()"
   ]
  },
  {
   "cell_type": "markdown",
   "metadata": {},
   "source": [
    "Sería posible quedarnos solo con estos cuatro valores para hacer la gráfica, pero es posible utilizar directamente esta información para realizar el gráfico mediante `sns.barplot`"
   ]
  },
  {
   "cell_type": "code",
   "execution_count": null,
   "metadata": {},
   "outputs": [],
   "source": [
    "# Plotting the results\n",
    "\n",
    "plt.figure(figsize=(12,10))\n",
    "\n",
    "x = mean_age_time['Age']\n",
    "y = mean_age_time['Official Time']\n",
    "\n",
    "plt.plot(x, y, '.')\n",
    "\n",
    "xx = median_age_time['Age']\n",
    "yy = median_age_time['Official Time']\n",
    "\n",
    "\n",
    "plt.plot(xx, yy, '.', color = 'r')\n",
    "\n",
    "\n",
    "plt.xlabel(\"Age\", fontsize=16)\n",
    "plt.ylabel(\"Official Time (min)\",fontsize=16)\n",
    "plt.title(\"Official Time for Age\",fontsize=20)\n",
    "plt.legend(['Mean', 'Median'])\n",
    "plt.show()"
   ]
  },
  {
   "cell_type": "code",
   "execution_count": null,
   "metadata": {},
   "outputs": [],
   "source": []
  }
 ],
 "metadata": {
  "kernelspec": {
   "display_name": "Python 3",
   "language": "python",
   "name": "python3"
  },
  "language_info": {
   "codemirror_mode": {
    "name": "ipython",
    "version": 3
   },
   "file_extension": ".py",
   "mimetype": "text/x-python",
   "name": "python",
   "nbconvert_exporter": "python",
   "pygments_lexer": "ipython3",
   "version": "3.7.3"
  }
 },
 "nbformat": 4,
 "nbformat_minor": 2
}
