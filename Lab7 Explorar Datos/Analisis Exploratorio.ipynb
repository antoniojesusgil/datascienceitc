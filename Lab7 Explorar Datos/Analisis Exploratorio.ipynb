{
 "cells": [
  {
   "cell_type": "markdown",
   "metadata": {},
   "source": [
    "<img src=\"../img/crowdlearning-etic.png\" alt=\"Logo ETIC\" align=\"right\">\n",
    "\n",
    "\n",
    "\n",
    "<br>\n",
    "<h2><font color=\"#004D7F\" size=5>Módulo 3</font></h2>\n",
    "\n",
    "\n",
    "\n",
    "<h1><font color=\"#004D7F\" size=6> Análisis de datos</font></h1>\n",
    "\n",
    "<br>\n",
    "<div style=\"text-align: right\">\n",
    "<font color=\"#004D7F\" size=3>Antonio Jesús Gil</font><br>\n",
    "<font color=\"#004D7F\" size=3>Introducción a la Ciencia de Datos</font><br>\n",
    "\n",
    "</div>"
   ]
  },
  {
   "cell_type": "markdown",
   "metadata": {},
   "source": [
    "---\n",
    "\n",
    "<a id=\"indice\"></a>\n",
    "<h2><font color=\"#004D7F\" size=5>Índice</font></h2>\n",
    "\n",
    "* [1. Introducción](#section1)\n",
    "* [2. Representación gráfica de las variables](#section2)\n",
    "* [3. Relación entre variables: análisis demográfico](#section3)"
   ]
  },
  {
   "cell_type": "markdown",
   "metadata": {},
   "source": [
    "---\n",
    "\n",
    "<a id=\"section1\"></a>\n",
    "# <font color=\"#004D7F\"> 1. Introducción</font>\n",
    "\n",
    "<br>\n",
    "\n",
    "El análisis exploratorio de datos es una de las labores más importantes de\n",
    "un _data scientist_. Su función principal es la de ayudarnos a entender el conjunto de datos con el que trabajamos a fin de que seamos capaces de elaborar hipótesis y detectar errores en la captura de datos, así como de permitirnos explorar relaciones entre las variables de nuestro problema. A lo largo de esta práctica llevaremos a cabo el análisis exploratorio de un conjunto de datos, para lo cual emplearemos librerías descritas en módulos anteriores, si bien también introduciremos una de las más utilizadas para llevar a cabo análisis exploratorios en Python: la librería Seaborn. \n"
   ]
  },
  {
   "cell_type": "markdown",
   "metadata": {},
   "source": [
    "<div class=\"alert alert-block alert-warning\">\n",
    "<i class=\"fa fa-exclamation-circle\" aria-hidden=\"true\"></i>\n",
    " &nbsp; Durante el análisis se presentarán las funciones más habituales de Seaborn, no obstante, esta práctica no pretende ser un análisis exhaustivo de las funciones de dicha librería, para lo cual se recomienda consultar la [documentación](http://seaborn.pydata.org/index.html).   \n",
    "</div>"
   ]
  },
  {
   "cell_type": "markdown",
   "metadata": {},
   "source": [
    "Estas son las librerías necesarias para el resto de la práctica"
   ]
  },
  {
   "cell_type": "code",
   "execution_count": null,
   "metadata": {},
   "outputs": [],
   "source": [
    "# Subconjunto mínimo\n",
    "!pip install numpy\n",
    "!pip install pandas\n",
    "!pip install matplotlib\n",
    "!pip install seaborn\n",
    "#import numpy as np\n",
    "#import pandas as pd\n",
    "#import matplotlib.pyplot as plt\n",
    "#import seaborn as sns\n",
    "\n",
    "import numpy as np\n",
    "import matplotlib.pyplot as plt\n",
    "import pandas as pd\n",
    "import colorsys\n",
    "import seaborn as sns\n",
    "import warnings\n",
    "from datetime import datetime\n",
    "%matplotlib inline\n",
    "warnings.simplefilter(\"ignore\")"
   ]
  },
  {
   "cell_type": "markdown",
   "metadata": {},
   "source": [
    "---\n",
    "\n",
    "<a id=\"section11\"></a> \n",
    "## <font color=\"#004D7F\">Conjunto de datos</font>\n",
    "\n",
    "<br>\n",
    "\n",
    "Para realizar este análisis exploratorio vamos a utilizar la base de datos `\"Banco de datos Marathon\"` con el objetivo de estudiar el estado del campo de la ciencia de datos.\n",
    "\n",
    "Este conjunto de datos contiene los tiempos de todos los ganadores de la maratón de Nueva York desde 1970 hasta 1999.\n",
    "Las variables son:\n",
    "\n",
    "* `Year`: Año de la carrera.\n",
    "* `Gender`: Sexo del ganador, m=male, f=female.\n",
    "* `Time`: Tiempo del ganador.\n",
    "\n",
    "Está separado por tabuladores, comenzamos importando los paquetes necesarios."
   ]
  },
  {
   "cell_type": "code",
   "execution_count": null,
   "metadata": {},
   "outputs": [],
   "source": [
    "Boston_15 = pd.read_csv('input/marathon_results_2015.csv', sep=',')\n",
    "Boston_16 = pd.read_csv('input/marathon_results_2016.csv', sep=',')\n",
    "Boston_17 = pd.read_csv('input/marathon_results_2017.csv', sep=',')\n",
    "# El dataset completo:\n",
    "Boston_15_to_17 = pd.concat([Boston_15, Boston_16, Boston_17], ignore_index=True, sort=False).set_index('Name')\n",
    "Boston_15_to_17.head()"
   ]
  },
  {
   "cell_type": "markdown",
   "metadata": {},
   "source": [
    "Comprobamos la existencia de valores nulos en el Dataset"
   ]
  },
  {
   "cell_type": "code",
   "execution_count": null,
   "metadata": {},
   "outputs": [],
   "source": [
    "Boston_15_to_17.isnull().sum(axis=0)"
   ]
  },
  {
   "cell_type": "markdown",
   "metadata": {},
   "source": [
    "Mostramos todas las columnas"
   ]
  },
  {
   "cell_type": "code",
   "execution_count": null,
   "metadata": {},
   "outputs": [],
   "source": [
    "Boston_15_to_17.columns"
   ]
  },
  {
   "cell_type": "markdown",
   "metadata": {},
   "source": [
    "Borramos todas excepto Age, M/F, Country, Official Time y renombramos estas últimas:"
   ]
  },
  {
   "cell_type": "code",
   "execution_count": null,
   "metadata": {},
   "outputs": [],
   "source": [
    "Boston = Boston_15_to_17.drop(['Pace','Unnamed: 0','Bib', 'Gender','Unnamed: 9', 'Division', 'State', 'Citizen','Proj Time','City', 'Unnamed: 8','5K','15K', '10K', '25K', '20K', 'Half', '30K', '35K', '40K', 'Overall'], axis='columns')\n",
    "Boston.head()"
   ]
  },
  {
   "cell_type": "code",
   "execution_count": null,
   "metadata": {},
   "outputs": [],
   "source": [
    "Boston.rename(columns = {'Age': 'Edad', 'M/F':'Sexo','Country':'Pais','Official Time':'Tiempo'}, inplace = True);\n",
    "#asignando una colección de valores al campo DataFrame.columns.\n",
    "#Boston.columns = ['Edad','Sexo', 'Pais','Tiempo']\n",
    "#Boston"
   ]
  },
  {
   "cell_type": "code",
   "execution_count": null,
   "metadata": {},
   "outputs": [],
   "source": [
    "Boston.isnull().sum(axis=0)"
   ]
  },
  {
   "cell_type": "code",
   "execution_count": null,
   "metadata": {},
   "outputs": [],
   "source": [
    "Boston.info()\n",
    "Boston.describe()"
   ]
  },
  {
   "cell_type": "markdown",
   "metadata": {},
   "source": [
    "Una vez que tenemos los datos hay que clasificar las variables:\n",
    "* Cuantitativa discreta\n",
    "* Cualitativa\n",
    "* Cuantitativa contínua"
   ]
  },
  {
   "cell_type": "markdown",
   "metadata": {},
   "source": [
    "---\n",
    "\n",
    "### <font color=\"#004D7F\"> <i class=\"fa fa-pencil-square-o\" aria-hidden=\"true\" style=\"color:#113D68\"></i> Ejercicio </font>\n",
    "\n",
    "Detecta el tipo para cada una de las columnas del dataset.\n",
    "¿Nombre? ¿Edad? ¿Género? ¿País? ¿Tiempo oficial? "
   ]
  },
  {
   "cell_type": "markdown",
   "metadata": {},
   "source": [
    "Cambiamos las columnas con formato string a temporales y el tiempo lo pasamos a minutos y a formato int32"
   ]
  },
  {
   "cell_type": "code",
   "execution_count": null,
   "metadata": {},
   "outputs": [],
   "source": [
    "Boston.Tiempo = pd.to_timedelta(Boston['Tiempo'])\n",
    "Boston['Tiempo'] = Boston['Tiempo'].astype('m8[m]').astype(np.int32)"
   ]
  },
  {
   "cell_type": "markdown",
   "metadata": {},
   "source": [
    "Mostramos información del dataset"
   ]
  },
  {
   "cell_type": "code",
   "execution_count": null,
   "metadata": {},
   "outputs": [],
   "source": [
    "Boston.info()"
   ]
  },
  {
   "cell_type": "code",
   "execution_count": null,
   "metadata": {},
   "outputs": [],
   "source": [
    "Boston.describe()"
   ]
  },
  {
   "cell_type": "markdown",
   "metadata": {},
   "source": [
    "Resumen numérico de la edad y el tiempo, se puede decir que existen casi 80 mil observaciones.\n",
    "la media del tiempo oficial es de 2:32 así que se puede decir que los ganadores finalizan en 2:30 horas. Un posible outlier se puede identificar diferenciando entre el valor mínimo y el máximo a la hora de terminar la marathon.\n",
    "<br>\n",
    "\n",
    "La desviación en la variable `Official Time` es de 41 minutos y medio, interesante comprobar si hay outliers.\n",
    "\n",
    "La media y la mediana (50%) tienen una diferencia de 6 (minutos) luego hay algun valor diferencial que hace haya un desplazamiento.\n",
    "\n",
    "El valor minimo 1:29 y el máximo 6:30 es muy grande, se ha de tener en cuenta que estos tiempos son tanto de hombres como de mujeres. Se debe segmentar por sexos.\n",
    "\n",
    "Los datos atipicos suelen aparecer fijándonos en los valores máx y min. \n",
    "\n",
    "Por ejemplo, una marathon se corre en unas dos horas y media, para hombres profesional o amateur muy experimentado. Si se observa que el valor de `Time` fuera un numero mayor, es porque bien el dato es erróneo, nos hemos equivocado o el medidor cronómetro esta fallando o realmente es un outlier."
   ]
  },
  {
   "cell_type": "code",
   "execution_count": null,
   "metadata": {},
   "outputs": [],
   "source": []
  },
  {
   "cell_type": "markdown",
   "metadata": {},
   "source": [
    "---\n",
    "\n",
    "### <font color=\"#004D7F\"> <i class=\"fa fa-pencil-square-o\" aria-hidden=\"true\" style=\"color:#113D68\"></i> Ejercicio </font>\n",
    "\n",
    "Ejercicio: Mostrar la persona más joven y la más vieja en terminar la marathon."
   ]
  },
  {
   "cell_type": "code",
   "execution_count": null,
   "metadata": {},
   "outputs": [],
   "source": [
    "print('La pesona más vieja tiene {} años.\\nLa más joven {}.'\n",
    "      .format(Boston['Edad'].max(), Boston['Edad'].min()))"
   ]
  },
  {
   "cell_type": "markdown",
   "metadata": {},
   "source": [
    "Parece que este archivo `.csv` no sigue la codificación utf-8 que es la que espera `pandas` para leerlo. Para obtener información sobre las posibles codificaciones de un fichero puede recurrirse a la herramienta `chardetect`."
   ]
  },
  {
   "cell_type": "markdown",
   "metadata": {},
   "source": [
    "---\n",
    "\n",
    "### <font color=\"#004D7F\"> <i class=\"fa fa-pencil-square-o\" aria-hidden=\"true\" style=\"color:#113D68\"></i> Ejercicio </font>\n",
    "\n"
   ]
  },
  {
   "cell_type": "code",
   "execution_count": null,
   "metadata": {},
   "outputs": [],
   "source": []
  },
  {
   "cell_type": "markdown",
   "metadata": {},
   "source": [
    "<div style=\"text-align: left\"><font size=4> <i class=\"fa fa-check-square-o\" aria-hidden=\"true\" style=\"color:#113D68\"></i>\n",
    " </font></div>"
   ]
  },
  {
   "cell_type": "markdown",
   "metadata": {},
   "source": [
    "---\n",
    "\n",
    "<a id=\"section2\"></a>\n",
    "# <font color=\"#004D7F\"> 2. Representación gráfica de las variables</font>\n",
    "\n",
    "<br>"
   ]
  },
  {
   "cell_type": "markdown",
   "metadata": {},
   "source": [
    "Representaremos el tiempo de carrera mediante un histograma ya que es una variable contínua."
   ]
  },
  {
   "cell_type": "code",
   "execution_count": null,
   "metadata": {},
   "outputs": [],
   "source": [
    "plt.figure(figsize=(8,6))\n",
    "hage = sns.distplot(Boston.Tiempo, color='b')\n",
    "hage.set_xlabel('Tiempo',fontdict= {'size':14})\n",
    "hage.set_ylabel(u'Frecuencia',fontdict= {'size':14})\n",
    "hage.set_title(u'Distribución del tiempo de finalización',fontsize=18)\n",
    "plt.show()\n",
    "warnings.simplefilter(\"ignore\")"
   ]
  },
  {
   "cell_type": "markdown",
   "metadata": {},
   "source": [
    "En los inicios las diferencias entre hombres y mujeres era mayor y se podrian distinguir dos modas (bimodal) el hecho de haber igualado los tiempos y la mayor cantidad de personas hace que el dataset se iguale. En cualquier caso es interesante separar las observaciones por Género."
   ]
  },
  {
   "cell_type": "code",
   "execution_count": null,
   "metadata": {},
   "outputs": [],
   "source": [
    "chicas = Boston.Tiempo[Boston.Sexo=='F'].astype(float)\n",
    "chicos = Boston.Tiempo[Boston.Sexo=='M'].astype(float)\n",
    "data = [chicas, chicos]\n",
    "plt.figure(figsize=(10,10))\n",
    "#sns.boxplot(x=data, color='g')\n",
    "plt.boxplot(data)\n",
    "plt.show()"
   ]
  },
  {
   "cell_type": "markdown",
   "metadata": {},
   "source": [
    "---\n",
    "\n",
    "<a id=\"section3\"></a>\n",
    "# <font color=\"#004D7F\"> 3. Relación entre variables: análisis demográfico</font>\n",
    "\n",
    "<br>"
   ]
  },
  {
   "cell_type": "markdown",
   "metadata": {},
   "source": [
    "En este primer análisis vamos a estudiar la distribución basada en edades"
   ]
  },
  {
   "cell_type": "code",
   "execution_count": null,
   "metadata": {},
   "outputs": [],
   "source": [
    "plt.figure(figsize=(8,6))\n",
    "hage = sns.distplot(Boston.Edad, color='g')\n",
    "hage.set_xlabel('Años',fontdict= {'size':14})\n",
    "hage.set_ylabel(u'Distribución',fontdict= {'size':14})\n",
    "hage.set_title(u'Distribución de finalistas por edad',fontsize=18)\n",
    "plt.show()\n",
    "warnings.simplefilter(\"ignore\")"
   ]
  },
  {
   "cell_type": "markdown",
   "metadata": {},
   "source": [
    "Número de finalistas por edad"
   ]
  },
  {
   "cell_type": "code",
   "execution_count": null,
   "metadata": {},
   "outputs": [],
   "source": [
    "plt.figure(figsize=(20,10))\n",
    "agecont = sns.countplot('Edad',data=Boston, palette=sns.color_palette(\"RdPu\", n_colors=len(Boston['Edad'].value_counts())))\n",
    "agecont.set_title('Finalistas por edad', fontsize=18)\n",
    "agecont.set_xlabel('Años', fontdict= {'size':16})\n",
    "agecont.set_ylabel('Total participantes', fontdict= {'size':16})\n",
    "plt.show()"
   ]
  },
  {
   "cell_type": "markdown",
   "metadata": {},
   "source": [
    "Para este estudio vamos a centrarnos en `GenderSelect`, `Country`, `Age`, `FormalEducation` y `MajorSelect`. El resto de variables se dejan como ejercicio al alumno. "
   ]
  },
  {
   "cell_type": "markdown",
   "metadata": {},
   "source": [
    "### <font color=\"#004D7F\">Género de los participantes</font>"
   ]
  },
  {
   "cell_type": "markdown",
   "metadata": {},
   "source": [
    "Podemos crear una tabla de frecuencia para ver cuántos casos hay de cada uno de los sexos.  "
   ]
  },
  {
   "cell_type": "code",
   "execution_count": null,
   "metadata": {},
   "outputs": [],
   "source": [
    "plt.figure(figsize=(25,25))\n",
    "d = sns.countplot(x='Edad', hue='Sexo', data=Boston, palette={'F':'r','M':'b'}, saturation=0.6)\n",
    "d.set_title('Número de finalistas por Edad y Género', fontsize=25)\n",
    "d.set_xlabel('Años',fontdict={'size':20})\n",
    "d.set_ylabel('Finalistas',fontdict={'size':20})\n",
    "d.legend(fontsize=16)\n",
    "plt.show()"
   ]
  },
  {
   "cell_type": "markdown",
   "metadata": {},
   "source": [
    "Otra gráfica muy frecuente es una tarta o `quesito` por Género.  "
   ]
  },
  {
   "cell_type": "code",
   "execution_count": null,
   "metadata": {},
   "outputs": [],
   "source": [
    "plt.figure(figsize=(6,6))\n",
    "l = Boston.Sexo.value_counts().index\n",
    "plt.pie(Boston.Sexo.value_counts(), colors =['b','r'], startangle = 90, autopct='%.2f', textprops=dict(color=\"w\"))\n",
    "#plt.axes().set_aspect('equal','datalim')\n",
    "plt.legend(l, loc='upper right')\n",
    "plt.title(\"Género\",fontsize=18)\n",
    "plt.show()"
   ]
  },
  {
   "cell_type": "markdown",
   "metadata": {},
   "source": [
    "Las gráficas anteriores muestran una participación femenina significativa. En particular, podemos observar que hasta la edad de 38 años la participación femenina es mayor que la participación masculina. Después de esta edad, el escenario se invierte y la participación masculina supera la participación femenina.\n",
    "Una explicación puede ser por la maternidad."
   ]
  },
  {
   "cell_type": "code",
   "execution_count": null,
   "metadata": {},
   "outputs": [],
   "source": [
    "FM_mean = Boston.groupby('Sexo').mean()\n",
    "FM_mean"
   ]
  },
  {
   "cell_type": "markdown",
   "metadata": {},
   "source": [
    "<div class=\"alert alert-block alert-info\">\n",
    "<i class=\"fa fa-info-circle\" aria-hidden=\"true\"></i> __Nota__: Puesto que Seaborn está basado en Matplotlib, podemos utilizar diferentes funciones de esta librería para modificar parámetros como el tamaño de fuente o el tamaño de la figura.\n",
    "</div>"
   ]
  },
  {
   "cell_type": "markdown",
   "metadata": {},
   "source": [
    "Para más información sobre el método, puedes consultar su documentación. "
   ]
  },
  {
   "cell_type": "code",
   "execution_count": null,
   "metadata": {},
   "outputs": [],
   "source": [
    "? sns.countplot"
   ]
  },
  {
   "cell_type": "markdown",
   "metadata": {},
   "source": [
    "---\n",
    "\n",
    "### <font color=\"#004D7F\"> <i class=\"fa fa-pencil-square-o\" aria-hidden=\"true\" style=\"color:#113D68\"></i> Ejercicio </font>\n",
    "\n",
    "Obtén ..."
   ]
  },
  {
   "cell_type": "code",
   "execution_count": null,
   "metadata": {},
   "outputs": [],
   "source": []
  },
  {
   "cell_type": "markdown",
   "metadata": {},
   "source": [
    "<div style=\"text-align: left\"><font size=4> <i class=\"fa fa-check-square-o\" aria-hidden=\"true\" style=\"color:#113D68\"></i>\n",
    " </font></div>"
   ]
  },
  {
   "cell_type": "markdown",
   "metadata": {},
   "source": [
    "### <font color=\"#004D7F\">Edad y performance</font>"
   ]
  },
  {
   "cell_type": "markdown",
   "metadata": {},
   "source": [
    "Diagrama de dispersion que relaciona tiempo y la edad, vemos que no queda muy claro. Veamos una gráfica por Género"
   ]
  },
  {
   "cell_type": "code",
   "execution_count": null,
   "metadata": {},
   "outputs": [],
   "source": [
    "plt.figure(figsize=(12,10))\n",
    "Boston_copy = Boston.copy()\n",
    "Boston_copy = Boston_copy[Boston_copy.Edad.isin(range(0,85))]\n",
    "\n",
    "x = Boston_copy.Edad\n",
    "y = Boston_copy['Tiempo']\n",
    "\n",
    "\n",
    "plt.plot(x, y, '.')\n",
    "plt.xlabel(\"Edad\", fontsize=16)\n",
    "plt.ylabel(\"Tiempo oficial (min)\",fontsize=16)\n",
    "plt.title(\"Tiempo oficial por edad\",fontsize=20)\n",
    "plt.show()"
   ]
  },
  {
   "cell_type": "markdown",
   "metadata": {},
   "source": [
    "Como se puede comprobar, con el conjunto total del dataset no es posible encontrar una relación entre la edad y la performance.\n",
    "Consideramos la `media` y la `mediana` del tiempo oficial para cada edad:"
   ]
  },
  {
   "cell_type": "code",
   "execution_count": null,
   "metadata": {},
   "outputs": [],
   "source": [
    "# The mean of official time for the set of Age \n",
    "mean_age_time = Boston.groupby('Edad').mean().set_index(np.arange(67))\n",
    "mean_age_time['Edad'] = mean_age_time.index \n",
    "mean_age_time.head()"
   ]
  },
  {
   "cell_type": "code",
   "execution_count": null,
   "metadata": {},
   "outputs": [],
   "source": [
    "# The median of official time for the set of Age \n",
    "median_age_time = Boston.groupby('Edad').median().set_index(np.arange(67))\n",
    "median_age_time['Edad'] = median_age_time.index \n",
    "median_age_time.head()"
   ]
  },
  {
   "cell_type": "markdown",
   "metadata": {},
   "source": [
    "Sería posible quedarnos solo con estos cuatro valores para hacer la gráfica, pero es posible utilizar directamente esta información para realizar el gráfico mediante `sns.barplot`"
   ]
  },
  {
   "cell_type": "code",
   "execution_count": null,
   "metadata": {},
   "outputs": [],
   "source": [
    "# Plotting the results\n",
    "\n",
    "plt.figure(figsize=(12,10))\n",
    "\n",
    "x = mean_age_time['Edad']\n",
    "y = mean_age_time['Tiempo']\n",
    "\n",
    "plt.plot(x, y, '.')\n",
    "\n",
    "xx = median_age_time['Edad']\n",
    "yy = median_age_time['Tiempo']\n",
    "\n",
    "\n",
    "plt.plot(xx, yy, '.', color = 'r')\n",
    "\n",
    "\n",
    "plt.xlabel(\"Edad\", fontsize=16)\n",
    "plt.ylabel(\"Tiempo (min)\",fontsize=16)\n",
    "plt.title(\"Tiempo por Edad\",fontsize=20)\n",
    "plt.legend(['Media', 'Mediana'])\n",
    "plt.show()"
   ]
  },
  {
   "cell_type": "code",
   "execution_count": null,
   "metadata": {},
   "outputs": [],
   "source": []
  }
 ],
 "metadata": {
  "kernelspec": {
   "display_name": "Python 3",
   "language": "python",
   "name": "python3"
  },
  "language_info": {
   "codemirror_mode": {
    "name": "ipython",
    "version": 3
   },
   "file_extension": ".py",
   "mimetype": "text/x-python",
   "name": "python",
   "nbconvert_exporter": "python",
   "pygments_lexer": "ipython3",
   "version": "3.7.3"
  }
 },
 "nbformat": 4,
 "nbformat_minor": 2
}
