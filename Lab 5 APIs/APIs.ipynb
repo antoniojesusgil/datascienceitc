{
 "cells": [
  {
   "cell_type": "markdown",
   "metadata": {},
   "source": [
    "\n",
    "<h1><font color=\"#004D7F\" size=6>Manejo de datos semi-estructurados y consumo de APIs</font></h1>\n",
    "\n",
    "<br><br>\n",
    "<div style=\"text-align: right\">\n",
    "<font color=\"#004D7F\" size=3>Antonio Jesús Gil</font><br>\n",
    "<font color=\"#004D7F\" size=3>Introducción a la Ciencia de Datos</font><br>\n",
    "\n",
    "</div>"
   ]
  },
  {
   "cell_type": "markdown",
   "metadata": {},
   "source": [
    "---\n",
    "\n",
    "<a id=\"indice\"></a>\n",
    "<h2><font color=\"#004D7F\" size=5>Índice</font></h2>\n",
    "\n",
    "\n",
    "* [1. Introducción](#section1)\n",
    "* [2. Trabajar con diccionarios en python](#section2)\n",
    "* [3. Serialización de datos. Formato JSON](#section3)\n",
    "* [4. Consumo de APIs](#section4)\n",
    "* [5. Otros formatos de serialización](#section5)\n",
    "* [Referencias](#referencias)"
   ]
  },
  {
   "cell_type": "markdown",
   "metadata": {},
   "source": [
    "---\n",
    "\n",
    "<a id=\"section1\"></a>\n",
    "# <font color=\"#004D7F\"> 1. Introducción</font>\n",
    "\n",
    "\n",
    "Las Application Program Interfaces (APIs) se utilizan generalmente para enviar y recibir datos de servidores web remotos. Para usar un API, se realiza una llamada a un servidor web y se recive en la respuesta los datos que se solicitan."
   ]
  },
  {
   "cell_type": "markdown",
   "metadata": {},
   "source": [
    "---\n",
    "\n",
    "<a id=\"section2\"></a>\n",
    "# <font color=\"#004D7F\"> 2. Trabajar con diccionarios en python</font>\n",
    "\n",
    "### <font color=\"#004D7F\"> <i class=\"fa fa-book\" aria-hidden=\"true\" style=\"color:#113D68\"></i> Demo</font>\n",
    "Vamos a ver las operaciones básicas que se pueden realizar en python trabajando con diccionarios. Las operaciones que vamos a ver son las siguientes:\n",
    "* Crear un diccionario (definición con {} y método dict)\n",
    "* Añadir elementos a un diccionario\n",
    "* Acceder a los valores de un diccionario\n",
    "* Diccionarios anidados\n",
    "* Métodos `keys()`, `values()`, `items()`, `has_key()`, `update()`, `len()`"
   ]
  },
  {
   "cell_type": "code",
   "execution_count": null,
   "metadata": {},
   "outputs": [],
   "source": [
    "mi_diccionario = {\n",
    "    \"clave\": 7,\n",
    "    \"valor\": \"soy un string\",\n",
    "    \"dict\": {\n",
    "        \"clave\": 'valor',\n",
    "        'foo': 'var'\n",
    "    },\n",
    "    'lista': [\n",
    "        1,\n",
    "        2,\n",
    "        3\n",
    "    ]\n",
    "}\n",
    "\n",
    "# Otra forma de crear un dict es usando la palabra clave dict\n",
    "diccionario = dict([(\"clave\",7), (\"otra_clave\",\"soy un string\")])\n",
    "diccionario"
   ]
  },
  {
   "cell_type": "code",
   "execution_count": null,
   "metadata": {},
   "outputs": [],
   "source": [
    "# Add elementos a un diccionario existente\n",
    "mi_diccionario['nuevo'] = 'dato'\n",
    "# Modificar elementos de un diccionario existente\n",
    "mi_diccionario['foo'] = 'bar'\n",
    "# Acceso a los valores del diccionario\n",
    "mi_diccionario['foo']\n",
    "# Uso del operador get\n",
    "mi_diccionario.get('lista')\n",
    "mi_diccionario.get('valor2', 'Ahora es el valor por defecto')\n",
    "mi_diccionario\n",
    "# Comprobamos que no ha sido añadido el 'valor2 al dict"
   ]
  },
  {
   "cell_type": "code",
   "execution_count": null,
   "metadata": {},
   "outputs": [],
   "source": [
    "# Obtener las claves\n",
    "mi_diccionario.keys()\n",
    "# Podemos convertirlo en una lista para ser iterada\n",
    "list(mi_diccionario.keys())"
   ]
  },
  {
   "cell_type": "code",
   "execution_count": null,
   "metadata": {},
   "outputs": [],
   "source": [
    "# Acceso a los items. Para trabajar con ellos se usa un bucle for e iterar\n",
    "for k,v in mi_diccionario.items():\n",
    "    print(k,v)\n",
    "\n",
    "# Otro metodo\n",
    "for k in mi_diccionario.keys():\n",
    "    print(k, mi_diccionario[k])"
   ]
  },
  {
   "cell_type": "code",
   "execution_count": null,
   "metadata": {},
   "outputs": [],
   "source": [
    "len(mi_diccionario)"
   ]
  },
  {
   "cell_type": "markdown",
   "metadata": {},
   "source": [
    "---\n",
    "\n",
    "<a id=\"section3\"></a>\n",
    "# <font color=\"#004D7F\"> 3. Serialización de datos. Formato JSON</font>"
   ]
  },
  {
   "cell_type": "markdown",
   "metadata": {},
   "source": [
    "Serialización es el proceso de traducir estructuras de datos o objetos en un formato que pueda ser almacenado (por ejemplo, en un fichero o en memoria) o transmitido (por ejemplo, a través de una conexión de red) y reconstruido después (posiblemente en un entorno diferente).\n",
    "\n",
    "## <font color=\"#004D7F\"> Formato JSON</font>\n",
    "Los tipos de valores que podemos encontrar en JSON son los siguientes:\n",
    "\n",
    "* Un número (entero o float)\n",
    "* Un string (entre comillas dobles)\n",
    "* Un booleano (true o false)\n",
    "* Un array (entre corchetes [] )\n",
    "* Un objeto (entre llaves {})\n",
    "* Null\n",
    "\n",
    "Los objetos JSON se identifican entre llaves:\n",
    "\n",
    "```json\n",
    "{\n",
    "  \"Curso\": \"Introducción a la ciencia de datos\",\n",
    "  \"Empresa\": \"Etic sistemes\"\n",
    "}\n",
    "\n",
    "```\n",
    "También podemos incluir arrays, insertando su contenido entre corchetes:\n",
    "```json\n",
    "{\n",
    "  \"Curso\": \"Introducción a la ciencia de datos\",\n",
    "  \"Empresa\": \"Etic sistemes\",\n",
    "  \"Modulos\": [\n",
    "      \"1. Introducción a la ciencia de datos. Herramientas básicas\",\n",
    "      \"2. Recolección, preparación y almacenamiento de datos\"\n",
    "  ],\n",
    "  \"Colaboradores\": [\n",
    "      {\n",
    "          \"nombre\": \"Antonio Jesús Gil\",\n",
    "          \"equipo\": \"Engineering Manager\"\n",
    "      },\n",
    "      {\n",
    "          \"nombre\": \"Ada Colau\",\n",
    "          \"afiliación\": \"Alcaldesa de Barcelona\"\n",
    "      }\n",
    "  ]\n",
    "}\n",
    "\n",
    "```"
   ]
  },
  {
   "cell_type": "markdown",
   "metadata": {},
   "source": [
    "### <font color=\"#004D7F\"> <i class=\"fa fa-book\" aria-hidden=\"true\" style=\"color:#113D68\"></i> Demo</font>\n",
    "Vamos a ver las operaciones básicas que se pueden realizar en python trabajando con JSON.\n",
    "* Convertir un diccionario en un string json (json.dumps())\n",
    "* Convertir un string json en un diccionario (json.loads())"
   ]
  },
  {
   "cell_type": "code",
   "execution_count": null,
   "metadata": {},
   "outputs": [],
   "source": []
  },
  {
   "cell_type": "markdown",
   "metadata": {},
   "source": [
    "---\n",
    "\n",
    "<a id=\"section4\"></a>\n",
    "# <font color=\"#004D7F\"> 4. Consumo de APIs</font>"
   ]
  },
  {
   "cell_type": "markdown",
   "metadata": {},
   "source": [
    "Las APIs se alojan en servidores web. Cuando escribimos www.google.com en la barra de direcciones de nuestro navegador, el ordenador le pide a www.google.com que sirve una página web que es devuelta a nuestro navegador.\n",
    "\n",
    "Las APIs funciona de la misma forma, sólo que en lugar de solicitar al navegador web una página web, solicitamos datos. Los datos son devueltos generalmente en formato JSON.\n",
    "\n"
   ]
  },
  {
   "cell_type": "markdown",
   "metadata": {},
   "source": [
    "## <font color=\"#004D7F\">Tipos de peticiones</font>\n",
    "\n",
    "Hay distintos tipos de peticiones, aunque la más común es la de tipo GET, que es la que utilizaremos para solicitar datos.\n",
    "\n",
    "Un **endpoint** es una ruta en el servidor que se puede usar para obtener datos desde la API. Por ejemplo, `/users`  podría ser un endpoint de un API que nos daría información acerca de los usuarios. Para acceder a los endpoints, debemos añadir a la **url base** de la API el endpoint al que queremos acceder."
   ]
  },
  {
   "cell_type": "markdown",
   "metadata": {},
   "source": [
    "## <font color=\"#004D7F\">Códigos de respuesta</font>\n",
    "\n",
    "Las peticiones a un servidor web devolverán un código de respuesta. Los códigos de respuesta indican qué ha pasado con la petición. A continuación se muestran algunos de los códigos de respuesta más comunes:\n",
    "\n",
    "* 200: Todo ha ido bien y el resultado (si lo hay) ha sido devuelvo\n",
    "* 301: El servidor te está dirigiendo a un endpoint diferente. Esto puede ocurrir cuando el API ha cambiado de dominio o de nombre.\n",
    "* 400: El servidor devuelve error porque el formato de la petición no es correcto\n",
    "* 401: El servidor devuelve error porque no estás correctamente autentificado.\n",
    "* 403: El servidor devuelve error porque no tienes permisos para acceder al recurso que estás solicitando.\n",
    "* 404: El servidor devuelve error porque el recurso solicitado no se encuentra en el servidor\n",
    "* 500: Error interno del servidor"
   ]
  },
  {
   "cell_type": "markdown",
   "metadata": {},
   "source": [
    "## <font color=\"#004D7F\">Parámetros de búsqueda</font>\n",
    "\n",
    "En algunas ocasiones se pueden añadir parámetros (**query parameters**) a las llamadas. Estos parámetros se añaden al final de la URL con el siguiente formato:\n",
    "```\n",
    "http://base_url/endpoint?param1=XXX&param2=YYY&...&paramN=ZZZ\n",
    "```"
   ]
  },
  {
   "cell_type": "markdown",
   "metadata": {},
   "source": [
    "### <font color=\"#004D7F\"> <i class=\"fa fa-book\" aria-hidden=\"true\" style=\"color:#113D68\"></i> Demo</font>\n",
    "Vamos a explorar el API de Github viendo como podemos obtener datos de usuarios y repositorios.\n",
    "\n",
    "La url base del API es https://api.github.com y las partes más relevantes de la documentación son las siguientes:\n",
    "* usuarios: https://developer.github.com/v3/users\n",
    "* repositorios: https://developer.github.com/v3/repos\n"
   ]
  },
  {
   "cell_type": "code",
   "execution_count": null,
   "metadata": {
    "scrolled": true
   },
   "outputs": [],
   "source": [
    "import pprint\n",
    "import requests\n",
    "base_url = 'https://api.github.com'\n",
    "\n",
    "issues = requests.get(base_url + '/repos/requests/requests/issues')\n",
    "pp = pprint.PrettyPrinter(indent=4)\n",
    "pp.pprint(issues.json())\n"
   ]
  },
  {
   "cell_type": "markdown",
   "metadata": {},
   "source": [
    "---\n",
    "\n",
    "### <font color=\"#004D7F\"> <i class=\"fa fa-pencil-square-o\" aria-hidden=\"true\" style=\"color:#113D68\"></i> Ejercicio</font>\n",
    "\n",
    "Crear una función que dado un nombre de usuario y el nombre de un repositorio obtenga un string JSON con el siguiente formato: \n",
    "\n",
    "```json\n",
    "{\n",
    "    \"name\": \"name_of_the_repo\",\n",
    "    \"open_issues\": 124,\n",
    "    \"issues\": [\n",
    "        {\n",
    "            \"title\": \"titulo de la issue\",\n",
    "            \"user\": \"campo login del user que reporta el issue\"\n",
    "        }\n",
    "    ]\n",
    "}\n",
    "```\n",
    "\n",
    "El máximo de issues que se deben reportar es 50 y deben estar abiertas (`closed_at: None`)"
   ]
  },
  {
   "cell_type": "code",
   "execution_count": null,
   "metadata": {},
   "outputs": [],
   "source": [
    "def get_repo_and_issues(user, repo_name):\n",
    "    pass\n",
    "\n",
    "get_repo_and_issues('requests', 'requests')\n",
    "    "
   ]
  },
  {
   "cell_type": "markdown",
   "metadata": {},
   "source": [
    "\n",
    "---\n",
    "\n",
    "<a id=\"section5\"></a>\n",
    "# <font color=\"#004D7F\">5. Otros formatos de serialización</font>\n",
    "\n",
    "Además de JSON, en Python podemos utilizar otros formatos de serialización como son el formato YAML (YAML Ain't Markup Language) o el formato Pickle."
   ]
  },
  {
   "cell_type": "markdown",
   "metadata": {},
   "source": [
    "## <font color=\"#004D7F\">YAML</font>\n"
   ]
  },
  {
   "cell_type": "markdown",
   "metadata": {},
   "source": [
    "YAML es un formato de serialización de datos legible por humanos inspirado en lenguajes como XML, C, Python, Perl...\n",
    "\n",
    "### <font color=\"#004D7F\">Ejemplos</font>\n",
    "\n",
    "* Listas (formato bloque)\n",
    "\n",
    "```yaml\n",
    "- python\n",
    "- requests\n",
    "- BeautifulSoup\n",
    "- selenium\n",
    "```\n",
    "\n",
    "* Listas (formato linea)\n",
    "\n",
    "```yaml\n",
    "[python, requests, BeautifulSoup, selenium]\n",
    "```\n",
    "\n",
    "* Arrays asociativos (bloque)\n",
    "\n",
    "```yaml\n",
    "nombre: Juan Ignacio Alonso Barba,\n",
    "afiliación: Grupo Vermon\n",
    "```\n",
    "\n",
    "* Arrays asociativos (en línea)\n",
    "```yaml\n",
    "{nombre: Juan Ignacio Alonso Barba, afiliación: Grupo Vermon}\n",
    "```\n",
    "\n",
    "* Listas de arrays asociativos\n",
    "\n",
    "```yaml\n",
    "- {nombre: Juan Ignacio Alonso Barba, afiliación: Grupo Vermon}\n",
    "- nombre: Jacinto Arias\n",
    "  afiliación: Universidad de Castilla-La Mancha\n",
    "```\n",
    "\n",
    "* Arrays asociativos de listas\n",
    "```yaml\n",
    "clases: [Expresiones regulares, web scraping, APIs]\n",
    "tecnologías:\n",
    "  - python\n",
    "  - requests\n",
    "  - BeautifulSoup\n",
    "  - selenium\n",
    "```\n",
    "\n",
    "### <font color=\"#004D7F\"> <i class=\"fa fa-book\" aria-hidden=\"true\" style=\"color:#113D68\"></i> Demo</font>\n",
    "Vamos a ver como utilizar la librería PyYAML para realizar conversiones entre diccionarios de python y strings en formato YAML y viceversa.\n",
    "* Convertir un diccionario en un string json (yaml.dump())\n",
    "* Convertir un string json en un diccionario (yaml.load())"
   ]
  },
  {
   "cell_type": "code",
   "execution_count": null,
   "metadata": {},
   "outputs": [],
   "source": [
    "!pip install pyyaml"
   ]
  },
  {
   "cell_type": "code",
   "execution_count": null,
   "metadata": {},
   "outputs": [],
   "source": [
    "import yaml"
   ]
  },
  {
   "cell_type": "markdown",
   "metadata": {},
   "source": [
    "## <font color=\"#004D7F\">Pickle</font>\n",
    "\n",
    "Pickle es el formato de serialización más utilizado en Python. Las diferencias fundamentales entre pickle y JSON son las siguientes:\n",
    "\n",
    "* JSON es un formato de serialización de texto (generalmente codificado en utf-8), mientras que pickle es un formato de serialización binario.\n",
    "* JSON es leíble por humanos, pickle no.\n",
    "* JSON es interoperable y ampliamente usado fuera del ecosistema Python, pickle es específico de Python.\n",
    "* JSON por defecto sólo puede representar un subconjunto de los tipos predefinidos de python y no puede trabajar con clases propias Pickle puede representar la gran mayoría de tipos de Python (muchos de ellos automáticamente) y, en casos complejos, los desarrolladores pueden implementar interfaces específicas para hacer sus objetos serializables con pickle."
   ]
  },
  {
   "cell_type": "markdown",
   "metadata": {},
   "source": [
    "\n",
    "---\n",
    "\n",
    "<a id=\"referencias\"></a>\n",
    "# <font color=\"#004D7F\"> Referencias</font>\n",
    "\n",
    "* [pickle](https://docs.python.org/3/library/pickle.html)"
   ]
  }
 ],
 "metadata": {
  "celltoolbar": "Raw Cell Format",
  "kernelspec": {
   "display_name": "Python 3",
   "language": "python",
   "name": "python3"
  },
  "language_info": {
   "codemirror_mode": {
    "name": "ipython",
    "version": 3
   },
   "file_extension": ".py",
   "mimetype": "text/x-python",
   "name": "python",
   "nbconvert_exporter": "python",
   "pygments_lexer": "ipython3",
   "version": "3.7.3"
  }
 },
 "nbformat": 4,
 "nbformat_minor": 2
}
