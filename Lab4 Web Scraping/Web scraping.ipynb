{
 "cells": [
  {
   "cell_type": "markdown",
   "metadata": {},
   "source": [
    "<img src=\"../img/crowdlearning-etic.png\" alt=\"Logo ETIC\" align=\"right\">\n",
    "\n",
    "<br>\n",
    "<h1><font color=\"#004D7F\" size=6>Web Scraping</font></h1>\n",
    "\n",
    "<br><br>\n",
    "<div style=\"text-align: right\">\n",
    "<font color=\"#004D7F\" size=3>Antonio Jesús Gil</font><br>\n",
    "<font color=\"#004D7F\" size=3>Introducción a la Ciencia de Datos</font><br>\n",
    "\n",
    "</div>"
   ]
  },
  {
   "cell_type": "markdown",
   "metadata": {},
   "source": [
    "---\n",
    "\n",
    "<a id=\"indice\"></a>\n",
    "<h2><font color=\"#004D7F\" size=5>Índice</font></h2>\n",
    "\n",
    "\n",
    "* [1. Introducción](#section1)\n",
    "* [2. Páginas web](#section2)\n",
    "* [3. HTML](#section3)\n",
    "* [4. Parseando HTML con BeautifulSoup](#section4)\n",
    "* [5. La librería requests](#section5)\n",
    "* [6. Web scraping de una página de predicción meteorológica](#section6)\n",
    "* [7. Web scraping con un navegador real](#section7)\n",
    "* [Referencias](#referencias)"
   ]
  },
  {
   "cell_type": "markdown",
   "metadata": {},
   "source": [
    "---\n",
    "\n",
    "<a id=\"section1\"></a>\n",
    "# <font color=\"#004D7F\"> 1. Introducción</font>\n",
    "\n",
    "Cuando trabajamos como científico de datos, es común querer usar datos encontrados en Internet. En muchas ocasiones, seremos capaces de acceder a los datos en CSV o a través de un Application Programming Interface (API). Sin embargo, hay veces que los datos que queremos utilizar sólo están disponibles a través de una página web. En estos casos, podemos utilizar una técnica llamada **web scraping** para **transformar estos datos que obtenemos desde un servidor web en un formato que podamos utilizar en nuestros análisis**."
   ]
  },
  {
   "cell_type": "code",
   "execution_count": null,
   "metadata": {},
   "outputs": [],
   "source": [
    "!pip install requests\n",
    "!pip install beautifulsoup4"
   ]
  },
  {
   "cell_type": "code",
   "execution_count": null,
   "metadata": {
    "collapsed": true
   },
   "outputs": [],
   "source": [
    "import requests\n",
    "from bs4 import BeautifulSoup"
   ]
  },
  {
   "cell_type": "markdown",
   "metadata": {},
   "source": [
    "---\n",
    "\n",
    "<a id=\"section2\"></a>\n",
    "# <font color=\"#004D7F\"> 2. Páginas web</font>\n",
    "\n",
    "Cuando visitamos una página web, nuestro navegador hace una petición a un servidor web. Esta petición se llama una petición GET, ya que estamos obteniendo ficheros del servidor. El servidor envía de vuelta ficheros que le dicen al navegador como debe renderizar la paǵina. Estas filas pueden ser de tres tipos:\n",
    "\n",
    "* HTML: Contienen en contenido principal de la página\n",
    "* CSS: Añaden estilos a la página\n",
    "* JS: Añaden interactividad a la página — Javascript files add interactivity to web pages.\n",
    "* Contenido multimedia: Permiten a las páginas mostrar imágenes, videos, etc.\n",
    "\n",
    "Cuando nuestro navegador recive todos estos ficheros, renderiza la página y nos la muestra. Para esto, un monton de cosas suceden en segundo plano, pero no tenemos que preocuparnos de estos cuando hablamos de web scraping. Cuando hacemos web scraping, estamos interesados sólo en el contenido principal de la página, el HTML."
   ]
  },
  {
   "cell_type": "markdown",
   "metadata": {},
   "source": [
    "---\n",
    "\n",
    "<a id=\"section3\"></a> \n",
    "# <font color=\"#004D7F\">3. HTML</font>\n",
    "\n",
    "HyperText Markup Language (HTML) es el lenguaje con el que se crean las páginas web. HTML no es un lenguaje de programación, es un lenguaje de marcado que le dice al navegador como tiene que renderizar el contenido.\n",
    "\n",
    "A continuación se muestra una pequeña guía sobre HTML con la información mínima para poder hacer scraping de forma efectiva. HTML consiste en elementos llamados **etiquetas**. La etiqueta más básica es la etiqueta &lt;html&gt;. Esta etiqueta le dice al navegador que todo lo que encontremos dentro es HTML. Podemos crear un documento HTML mínimo usando sólamente esta etiqueta\n",
    "\n",
    "```html\n",
    "<html>\n",
    "</html>\n",
    "```\n",
    "\n",
    "Como no hemos añadido ningún contenido a nuestra página aún, si la visualizasemos a través de un servidor web, no veríamos nada todavía.\n",
    "\n",
    "Dentro de la etiqueta html, ponemos 2 etiquetas más, las etiquetas head y body. El contenido principal de la página se encuentra dentro de la etiqueta body. La etiqueta head contiene el título de la página y otra información que en general no es útil para el web scraping.\n",
    "\n",
    "```html\n",
    "<html>\n",
    "    <head>\n",
    "    </head>\n",
    "    <body>\n",
    "    </body>\n",
    "</html>\n",
    "```\n",
    "\n",
    "Como se muestra en el código anterior, las  etiquetas head y body están dentro del tag html. En HTML las etiquetas se anidan y unas etiquetas pueden colocarse dentro de otras.\n",
    "\n",
    "Ahora vamos a añadir nuestro primer contenido a la página, en forma de una etiqueta p. La etiqueta p define un parrafo y el texto dentro de la etiqueta se renderizaría como un párrafo en la página.\n",
    "\n",
    "```html\n",
    "<html>\n",
    "    <head>\n",
    "    </head>\n",
    "    <body>\n",
    "        <p>\n",
    "            Convierte en un científico de datos.\n",
    "        </p>\n",
    "        <p>\n",
    "            Domina el lenguaje de programación que tiene más crecimiento.\n",
    "        </p>\n",
    "    </body>\n",
    "</html>\n",
    "```\n",
    "\n",
    "En general usamos los siguientes nombres para referirnos a la posición de una etiqueta en relación a otras etiquetas.\n",
    "* hija: Una etiqueta hija es una etiqueta que se encuentra dentro de otra etiqueta. En el ejemplo anterior, las 2 etiquetas p son hijas de la etiqueta body.\n",
    "* padre: Un padre es una etiqueta que tiene otra dentro. En el ejemplo, html es padre de la etiqueta body.\n",
    "* hermanos: Un hermano es una etiqueta que está incluida dentro del mismo padre que otra etiqueta. Por ejemplo, head y body son hermanas, ya que ambas se encuentran dentro de la etiqueta html. \n",
    "\n",
    "También podemos agregar **propiedades** a las etiquetas HTML que cambiar su significado.\n",
    "\n",
    "```html\n",
    "<html>\n",
    "    <head>\n",
    "    </head>\n",
    "    <body>\n",
    "        <p>\n",
    "            Convierte en un científico de datos.\n",
    "            <a href=\"https://www.etics.es\">Etic</a>\n",
    "        </p>\n",
    "        <p>\n",
    "            Domina el lenguaje de programación que tiene más crecimiento.\n",
    "            <a href=\"https://www.python.org\">Python</a>\n",
    "        </p>\n",
    "    </body>\n",
    "</html>\n",
    "```\n",
    "\n",
    "En el ejemplo anteior, hemos añadido dos etiquetas a. Las etiquetas a son links y le dicen al navegador que renderice un enlace a otra página. La propiedad href de la etiqueta le dice a donde debe dirigir el enlace.\n",
    "\n",
    "Otras etiquetas comunes en HTML son las siguientes:\n",
    "\n",
    "* div: Indica una división o área de la página.\n",
    "* h1, h2, h3, h4, h5: Encabezados de distinto tamaño/importancia.\n",
    "* table: Crea una tabla\n",
    "* form: Crea un formulario de entrada\n",
    "* img: Una imagen incrustada en el documento\n",
    "\n",
    "Antes de empezar con el web scraping, es importante ver las propiedas class y id. Estas propiedas especiales le dan a los elementos HTML nombres, y hacen más fácil interactuar con el contenido sobre el que queremos hacer scraping. **Un elemento puede tener múltiples clases, y una clase puede ser compartida por varios elementos**. Cada elemento puede tener una sóla id, y esa id sólo puede ser usada una vez en la página. Las propiedades class e id son opciones, y no todos los elementos las van a tener.\n",
    "\n",
    "Podemos añadir clases a nuestro ejemplo, quedando de la siguiente forma:\n",
    "\n",
    "```html\n",
    "<html>\n",
    "    <head>\n",
    "    </head>\n",
    "    <body>\n",
    "        <p class=\"bold-paragraph\">\n",
    "            Convierte en un científico de datos.\n",
    "            <a href=\"https://www.etics.es\" id=\"course-link\">Etic</a>\n",
    "        </p>\n",
    "        <p class=\"bold-paragraph extra-large\">\n",
    "            Domina el lenguaje de programación que tiene más crecimiento.\n",
    "            <a href=\"https://www.python.org\" class=\"extra-large\">Python</a>\n",
    "        </p>\n",
    "    </body>\n",
    "</html>\n",
    "```"
   ]
  },
  {
   "cell_type": "markdown",
   "metadata": {},
   "source": [
    "---\n",
    "\n",
    "<a id=\"section4\"></a> \n",
    "# <font color=\"#004D7F\">4. Parseando HTML con BeautifulSoup</font>\n"
   ]
  },
  {
   "cell_type": "markdown",
   "metadata": {},
   "source": [
    "Para parsear documentos HTML vamos a utilizar la librería BeautifulSoup."
   ]
  },
  {
   "cell_type": "code",
   "execution_count": null,
   "metadata": {},
   "outputs": [],
   "source": [
    "#!pip install beautifulsoup4\n",
    "!pip show beautifulsoup4"
   ]
  },
  {
   "cell_type": "markdown",
   "metadata": {},
   "source": [
    "Para utilizar BeautifulSoup, lo primero que debemos hacer es crear un objeto de tipo BeautifulSoup. \n",
    "\n",
    "El constructor de BeautifulSoup puede aceptar dos argumentos. El primer argumento es el código HTML (o XML), y el segundo argumento es el parser que se quiere usar."
   ]
  },
  {
   "cell_type": "code",
   "execution_count": null,
   "metadata": {
    "collapsed": true
   },
   "outputs": [],
   "source": [
    "from bs4 import BeautifulSoup\n",
    " \n",
    "soup = BeautifulSoup(\"<html><head></head><body><p>Curso de ciencia de datos</p></body></html>\", \"html.parser\")"
   ]
  },
  {
   "cell_type": "code",
   "execution_count": null,
   "metadata": {},
   "outputs": [],
   "source": [
    "print(soup.prettify())"
   ]
  },
  {
   "cell_type": "markdown",
   "metadata": {},
   "source": [
    "## <font color=\"#004D7F\">Parsers para BeautifulSoup</font>\n",
    "\n",
    "El `html.parser` es un parser integrado en BeautifulSoup, y no funciona en versiones antiguas de Python. Otros parsers que se pueden utilizar son `lxml` y `html5lib`."
   ]
  },
  {
   "cell_type": "code",
   "execution_count": null,
   "metadata": {},
   "outputs": [],
   "source": [
    "!pip install lxml\n",
    "!pip install html5lib"
   ]
  },
  {
   "cell_type": "code",
   "execution_count": null,
   "metadata": {},
   "outputs": [],
   "source": [
    "#!conda install -y lxml"
   ]
  },
  {
   "cell_type": "code",
   "execution_count": null,
   "metadata": {},
   "outputs": [],
   "source": [
    "#!pip uninstall -y lxml"
   ]
  },
  {
   "cell_type": "markdown",
   "metadata": {},
   "source": [
    "El parser `lxml` es muy rápido y es el más utilizado. Por el otro lado, el parser `html5lib` es muy lento, pero también extremadamente indulgente."
   ]
  },
  {
   "cell_type": "code",
   "execution_count": null,
   "metadata": {},
   "outputs": [],
   "source": [
    "html = \"<html><p>This is <b>invalid HTML</p></html>\"\n",
    "# Html parser está obsoleto aunque a veces sea de utiliad\n",
    "soup = BeautifulSoup(html, \"html.parser\")\n",
    "#print(soup)\n",
    "\n",
    "# Es capaz de add etiquetas\n",
    "# Es la más rapida de las 3 y la que cumple todos los escenarios (compliance)\n",
    "soup = BeautifulSoup(html, \"lxml\")\n",
    "#print(soup)\n",
    "\n",
    "soup = BeautifulSoup(html, features=\"lxml\")\n",
    "print(soup.prettify())"
   ]
  },
  {
   "cell_type": "markdown",
   "metadata": {},
   "source": [
    "## <font color=\"#004D7F\">Primeros pasos con BeautifulSoup</font>\n",
    "\n",
    "Empezaremos parseando un pequeño código HTML para ir viendo las funcionalidades de la librería.\n"
   ]
  },
  {
   "cell_type": "code",
   "execution_count": null,
   "metadata": {},
   "outputs": [],
   "source": [
    "html='''\n",
    "<!DOCTYPE html>\n",
    "<html>\n",
    " <head>\n",
    "  <title>\n",
    "   ETIC: Primeros pasos con BeautifulSoup\n",
    "  </title>\n",
    " </head>\n",
    " <body>\n",
    "  <p>\n",
    "   Primer parrafo de la página\n",
    "  </p>\n",
    " </body>\n",
    "</html>\n",
    "'''\n",
    "\n",
    "soup = BeautifulSoup(html, 'lxml')"
   ]
  },
  {
   "cell_type": "code",
   "execution_count": null,
   "metadata": {},
   "outputs": [],
   "source": [
    "# El objeto soap contiene todo el html\n",
    "\n",
    "print(soup.prettify())\n"
   ]
  },
  {
   "cell_type": "markdown",
   "metadata": {},
   "source": [
    "Con los distintos métodos de la librería nos podremos ir moviendo por la estrucutra del documento. Por ejemplo, podemos ir moviéndonos nivel a nivel accediendo a los hijos de una etiqueta determinada."
   ]
  },
  {
   "cell_type": "code",
   "execution_count": null,
   "metadata": {},
   "outputs": [],
   "source": [
    "# Llamando a los hijos del objeto soap accedemos a las etiquetas internas de html\n",
    "list(soup.children)"
   ]
  },
  {
   "cell_type": "code",
   "execution_count": null,
   "metadata": {},
   "outputs": [],
   "source": [
    "\n",
    "[type(item) for item in soup.children]\n"
   ]
  },
  {
   "cell_type": "markdown",
   "metadata": {},
   "source": [
    "Todos los items son objetos de la librería BeautifulSoup.\n",
    "\n",
    "El objeto `Doctype` contiene información acerca del tipo de documento. El objeto `Tag` contendrá en su interior el resto de etiquetas. El objeto NavigableString representa texto encontrado en el documento HTML.\n",
    "\n",
    "El objeto Tag es el más importante y nos permitirá navegar a través de todo el documento HTML y extraer otras etiquetas y texto. Podemos seleccionar el objeto `Tag` seleccinando el segundo elemento de los hijos del objeto `soup`."
   ]
  },
  {
   "cell_type": "code",
   "execution_count": null,
   "metadata": {},
   "outputs": [],
   "source": [
    "# Elemento 0 es Doctype\n",
    "# Elemento 1 tipo Tag\n",
    "html_tag = list(soup.children)[1]\n",
    "\n",
    "print(html_tag)"
   ]
  },
  {
   "cell_type": "markdown",
   "metadata": {},
   "source": [
    "El objeto `html_tag` es también un objeto de tipo ' Tag', por lo que podremos también navegar a través de él."
   ]
  },
  {
   "cell_type": "markdown",
   "metadata": {},
   "source": [
    "### <font color=\"#004D7F\"> <i class=\"fa fa-book\" aria-hidden=\"true\" style=\"color:#113D68\"></i> Demo</font>\n",
    "Vamos a ver como se podría obtener el texto dentro de la etiqueta &lt;p&gt;. Para ello navegaremos hasta la etiqueta y utilizaremos el método `get_text()`."
   ]
  },
  {
   "cell_type": "code",
   "execution_count": null,
   "metadata": {},
   "outputs": [],
   "source": [
    "# Navegaremos por los children hasta llegar a <p> y despues llamamos a get_text\n",
    "# Listamos los hijos de la variable anterior 'html_tag' y contamos hasta el <body>\n",
    "body_tag = list(html_tag.children)[3]\n",
    "\n",
    "# ahora extraemos los hijos del body tag y contamos hasta llegar a <p> 0 es \\n y 1 <p>\n",
    "parrafo_tag = list(body_tag.children)[1]\n",
    "    \n",
    "# ahora obtenemos el texto y lo imprimimos por pantalla\n",
    "print(parrafo_tag.get_text())"
   ]
  },
  {
   "cell_type": "markdown",
   "metadata": {},
   "source": [
    "### <font color=\"#004D7F\">Obteniendo las etiquetas de un tipo determinado</font>\n",
    "\n",
    "Lo que acabamos de ver es útil para ver como navegar por una página, pero implica varios comandos para hacer algo realmente simple. Cuando queremos extraer una etiqueta, podemos utilizar el método `find` para obtener la primera etiqueta de un tipo determinado o `find_all` para obtener la lista completa de etiquetas."
   ]
  },
  {
   "cell_type": "code",
   "execution_count": null,
   "metadata": {},
   "outputs": [],
   "source": [
    "print(soup.find('p'))"
   ]
  },
  {
   "cell_type": "code",
   "execution_count": null,
   "metadata": {},
   "outputs": [],
   "source": [
    "print(soup.find_all('p'))"
   ]
  },
  {
   "cell_type": "markdown",
   "metadata": {},
   "source": [
    "### <font color=\"#004D7F\">Buscando por clase e id</font>\n",
    "\n",
    "Las propiedades class e id fueron introducidas antes. Clases y la id son propiedades que se utilizan para aplicar estilos CSS a determinados elementos HTML. Estas propiedades también se pueden utilizar para especificar sobre qué elementos queremos hacer scraping."
   ]
  },
  {
   "cell_type": "code",
   "execution_count": null,
   "metadata": {},
   "outputs": [],
   "source": [
    "html='''\n",
    "<html>\n",
    "    <head>\n",
    "        <title>A simple example page</title>\n",
    "    </head>\n",
    "    <body>\n",
    "        <div>\n",
    "            <p class=\"inner-text first-item\" id=\"first\">\n",
    "                First paragraph.\n",
    "            </p>\n",
    "            <p class=\"inner-text\">\n",
    "                Second paragraph.\n",
    "            </p>\n",
    "        </div>\n",
    "        <p class=\"outer-text first-item\" id=\"second\">\n",
    "            <b>\n",
    "                First outer paragraph.\n",
    "            </b>\n",
    "        </p>\n",
    "        <p class=\"outer-text\" id=\"third\">\n",
    "            <b>\n",
    "                Third outer paragraph.\n",
    "            </b>\n",
    "        </p>\n",
    "    </body>\n",
    "</html>\n",
    "'''\n",
    "\n",
    "soup = BeautifulSoup(html, 'lxml')\n",
    "print('# Clase inner-text')\n",
    "print(soup.find_all(class_='inner-text'))\n",
    "\n",
    "print('\\n# id: second')\n",
    "print(soup.find(id='second'))\n",
    "\n",
    "#print('\\n# id: third')\n",
    "#print(soup.find(id='third'))"
   ]
  },
  {
   "cell_type": "markdown",
   "metadata": {},
   "source": [
    "### <font color=\"#004D7F\">Selectores CSS</font>\n",
    "\n",
    "También podemos buscar items usando selectores CSS. Los selectores CSS es la forma en que los desarrolladores web especifican a qué elementos quieren aplicarle estilos CSS. Algunos ejemplos son los siguientes:\n",
    "\n",
    "* p a: Busca todas las etiquetas a dentro de una etiqueta p\n",
    "* body p a: Busca todas las etiquetas a dentro de una etiqueta p dentro de la etiqueta body\n",
    "* html body: Busca todas las etiqueta body dentro del tag html\n",
    "* p.outer-text: Busca todas las etiqueta p con la clase outer-text\n",
    "* p#first: Busca todas las etiquetas p con el id 'first'\n",
    "* body p.outer-text: Busca todas las etiquetas p con la clase outer-text dentro de la etiqueta body\n",
    "\n",
    "Una buena referencia sobre selectores CSS es la siguiente: [CSS Selectores en Mozilla developers](https:/Selectores en Mozilla developers/developer.mozilla.org/en-US/docs/Learn/CSS/Introduction_to_CSS/Selectors)\n",
    "You can learn more about CSS selectors here.\n",
    "\n",
    "En BeautifulSoup se pueden buscar elementos con selectores CSS utilizando el metodo `.select('selector')`."
   ]
  },
  {
   "cell_type": "code",
   "execution_count": null,
   "metadata": {},
   "outputs": [],
   "source": [
    "soup.select('p.outer-text')\n",
    "#soup.select('p#third')"
   ]
  },
  {
   "cell_type": "code",
   "execution_count": null,
   "metadata": {
    "collapsed": true
   },
   "outputs": [],
   "source": [
    "# Ejemplo: Obtener todos los colaboradores de la web ...\n",
    "\n",
    "# Pasos\n",
    "# Ver la estructura de la pagina\n",
    "# 1 mediante las herramientas para desarrolladores del navegador buscamos los div class que se aproximen\n",
    "# para ello ir navegando por los divs hasta encontrar el child <p>\n",
    "\n",
    "# Ver en el ejemplo posterior, libreria requests\n"
   ]
  },
  {
   "cell_type": "markdown",
   "metadata": {},
   "source": [
    "<div style=\"text-align: right\"> <font size=5> [<i class=\"fa fa-arrow-circle-up\" aria-hidden=\"true\" style=\"color:#004D7F\">](#indice)</i></font></div>"
   ]
  },
  {
   "cell_type": "markdown",
   "metadata": {},
   "source": [
    "---\n",
    "\n",
    "<a id=\"section5\"></a> \n",
    "# <font color=\"#004D7F\">5. La librería requests</font>\n"
   ]
  },
  {
   "cell_type": "markdown",
   "metadata": {},
   "source": [
    "Lo primero que necesitamos para hacer web scraping es descargar la página. Para ello utilizaremos la libreria requests de Python. La librería hará una petición GET al servidor web, que descargará el HTML.\n",
    "\n",
    "Además de las llamadas GET, hay otros tipos de llamadas que veremos en el siguiente tutorial."
   ]
  },
  {
   "cell_type": "code",
   "execution_count": 33,
   "metadata": {},
   "outputs": [
    {
     "data": {
      "text/plain": [
       "<Response [200]>"
      ]
     },
     "execution_count": 33,
     "metadata": {},
     "output_type": "execute_result"
    }
   ],
   "source": [
    "import requests\n",
    "\n",
    "page = requests.get(\"http://www.etics.es\")\n",
    "page"
   ]
  },
  {
   "cell_type": "markdown",
   "metadata": {},
   "source": [
    "Con `page.status_code` obtendremos el código de respuesta de la solicitud. Un código de respuesta 200 significa que todo ha funcionado correctamente."
   ]
  },
  {
   "cell_type": "code",
   "execution_count": 34,
   "metadata": {},
   "outputs": [
    {
     "data": {
      "text/plain": [
       "200"
      ]
     },
     "execution_count": 34,
     "metadata": {},
     "output_type": "execute_result"
    }
   ],
   "source": [
    "page.status_code"
   ]
  },
  {
   "cell_type": "markdown",
   "metadata": {},
   "source": [
    "Podemos acceder al contenido de la respuesta, el código HTML, con `page.content`."
   ]
  },
  {
   "cell_type": "code",
   "execution_count": 35,
   "metadata": {},
   "outputs": [
    {
     "data": {
      "text/plain": [
       "b'<!DOCTYPE html>\\n<html lang=\"ca\">\\n    <head>\\n        <meta name=\"viewport\" content=\"width=device-width, initial-scale=1.0001, minimum-scale=1.0001, maximum-scale=1.001, shrink-to-fit=no, user-scalable=0\">\\n        <!-- Forces user OUT of IE\\'s compatibility mode and removes \"broken page\" icon --> \\n        <meta http-equiv=\"X-UA-Compatible\" content=\"IE=edge,chrome=1\">\\n        <meta name=\"format-detection\" content=\"telephone=no\">\\n        <meta http-equiv=\"x-rim-auto-match\" content=\"none\">\\n        <meta http-equiv=\"Content-Type\" content=\"text/html; charset=utf-8\" />\\n<link rel=\"shortcut icon\" href=\"https://www.etics.es/sites/all/themes/etics/favicon.ico\" type=\"image/vnd.microsoft.icon\" />\\n        <title>Home | E-TIC SISTEMES</title>\\n        <link type=\"text/css\" rel=\"stylesheet\" href=\"https://www.etics.es/sites/default/files/css/css_xE-rWrJf-fncB6ztZfd2huxqgxu4WO-qwma6Xer30m4.css\" media=\"all\" />\\n<link type=\"text/css\" rel=\"stylesheet\" href=\"https://www.etics.es/sites/default/files/css/css_vZ7OMldNxT0kN_1nW7_5iIquAxAdcU-aJ-ucVab5t40.css\" media=\"all\" />\\n<link type=\"text/css\" rel=\"stylesheet\" href=\"https://www.etics.es/sites/default/files/css/css_3BCNWSW0Zs9cSQbt5mFD-Ld4ZVCQS0kzCiFsEfLna40.css\" media=\"all\" />\\n<style type=\"text/css\" media=\"all\">\\n<!--/*--><![CDATA[/*><!--*/\\n#dexp-layerslider-layer{z-index:13;}\\n#dexp-layerslider-layer--2{z-index:12;}\\n#dexp-layerslider-layer--3{z-index:11;}\\n#dexp-layerslider-layer--4{z-index:13;}\\n#dexp-layerslider-layer--5{z-index:12;}\\n#dexp-layerslider-layer--6{z-index:11;}\\n#dexp-layerslider-layer--7{z-index:13;}\\n#dexp-layerslider-layer--8{z-index:12;}\\n#dexp-layerslider-layer--9{z-index:11;}\\n\\n/*]]>*/-->\\n</style>\\n<link type=\"text/css\" rel=\"stylesheet\" href=\"https://www.etics.es/sites/default/files/css/css_DVVnS3MCnFEgbLWZBSGDuEQeAhukObprpV_l0kbdkms.css\" media=\"all\" />\\n<style type=\"text/css\" media=\"all\">\\n<!--/*--><![CDATA[/*><!--*/\\n#sliding-popup.sliding-popup-bottom{background:#4475af;}#sliding-popup .popup-content #popup-text h1,#sliding-popup .popup-content #popup-text h2,#sliding-popup .popup-content #popup-text h3,#sliding-popup .popup-content #popup-text p{color:#fff !important;}\\n\\n/*]]>*/-->\\n</style>\\n<link type=\"text/css\" rel=\"stylesheet\" href=\"https://www.etics.es/sites/default/files/css/css_NhrZxIU1sKtGbUly9ONkJmo8IfN9BNHj0kZq4uZHzZM.css\" media=\"all\" />\\n        <script type=\"text/javascript\" src=\"https://www.etics.es/sites/default/files/js/js_v7z_ueNi9EIrZXPI8So7AkuzyXuKekr2jbdDptsM5Oc.js\"></script>\\n<script type=\"text/javascript\" src=\"https://www.etics.es/sites/default/files/js/js_H7q2xORKmR9AN8Qx5spKEIBp7R_wG2apAswJoCUZY7I.js\"></script>\\n<script type=\"text/javascript\" src=\"https://www.etics.es/sites/default/files/js/js_PsQI6yYwPTgQZPHyIJobBMU16daSqNw8Q3kCcz_LUrA.js\"></script>\\n<script type=\"text/javascript\" src=\"https://www.etics.es/sites/all/modules/contrib/lightbox2/js/lightbox.js?1560856323\"></script>\\n<script type=\"text/javascript\" src=\"https://www.etics.es/sites/default/files/js/js_yQDOYC3baDrBRFn3YTvsmJQwNpkfHX-Ll_vco_iqI2E.js\"></script>\\n<script type=\"text/javascript\">\\n<!--//--><![CDATA[//><!--\\n  (function(i,s,o,g,r,a,m){i[\\'GoogleAnalyticsObject\\']=r;i[r]=i[r]||function(){\\r\\n  (i[r].q=i[r].q||[]).push(arguments)},i[r].l=1*new Date();a=s.createElement(o),\\r\\n  m=s.getElementsByTagName(o)[0];a.async=1;a.src=g;m.parentNode.insertBefore(a,m)\\r\\n  })(window,document,\\'script\\',\\'//www.google-analytics.com/analytics.js\\',\\'ga\\');\\r\\n\\r\\n  ga(\\'create\\', \\'UA-17225140-1\\', \\'auto\\');\\r\\n  ga(\\'send\\', \\'pageview\\');\\r\\n\\n//--><!]]>\\n</script>\\n<script type=\"text/javascript\" src=\"https://www.etics.es/sites/default/files/js/js_6v6SMe2LFROa5FhmiFXJIpansJuEXVIECUif2B-Dhy4.js\"></script>\\n<script type=\"text/javascript\">\\n<!--//--><![CDATA[//><!--\\njQuery.extend(Drupal.settings, {\"basePath\":\"\\\\/\",\"pathPrefix\":\"ca\\\\/\",\"ajaxPageState\":{\"theme\":\"etics\",\"theme_token\":\"d7A-iBKHTz7IP338Y0i3tV07W2a5MxNmdyw4icsHvec\",\"js\":{\"0\":1,\"sites\\\\/all\\\\/modules\\\\/contrib\\\\/eu_cookie_compliance\\\\/js\\\\/eu_cookie_compliance.js\":1,\"sites\\\\/all\\\\/modules\\\\/contrib\\\\/jquery_update\\\\/replace\\\\/jquery\\\\/1.7\\\\/jquery.min.js\":1,\"misc\\\\/jquery.once.js\":1,\"misc\\\\/drupal.js\":1,\"sites\\\\/all\\\\/modules\\\\/contrib\\\\/jquery_update\\\\/replace\\\\/ui\\\\/external\\\\/jquery.cookie.js\":1,\"sites\\\\/all\\\\/themes\\\\/drupalexp\\\\/assets\\\\/js\\\\/plugins.js\":1,\"public:\\\\/\\\\/languages\\\\/ca_ZUUO3k7HtLQnfi2756z9o8T_vjHv7mtB2Kq5UQG4tOE.js\":1,\"sites\\\\/all\\\\/modules\\\\/contrib\\\\/lightbox2\\\\/js\\\\/lightbox.js\":1,\"sites\\\\/all\\\\/modules\\\\/drupalexp\\\\/modules\\\\/dexp_layerslider\\\\/plugins\\\\/rs-plugin\\\\/js\\\\/jquery.themepunch.tools.min.js\":1,\"sites\\\\/all\\\\/modules\\\\/drupalexp\\\\/modules\\\\/dexp_layerslider\\\\/plugins\\\\/rs-plugin\\\\/js\\\\/jquery.themepunch.revolution.min.js\":1,\"sites\\\\/all\\\\/libraries\\\\/bxslider\\\\/jquery.bxslider.min.js\":1,\"sites\\\\/all\\\\/modules\\\\/drupalexp\\\\/modules\\\\/dexp_views_bxslider\\\\/js\\\\/dexp_bxslider.js\":1,\"sites\\\\/all\\\\/modules\\\\/drupalexp\\\\/modules\\\\/dexp_animation\\\\/js\\\\/dexp_animation.js\":1,\"sites\\\\/all\\\\/libraries\\\\/appear\\\\/jquery.appear.js\":1,\"sites\\\\/all\\\\/themes\\\\/drupalexp\\\\/vendor\\\\/bootstrap\\\\/js\\\\/bootstrap.min.js\":1,\"sites\\\\/all\\\\/themes\\\\/drupalexp\\\\/assets\\\\/js\\\\/drupalexp-custompadding.js\":1,\"sites\\\\/all\\\\/themes\\\\/drupalexp\\\\/assets\\\\/js\\\\/drupalexp.js\":1,\"1\":1,\"sites\\\\/all\\\\/themes\\\\/evolve\\\\/assets\\\\/scripts\\\\/evolve.js\":1,\"sites\\\\/all\\\\/themes\\\\/etics\\\\/assets\\\\/scripts\\\\/etics.js\":1},\"css\":{\"modules\\\\/system\\\\/system.base.css\":1,\"modules\\\\/system\\\\/system.menus.css\":1,\"modules\\\\/system\\\\/system.messages.css\":1,\"modules\\\\/system\\\\/system.theme.css\":1,\"modules\\\\/comment\\\\/comment.css\":1,\"modules\\\\/field\\\\/theme\\\\/field.css\":1,\"modules\\\\/node\\\\/node.css\":1,\"modules\\\\/search\\\\/search.css\":1,\"modules\\\\/user\\\\/user.css\":1,\"sites\\\\/all\\\\/modules\\\\/contrib\\\\/views\\\\/css\\\\/views.css\":1,\"sites\\\\/all\\\\/modules\\\\/contrib\\\\/ckeditor\\\\/css\\\\/ckeditor.css\":1,\"sites\\\\/all\\\\/modules\\\\/contrib\\\\/ctools\\\\/css\\\\/ctools.css\":1,\"sites\\\\/all\\\\/modules\\\\/contrib\\\\/lightbox2\\\\/css\\\\/lightbox.css\":1,\"sites\\\\/all\\\\/modules\\\\/drupalexp\\\\/modules\\\\/dexp_layerslider\\\\/plugins\\\\/rs-plugin\\\\/css\\\\/settings.css\":1,\"sites\\\\/all\\\\/modules\\\\/drupalexp\\\\/modules\\\\/dexp_layerslider\\\\/css\\\\/layerslider.css\":1,\"0\":1,\"1\":1,\"2\":1,\"3\":1,\"4\":1,\"5\":1,\"6\":1,\"7\":1,\"8\":1,\"sites\\\\/all\\\\/modules\\\\/contrib\\\\/eu_cookie_compliance\\\\/css\\\\/eu_cookie_compliance.css\":1,\"sites\\\\/all\\\\/libraries\\\\/bxslider\\\\/jquery.bxslider.css\":1,\"sites\\\\/all\\\\/modules\\\\/drupalexp\\\\/modules\\\\/dexp_animation\\\\/css\\\\/animate.css\":1,\"sites\\\\/all\\\\/modules\\\\/drupalexp\\\\/modules\\\\/dexp_widget\\\\/css\\\\/flickr.css\":1,\"sites\\\\/all\\\\/themes\\\\/drupalexp\\\\/assets\\\\/css\\\\/drupalexp.css\":1,\"sites\\\\/all\\\\/themes\\\\/drupalexp\\\\/vendor\\\\/bootstrap\\\\/css\\\\/bootstrap.min.css\":1,\"sites\\\\/all\\\\/themes\\\\/drupalexp\\\\/vendor\\\\/font-awesome\\\\/css\\\\/font-awesome.min.css\":1,\"sites\\\\/all\\\\/themes\\\\/drupalexp\\\\/assets\\\\/css\\\\/drupalexp-rtl.css\":1,\"public:\\\\/\\\\/drupalexp\\\\/css\\\\/style-preset1.css\":1,\"9\":1,\"sites\\\\/all\\\\/themes\\\\/etics\\\\/assets\\\\/css\\\\/etics.css\":1}},\"lightbox2\":{\"rtl\":\"0\",\"file_path\":\"\\\\/(\\\\\\\\w\\\\\\\\w\\\\/)public:\\\\/\",\"default_image\":\"\\\\/sites\\\\/all\\\\/modules\\\\/contrib\\\\/lightbox2\\\\/images\\\\/brokenimage.jpg\",\"border_size\":10,\"font_color\":\"000\",\"box_color\":\"fff\",\"top_position\":\"\",\"overlay_opacity\":\"0.8\",\"overlay_color\":\"000\",\"disable_close_click\":true,\"resize_sequence\":0,\"resize_speed\":400,\"fade_in_speed\":400,\"slide_down_speed\":600,\"use_alt_layout\":false,\"disable_resize\":false,\"disable_zoom\":false,\"force_show_nav\":false,\"show_caption\":true,\"loop_items\":false,\"node_link_text\":\"View Image Details\",\"node_link_target\":false,\"image_count\":\"Image !current of !total\",\"video_count\":\"Video !current of !total\",\"page_count\":\"Page !current of !total\",\"lite_press_x_close\":\"press \\\\u003Ca href=\\\\u0022#\\\\u0022 onclick=\\\\u0022hideLightbox(); return FALSE;\\\\u0022\\\\u003E\\\\u003Ckbd\\\\u003Ex\\\\u003C\\\\/kbd\\\\u003E\\\\u003C\\\\/a\\\\u003E to close\",\"download_link_text\":\"\",\"enable_login\":false,\"enable_contact\":false,\"keys_close\":\"c x 27\",\"keys_previous\":\"p 37\",\"keys_next\":\"n 39\",\"keys_zoom\":\"z\",\"keys_play_pause\":\"32\",\"display_image_size\":\"original\",\"image_node_sizes\":\"()\",\"trigger_lightbox_classes\":\"\",\"trigger_lightbox_group_classes\":\"\",\"trigger_slideshow_classes\":\"\",\"trigger_lightframe_classes\":\"\",\"trigger_lightframe_group_classes\":\"\",\"custom_class_handler\":0,\"custom_trigger_classes\":\"\",\"disable_for_gallery_lists\":true,\"disable_for_acidfree_gallery_lists\":true,\"enable_acidfree_videos\":true,\"slideshow_interval\":5000,\"slideshow_automatic_start\":true,\"slideshow_automatic_exit\":true,\"show_play_pause\":true,\"pause_on_next_click\":false,\"pause_on_previous_click\":true,\"loop_slides\":false,\"iframe_width\":600,\"iframe_height\":400,\"iframe_border\":1,\"enable_video\":false},\"eu_cookie_compliance\":{\"popup_enabled\":1,\"popup_agreed_enabled\":0,\"popup_hide_agreed\":0,\"popup_clicking_confirmation\":0,\"popup_scrolling_confirmation\":0,\"popup_html_info\":\"\\\\u003Cdiv\\\\u003E\\\\n  \\\\u003Cdiv class =\\\\u0022popup-content info\\\\u0022\\\\u003E\\\\n    \\\\u003Cdiv id=\\\\u0022popup-text\\\\u0022\\\\u003E\\\\n      \\\\u003Cp\\\\u003E\\\\u003Cstyle type=\\\\u0022text\\\\/css\\\\u0022\\\\u003E@page { margin: 2cm }\\\\t\\\\tp { margin-bottom: 0.25cm; line-height: 120% }\\\\u003C\\\\/style\\\\u003E\\\\u003C\\\\/p\\\\u003E\\\\u003Cp class=\\\\u0022rtejustify\\\\u0022 style=\\\\u0022margin-bottom: 0cm; line-height: 100%\\\\u0022\\\\u003E\\\\u003Cspan style=\\\\u0022font-size:12px;\\\\u0022\\\\u003E\\\\u003Cspan lang=\\\\u0022ca-ES\\\\u0022\\\\u003EUsem cookies pr\\\\u00f2pies i de tercers per millorar els nostres serveis i mostrar-te publicitat relacionada amb les teves prefer\\\\u00e8ncies mitjan\\\\u00e7ant l\\\\u00b4an\\\\u00e0lisi dels teus h\\\\u00e0bits de navegaci\\\\u00f3. si continues navegant en aquesta p\\\\u00e0gina, considerem que acceptes el seu \\\\u00fas en els termes indicats en els nostres textos legals. pots canviar la configuraci\\\\u00f3 o obtenir m\\\\u00e9s\\\\u003C\\\\/span\\\\u003E\\\\u003C\\\\/span\\\\u003E \\\\u003Cu\\\\u003E\\\\u003Ca href=\\\\u0022\\\\/ca\\\\/pol\\\\u00edtica-de-cookies\\\\u0022\\\\u003E\\\\u0026nbsp;informaci\\\\u00f3 aqu\\\\u00ed\\\\u003C\\\\/a\\\\u003E\\\\u003C\\\\/u\\\\u003E\\\\u003C\\\\/p\\\\u003E    \\\\u003C\\\\/div\\\\u003E\\\\n    \\\\u003Cdiv id=\\\\u0022popup-buttons\\\\u0022\\\\u003E\\\\n      \\\\u003Cbutton type=\\\\u0022button\\\\u0022 class=\\\\u0022agree-button\\\\u0022\\\\u003EAccepto l\\\\u0027av\\\\u00eds legal i la pol\\\\u00edtica de privacitat \\\\/ galetes\\\\u003C\\\\/button\\\\u003E\\\\n                  \\\\u003Cbutton type=\\\\u0022button\\\\u0022 class=\\\\u0022find-more-button\\\\u0022\\\\u003ENo, d\\\\u00f3na\\\\u0027m m\\\\u00e9s informaci\\\\u00f3\\\\u003C\\\\/button\\\\u003E\\\\n                \\\\u003C!--class=\\\\u0022find-more-button\\\\u0022 --\\\\u003E\\\\n          \\\\u003C\\\\/div\\\\u003E\\\\n  \\\\u003C\\\\/div\\\\u003E\\\\n\\\\u003C\\\\/div\\\\u003E\",\"use_mobile_message\":false,\"mobile_popup_html_info\":\"\\\\u003Cdiv\\\\u003E\\\\n  \\\\u003Cdiv class =\\\\u0022popup-content info\\\\u0022\\\\u003E\\\\n    \\\\u003Cdiv id=\\\\u0022popup-text\\\\u0022\\\\u003E\\\\n          \\\\u003C\\\\/div\\\\u003E\\\\n    \\\\u003Cdiv id=\\\\u0022popup-buttons\\\\u0022\\\\u003E\\\\n      \\\\u003Cbutton type=\\\\u0022button\\\\u0022 class=\\\\u0022agree-button\\\\u0022\\\\u003EAccepto l\\\\u0027av\\\\u00eds legal i la pol\\\\u00edtica de privacitat \\\\/ galetes\\\\u003C\\\\/button\\\\u003E\\\\n                  \\\\u003Cbutton type=\\\\u0022button\\\\u0022 class=\\\\u0022find-more-button\\\\u0022\\\\u003ENo, d\\\\u00f3na\\\\u0027m m\\\\u00e9s informaci\\\\u00f3\\\\u003C\\\\/button\\\\u003E\\\\n                \\\\u003C!--class=\\\\u0022find-more-button\\\\u0022 --\\\\u003E\\\\n          \\\\u003C\\\\/div\\\\u003E\\\\n  \\\\u003C\\\\/div\\\\u003E\\\\n\\\\u003C\\\\/div\\\\u003E\\\\n\",\"mobile_breakpoint\":\"768\",\"popup_html_agreed\":\"\\\\u003Cdiv\\\\u003E\\\\n  \\\\u003Cdiv class =\\\\u0022popup-content agreed\\\\u0022\\\\u003E\\\\n    \\\\u003Cdiv id=\\\\u0022popup-text\\\\u0022\\\\u003E\\\\n      \\\\u003Cp\\\\u003EGr\\\\u00e0cies per acceptar cookiesAra podeu amagar aquest missatge o obtenir m\\\\u00e9s informaci\\\\u00f3 sobre les galetes.\\\\u003C\\\\/p\\\\u003E\\\\n    \\\\u003C\\\\/div\\\\u003E\\\\n    \\\\u003Cdiv id=\\\\u0022popup-buttons\\\\u0022\\\\u003E\\\\n      \\\\u003Cbutton type=\\\\u0022button\\\\u0022 class=\\\\u0022hide-popup-button\\\\u0022\\\\u003EOculta\\\\u003C\\\\/button\\\\u003E\\\\n              \\\\u003Cbutton type=\\\\u0022button\\\\u0022 class=\\\\u0022find-more-button\\\\u0022 \\\\u003EM\\\\u00e9s informaci\\\\u00f3\\\\u003C\\\\/button\\\\u003E\\\\n          \\\\u003C\\\\/div\\\\u003E\\\\n  \\\\u003C\\\\/div\\\\u003E\\\\n\\\\u003C\\\\/div\\\\u003E\",\"popup_use_bare_css\":false,\"popup_height\":\"auto\",\"popup_width\":\"100%\",\"popup_delay\":1000,\"popup_link\":\"\\\\/ca\\\\/pol%C3%ADtica-de-cookies\",\"popup_link_new_window\":1,\"popup_position\":null,\"popup_language\":\"ca\",\"better_support_for_screen_readers\":0,\"reload_page\":0,\"domain\":\"\",\"popup_eu_only_js\":0,\"cookie_lifetime\":\"100\",\"disagree_do_not_show_popup\":0},\"drupalexp\":{\"key\":\"preset1\",\"base_color\":\"#5F8CB4\",\"text_color\":\"#666666\",\"link_color\":\"#5F8CB4\",\"link_hover_color\":\"#5F8CB4\",\"heading_color\":\"#2D3237\"}});\\n//--><!]]>\\n</script>\\n    </head>\\n    <body class=\"html front not-logged-in no-sidebars page-node page-node- page-node-1 node-type-page i18n-ca ltr wide  preset-preset1\" >\\n        <div id=\"skip-link\">\\n            <a href=\"#main-content\" class=\"element-invisible element-focusable\">V\\xc3\\xa9s al contingut</a>\\n        </div>\\n                <div class=\"dexp-body-inner layout-home\"><section  class=\"dexp-section section-header header-collapse\" id=\"section-header\">\\n    <div class=\"container\">\\n        <div class=\"row\">\\n            <div class=\"hidden-lg hidden-md col-xs-3 col-sm-3\"><span class=\"fa fa-bars menu-toggle\"></span></div>\\n                <!-- .region-logo-->\\n<div class=\"col-xs-6 col-sm-6 col-md-2 col-lg-2\"><a href=\"/ca\" class=\"site-logo active\"><img src=\"https://www.etics.es/sites/all/themes/etics/logo.png\" alt=\"\"/></a></div><!-- END .region-logo-->\\n<!-- .region-navigation-->\\n    <div class=\"region region-navigation col-xs-12 col-sm-12 col-md-9 col-lg-9\">\\n      <div id=\"block-system-main-menu\" class=\"block block-system block-menu\">\\n        \\n             \\n                  <h3 class=\"block-title block-title\">Men\\xc3\\xba principal</h3>\\n             \\n      \\n                    <div class=\"content\">\\n<ul class=\"menu\"><li class=\"first leaf\"><a href=\"/ca/contacta\" title=\"\">Contacta</a></li>\\n<li class=\"leaf\"><a href=\"/ca/vine-a-etic\" title=\"\">Vine a E-TIC</a></li>\\n<li class=\"leaf\"><a href=\"/ca/actualitat\" title=\"\">Actualitat</a></li>\\n<li class=\"leaf\"><a href=\"/ca/oferta\" title=\"\">Oferta</a></li>\\n<li class=\"leaf\"><a href=\"/ca/experiencia\" title=\"\">Experi\\xc3\\xa8ncia</a></li>\\n<li class=\"last leaf\"><a href=\"/ca/qui-som\" title=\"\">Qui som</a></li>\\n</ul>\\n    </div>\\n</div>  </div>\\n<!-- END .region-navigation-->\\n<!-- .region-language-->\\n  <div class=\"region region-language col-xs-12 col-sm-12 col-md-1 col-lg-1\">\\n    <div id=\"block-etics-blocks-etics-language-selector\" class=\"block block-etics-blocks\">\\n                    <div class=\"content\">\\n<div id=\"language-selector\">\\n    <ul>\\n             \\n          <li class=\"active\">\\n              <a href=\"https://www.etics.es/ca/inici\">cat</a>\\n          </li>\\n             \\n          <li class=\"\">\\n              <a href=\"https://www.etics.es/es/inicio\">esp</a>\\n          </li>\\n            </ul>\\n</div>\\n\\n    </div>\\n</div>  </div>\\n<!-- END .region-language-->\\n        </div>\\n    </div>\\n</section><!--#section-banner-->\\n<section  class=\"dexp-section\" id=\"section-banner\">\\n    <div class=\"dexp-container\">\\n        <div class=\"row\">\\n            <!-- .region-banner-->\\n  <div class=\"region region-banner col-xs-12 col-sm-12 col-md-12 col-lg-12\">\\n    <div id=\"block-dexp-layerslider-dexp-layerslider-block-2\" class=\"block block-dexp-layerslider\">\\n                    <div class=\"content\">\\n<div id=\"dexp-layerslider\" class=\"layerslider-bannercontainer tp-simpleresponsive\" style=\"max-height: 702px;\">\\n    <div class=\"layerslider-banner\" style=\"opacity:0; max-height:702px; height:702px;\">\\n        <ul>\\n            <li data-transition=\"fade\" data-masterspeed=\"500\">\\n    <img src=\"/sites/default/files/banner-00.jpg\" alt=\"\"/><div id=\"dexp-layerslider-layer\" class=\"tp-caption lft stl text etics-title\" data-x=\"96\" data-y=\"240\" data-speed=\"500\" data-start=\"1000\" data-easing=\"easeOutExpo\">\\n          Fem de la inform\\xc3\\xa0tica<br /> el teu millor aliat    </div>\\n<div id=\"dexp-layerslider-layer--2\" class=\"tp-caption lfr text etics-paragraph\" data-x=\"96\" data-y=\"380\" data-speed=\"500\" data-start=\"1000\" data-easing=\"easeOutExpo\">\\n          Som una consultora especialitzada en noves tecnologies i que aposta per oferir<br /> solucions flexibles i innovadores.    </div>\\n<div id=\"dexp-layerslider-layer--3\" class=\"tp-caption lfl text layer-button\" data-x=\"96\" data-y=\"470\" data-speed=\"500\" data-start=\"1000\" data-easing=\"easeOutExpo\">\\n          <a href=\"/ca/oferta\" class=\"etics-button white\">Qu\\xc3\\xa8 oferim?</a>    </div>\\n</li>\\n<li data-transition=\"fade\" data-masterspeed=\"500\">\\n    <img src=\"/sites/default/files/banner-01.jpg\" alt=\"\"/><div id=\"dexp-layerslider-layer--4\" class=\"tp-caption lfr stl text etics-title\" data-x=\"96\" data-y=\"240\" data-speed=\"500\" data-start=\"1000\" data-easing=\"easeOutExpo\">\\n          Volem compartir amb tu<br /> la nostra experi\\xc3\\xa8ncia    </div>\\n<div id=\"dexp-layerslider-layer--5\" class=\"tp-caption lfr text etics-paragraph\" data-x=\"96\" data-y=\"380\" data-speed=\"500\" data-start=\"1000\" data-easing=\"easeOutExpo\">\\n          La tecnologia \\xc3\\xa9s la nostra millor eina per fer realitat els teus projectes.    </div>\\n<div id=\"dexp-layerslider-layer--6\" class=\"tp-caption lfl text layer-button\" data-x=\"96\" data-y=\"470\" data-speed=\"500\" data-start=\"1000\" data-easing=\"easeOutExpo\">\\n          <a href=\"/ca/experiencia\" class=\"etics-button white\">Veure refer\\xc3\\xa8ncies</a>    </div>\\n</li>\\n<li data-transition=\"fade\" data-masterspeed=\"500\">\\n    <img src=\"/sites/default/files/banner-02.jpg\" alt=\"\"/><div id=\"dexp-layerslider-layer--7\" class=\"tp-caption lft stl text etics-title\" data-x=\"96\" data-y=\"240\" data-speed=\"500\" data-start=\"1000\" data-easing=\"easeOutExpo\">\\n          Forma part<br /> del nostre equip    </div>\\n<div id=\"dexp-layerslider-layer--8\" class=\"tp-caption lfr text etics-paragraph\" data-x=\"96\" data-y=\"380\" data-speed=\"500\" data-start=\"1000\" data-easing=\"easeOutExpo\">\\n          Necessitem els millors professionals per treballar en els millors projectes.    </div>\\n<div id=\"dexp-layerslider-layer--9\" class=\"tp-caption lfl text layer-button\" data-x=\"96\" data-y=\"470\" data-speed=\"500\" data-start=\"1000\" data-easing=\"easeOutExpo\">\\n          <a href=\"/ca/vine-a-etic\" class=\"etics-button white\">Uneix-te a nosaltres!</a>    </div>\\n</li>\\n        </ul>\\n            </div>\\n</div>\\n<script type=\"text/javascript\">\\n<!--//--><![CDATA[//><!--\\njQuery(document).ready(function($){if($.fn.cssOriginal!=undefined)$.fn.css = $.fn.cssOriginal;$(\\'#dexp-layerslider .layerslider-banner\\').css({opacity:1}).revolution({\"delay\":\"9000\",\"startheight\":\"702\",\"startwidth\":\"960\",\"hideThumbs\":0,\"thumbWidth\":150,\"thumbHeight\":100,\"thumbAmount\":3,\"navigationType\":\"none\",\"navigationArrows\":\"solo\",\"navigationStyle\":\"navbar-old\",\"navigationHAlign\":\"center\",\"navigationVAlign\":\"center\",\"navigationHOffset\":0,\"navigationVOffset\":20,\"soloArrowLeftHalign\":\"left\",\"soloArrowLeftValign\":\"center\",\"soloArrowLeftHOffset\":20,\"soloArrowLeftVOffset\":0,\"soloArrowRightHalign\":\"right\",\"soloArrowRightValign\":\"center\",\"soloArrowRightHOffset\":20,\"soloArrowRightVOffset\":0,\"touchenabled\":\"on\",\"onHoverStop\":\"on\",\"stopAtSlide\":-1,\"stopAfterLoops\":-1,\"hideCaptionAtLimit\":0,\"hideAllCaptionAtLilmit\":0,\"hideSliderAtLimit\":0,\"shadow\":\"\",\"fullWidth\":\"on\",\"fullScreen\":\"on\",\"fullScreenOffsetContainer\":\"\",\"lazyLoad\":\"on\",\"timer\":\"\",\"shuffle\":\"off\",\"dottedOverlay\":\"none\"});})//--><!]]>\\n</script>\\n\\n    </div>\\n</div>  </div>\\n<!-- END .region-banner-->\\n        </div>\\n    </div>\\n</section>\\n<!--END #section-banner-->\\n<!--#section-navigation-->\\n<section  class=\"dexp-section section-navigation-main hidden-xs hidden-sm\" id=\"section-navigation\">\\n    <div class=\"container\">\\n        <div class=\"row\">\\n            <!-- .region-extra-navigation1-->\\n  <div class=\"region region-extra-navigation1 col-xs-12 col-sm-12 col-md-2 col-lg-2\">\\n    <div id=\"block-block-104\" class=\"block block-block\" style=\"text-align:right\">\\n                    <div class=\"content\">\\n<p><a class=\"logo-link\" href=\"/ca\"><svg class=\"logo-svg\" height=\"32px\" viewbox=\"0 0 431.79999 170.7\" width=\"132px\" x=\"0px\" y=\"0px\"> <g> <!-- e --> <path class=\"logo-path\" d=\"m 0.3,111.09998 c 0.2,-1.7 0.4,-3.4 0.5,-5.1 0.8,-8.8 3.2,-17 7.6,-24.7 2.8,-5 5.9,-9.8 10.1,-13.8 6.6,-6.3 14.4,-10.3 23.3,-12.4 5.9,-1.4 12,-2.1 18,-1.8 7.5,0.4 14.9,1.6 21.6,5.5 8.4,4.9 14.3,12.1 17.9,21.2 2.2,5.6 3.3,11.4 3.9,17.3 0.3,2.7 -0.2,5.2 -2.9,6.5 -1.3,0.6 -2.9,1 -4.4,1 -18.6,0.1 -37.2,0 -55.8,0 -0.5,0 -1,0 -1.6,0 -0.1,0.4 -0.1,0.7 -0.1,1 -0.1,6.3 0.3,12.6 2.3,18.7 3.4,10.4 10.2,17.3 21,19.7 8.6,1.9 16.9,0.6 24.4,-4.3 3.1,-2 5.6,-4.6 7.5,-7.7 1.2,-2 3.4,-2.7 5.5,-1.6 1.5,0.8 3,1.6 4.5,2.4 2,1.1 2.9,3.1 2.3,5.4 -0.9,3.7 -2.9,6.9 -5.1,9.9 -6,8 -13.8,14 -22.9,18 -4.1,1.8 -8.3,3 -12.7,3.6 -1.8,0.2 -3.6,0.5 -5.4,0.8 -2.4,0 -4.8,0 -7.2,0 -0.3,-0.1 -0.7,-0.2 -1,-0.2 -4.2,-0.6 -8.5,-1 -12.7,-1.8 -4.9,-0.9 -9.6,-2.6 -13.8,-5.3 -3.6,-2.2 -6.5,-5.2 -9.2,-8.3 -4.6,-5.2 -8.5,-10.8 -11.1,-17.3 -3,-7.4 -3.9,-15.2 -4.1,-23.1 0,-0.9 -0.2,-1.8 -0.2,-2.7 -0.2,-0.5 -0.2,-0.7 -0.2,-0.9 z m 38.7,-21.2 c 0.4,0 0.8,0.1 1.1,0.1 6.9,0 13.8,0 20.7,0 0.9,0 1.9,-0.3 2.8,-0.4 1.1,-0.2 1.5,-0.8 1.5,-1.9 0,-4.9 -0.9,-9.6 -3.1,-14 -1.2,-2.4 -2.8,-4.5 -5.7,-4.8 -4.8,-0.6 -8.8,1 -11.8,4.9 -3.4,4.6 -4.7,10.2 -5.5,16.1 z\"></path> <!-- \\xc2\\xb7 --> <path class=\"logo-path\" d=\"m 138.4,130.99998 c -12.7,0 -22.8,-9.6 -22.2,-22.8 0.5,-11 8.7,-20.8 22.3,-20.7 13,0 22,10 21.7,22.7 -0.4,12.2 -9.9,20.9 -21.8,20.8 z\"></path> <!-- t --> <path class=\"logo-path\" d=\"m 208.4,170.59998 c -2.1,-0.4 -4.3,-0.8 -6.4,-1.3 -4.8,-1.1 -9.2,-3.1 -13,-6.3 -4.5,-3.8 -7.5,-8.5 -8.7,-14.3 -0.2,-1 -0.4,-2.1 -0.4,-3.2 0,-5.1 0,-10.2 0,-15.4 0,-4.6 0.2,-9.1 0.2,-13.7 0.1,-8.8 0.1,-17.6 0.2,-26.4 0,-3.9 0.1,-7.9 0.2,-11.8 0,-1.1 -0.4,-1.4 -1.4,-1.4 -3.3,0.1 -6.6,0.1 -9.8,0 -4.8,-0.1 -7.7,-4.2 -6,-8.6 0.7,-1.8 2,-3.2 3.7,-4.3 3.8,-2.4 7.6,-4.6 11.3,-7.2 3,-2.1 5.8,-4.5 8.5,-6.9 5.5,-5 10.9,-10.1 16.3,-15.1 1.6,-1.5 2.9,-3.1 4.4,-4.7 1.7,-1.9 3.7,-3.2 6.3,-3.4 3.2,-0.2 6,2.1 6.1,6.1 0,3.8 -0.2,7.6 -0.3,11.4 -0.1,3.9 -0.2,7.8 -0.3,11.7 0,1.1 0.6,1 1.3,1 9.1,0 18.2,0 27.2,0 2.5,0 4.3,1.4 4.7,3.5 0.1,0.4 0.1,0.9 0,1.3 -0.8,3.6 -1.7,7.3 -2.6,10.9 -0.7,3 -2.3,4.3 -5.4,4.3 -8.2,0 -16.5,0 -24.7,0 -1.1,0 -1.4,0.3 -1.4,1.4 0,17.7 -0.2,35.4 -0.2,53.1 0,4.3 0.5,8.6 2.4,12.5 1.8,3.9 4.6,7 10.5,6.4 3.5,-0.3 6.9,-0.9 10.1,-2.7 2.2,-1.3 4.3,-0.4 5.4,1.9 0.6,1.3 1.3,2.6 1.9,3.9 1.1,2.6 0.5,4.9 -1.9,6.5 -2.2,1.5 -4.5,2.9 -6.9,4 -2.9,1.4 -5.9,2.7 -9,3.6 -3.4,1 -6.8,1.5 -10.3,2.1 -2.7,0.5 -5.4,0.7 -8.1,1 -1.5,0.1 -2.7,0.1 -3.9,0.1 z\"></path> <!-- i --> <path class=\"logo-path\" d=\"m 311.2,103.19998 c 0,12.4 0,24.9 0,37.3 0,3.1 0.2,6.1 0.3,9.2 0,0.4 0.1,0.9 0.2,1.3 0.3,1.7 0.8,2 2.5,2 2.9,0 5.8,0 8.6,0 2.1,0 3.6,1 4.3,3.1 0.1,0.4 0.2,0.8 0.2,1.2 0,1.8 0,3.5 0,5.3 0.1,3.1 -2.2,5 -5.2,4.9 -4.9,-0.2 -9.8,-0.4 -14.7,-0.4 -10.4,-0.1 -20.8,-0.2 -31.3,-0.2 -4.9,0 -9.8,0.4 -14.7,0.6 -3.6,0.2 -5.5,-1.6 -5.5,-5.2 0,-1.5 0,-3 0,-4.4 0,-2.8 1.6,-4.6 4.4,-4.7 3,-0.1 6.1,-0.1 9.1,-0.1 2.6,0 2.9,-0.2 3,-2.9 0.1,-2.7 0.2,-5.4 0.3,-8.1 0.1,-5.4 0.2,-10.9 0.2,-16.3 0,-5.8 -0.1,-11.7 -0.2,-17.5 -0.1,-5.3 -0.1,-10.6 -0.3,-15.9 -0.1,-1.6 -0.4,-3.3 -0.9,-4.9 -1.1,-3.8 -4.4,-5.2 -7.6,-6.7 -1.4,-0.6 -2.8,-1.3 -4.2,-2 -1.5,-0.8 -2.2,-2.2 -2.2,-3.9 -0.1,-1.3 -0.2,-2.7 0,-4 0.3,-2.1 1.8,-3 3.6,-3.5 10.1,-3.3 20.2,-6.6 30.3,-9.8 3.9,-1.2 7.7,-2.5 11.6,-3.6 1.3,-0.4 2.7,-0.5 4.1,-0.4 2.8,0.1 4.5,2 4.4,4.9 -0.1,2.4 -0.3,4.9 -0.3,7.3 -0.1,9.3 -0.1,18.6 -0.2,27.9 0.1,3.1 0.2,6.3 0.2,9.5 0,0 0,0 0,0 z\"></path> <path class=\"logo-path\" d=\"m 311.9,22.39998 c 0.1,12.5 -9.7,21.6 -22.1,21.4 -12.4,-0.2 -22.1,-9.9 -21.9,-22.2 0.2,-11.4 8.9,-21.5 22.3,-21.5 12.4,0.1 21.8,9.9 21.7,22.3 z\"></path> <!-- c --> <path class=\"logo-path\" d=\"m 377.6,170.59998 c -1.1,-0.2 -2.2,-0.4 -3.3,-0.5 -5.7,-0.5 -11.3,-1.5 -16.6,-3.5 -4,-1.5 -7.9,-3.4 -11.2,-6.1 -2.6,-2.1 -5,-4.6 -7.1,-7.1 -3.2,-3.9 -5.9,-8.1 -8.1,-12.6 -2,-4.2 -3.2,-8.7 -4,-13.3 -0.9,-5.3 -0.8,-10.6 -0.4,-15.9 0.5,-6.2 1.9,-12.3 3.8,-18.3 2,-6.1 4.9,-11.8 8.8,-17 4,-5.3 8.8,-9.7 14.3,-13.4 4.6,-3 9.4,-5.6 14.7,-7 3.4,-0.9 6.9,-1.7 10.4,-2 3.5,-0.4 7.2,-0.4 10.7,-0.2 5.9,0.3 11.8,1.1 17.4,3.1 4.6,1.6 8.7,4.1 12.3,7.4 4.4,4 7.1,8.9 7.7,14.7 0.6,6.3 -2.4,12.2 -8.9,14.5 -7.1,2.4 -13.7,1.2 -19.6,-3.3 -3.5,-2.6 -5.8,-6.3 -7.2,-10.5 -0.9,-3 -2.3,-5.7 -4.7,-7.9 -2.5,-2.3 -8.8,-3.3 -12.2,-0.8 -4.6,3.5 -7.4,8.2 -8.4,13.8 -0.6,3.1 -0.8,6.2 -1,9.3 -0.2,3 -0.1,6 0,9 0.3,6.6 0.7,13.3 2.9,19.6 1.7,4.9 3.7,9.6 6.6,13.8 3.1,4.4 7.2,7.5 12.5,8.9 7.7,2.1 15.3,1.8 22.9,-0.3 3.2,-0.9 6.1,-2.6 8.9,-4.5 1.2,-0.8 2.3,-1.5 3.5,-2.2 1.4,-0.8 2.9,-0.6 3.9,0.6 1.6,1.8 3.2,3.6 4.8,5.4 0.1,0.1 0.3,0.2 0.4,0.2 0,0.8 0,1.6 0,2.4 -0.3,0.5 -0.7,0.9 -1,1.4 -2.2,3.9 -5.4,6.8 -9,9.3 -6.3,4.4 -13.1,7.9 -20.7,9.8 -4.2,1.1 -8.6,1.7 -12.9,2.4 -1.7,0.3 -3.5,0.5 -5.3,0.8 -1.4,0 -3.1,0 -4.9,0 z\"></path> </g> </svg> </a></p>\\n    </div>\\n</div>  </div>\\n<!-- END .region-extra-navigation1-->\\n<!-- .region-extra-navigation2-->\\n  <div class=\"region region-extra-navigation2 col-xs-12 col-sm-12 col-md-9 col-lg-9\">\\n    <div id=\"block-etics-blocks-etics-main-menu\" class=\"block block-etics-blocks\">\\n                    <div class=\"content\">\\n<ul class=\"links\"><li class=\"menu-573 first\"><a href=\"/ca/contacta\" title=\"\">Contacta</a></li>\\n<li class=\"menu-572\"><a href=\"/ca/vine-a-etic\" title=\"\">Vine a E-TIC</a></li>\\n<li class=\"menu-571\"><a href=\"/ca/actualitat\" title=\"\">Actualitat</a></li>\\n<li class=\"menu-570\"><a href=\"/ca/oferta\" title=\"\">Oferta</a></li>\\n<li class=\"menu-569\"><a href=\"/ca/experiencia\" title=\"\">Experi\\xc3\\xa8ncia</a></li>\\n<li class=\"menu-590 last\"><a href=\"/ca/qui-som\" title=\"\">Qui som</a></li>\\n</ul>\\n    </div>\\n</div>  </div>\\n<!-- END .region-extra-navigation2-->\\n<!-- .region-extra-navigation3-->\\n  <div class=\"region region-extra-navigation3 col-xs-12 col-sm-12 col-md-1 col-lg-1\">\\n    <div id=\"block-block-90\" class=\"block block-block\" style=\"text-align:left\">\\n                    <div class=\"content\">\\n<p><a class=\"scroll-top fx-auto-scroll\" data-scroll=\"0\" href=\"#\">&nbsp;</a></p>\\n\\n    </div>\\n</div>  </div>\\n<!-- END .region-extra-navigation3-->\\n        </div>\\n    </div>\\n</section>\\n<!--END #section-navigation-->\\n<!--#section-features-->\\n<section  class=\"dexp-section\" id=\"section-features\">\\n    <div class=\"container\">\\n        <div class=\"row\">\\n            <!-- .region-user10-->\\n  <div class=\"region region-user10 col-xs-12 col-sm-12 col-md-12 col-lg-12\">\\n    <div id=\"block-block-139\" class=\"block block-block\">\\n                    <div class=\"content home-experience-title\">\\n<h1>La nostra <span style=\"color:#3a5b96\">experi\\xc3\\xa8ncia,</span> ens avala.</h1>\\n\\n<p><i class=\"\"></i></p>\\n\\n<h2>Podem aportar experi\\xc3\\xa8ncia t\\xc3\\xa8cnica<br />\\ni funcional en diversos sectors.<br />\\nLes nostres refer\\xc3\\xa8ncies s\\xc3\\xb3n el resultat<br />\\nde grans experi\\xc3\\xa8ncies.</h2>\\n\\n    </div>\\n</div>  </div>\\n<!-- END .region-user10-->\\n<!-- .region-feature-first-->\\n  <div class=\"region region-feature-first col-xs-12 col-sm-6 col-md-3 col-lg-3\">\\n    <div id=\"block-block-140\" class=\"block block-block dexp-animate\" data-animate=\"bounceInLeft\" style=\"text-align:center\">\\n                    <div class=\"content home-experience-block home-experience-publicsector\">\\n<div>\\n<p><a href=\"/clients/sector-public\"><i class=\"\"></i></a>\\n\\n<p><a href=\"/clients/sector-public\"><span class=\"title\">Sector P\\xc3\\xbablic</span></a></p>\\n\\n<p><a href=\"/clients/sector-public\">L\\'administraci\\xc3\\xb3 p\\xc3\\xbablica<br />\\nrequereix de grans sistemes<br />\\nd\\'informaci\\xc3\\xb3, amb capacitat<br />\\nd\\'adaptaci\\xc3\\xb3.</a></p>\\n</div>\\n\\n    </div>\\n</div>  </div>\\n<!-- END .region-feature-first-->\\n<!-- .region-feature-second-->\\n  <div class=\"region region-feature-second col-xs-12 col-sm-6 col-md-3 col-lg-3\">\\n    <div id=\"block-block-141\" class=\"block block-block dexp-animate\" data-animate=\"bounceInLeft\" style=\"text-align:center\">\\n                    <div class=\"content home-experience-block home-experience-telecom\">\\n<div>\\n<p><a href=\"https://www.etics.es/ca/clients/telco-i-media\"><i class=\"\"></i></a>\\n\\n<p><a href=\"https://www.etics.es/ca/clients/telco-i-media\"><span class=\"title\">Telco i M\\xc3\\xa8dia</span></a></p>\\n\\n<p><a href=\"https://www.etics.es/ca/clients/telco-i-media\">Sector en evoluci\\xc3\\xb3 cont\\xc3\\xadnua<br />\\non la informaci\\xc3\\xb3<br />\\n\\xc3\\xa9s la clau, i els sistemes<br />\\nhan d\\'estar a l\\'\\xc3\\xbaltima.</a></p>\\n</div>\\n\\n    </div>\\n</div>  </div>\\n<!-- END .region-feature-second-->\\n<!-- .region-feature-third-->\\n  <div class=\"region region-feature-third col-xs-12 col-sm-6 col-md-3 col-lg-3\">\\n    <div id=\"block-block-142\" class=\"block block-block dexp-animate\" data-animate=\"bounceInRight\" style=\"text-align:center\">\\n                    <div class=\"content home-experience-block home-experience-factory\">\\n<div>\\n<p><a href=\"https://www.etics.es/ca/clients/industria-i-servei\"><i class=\"\"></i></a>\\n\\n<p><a href=\"https://www.etics.es/ca/clients/industria-i-servei\"><span class=\"title\">Ind\\xc3\\xbastria i Serveis</span></a></p>\\n\\n<p><a href=\"https://www.etics.es/ca/clients/industria-i-servei\">La inform\\xc3\\xa0tica s\\'ha convertit<br />\\nen l\\'eina principal<br />\\nper ser competitiu.</a></p>\\n</div>\\n\\n    </div>\\n</div>  </div>\\n<!-- END .region-feature-third-->\\n<!-- .region-feature-fourth-->\\n  <div class=\"region region-feature-fourth col-xs-12 col-sm-6 col-md-3 col-lg-3\">\\n    <div id=\"block-block-143\" class=\"block block-block dexp-animate\" data-animate=\"bounceInRight\" style=\"text-align:center\">\\n                    <div class=\"content home-experience-block home-experience-bank\">\\n<div>\\n<p><a href=\"https://www.etics.es/ca/clients/banca-i-assegurances\"><i class=\"\"></i></a>\\n\\n<p><a href=\"https://www.etics.es/ca/clients/banca-i-assegurances\"><span class=\"title\">Banca i Assegurances</span></a></p>\\n\\n<p><a href=\"https://www.etics.es/ca/clients/banca-i-assegurances\">La seguretat i el gran volum<br />\\nd\\'informaci\\xc3\\xb3 requereixen<br />\\nde sistemes molt robusts.</a></p>\\n</div>\\n\\n    </div>\\n</div>  </div>\\n<!-- END .region-feature-fourth-->\\n        </div>\\n    </div>\\n</section>\\n<!--END #section-features-->\\n<!--#section-features-2-->\\n<section  data-padding=\"0\" class=\"dexp-section custompadding bg-light-blue\" id=\"section-features-2\">\\n    <div class=\"container\">\\n        <div class=\"row\">\\n            <!-- .region-user1-->\\n  <div class=\"region region-user1 col-xs-12 col-sm-7 col-md-7 col-lg-7\">\\n    <div id=\"block-block-6\" class=\"block block-block\">\\n                    <div class=\"content home-experts-icons\">\\n<p><i class=\"icon-experts-java\"></i> <i class=\"icon-experts-php\"></i><br class=\"show-mobile\"><i class=\"icon-experts-drupal\"></i> <i class=\"icon-experts-liferay\"></i></p>\\n<p><i class=\"icon-experts-dotnet\"></i> <i class=\"icon-experts-sharepoint\"></i><br class=\"show-mobile\"><i class=\"icon-experts-microsoft\"></i> <i class=\"icon-experts-csharp\"></i></p>\\n<p><i class=\"icon-experts-se\"></i> <i class=\"icon-experts-test\"></i><br class=\"show-mobile\"><i class=\"icon-experts-hp\"></i> <i class=\"icon-experts-ibm\"></i></p>\\n<p><i class=\"icon-experts-html5\"></i> <i class=\"icon-experts-ios\"></i><br class=\"show-mobile\"><i class=\"icon-experts-android\"></i> <i class=\"icon-experts-etc\"></i></p>\\n\\n    </div>\\n</div>  </div>\\n<!-- END .region-user1-->\\n<!-- .region-user2-->\\n  <div class=\"region region-user2 col-xs-12 col-sm-5 col-md-5 col-lg-5\">\\n    <div id=\"block-block-144\" class=\"block block-block\">\\n                    <div class=\"content home-experts-text\">\\n<h2>Experts en<br />\\n<span>Tecnologia.</span></h2>\\n\\n<p>Desenvolupem solucions<br />\\namb la tecnologia m\\xc3\\xa9s<br />\\nadequada per cada<br />\\nprojecte.</p>\\n\\n\\n    </div>\\n</div>  </div>\\n<!-- END .region-user2-->\\n        </div>\\n    </div>\\n</section>\\n<!--END #section-features-2-->\\n<!--#section-feartures-3-->\\n<section  class=\"dexp-section section-features-3\" id=\"section-feartures-3\">\\n    <div class=\"container\">\\n        <div class=\"row\">\\n            <!-- .region-user11-->\\n  <div class=\"region region-user11 col-xs-12 col-sm-12 col-md-12 col-lg-12\">\\n    <div id=\"block-block-145\" class=\"block block-block\" style=\"text-align:center\">\\n                    <div class=\"content home-about-title\">\\n<h1>Som m\\xc3\\xa9s que una <span style=\"color:#3a5b96\">Consultora.</span></h1>\\n\\n    </div>\\n</div>  </div>\\n<!-- END .region-user11-->\\n<!-- .region-user3-->\\n  <div class=\"region region-user3 col-xs-12 col-sm-6 col-md-3 col-lg-3\">\\n    <div id=\"block-block-146\" class=\"block block-block dexp-animate\" data-animate=\"bounceIn\" style=\"text-align:center\">\\n                    <div class=\"content home-about-block home-about-innovation\">\\n<p><i class=\"\"></i></p>\\n\\n<h3>Innovem</h3>\\n\\n<p>Aposta per la innovaci\\xc3\\xb3.<br />\\nEl R+D forma part de la nostra<br />\\nforma d\\'abordar els projectes.</p>\\n\\n    </div>\\n</div>  </div>\\n<!-- END .region-user3-->\\n<!-- .region-user4-->\\n  <div class=\"region region-user4 col-xs-12 col-sm-6 col-md-3 col-lg-3\">\\n    <div id=\"block-block-147\" class=\"block block-block dexp-animate\" data-animate=\"bounceIn\" style=\"text-align:center\">\\n                    <div class=\"content home-about-block home-about-design\">\\n<p><i class=\"\"></i></p>\\n\\n<h3>Dissenyem</h3>\\n\\n<p>En un m\\xc3\\xb3n cada vegada m\\xc3\\xa9s<br />\\nvisual on l\\'experi\\xc3\\xa8ncia<br />\\nd\\'usuari \\xc3\\xa9s el principal objectiu,<br />\\nel disseny \\xc3\\xa9s la clau.</p>\\n\\n    </div>\\n</div>  </div>\\n<!-- END .region-user4-->\\n<!-- .region-user5-->\\n  <div class=\"region region-user5 col-xs-12 col-sm-6 col-md-3 col-lg-3\">\\n    <div id=\"block-block-148\" class=\"block block-block dexp-animate\" data-animate=\"bounceIn\" style=\"text-align:center\">\\n                    <div class=\"content home-about-block home-about-experience\">\\n<p><i class=\"\"></i></p>\\n\\n<h3>Aportem experi\\xc3\\xa8ncia</h3>\\n\\n<p>Compartim la nostra<br />\\nexperi\\xc3\\xa8ncia i coneixement<br />\\nper proposar les millors<br />\\nsolucions t\\xc3\\xa8cniques.</p>\\n\\n    </div>\\n</div>  </div>\\n<!-- END .region-user5-->\\n<!-- .region-user6-->\\n  <div class=\"region region-user6 col-xs-12 col-sm-6 col-md-3 col-lg-3\">\\n    <div id=\"block-block-149\" class=\"block block-block dexp-animate\" data-animate=\"bounceIn\" style=\"text-align:center\">\\n                    <div class=\"content home-about-block home-about-grow\">\\n<p><i class=\"\"></i></p>\\n\\n<h3>Creixem junts</h3>\\n\\n<p>Treballem per objectius.<br />\\nBusquem el creixement<br />\\naportant resultats.</p>\\n\\n    </div>\\n</div>  </div>\\n<!-- END .region-user6-->\\n<!-- .region-extra-bottom2-->\\n  <div class=\"region region-extra-bottom2 col-xs-12 col-sm-12 col-md-12 col-lg-12\">\\n    <div id=\"block-block-150\" class=\"block block-block\" style=\"text-align:center\">\\n                    <div class=\"content home-about-link\">\\n<p><a class=\"btn etics-button\" href=\"/ca/qui-som\">Descobreix-nos</a></p>\\n\\n    </div>\\n</div>  </div>\\n<!-- END .region-extra-bottom2-->\\n        </div>\\n    </div>\\n</section>\\n<!--END #section-feartures-3-->\\n<!--#section-bottom-->\\n<section  class=\"dexp-section section-contact\" id=\"section-bottom\">\\n    <div class=\"container\">\\n        <div class=\"row\">\\n            <!-- .region-bottom-first-->\\n  <div class=\"region region-bottom-first col-xs-12 col-sm-12 col-md-12 col-lg-12\">\\n    <div id=\"block-block-23\" class=\"block block-block\" style=\"text-align:center\">\\n                    <div class=\"content contact-block\">\\n<h1>Tens un projecte en ment?</h1>\\n\\n<p>A E-TIC podem ajudar-te a fer realitat els teus projectes.<br />\\nFem nostres els reptes dels nostres clients.</p>\\n\\n<p><a class=\"etics-button\" href=\"/ca/contacta\"><span>Contacta\\'ns</span></a></p>\\n\\n    </div>\\n</div>  </div>\\n<!-- END .region-bottom-first-->\\n        </div>\\n    </div>\\n</section>\\n<!--END #section-bottom-->\\n<!--#section-footer-->\\n<section  class=\"dexp-section section-footer\" id=\"section-footer\">\\n    <div class=\"container\">\\n        <div class=\"row\">\\n            <!-- .region-footer-first-->\\n  <div class=\"region region-footer-first col-xs-12 col-sm-12 col-md-3 col-lg-3\">\\n    <div id=\"block-block-19\" class=\"block block-block\" style=\"text-align:center\">\\n                    <div class=\"content footer-block footer-block-enterprise\">\\n<p><i class=\"icon\"></i></p>\\n\\n<h3>L\\'empresa</h3>\\n\\n<p>E-TIC Sistemes<br />\\nCarrer Balmes 7, 4\\xc2\\xaa Planta<br />\\n08007 Barcelona, Espa\\xc3\\xb1a</p>\\n\\n    </div>\\n</div><div id=\"block-block-152\" class=\"block block-block\">\\n                    <div class=\"content\">\\n<p class=\"phone\"><a href=\"tel:+34934874906\" rel=\"nofollow\"><i>&nbsp;</i>934 874 906</a></p>\\n\\n<p class=\"mail\"><a href=\"mailto:etic@etics.es\" rel=\"nofollow\"><i>&nbsp;</i>etic@etics.es</a></p>\\n\\n    </div>\\n</div>  </div>\\n<!-- END .region-footer-first-->\\n<!-- .region-footer-second-->\\n  <div class=\"region region-footer-second col-xs-12 col-sm-12 col-md-3 col-lg-3\">\\n    <div id=\"block-block-20\" class=\"block block-block\" style=\"text-align:center\">\\n                    <div class=\"content footer-block footer-block-connected\">\\n<p><i class=\"icon\"></i></p>\\n\\n<h3>Connectats</h3>\\n\\n<p>Segueix-nos a trav\\xc3\\xa9s de les xarxes socials<br />\\n<br class=\"show-tablet show-mobile\" />\\n<a href=\"https://www.linkedin.com/company/e-tic-sistemes\" target=\"_blank\"><i class=\"fa fa-linkedin\"></i></a><a href=\"https://www.youtube.com/channel/UCm8VSSfjjDTrMN9g2qUjKkw\" target=\"_blank\"><i class=\"fa fa-play\"></i></a></p>\\n\\n    </div>\\n</div>  </div>\\n<!-- END .region-footer-second-->\\n<!-- .region-footer-thrid-->\\n  <div class=\"region region-footer-thrid col-xs-12 col-sm-12 col-md-3 col-lg-3\">\\n    <div id=\"block-block-21\" class=\"block block-block\" style=\"text-align:center\">\\n                    <div class=\"content footer-block footer-block-contact\">\\n<p><i class=\"icon\"></i></p>\\n\\n<h3>Contacta\\'ns</h3>\\n\\n<p>Truca\\'ns al&nbsp;<strong>934 874 906</strong><br />\\n<br class=\"show-tablet show-mobile\" />\\nPrefereixes enviar-nos un e-mail?<br />\\n<br class=\"show-tablet show-mobile\" />\\n<a href=\"mailto:etic@etics.es\">etic@etics.es</a></p>\\n\\n    </div>\\n</div>  </div>\\n<!-- END .region-footer-thrid-->\\n<!-- .region-footer-fourth-->\\n  <div class=\"region region-footer-fourth col-xs-12 col-sm-12 col-md-3 col-lg-3\">\\n    <div id=\"block-menu-menu-footer-links\" class=\"block block-menu\">\\n        \\n             \\n                  <h3 class=\"block-title block-title\">Footer links</h3>\\n             \\n      \\n                    <div class=\"content footer-block footer-block-links\">\\n<ul class=\"menu\"><li class=\"first leaf\"><a href=\"https://etics.es/intranet/\" title=\"\">Nom\\xc3\\xa9s E-TIC</a></li>\\n<li class=\"leaf\"><a href=\"/ca/politica-de-qualitat\" title=\"\">Pol\\xc3\\xadtica de Qualitat</a></li>\\n<li class=\"leaf\"><a href=\"/ca/avis-legal\" title=\"\">Av\\xc3\\xads legal</a></li>\\n<li class=\"leaf\"><a href=\"/ca/politica-de-privacitat\" title=\"\">Pol\\xc3\\xadtica de privacitat</a></li>\\n<li class=\"last leaf\"><a href=\"/ca/politica-de-cookies\" title=\"\">Pol\\xc3\\xadtica de cookies</a></li>\\n</ul>\\n    </div>\\n</div>  </div>\\n<!-- END .region-footer-fourth-->\\n        </div>\\n    </div>\\n</section>\\n<!--END #section-footer-->\\n<!--#section-copyright-->\\n<section  class=\"dexp-section section-copyright\" id=\"section-copyright\">\\n    <div class=\"container\">\\n        <div class=\"row\">\\n            <!-- .region-copyright-->\\n  <div class=\"region region-copyright col-xs-12 col-sm-12 col-md-12 col-lg-12\">\\n    <div id=\"block-block-17\" class=\"block block-block\" style=\"text-align:center\">\\n                    <div class=\"content copyright-block\">\\n<p><span>\\xc2\\xa9</span> 2018 &nbsp;E-TIC Sistemes, S.L.U.</p>\\n\\n    </div>\\n</div>  </div>\\n<!-- END .region-copyright-->\\n        </div>\\n    </div>\\n</section>\\n<!--END #section-copyright-->\\n</div><!--page rendered by drupalexp drupal theme framework-->\\n        <script type=\"text/javascript\">\\n<!--//--><![CDATA[//><!--\\nvar eu_cookie_compliance_cookie_name = \"\";\\n//--><!]]>\\n</script>\\n<script type=\"text/javascript\" src=\"https://www.etics.es/sites/default/files/js/js_tqC0xSbhZO_YGs08n9CwrrPj091CkUFnc8Rnjlybb3I.js\"></script>\\n    </body>\\n</html>\\n'"
      ]
     },
     "execution_count": 35,
     "metadata": {},
     "output_type": "execute_result"
    }
   ],
   "source": [
    "page.content"
   ]
  },
  {
   "cell_type": "markdown",
   "metadata": {},
   "source": [
    "## <font color=\"#004D7F\">Combiando requests con BeautifulSoup</font>\n",
    "\n",
    "A continuación se muestra un ejemplo de cómo se podría recoger un HTML con requests y parsearlo con BeautifulSoup."
   ]
  },
  {
   "cell_type": "code",
   "execution_count": 38,
   "metadata": {},
   "outputs": [
    {
     "name": "stdout",
     "output_type": "stream",
     "text": [
      "La nostra experiència, ens avala.\n",
      "Som més que una Consultora.\n",
      "Tens un projecte en ment?\n"
     ]
    }
   ],
   "source": [
    "page = requests.get('https://www.etics.es')\n",
    "soup = BeautifulSoup(page.content, 'lxml')\n",
    "for item in soup.select(\"h1\"):\n",
    "    print(item.get_text())"
   ]
  },
  {
   "cell_type": "markdown",
   "metadata": {},
   "source": [
    "---\n",
    "\n",
    "<a id=\"section6\"></a> \n",
    "# <font color=\"#004D7F\">6. Web scraping de una página de predicción meteorológica</font>\n",
    "\n",
    "### <font color=\"#004D7F\"> <i class=\"fa fa-book\" aria-hidden=\"true\" style=\"color:#113D68\"></i> Demo</font>\n",
    "Vamos a ver como se podría obtener la temperatura máxima y mínima de hoy en la página [eltiempo.es](http://www.eltiempo.es).\n"
   ]
  },
  {
   "cell_type": "code",
   "execution_count": null,
   "metadata": {
    "collapsed": true
   },
   "outputs": [],
   "source": [
    "import requests\n",
    "\n",
    "# 1 descargamos la pagina donde hariamos el web scraping\n",
    "page = requests.get('http://www.eltiempo.es/barcelona.html')\n",
    "# 2 crear el soup y el parser\n",
    "soup = BeautifulSoup(page.content, 'lxml')\n",
    "# 3 Mirar la longitud para segurarnos si hay más divs en la pagina con esa clase\n",
    "# Si el resultado es 1 entonces es que no hay más divs y nos quedamos con este\n",
    "# div = soup.find_all('div', class_='m_table_weather_day_wrapper')\n",
    "# print(len(div))\n",
    "div = soup.find('div', class_='m_table_weather_day_wrapper')\n",
    "#print(div)\n",
    "\n",
    "# 4 Seguimos mirando la estructura de la pagina y ver que hay dentro de los divs hasta encontrar la clase que nos \n",
    "# interesa y hacemos una busqueda for\n",
    "for element in div.find_all('div', class_='m_table_weather_day_max_min'):\n",
    "    span_max = element.find('span', class_='m_table_weather_day_max_temp')\n",
    "    span_min = element.find('span', class_='m_table_weather_day_min_temp')\n",
    "    #print(span_min.get_text())\n",
    "\n",
    "# 5 Ya disponemos del div que contiene las temperaturas y vemos que yo disponen de ningun otro div, sino de span class\n",
    "# Asi que podemos utilizar la clase span dentro del bucle for\n",
    "\n",
    "# Nota extra: Si quisieramos sacar el texto a un objeto json\n",
    "\n",
    "    print({\n",
    "        \"max\": span_max.get_text(),\n",
    "        \"min\": span_min.get_text()\n",
    "    })"
   ]
  },
  {
   "cell_type": "markdown",
   "metadata": {},
   "source": [
    "<div style=\"text-align: right\"> <font size=5> [<i class=\"fa fa-arrow-circle-up\" aria-hidden=\"true\" style=\"color:#004D7F\">](#indice)</i></font></div>\n",
    "\n",
    "---\n",
    "\n",
    "<a id=\"section7\"></a> \n",
    "# <font color=\"#004D7F\">7. Web scraping con un navegador real</font>\n",
    "\n",
    "En algunas ocasiones es posible que no podamos obtener los datos que estamos buscando a través de la librería requests. El principal motivo para que esto ocurra es que el contenido que queremos obtener se renderiza a través de javascript y no podemos obtenerlo solamente cogiendo el código HTML de la página.\n",
    "\n",
    "Para poder hacer web scraping en páginas renderizadas por javascript necesitamos obtener la página completa (HTML, JS, CSS...), renderizarla en un navegador 'real' y obtener el código HTML resultante después de la ejecución del código javascript.\n",
    "\n",
    "**Selenium** es una librería en Python que nos permitirá interactuar con un navegador real que tengamos instalado en nuestra máquina (Chrome, Firefox...) o también usar un navegador 'headless' específico. En esta práctica utilizaremos el navegador **phantomJS**."
   ]
  },
  {
   "cell_type": "code",
   "execution_count": null,
   "metadata": {
    "collapsed": true
   },
   "outputs": [],
   "source": [
    "!pip install selenium"
   ]
  },
  {
   "cell_type": "code",
   "execution_count": null,
   "metadata": {
    "collapsed": true
   },
   "outputs": [],
   "source": [
    "from selenium import webdriver\n",
    "def get_from_phantomJS(url):\n",
    "    driver = webdriver.PhantomJS()\n",
    "    driver.get(url)\n",
    "    text = driver.page_source\n",
    "    driver.quit()\n",
    "    return text\n",
    "\n",
    "print(get_from_phantomJS('http://www.etics.es'))\n"
   ]
  },
  {
   "cell_type": "markdown",
   "metadata": {},
   "source": [
    "### <font color=\"#004D7F\"> <i class=\"fa fa-pencil-square-o\" aria-hidden=\"true\" style=\"color:#113D68\"></i> Ejercicio</font>\n",
    "\n",
    "Obtener los datos de demanda de energía eléctrica de la página [https://demanda.ree.es/movil/peninsula/demanda/tablas/1](https://demanda.ree.es/movil/peninsula/demanda/tablas/1).\n",
    "\n",
    "Para cada fila de la tabla, se debe obtener la fecha/hora y las demandas real, estimada y programada. El resultado final debe ser una lista de diccionarios python. Cada diccionario contendrá las claves `fecha`, `real`, `estimada` y `programada`."
   ]
  },
  {
   "cell_type": "code",
   "execution_count": null,
   "metadata": {
    "collapsed": true
   },
   "outputs": [],
   "source": [
    "# Esta pagina se debe hacer con un navegador headless ya que no dispone de codigo html\n",
    "# Se renderiza completamente mediante javascript por tanto con requests no obtendriamos nada\n",
    "# Ahora nos quedamos con los div que tienen la fecha, real, estimada y programada\n",
    "\n",
    "from selenium import webdriver\n",
    "def get_from_phantomJS(url):\n",
    "    driver = webdriver.PhantomJS()\n",
    "    driver.get(url)\n",
    "    text = driver.page_source\n",
    "    driver.quit()\n",
    "    return text\n",
    "\n",
    "# Add la pagina a una variable\n",
    "pagina = get_from_phantomJS('https://demanda.ree.es/movil/peninsula/demanda/tablas/1')\n",
    "\n",
    "# print(get_from_phantomJS('https://demanda.ree.es/movil/peninsula/demanda/tablas/1'))\n",
    "\n",
    "# Crear objeto soup \n",
    "soup = BeautifulSoup(pagina, 'lxml')\n",
    "# Diccionario\n",
    "data = []\n",
    "\n",
    "# Ahora nos vamos a herramientas para desarrolladores y navegamos hasta encontrar la tabla que contiene los datos\n",
    "# Procedimiento: \n",
    "# 1 imprimimos el body (tbody) y buscamos los try td. usamos un bucle for\n",
    "tbody = soup.find('tbody')\n",
    "for tr in tbody.find_all('tr'):\n",
    "    # print(tr)\n",
    "    # 2 Interesa la informacion que hay dentro de los td\n",
    "    tds = tr.select('td')\n",
    "    # print(tds) \n",
    "    # Vemos que el primer elemento de la lista devuelto es vacio ya que corresponde a la cabecera y contiene 'th'\n",
    "    # Los siguientes 4 td son los buenos\n",
    "    if tds:                   # En python un if de lista vacia evalua a false y no devuelve valor de la primera fila\n",
    "        element = {\n",
    "            'fecha': tds[0].get_text(),\n",
    "            'real': tds[1].get_text(),\n",
    "            'estimada' : tds[2].get_text(),\n",
    "            'programada': tds[3].get_text()\n",
    "        }\n",
    "        data.append(element)\n",
    "print(data)\n",
    "\n",
    "\n"
   ]
  },
  {
   "cell_type": "markdown",
   "metadata": {},
   "source": [
    "<div style=\"text-align: left\"><font size=4> <i class=\"fa fa-check-square-o\" aria-hidden=\"true\" style=\"color:#113D68\"></i>\n",
    " </font></div>"
   ]
  },
  {
   "cell_type": "markdown",
   "metadata": {},
   "source": [
    "---\n",
    "\n",
    "<a id=\"referencias\"></a>\n",
    "# <font color=\"#004D7F\"> Referencias</font>\n",
    "\n",
    "* [requests](http://docs.python-requests.org/en/master/)\n",
    "* [BeautifulSoup](https://www.crummy.com/software/BeautifulSoup/bs4/doc/)\n",
    "* [selenium](http://www.seleniumhq.org/)"
   ]
  },
  {
   "cell_type": "markdown",
   "metadata": {},
   "source": [
    "<div style=\"text-align: right\"> <font size=5> [<i class=\"fa fa-arrow-circle-up\" aria-hidden=\"true\" style=\"color:#004D7F\">](#indice)</i></font></div>\n",
    "\n",
    "---\n",
    "\n",
    "<div style=\"text-align: right\"> <font size=6><i class=\"fa fa-coffee\" aria-hidden=\"true\" style=\"color:#004D7F\"></i> </font></div>"
   ]
  }
 ],
 "metadata": {
  "celltoolbar": "Raw Cell Format",
  "kernelspec": {
   "display_name": "Python 3",
   "language": "python",
   "name": "python3"
  },
  "language_info": {
   "codemirror_mode": {
    "name": "ipython",
    "version": 3
   },
   "file_extension": ".py",
   "mimetype": "text/x-python",
   "name": "python",
   "nbconvert_exporter": "python",
   "pygments_lexer": "ipython3",
   "version": "3.7.3"
  }
 },
 "nbformat": 4,
 "nbformat_minor": 2
}
