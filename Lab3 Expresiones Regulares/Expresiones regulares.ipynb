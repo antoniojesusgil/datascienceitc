{
 "cells": [
  {
   "cell_type": "markdown",
   "metadata": {},
   "source": [
    "<img src=\"../img/crowdlearning-etic.png\" alt=\"Logo ETIC\" align=\"right\">\n",
    "\n",
    "<br>\n",
    "<h1><font color=\"#004D7F\" size=6>Expresiones regulares</font></h1>\n",
    "\n",
    "<br><br>\n",
    "<div style=\"text-align: right\">\n",
    "<font color=\"#004D7F\" size=3>Antonio Jesús Gil</font><br>\n",
    "<font color=\"#004D7F\" size=3>Introducción a la Ciencia de Datos</font>\n",
    "\n",
    "</div>"
   ]
  },
  {
   "cell_type": "markdown",
   "metadata": {},
   "source": [
    "---\n",
    "\n",
    "<a id=\"indice\"></a>\n",
    "<h2><font color=\"#004D7F\" size=5>Índice</font></h2>\n",
    "\n",
    "\n",
    "* [1. Introducción](#section1)\n",
    "* [2. *Matching* con expresiones regulares en Python](#section2)\n",
    "* [3. Patrones básicos](#section3)\n",
    "* [4. Repeticiones](#section4)\n",
    "* [5. Grupos](#section5)\n",
    "* [6. Otras operaciones con expresiones regulares](#section6)\n",
    "* [7. Parseo de logs con expresiones regulares](#section7)\n",
    "* [Referencias](#referencias)"
   ]
  },
  {
   "cell_type": "markdown",
   "metadata": {},
   "source": [
    "---\n",
    "\n",
    "<a id=\"section1\"></a>\n",
    "# <font color=\"#004D7F\"> 1. Introducción</font>\n",
    "\n",
    "Una expresión regular, también conocida como regex, es una secuencia de caracteres que forma un patrón de búsqueda, principalmente utilizada para la **búsqueda de patrones de cadenas de caracteres u operaciones de sustituciones**.\n",
    "\n",
    "Las expresiones regulares son básicamente un pequeño lenguaje de programación, altamente especializado, incluído dentro de Python (y muchos otros lenguajes de programación) a través del **modulo re**. Mediante este lenguaje especificamos conjuntos de cadenas de caracteres, como podrían ser palabras en español, direcciones de email, comandos de python, etc."
   ]
  },
  {
   "cell_type": "code",
   "execution_count": null,
   "metadata": {},
   "outputs": [],
   "source": [
    "import re"
   ]
  },
  {
   "cell_type": "markdown",
   "metadata": {},
   "source": [
    "Las expressiones regulares se compilan en pequeños 'bytecodes' y se ejecutan con un eficiente algoritmo de '*matching*' escrito en C.\n",
    "\n",
    "<div class=\"alert alert-block alert-info\">\n",
    "<i class=\"fa fa-info-circle\" aria-hidden=\"true\"></i>\n",
    "__IMPORTANTE!__ No todas las tareas de procesamiento de cadenas de caracteres pueden realizarse con expresiones regulares o, si pueden hacerse, las expresiones resultantes pueden ser demasiado complicadas.\n",
    "</div>"
   ]
  },
  {
   "cell_type": "markdown",
   "metadata": {},
   "source": [
    "---\n",
    "\n",
    "<a id=\"section2\"></a>\n",
    "# <font color=\"#004D7F\"> 2. *Matching* con expresiones regulares en Python</font>\n",
    "\n",
    "En Python, una expression regular suele utilizarse de una de las dos siguientes formas:\n",
    "```python\n",
    "match = re.match(patron, cadena)\n",
    "```\n",
    "\n",
    "```python\n",
    "match = re.search(patron, cadena)\n",
    "```\n",
    "\n",
    "Los métodos `re.search()` y `re.match()` toman como argumento un patrón y una cadena de caracteres y buscan un *match* del patrón dentro de la cadena de caracteres. Si la búsqueda encuentra un match devolverá un objeto match, en caso contrario devolverá *None*.\n",
    "\n",
    "<div class=\"alert alert-block alert-info\">\n",
    "<i class=\"fa fa-info-circle\" aria-hidden=\"true\"></i>\n",
    "__IMPORTANTE!__ El método `re.match()` busca un match al principio de la cadena de caracteres, mientras que el método `re.search()` busca un match en cualquier posición de la cadena de caracteres.\n",
    "</div>"
   ]
  },
  {
   "cell_type": "code",
   "execution_count": null,
   "metadata": {
    "scrolled": false
   },
   "outputs": [],
   "source": [
    "cadena = 'Un ejemplo de cadena de caracteres!!'\n",
    "match = re.match('caracter', cadena)\n",
    "if match:                      \n",
    "    print(match)\n",
    "else:\n",
    "    print('match no encontrado')"
   ]
  },
  {
   "cell_type": "code",
   "execution_count": null,
   "metadata": {
    "scrolled": false
   },
   "outputs": [],
   "source": [
    "cadena = 'Un ejemplo de cadena de caracteres!!'\n",
    "match = re.search('caracter', cadena)\n",
    "if match:                      \n",
    "    print(match)\n",
    "else:\n",
    "    print('match no encontrado')"
   ]
  },
  {
   "cell_type": "markdown",
   "metadata": {},
   "source": [
    "## <font color=\"#004D7F\">Otros métodos de *matching*</font>\n",
    "\n",
    "Otros métodos de matching del módulo re son los siguientes\n",
    "* `re.findall()`: Devuelve todos las substrings donde la expresión regular ha hecho *match* y las devuelve como una lista.\n",
    "* `re.finditer()`: Devuelve todos las substrings donde la expresión regular ha hecho *match* y las devuelve como un iterador (de objetos match)."
   ]
  },
  {
   "cell_type": "code",
   "execution_count": null,
   "metadata": {},
   "outputs": [],
   "source": [
    "cadena = 'Un ejemplo de cadena de caracteres!!'\n",
    "res = re.findall('de', cadena)\n",
    "print(res)"
   ]
  },
  {
   "cell_type": "code",
   "execution_count": null,
   "metadata": {},
   "outputs": [],
   "source": [
    "cadena = 'Un ejemplo de cadena de caracteres!!'\n",
    "for match in re.finditer('de', cadena):\n",
    "    print(match)"
   ]
  },
  {
   "cell_type": "markdown",
   "metadata": {},
   "source": [
    "---\n",
    "\n",
    "<a id=\"section3\"></a> \n",
    "# <font color=\"#004D7F\">3. Patrones básicos</font>\n",
    "\n",
    "La mayoría de los caracteres simplemente emparejan con ellos mismos. Por ejemplo, la expresión regular 'test' haría match con la cadena 'test'.\n",
    "\n",
    "Hay excepciones a esta regla; algunos caracteres, llamados metacaracteres, son especiales y no hacen match con ellos mismos. En su lugar, los metacaracteres afectan a porciones de las expresiones regulares repitiéndolas o cambiando su significado.\n",
    "\n",
    "La lista de metacaracteres es la siguiente: `. ^ $ * + ? { } [ ] \\ | ( )`\n",
    "\n",
    "## <font color=\"#004D7F\">Anclas</font>\n",
    "Indican que lo que queremos encontrar se encuentra al principio o al final de la cadena. Combinándolas, podemos buscar algo que represente a la cadena entera:\n",
    "* ^cadena: coincide con cualquier cadena que comience con 'cadena'.\n",
    "* cadena$: coincide con cualquier cadena que termine con 'cadena'.\n",
    "* ^cadena\\$: coincide con la cadena exacta 'cadena'."
   ]
  },
  {
   "cell_type": "code",
   "execution_count": null,
   "metadata": {},
   "outputs": [],
   "source": [
    "re.search(r'^anclas$', 'test de anclas')"
   ]
  },
  {
   "cell_type": "code",
   "execution_count": null,
   "metadata": {},
   "outputs": [],
   "source": [
    "# con la letra r (raw) delante no necesitamos escapar los campos a buscar. Íntrínseca a python\n",
    "re.search(r'^test', 'test de anclas')"
   ]
  },
  {
   "cell_type": "markdown",
   "metadata": {},
   "source": [
    "## <font color=\"#004D7F\">Clases de caracteres</font>\n",
    "Se utilizan cuando se quiere buscar un caracter dentro de varias posibles opciones. Una clase se delimita entre corchetes y lista posibles opciones para el caracter que representa:\n",
    "* [abc]: coincide con a, b, o c\n",
    "* [387ab]: coincide con 3, 8, a o b\n",
    "* niñ[oa]s: coincide con niños o niñas.\n",
    "\n",
    "Para evitar errores, en caso de que queramos crear una clase de caracteres que contenga un corchete, debemos escribir una barra \\ delante, para que el motor de expresiones regulares lo considere un caracter normal: la clase [ab\\[] coincide con a, b y [."
   ]
  },
  {
   "cell_type": "code",
   "execution_count": null,
   "metadata": {},
   "outputs": [],
   "source": [
    "re.match(r'niñ[oa]s', 'niños')"
   ]
  },
  {
   "cell_type": "markdown",
   "metadata": {},
   "source": [
    "## <font color=\"#004D7F\">Rangos</font>\n",
    "Si queremos encontrar un número, podemos usar una clase como [0123456789], o podemos utilizar un rango. Un rango es una clase de caracteres abreviada que se crea escribiendo el primer caracter del rango, un guión y el último caracter del rango. Múltiples rangos pueden definirse en la misma clase de caracteres.\n",
    "\n",
    "* [a-c]: equivale a [abc]\n",
    "* [0-9]: equivale a [0123456789]\n",
    "* [a-d5-8]: equivale a [abcd5678]\n",
    "\n",
    "&nbsp;\n",
    "<div class=\"alert alert-block alert-warning\">\n",
    "<i class=\"fa fa-info-circle\" aria-hidden=\"true\"></i>\n",
    "__IMPORTANTE!__ Si se quiere utilizar el guión como parte de una clase de caracteres debe colocarse al principio o al final para evitar ser confundido con un rango ([01-], [-1234567890])\n",
    "</div>\n",
    "\n",
    "Al igual que podemos listar los caracteres posibles en cierta posición de la cadena, también podemos listar caracteres que no deben aparecer. Para ello, podemos negar la clase colocando el caracter ^ justo detrás del operador de apertura de la clase ([).\n",
    "\n",
    "* [^abc]: coincide con cualquier caracter distinto a a, b y c"
   ]
  },
  {
   "cell_type": "code",
   "execution_count": null,
   "metadata": {},
   "outputs": [],
   "source": [
    "re.match(r'[^0-9]', 'dados')"
   ]
  },
  {
   "cell_type": "markdown",
   "metadata": {},
   "source": [
    "## <font color=\"#004D7F\">Clases predefinidas</font>\n",
    "Existen algunas clases que se usan frecuentemente y por eso existen formas abreviadas para ellas. En Python, así como en otros lenguajes, se soportan las clases predefinidas de Perl y de POSIX. Algunos ejemplos son:\n",
    "\n",
    "* `\\d`: Cualquier digito decimal; es equivalente a la clase [0-9].\n",
    "* `\\D`: Cualquier digito no decimal; es equivalente a la clase [^0-9].\n",
    "* `\\s`: Cualquier caracter de espacio; es equivalente a la clase [ \\t\\n\\r\\f\\v].\n",
    "* `\\S`: Cualquier caracter no de espacio; es equivalente a la clase [^ \\t\\n\\r\\f\\v].\n",
    "* `\\w`: Cualquier caracter alfanumérico; es equivalente a la clase [a-zA-Z0-9_].\n",
    "* `\\W`: Cualquier caracter no alfanumérico; es equivalente a la clase [^a-zA-Z0-9_].\n",
    "\n",
    "Además existe una clase de caracteres que coincide con cualquier otro caracter. Ya sea letra, número, o un caracter especial. Esta clase es el punto:\n",
    "\n",
    "* `.` : coincide con cualquier caracter."
   ]
  },
  {
   "cell_type": "code",
   "execution_count": null,
   "metadata": {},
   "outputs": [],
   "source": [
    "re.match(r'\\d', 'Agente007')"
   ]
  },
  {
   "cell_type": "markdown",
   "metadata": {},
   "source": [
    "## <font color=\"#004D7F\">Alternativas</font>\n",
    "Usando el caracter \"|\" podemos unir varios patrones, de forma que queremos que el patrón completo pueda hacer match con cualquiera de ellos.\n",
    "\n",
    "Por ejemplo, el patrón (foo|bar)$ haría match con cualquier cadena que acabase en foo o en bar."
   ]
  },
  {
   "cell_type": "code",
   "execution_count": null,
   "metadata": {},
   "outputs": [],
   "source": []
  },
  {
   "cell_type": "markdown",
   "metadata": {},
   "source": [
    "---\n",
    "\n",
    "<a id=\"section4\"></a> \n",
    "# <font color=\"#004D7F\">4. Repeticiones</font>\n",
    "Cualquier elemento de una expresion regular puede ser seguido por otro tipo de metacaracteres, los iteradores. Usando estos metacaracteres se puede especificar el número de ocurrencias del caracter previo, de un metacaracter o de una subexpresión. Ellos son:\n",
    "\n",
    "* `+`: 1 or more occurrences of the pattern to its left, e.g. 'i+' = one or more i's\n",
    "* `*`: 0 or more occurrences of the pattern to its left\n",
    "* `?`: match 0 or 1 occurrences of the pattern to its left\n",
    "* `{n}`: exactamente n veces.\n",
    "* `{n, m}`: por lo menos n pero no más de m veces.\n",
    "\n",
    "&nbsp;\n",
    "<div class=\"alert alert-block alert-info\">\n",
    "<i class=\"fa fa-info-circle\" aria-hidden=\"true\"></i>\n",
    "Si se omite n, el mínimo es cero, y si se omite m, no hay máximo. Esto permite especificar a los otros como casos particulares: ? es {0,1}, + es {1,} y * es {,} o {0,}.\n",
    "</div>"
   ]
  },
  {
   "cell_type": "code",
   "execution_count": null,
   "metadata": {},
   "outputs": [],
   "source": []
  },
  {
   "cell_type": "markdown",
   "metadata": {},
   "source": [
    "---\n",
    "\n",
    "### <font color=\"#004D7F\"> <i class=\"fa fa-pencil-square-o\" aria-hidden=\"true\" style=\"color:#113D68\"></i> Ejercicio</font>\n",
    "\n",
    "Mediante una función, utilizar una expresión regular para obtener todas las direcciones de email del siguiente texto.\n",
    "\n",
    "<div class=\"alert alert-block alert-info\">\n",
    "<i class=\"fa fa-info-circle\" aria-hidden=\"true\"></i>\n",
    "__NOTA!__ Podéis considerar como email una cadena de caracteres que contenga:\n",
    "<ul>\n",
    "    <li> Una o más letras, números, caracteres punto ( . ), guión ( - ) o barra baja ( \\_ )</li>\n",
    "    <li> El carácter arroba ( @ )</li>\n",
    "    <li> Una o más letras, números, caracteres punto ( . ), guión ( - ) o barra baja ( \\_ )</li>\n",
    "    <li> El caracter punto ( . )</li>\n",
    "    <li> Dos o más letras</li>\n",
    "</ul>"
   ]
  },
  {
   "cell_type": "code",
   "execution_count": null,
   "metadata": {},
   "outputs": [],
   "source": [
    "email_uai = '''\n",
    "de:\tPatrick Göttsch <Patrick.Goettsch@tuhh.de> a través de uclm.es \n",
    "para:\tuai@engr.orst.edu\n",
    "fecha:\t22 de enero de 2018, 9:19\n",
    "asunto:\t[UAI] Call for Applications for Participation\n",
    "lista de distribución:\tAssociation for Uncertainty in AI <uai.ENGR.ORST.EDU> Filtrar los mensajes de esta lista de distribución\n",
    "enviado por:\tgmail.com\n",
    "firmado por:\tuclm.es\n",
    "seguridad:\t Cifrado estándar (TLS) Más información\n",
    "\n",
    "Call for Applications for Participation\n",
    "RoboCup 2018 Standard Platform League\n",
    "spl.robocup.org\n",
    "Saturday 16th June through Friday 22nd June 2018 (Montréal, Canada)\n",
    "http://www.robocup2018.com\n",
    "RoboCup is an international initiative that fosters research and education in Robotics and Artificial Intelligence through a variety of competitions (RoboCupSoccer, RoboCupRescue, RoboCup@Home, RoboCupJunior) involving mostly multi-robot systems. RoboCup currently includes a number of different robot soccer leagues that focus on different research challenges.\n",
    "\n",
    "The Standard Platform League (SPL) is characterized using an identical robot platform by all the teams. Participating researchers focus on algorithmic development for fully autonomous robots, i.e., robots that operate with no external control. The SPL at RoboCup 2018 will use V5 (Maybe also V6, but currently no final decision has been made) or older versions of the NAO humanoid robot manufactured by SoftBank Robotics. The SPL robot soccer team competition games at RoboCup 2018 will be played indoor and outdoor between teams of five robots on a 6m x 9m playing surface. Teams should be able to play on a randomly assigned indoor or outdoor field within one hour.\n",
    "\n",
    "The RoboCup 2018 SPL will host both a team competition and a mixed teams competition.\n",
    "\n",
    "The team competition will consist of more games for most teams than in recent years. We expect to qualify 24 teams. The structure from 2017 will be used and extended in the team competition to allow all teams to play more games and against teams with similar skill levels. See Appendix A.3 of the preliminary rulebook for more details.\n",
    "\n",
    "Teams applying for the team competition may also apply for the mixed team competition. Each mixed team will consist of two teams. Mixed teams will play 6v6 games on the normal SPL field. Only 4 or 6 mixed teams will be selected to compete at RoboCup 2018. Teams, who participated in 2017, are encouraged to select another partner then in 2017. See Appendix B of the preliminary rulebook for more details.\n",
    "\n",
    "[...]\n",
    "\n",
    "Submission and Evaluation\n",
    "All applications with the (pre-)qualification material must be submitted by 31st of January 2018, by email to rc-spl-tc@lists.robocup.org.\n",
    "\n",
    "[...]\n",
    "\n",
    "_______________________________________________\n",
    "uai mailing list\n",
    "uai@ENGR.ORST.EDU\n",
    "https://secure.engr.oregonstate.edu/mailman/listinfo/uai\n",
    "'''"
   ]
  },
  {
   "cell_type": "code",
   "execution_count": null,
   "metadata": {
    "scrolled": true
   },
   "outputs": [],
   "source": [
    "def list_emails(text):\n",
    "    # Debe devolver todos los emails encontrados en cadena\n",
    "    # return\n",
    "    pass\n",
    "    \n",
    "list_emails(email_uai)"
   ]
  },
  {
   "cell_type": "markdown",
   "metadata": {},
   "source": [
    "---\n",
    "\n",
    "<a id=\"section5\"></a> \n",
    "# <font color=\"#004D7F\">5. Grupos</font>\n",
    "\n",
    "Los grupos en una expresión regular nos van a permitir coger partes de un match. Por ejemplo, supongamos que queremos utilizar una expresión regular para detectar emails, pero además queremos que nos separe la parte del usuario y la del host. Para ello, podemos añadir paréntesis ( ) alrededor del nombre de usuario y del host: '([\\w\\.-]+)@([\\w\\.-]+)'. \n",
    "\n",
    "Los paréntesis no cambian la forma en la que el patrón hace match, en su lugar lo que establece son grupos dentro del match a los que podemos acceder con la sintaxis `match.group(index)`. Sobre el objeto match, la instrucción match.group(1) nos devolvería el texto correspondiente entre el primer paréntesis, y match.group(2) devolvería el texto correspondiente al segundo paréntesis.\n",
    "\n",
    "Una forma habitual de trabajar con expresiones regulares consiste en escribir un patrón para las cosas que estamos buscando, añadiendo paréntesis para extraer grupos con las partes que queremos."
   ]
  },
  {
   "cell_type": "code",
   "execution_count": null,
   "metadata": {
    "scrolled": true
   },
   "outputs": [],
   "source": [
    "str = 'Antonio Jesús Gil <antoniojesusgil@gmail.com>'\n",
    "match = re.search('([\\w.-]+)@([\\w.-]+)', str)\n",
    "if match:\n",
    "    print(match.group())\n",
    "    print(match.group(1))\n",
    "    print(match.group(2))"
   ]
  },
  {
   "cell_type": "markdown",
   "metadata": {},
   "source": [
    "## <font color=\"#004D7F\">Grupos con nombre</font>\n",
    "\n",
    "De la misma forma en la que podemos usar grupos numerados, también podemos usar grupos con nombre. Esto hace más cómodo el manejo de patrones complejos; ya que siempre es más natural manejar un nombre que un número. \n",
    "\n",
    "Los nombres de grupo se definen agregando ?P&lt;nombre&gt; al paréntesis de apertura del grupo:"
   ]
  },
  {
   "cell_type": "code",
   "execution_count": null,
   "metadata": {
    "scrolled": true
   },
   "outputs": [],
   "source": [
    "match = re.search('(?P<numero>\\d+)(?P<letra>[a-zA-Z])', '455f 333b435efd')\n",
    "print(match.groups())\n",
    "print(match.group(1))\n",
    "print(match.group('letra'))\n",
    "print(match.group('numero'))"
   ]
  },
  {
   "cell_type": "markdown",
   "metadata": {},
   "source": [
    "## <font color=\"#004D7F\">Referenciando grupos</font>\n",
    "\n",
    "En un patrón también podemos referenciar a grupos que han sido capturados previamente por el propio patrón. Por ejemplo \\1 hara match con la misma cadena que fue capturada por el primer grupo definido en el patrón."
   ]
  },
  {
   "cell_type": "code",
   "execution_count": null,
   "metadata": {},
   "outputs": [],
   "source": [
    "pattern = r'^(.+)\\1$'\n",
    "re.match(pattern, 'coco')"
   ]
  },
  {
   "cell_type": "markdown",
   "metadata": {},
   "source": [
    "---\n",
    "\n",
    "<a id=\"section6\"></a> \n",
    "# <font color=\"#004D7F\">6. Otras operaciones con expresiones regulares</font>"
   ]
  },
  {
   "cell_type": "markdown",
   "metadata": {},
   "source": [
    "## <font color=\"#004D7F\">Compilación</font>\n",
    "Como hemos dicho anteriormente, las expresiones regulares son compiladas antes de ejecutarse. El módulo re cachea las últimas expresiones regulares utilizadas posteriormente, de forma que si se vuelven a utilizar no necesitan volver a ser compiladas.\n",
    "\n",
    "También es posible compilar las expresiones regulares de forma forzada utilizando la siguiente sintaxis:\n",
    "\n",
    "```python\n",
    "regex = re.compile(pattern)\n",
    "```\n",
    "\n",
    "Una vez compilada una expresión regular, podemos utilizar el objeto resultante para hacer las mismas operaciones que realizaríamos sobre el módulo. Es decir, los 2 siguientes bloques de código son equivalentes:\n",
    "```python\n",
    "re.search(pattern, cadena)\n",
    "\n",
    "regex = re.compile(pattern, cadena)\n",
    "regex.search(cadena)\n",
    "```\n",
    "\n",
    "La compilación de expresiones regulares permite además definir los siguientes flags de compilación.\n",
    "* `IGNORECASE, I`: Ignora mayúsculas/minúsculas\n",
    "* `MULTILINE, M`: Math multi-línea: Los operadores $ y ^ matchean con el principio y el final de la linea.\n",
    "* `DOTALL, S`: Hace que el operador punto ( . ) haga match con cualquier caracter, incluído el salto de línea."
   ]
  },
  {
   "cell_type": "code",
   "execution_count": null,
   "metadata": {},
   "outputs": [],
   "source": [
    "regex = re.compile ('[a-z]+', re.IGNORECASE)\n",
    "regex.match('AZZ')"
   ]
  },
  {
   "cell_type": "code",
   "execution_count": null,
   "metadata": {},
   "outputs": [],
   "source": [
    "regex = re.compile ('.testcase', re.DOTALL)\n",
    "regex.match('\\ntestcase')\n",
    "# Expresion regular que haga match con 2 flags de compilacion usando caracter simplificado\n",
    "regex2 = re.compile ('.testcase', re.S | re.I)\n",
    "regex2.match('\\nTESTCASE')"
   ]
  },
  {
   "cell_type": "markdown",
   "metadata": {},
   "source": [
    "## <font color=\"#004D7F\">Separar cadenas de caracteres</font>\n",
    "\n",
    "El método `.split(cadena)` nos permite separar un string por una expresión regular definida."
   ]
  },
  {
   "cell_type": "code",
   "execution_count": null,
   "metadata": {},
   "outputs": [],
   "source": [
    "p = re.compile(r'\\W+')\n",
    "p.split('El caballo.blanco de\\t santiago')"
   ]
  },
  {
   "cell_type": "code",
   "execution_count": null,
   "metadata": {},
   "outputs": [],
   "source": [
    "p = re.compile(r'\\W')\n",
    "# Al quitar el + nos lee todos los caracteres incluso los no alfanumericos\n",
    "p.split('El caballo.blanco de\\t santiago')"
   ]
  },
  {
   "cell_type": "code",
   "execution_count": null,
   "metadata": {},
   "outputs": [],
   "source": [
    "p = re.compile(r'a')\n",
    "p.split('El caballo.blanco de\\t santiago')"
   ]
  },
  {
   "cell_type": "markdown",
   "metadata": {},
   "source": [
    "## <font color=\"#004D7F\">Reemplazar en cadenas de caracteres</font>\n",
    "\n",
    "El método `.sub(reemplazo, cadena)` nos permite reemplazar en la cadena 'cadena' todos los match no solapados de la expresión regular por el texto reemplazo.\n"
   ]
  },
  {
   "cell_type": "code",
   "execution_count": null,
   "metadata": {},
   "outputs": [],
   "source": [
    "# Busca el texto y remmplazalo por este otro\n",
    "# Lo interesante es utilizar referencias a grupos de caracteres\n",
    "p = re.compile(r'<(.+?)>')\n",
    "p.sub(r':\\1:', '<p> un parrafo </p>')"
   ]
  },
  {
   "cell_type": "markdown",
   "metadata": {},
   "source": [
    "---\n",
    "\n",
    "<a id=\"section5\"></a> \n",
    "# <font color=\"#004D7F\">7. Parseo de logs con expresiones regulares</font>\n",
    "\n",
    "\n",
    "### <font color=\"#004D7F\"> <i class=\"fa fa-pencil-square-o\" aria-hidden=\"true\" style=\"color:#113D68\"></i> Ejercicio</font>\n",
    "\n",
    "Escribir una expresión regular que sea capaz de extraer para cada línea de un fichero de log de Apache los campos hostname/IP, fecha y hora (ignorando zona horaria), tipo de petición (GET, POST...), recurso y código de estado.\n",
    "\n",
    "Muestra las 5 primeras coincidencias."
   ]
  },
  {
   "cell_type": "code",
   "execution_count": null,
   "metadata": {},
   "outputs": [],
   "source": [
    "file = open(\"data/access_log\", \"r\")\n",
    "content = file.read()\n",
    "\n",
    "# Expreseion regular mediante grupos conforme a lo que se indica abajo\n",
    "\n",
    "patron = \n",
    "\n",
    "regex = re.compile(patron, re.MULTILINE)\n",
    "data = []\n",
    "for match in regex.finditer(content):\n",
    "    data.append({\n",
    "        'host': match.group('host'),\n",
    "        'fecha': match.group('fecha'),\n",
    "        'hora': match.group('hora'),\n",
    "        'verbo': match.group('verbo'),\n",
    "        'recurso': match.group('recurso'),\n",
    "        'codigo': match.group('codigo')\n",
    "    })\n",
    "    \n",
    "print(data[0:4])"
   ]
  },
  {
   "cell_type": "markdown",
   "metadata": {},
   "source": [
    "---\n",
    "\n",
    "<a id=\"referencias\"></a>\n",
    "# <font color=\"#004D7F\"> Referencias</font>\n",
    "\n",
    "* [pythex.org](http://pythex.org)\n",
    "* [HOW-TO oficial python.org](https://docs.python.org/3.6/howto/regex.html)\n",
    "* [Documentación oficial python.org módulo re](https://docs.python.org/3.6/library/re.html#module-re)\n",
    "* [Tutorial interactivo de regexone.com](http://regexone.com)\n"
   ]
  }
 ],
 "metadata": {
  "celltoolbar": "Raw Cell Format",
  "kernelspec": {
   "display_name": "Python 3",
   "language": "python",
   "name": "python3"
  },
  "language_info": {
   "codemirror_mode": {
    "name": "ipython",
    "version": 3
   },
   "file_extension": ".py",
   "mimetype": "text/x-python",
   "name": "python",
   "nbconvert_exporter": "python",
   "pygments_lexer": "ipython3",
   "version": "3.7.3"
  }
 },
 "nbformat": 4,
 "nbformat_minor": 2
}
