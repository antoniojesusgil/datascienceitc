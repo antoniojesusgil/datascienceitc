{
 "cells": [
  {
   "cell_type": "markdown",
   "metadata": {},
   "source": [
    "<img src=\"../img/crowdlearning-etic.png\" alt=\"Logo ETIC\" align=\"right\">\n",
    "<br>\n",
    "<h1><font color=\"#004D7F\" size=6>Pandas II</font></h1>\n",
    "\n",
    "<br><br>\n",
    "<div style=\"text-align: right\">\n",
    "<font color=\"#004D7F\" size=3>Antonio Jesús Gil</font><br>\n",
    "<font color=\"#004D7F\" size=3>Introducción a la Ciencia de Datos</font><br>\n",
    "</div>"
   ]
  },
  {
   "cell_type": "markdown",
   "metadata": {},
   "source": [
    "---\n",
    "\n",
    "<a id=\"indice\"></a>\n",
    "<h2><font color=\"#004D7F\" size=5>Índice</font></h2>\n",
    "\n",
    "* [6. DataFrames](#section6)\n",
    "    * [Estructura](#section61)\n",
    "    * [Construcción de DataFrames](#section62)\n",
    "    * [Lectura desde archivos](#section63)\n",
    "    * [Acceso a elementos](#section64)\n",
    "    * [Manipulación de la estructura](#section65)  \n",
    "    * [Descripción de los datos](#section66)\n",
    "* [7. Selección y ordenación](#section7)\n",
    "    * [Consulta y selección](#section71)  \n",
    "    * [Ordenación](#section72)\n",
    "* [8. Operaciones sobre elementos](#section8)\n",
    "    * [Operaciones básicas](#section81)\n",
    "    * [Transformación de datos: <font face=\"monospace\">applymap() y transform()</font>](#section82)    \n",
    "* [9. Agregación](#section9)   \n",
    "    * [Estadísticos descriptivos](#section91)\n",
    "    * [Agregación de datos: <font face=\"monospace\">apply() y agg()</font>](#section92)"
   ]
  },
  {
   "cell_type": "markdown",
   "metadata": {},
   "source": [
    "---\n",
    "\n",
    "<a id=\"section6\"></a>\n",
    "# <font color=\"#004D7F\"> 6. DataFrames</font>\n",
    "\n",
    "<br>\n",
    "Un `DataFrame` es una estructura _bidimensional_ de datos que se indexa por filas, y cuyas columnas pueden ser accedidas individualmente. Al igual que en una hoja de cálculo o una tabla SQL, cada columna puede almacenar datos de un tipo diferente, y es tratada como un objeto de tipo `Series`. \n"
   ]
  },
  {
   "cell_type": "code",
   "execution_count": null,
   "metadata": {},
   "outputs": [],
   "source": [
    "import pandas as pd\n",
    "\n",
    "# Lee los datos de las personas que viajaban en el Titanic      \n",
    "df_titanic = pd.read_csv('datos/Titanic.csv', sep='\\t', index_col=0) \n",
    "# Muestra los 5 primeros casos \n",
    "df_titanic.head(5)                                           "
   ]
  },
  {
   "cell_type": "markdown",
   "metadata": {},
   "source": [
    "El siguiente código accede a la columna _Name_ del `DataFrame` anterior (los accesos se tratarán con detalle en este tutorial) y muestra su tipo, que es `Series`. Es decir, es posible operar sobre columnas mediante los métodos descritos en la primera parte del tutorial. "
   ]
  },
  {
   "cell_type": "code",
   "execution_count": null,
   "metadata": {},
   "outputs": [],
   "source": [
    "nombres = df_titanic['Name']\n",
    "print('\\n',type(nombres))\n",
    "print(nombres[:5])"
   ]
  },
  {
   "cell_type": "markdown",
   "metadata": {},
   "source": [
    "\n",
    "---\n",
    "\n",
    "<a id=\"section61\"></a> \n",
    "## <font color=\"#004D7F\"> Estructura </font>\n",
    "\n"
   ]
  },
  {
   "cell_type": "markdown",
   "metadata": {},
   "source": [
    "Un `DataFrame` está formado por tres componentes principales:\n",
    "\n",
    "1. Los _datos_, almacenados en el campo `DataFrame.values`, que es un array NumPy.\n",
    "2. El _índice_, almacenado en el campo `DataFrame.index`, y que permite indexar las filas.\n",
    "3. El _índice de columnas_, almacenado en el campo `DataFrame.columns`. "
   ]
  },
  {
   "cell_type": "code",
   "execution_count": null,
   "metadata": {},
   "outputs": [],
   "source": [
    "print('Valores (5 primeras filas)')\n",
    "print(df_titanic.values[:5,:])\n",
    "print(type(df_titanic.values))\n",
    "\n",
    "print('\\nÌndice:')\n",
    "print(df_titanic.index)\n",
    "print(type(df_titanic.index))\n",
    "\n",
    "print('\\nColumnas:')\n",
    "print(df_titanic.columns)\n",
    "print(type(df_titanic.columns))"
   ]
  },
  {
   "cell_type": "markdown",
   "metadata": {},
   "source": [
    "Es posible acceder a muchas de las propiedades de la estructura de un `DataFrame`, como sus dimensiones, los tipos de datos de las columnas, o incluso la ocupación en memoria. "
   ]
  },
  {
   "cell_type": "code",
   "execution_count": null,
   "metadata": {},
   "outputs": [],
   "source": [
    "print('Tamaño del conjunto de datos: {:d} filas, {:d} columnas.'.format(df_titanic.shape[0], df_titanic.shape[1]))\n",
    "\n",
    "print(\"\\nTipo de datos de cada columna: \\n\", df_titanic.dtypes)\n",
    "\n",
    "print(\"\\nToda la información:\\n\")\n",
    "print(df_titanic.info())"
   ]
  },
  {
   "cell_type": "markdown",
   "metadata": {},
   "source": [
    "### <font color=\"#004D7F\"> <i class=\"fa fa-pencil-square-o\" aria-hidden=\"true\" style=\"color:#113D68\"></i> Ejercicio</font>\n",
    "Usando la función `len` imprime el tamaño total del conjunto de datos."
   ]
  },
  {
   "cell_type": "code",
   "execution_count": null,
   "metadata": {},
   "outputs": [],
   "source": []
  },
  {
   "cell_type": "markdown",
   "metadata": {},
   "source": [
    "### <font color=\"#004D7F\"> <i class=\"fa fa-pencil-square-o\" aria-hidden=\"true\" style=\"color:#113D68\"></i> Ejercicio</font>\n",
    "Imprime el total de las filas usando `len`"
   ]
  },
  {
   "cell_type": "code",
   "execution_count": null,
   "metadata": {},
   "outputs": [],
   "source": []
  },
  {
   "cell_type": "markdown",
   "metadata": {},
   "source": [
    "Incluso es posible acceder a información más detallada sobre el uso de memoria (por columnas) mediante `DataFrame.memory_usage()`."
   ]
  },
  {
   "cell_type": "code",
   "execution_count": null,
   "metadata": {},
   "outputs": [],
   "source": [
    "print(df_titanic.memory_usage())"
   ]
  },
  {
   "cell_type": "markdown",
   "metadata": {},
   "source": [
    "Con respecto a los índices, tanto el propio índice como las columnas se representan con tipos de datos específicos que optimizan los accesos, aunque la colección de valores se representa internamente mediante un array Numpy que es accesible a través del campo `values`. También se pueden convertir en listas mediante el método `tolist()`. "
   ]
  },
  {
   "cell_type": "code",
   "execution_count": null,
   "metadata": {},
   "outputs": [],
   "source": [
    "print(\"Columnas\")\n",
    "print(\"Array interno (values): \")\n",
    "print(df_titanic.columns.values)\n",
    "print(type(df_titanic.columns.values))\n",
    "print(\"\\nComo lista:\")\n",
    "\n",
    "print(df_titanic.columns.tolist())\n",
    "print(type(df_titanic.columns.tolist()))"
   ]
  },
  {
   "cell_type": "markdown",
   "metadata": {},
   "source": [
    "\n",
    "---\n",
    "\n",
    "<a id=\"section62\"></a> \n",
    "## <font color=\"#004D7F\"> Construcción de DataFrames </font>\n",
    "\n",
    "<br>\n",
    "Existen varias formas de construir un objeto `DataFrame` a partir de otros objetos como colecciones, diccionarios, series, etc. Éstas son útiles, por ejemplo,  a la hora de construir el `DataFrame` a partir de datos procedentes de fuentes heterogéneas. \n",
    "\n",
    "### <font color=\"#004D7F\"> Construcción a partir de diccionarios </font>\n",
    "\n",
    "Cada uno de los diccionarios representa una fila del `DataFrame`. Las claves representan el nombre de la columna, y los valores el valor correspondiente de la columna para la fila. Si no se proporciona un índice, las filas se indexan con enteros."
   ]
  },
  {
   "cell_type": "code",
   "execution_count": null,
   "metadata": {},
   "outputs": [],
   "source": [
    "compra_1 =  {'Nombre': 'Álvaro', 'Producto': 'Queso', 'Precio': 22.50}\n",
    "compra_2 =  {'Nombre': 'Benito', 'Producto': 'Vino', 'Precio': 14.50}\n",
    "compra_3 =  {'Nombre': 'Fernando','Producto': 'Jamón', 'Precio': 50.00}\n",
    "compra_4 =  {'Nombre': 'Martín', 'Producto': 'Aceite', 'Precio': 20.00}\n",
    "compra_5 =  {'Nombre': 'Hernán'} # Deja a NaN los campos para los que no se proporciona valor.\n",
    "\n",
    "df_compras = pd.DataFrame([compra_1, compra_2, compra_3, compra_4, compra_5], \n",
    "                          index=['Tienda 1', 'Tienda 1', 'Tienda 2', 'Tienda 3', 'Tienda 3'])\n",
    "df_compras"
   ]
  },
  {
   "cell_type": "markdown",
   "metadata": {},
   "source": [
    "También se puede construir el `DataFrame` a partir de __un solo diccionario__ en el que cada clave corresponde al nombre de una columna, y cada valor colección u objeto `Series` con los valores correspondientes a esa columna. En este caso, existe la restricción de que todas las colecciones y el índice (en caso de que se proporcione) han de tener un tamaño similar. "
   ]
  },
  {
   "cell_type": "code",
   "execution_count": null,
   "metadata": {},
   "outputs": [],
   "source": [
    "# Crea un índice.\n",
    "indice = ['Tienda 1', 'Tienda 1', 'Tienda 2', 'Tienda 3','Tienda 3']\n",
    "\n",
    "# Crea un diccionario con una entrada (nombre:Serie) para cada columna.\n",
    "compras = {'Nombre': pd.Series(['Álvaro', 'Benito', 'Fernando', 'Martín','Hernán'], index=indice),\n",
    "           'Producto': ['Queso', 'Vino', 'Jamón', 'Aceite',np.NaN],\n",
    "           'Precio': [22.5, 14.50, 50.00, 20.00, np.NaN]}\n",
    "\n",
    "# Crea el dataframe\n",
    "df_compras = pd.DataFrame(compras)\n",
    "df_compras"
   ]
  },
  {
   "cell_type": "markdown",
   "metadata": {},
   "source": [
    "La función `DataFrame.from_dict()` también construye un `DataFrame` a partir de un diccionario. Mediante el parámetro `orient`, permite especificar si las claves corresponden a las columnas (igual que en el caso anterior) o al índice, es decir, a las filas. "
   ]
  },
  {
   "cell_type": "code",
   "execution_count": null,
   "metadata": {},
   "outputs": [],
   "source": [
    "compras = {'Nombre': ['Álvaro', 'Benito', 'Fernando','Martín','Hernán'],\n",
    "          'Precio': [22.5, 14.5, 50.0, 20.0],\n",
    "          'Producto':['Queso', 'Vino', 'Jamón', 'Aceite']}\n",
    "\n",
    "df_compras = pd.DataFrame.from_dict(compras, orient=\"index\")\n",
    "df_compras"
   ]
  },
  {
   "cell_type": "markdown",
   "metadata": {},
   "source": [
    "---\n",
    "\n",
    "### <font color=\"#004D7F\"> Construcción a partir de una lista o colección</font>\n",
    "\n",
    "Se hace mediante el método `DataFrame.from_records()`. Cada elemento de la lista representa una fila. Si no se proporcionan las columnas e índice, en ambos casos se utilizan enteros."
   ]
  },
  {
   "cell_type": "code",
   "execution_count": null,
   "metadata": {},
   "outputs": [],
   "source": [
    "ventas = [('Álvaro', 22.5, 'Queso'),\n",
    "         ('Benito', 14.5, 'Vino'),\n",
    "         ('Fernando', 50, 'Jamón'),\n",
    "         ('Martín', 20.0, 'Aceite'),\n",
    "         ('Hernán',np.NaN, np.NaN)]\n",
    "\n",
    "columnas = ['Nombre', 'Precio', 'Producto']\n",
    "indice =['Tienda 1', 'Tienda 1', 'Tienda 2', 'Tienda 3','Tienda 3']\n",
    "\n",
    "df_compras = pd.DataFrame.from_records(ventas, columns=columnas, index=indice)\n",
    "df_compras"
   ]
  },
  {
   "cell_type": "markdown",
   "metadata": {},
   "source": [
    "\n",
    "\n",
    "---\n",
    "\n",
    "<a id=\"section63\"></a> \n",
    "## <font color=\"#004D7F\"> Lectura desde archivos </font>\n",
    "\n",
    "Pandas proporciona funciones muy flexibles que permiten leer objetos `DataFrame` desde diversas fuentes de datos, como archivos csv, excel, JSON, HDF5, HTML, fuentes SQL, o incluso el portapapeles del sistema ([documentación](http://pandas.pydata.org/pandas-docs/version/0.20/io.html)). \n",
    "\n",
    "A continuación se describen los métodos que se utilizarán con más frecuencia en este curso."
   ]
  },
  {
   "cell_type": "markdown",
   "metadata": {},
   "source": [
    "### <font color=\"#004D7F\">  Lectura de archivos en formato csv (_comma separated values_) </font>\n",
    "\n",
    "Se lleva a cabo mediante la función `read_csv()`. El parámetro `index_col` permite especificar si alguna de las columnas ha de ser utilizada como índice del `DataFrame`. Esta función acepta otros muchos parámetros, que permiten por ejemplo descartar líneas (`skiprows`), elegir el separador entre columnas (`sep`), especificar el nombre de cada columna (`name`), o incluso su tipo de datos (`dtype`). Además, puede acceder a la fuente de datos a través de una URL ([documentación](http://pandas.pydata.org/pandas-docs/stable/generated/pandas.read_csv.html))."
   ]
  },
  {
   "cell_type": "code",
   "execution_count": null,
   "metadata": {},
   "outputs": [],
   "source": [
    "#df_titanic = pd.read_csv('datos/Titanic.csv', index_col=0, sep=',')\n",
    "#df = pd.read_csv('https://vincentarelbundock.github.io/Rdatasets/csv/datasets/Titanic.csv', index_col=0)\n",
    "df_titanic = pd.read_csv('datos/Titanic.csv', sep='\\t', skiprows=1, index_col=1,\n",
    "                         names=['ID','Superviviente','Clase','Nombre','Sexo','Edad','SibSp', 'Parch', 'Ticket','Precio', 'Cabina', 'Embarcado'])\n",
    "df_titanic.head()"
   ]
  },
  {
   "cell_type": "markdown",
   "metadata": {},
   "source": [
    "---\n",
    "### <font color=\"#004D7F\">  Lectura de archivos en formato excel </font>\n",
    "\n",
    "Se hace mediante la función `read_excel()`. Al igual que la anterior, permite especificar numerosos parámetros como la hoja concreta del archivo (`sheet_name`), tipos de datos, etc ([documentación](https://pandas.pydata.org/pandas-docs/stable/generated/pandas.read_excel.html))."
   ]
  },
  {
   "cell_type": "code",
   "execution_count": null,
   "metadata": {},
   "outputs": [],
   "source": [
    "#df_titanic = pd.read_excel('datos/Titanic.xlsx', sheet_name='Hoja1', skiprows=0, index_col=1,\n",
    "                          names=['ID','Clase','Edad','Sexo','Superviviente','Código (Sexo)'])\n",
    "#df_titanic.index.name='Nombre'\n",
    "#df_titanic.head()"
   ]
  },
  {
   "cell_type": "code",
   "execution_count": null,
   "metadata": {},
   "outputs": [],
   "source": [
    "#!pip install xlrd"
   ]
  },
  {
   "cell_type": "markdown",
   "metadata": {},
   "source": [
    "<div class=\"alert alert-block alert-danger\">\n",
    "<i class=\"fa fa-exclamation-triangle\" aria-hidden=\"true\"></i>\n",
    " Para trabajar con excel es necesario instalar el paquete `xlrd`.\n",
    "</div>"
   ]
  },
  {
   "cell_type": "markdown",
   "metadata": {},
   "source": [
    "### <font color=\"#004D7F\">  Lectura de archivos en formato JSON </font>\n",
    "\n",
    "La función `read_json` permite leer un `DataFrame` a partir de un conjunto de datos, que puede ser accedido a través de una URL. También acepta como parámetro un `String`. El formato del objeto JSON ha de ajustarse al del `DataFrame`, y puede ser indicado a través del parámetro `orient` que, en este caso, además de `columns` e `index`, puede tomar los valores `split`, `records` y `values` ([documentación](https://pandas.pydata.org/pandas-docs/stable/generated/pandas.read_json.html)). "
   ]
  },
  {
   "cell_type": "code",
   "execution_count": null,
   "metadata": {},
   "outputs": [],
   "source": [
    "url = 'https://raw.githubusercontent.com/chrisalbon/simulated_datasets/master/data.json'\n",
    "df = pd.read_json(url, orient='records')\n",
    "df.head(5)"
   ]
  },
  {
   "cell_type": "markdown",
   "metadata": {},
   "source": [
    "\n",
    "\n",
    "---\n",
    "\n",
    "<a id=\"section64\"></a> \n",
    "## <font color=\"#004D7F\"> Acceso a elementos </font>\n",
    "\n",
    "Para ilustrar el acceso a los elementos, se utilizará este  `DataFrame`, descrito anteriormente."
   ]
  },
  {
   "cell_type": "code",
   "execution_count": null,
   "metadata": {},
   "outputs": [],
   "source": [
    "compra_1 =  {'Nombre': 'Álvaro', 'Producto': 'Queso', 'Compra':15.0, 'Venta': 22.50}\n",
    "compra_2 =  {'Nombre': 'Benito', 'Producto': 'Vino', 'Compra':10.0, 'Venta': 14.50}\n",
    "compra_3 =  {'Nombre': 'Fernando','Producto': 'Jamón', 'Compra':35.0, 'Venta': 50.00}\n",
    "compra_4 =  {'Nombre': 'Martín', 'Producto': 'Aceite', 'Compra':12.0, 'Venta': 20.00}\n",
    "compra_5 =  {'Nombre': 'Hernán'} \n",
    "\n",
    "df = pd.DataFrame([compra_1, compra_2, compra_3, compra_4, compra_5], \n",
    "                  index=['Tienda 1', 'Tienda 1', 'Tienda 2', 'Tienda 3', 'Tienda 3'])\n",
    "df"
   ]
  },
  {
   "cell_type": "markdown",
   "metadata": {},
   "source": [
    "\n",
    "###  <font color=\"#004D7F\"> Acceso a las filas de un DataFrame </font>\n",
    "\n",
    "Del mismo modo que en los objetos `Series`, el acceso a las filas del `DataFrame` se hace mediante los métodos `loc[]` e `iloc[]`. Si el índice corresponde a una sola fila, estos devuelven un objeto de tipo `Series`; sin embargo, si el índice corresponde a varias filas, devuelven otro `Dataframe`."
   ]
  },
  {
   "cell_type": "code",
   "execution_count": null,
   "metadata": {},
   "outputs": [],
   "source": [
    "fila = df.loc['Tienda 2']               # Accede a la fila con índice 'Tienda 2'\n",
    "print(fila)\n",
    "print(type(fila),'\\n')                  # Imprime el tipo.\n",
    "\n",
    "filas = df.loc['Tienda 1']              # Accede a las filas con índice 'Tienda 1'\n",
    "print(filas)\n",
    "print(type(filas),'\\n')\n",
    "\n",
    "filas = df.iloc[0]\n",
    "print(filas)\n",
    "print(type(filas))"
   ]
  },
  {
   "cell_type": "markdown",
   "metadata": {},
   "source": [
    "La funcionalidad de ambos métodos también es similar a la descrita en el caso de las `Series`. Es decir, aceptan indexación a partir de colecciones del tipo del índice o booleanos (en el caso de `loc[]`), y de enteros (en el caso de `iloc[]`)."
   ]
  },
  {
   "cell_type": "code",
   "execution_count": null,
   "metadata": {},
   "outputs": [],
   "source": [
    "print(df.loc[['Tienda 2','Tienda 1']])      \n",
    "print()\n",
    "\n",
    "print(df.loc['Tienda 2':])\n",
    "print()\n",
    "\n",
    "print(df.iloc[[0,3]])"
   ]
  },
  {
   "cell_type": "markdown",
   "metadata": {},
   "source": [
    "---\n",
    "\n",
    "###  <font color=\"#004D7F\"> Acceso a las columnas de un DataFrame </font>"
   ]
  },
  {
   "cell_type": "markdown",
   "metadata": {},
   "source": [
    "Se pueden acceder los elementos de una columna (o varias) mediante el operador `[]`. También se devuelve un objeto de tipo `Series` o `DataFrame` según se accedan, respectivamente, una o varias columnas."
   ]
  },
  {
   "cell_type": "code",
   "execution_count": null,
   "metadata": {},
   "outputs": [],
   "source": [
    "productos = df['Producto']\n",
    "productos"
   ]
  },
  {
   "cell_type": "code",
   "execution_count": null,
   "metadata": {},
   "outputs": [],
   "source": [
    "columnas = ['Producto','Compra','Venta']\n",
    "productos_coste = df[columnas]\n",
    "# productos_coste = df[['Producto','Compra','Venta']]   # Equivalente \n",
    "productos_coste"
   ]
  },
  {
   "cell_type": "markdown",
   "metadata": {},
   "source": [
    "Las columnas puden accederse individualmente como un campo del objeto `DataFrame`."
   ]
  },
  {
   "cell_type": "code",
   "execution_count": null,
   "metadata": {},
   "outputs": [],
   "source": [
    "productos = df.Producto          # Es equivalente a  df['Producto']\n",
    "print(productos)\n",
    "type(df.Producto)"
   ]
  },
  {
   "cell_type": "markdown",
   "metadata": {},
   "source": [
    "---\n",
    "### <font color=\"#004D7F\"> Acceso a elementos del DataFrame. </font>\n",
    "\n",
    "Con `loc` se puede acceder también a elemento dados el valor (o valores) de su índice y columna. No se recomienda utilizar la segunda de las alternativas, ya que puede dar lugar a comportamientos inesperados (particularmente en escrituras)."
   ]
  },
  {
   "cell_type": "code",
   "execution_count": null,
   "metadata": {},
   "outputs": [],
   "source": [
    "print(df.loc[['Tienda 2','Tienda 1'],'Producto'])\n",
    "print()\n",
    "print(df.loc[['Tienda 2','Tienda 1']]['Producto'])\n",
    "print()\n",
    "print(df.loc[['Tienda 2','Tienda 1'],['Producto','Compra','Venta']])\n",
    "print()\n",
    "print(df.iloc[0:3,0:2])      "
   ]
  },
  {
   "cell_type": "markdown",
   "metadata": {},
   "source": [
    "<div class=\"alert alert-block alert-info\">\n",
    "<i class=\"fa fa-info-circle\" aria-hidden=\"true\"></i> El método `at` es equivalente a `loc`, (e `iat` a `iloc`) con la salvedad de que `at` e `iat` __solamente aceptan escalares como índice__. Debido a esto, también son más eficientes. \n",
    "</div>"
   ]
  },
  {
   "cell_type": "code",
   "execution_count": null,
   "metadata": {},
   "outputs": [],
   "source": [
    "fila = df.at['Tienda 1','Producto']            \n",
    "print(fila,'\\n')\n",
    "\n",
    "fila = df.iat[2,1]            \n",
    "print(fila)"
   ]
  },
  {
   "cell_type": "markdown",
   "metadata": {},
   "source": [
    "---\n",
    "### <font color=\"#004D7F\"> Escritura en elementos del DataFrame. </font>\n",
    "\n",
    "El acceso de para escritura es similar del acceso para lectura. Cuando se escriben varias posiciones, las dimensiones de los conjuntos de elementos a ambos lados de la asignación han de ser similares (salvo en el caso en que se asignen escalares)."
   ]
  },
  {
   "cell_type": "code",
   "execution_count": null,
   "metadata": {},
   "outputs": [],
   "source": [
    "df"
   ]
  },
  {
   "cell_type": "markdown",
   "metadata": {},
   "source": [
    "Este código asigna un escalar a varias posiciones."
   ]
  },
  {
   "cell_type": "code",
   "execution_count": null,
   "metadata": {},
   "outputs": [],
   "source": [
    "df.loc[['Tienda 1','Tienda 3'],'Venta']=100\n",
    "df"
   ]
  },
  {
   "cell_type": "markdown",
   "metadata": {},
   "source": [
    "Restaura los valores (los tamaños corresponden)."
   ]
  },
  {
   "cell_type": "code",
   "execution_count": null,
   "metadata": {},
   "outputs": [],
   "source": [
    "df.loc[['Tienda 1','Tienda 3'],'Venta']=[22, 14.5, 0, 0]\n",
    "df"
   ]
  },
  {
   "cell_type": "markdown",
   "metadata": {},
   "source": [
    "También se puede escribir el valor de columnas completas."
   ]
  },
  {
   "cell_type": "code",
   "execution_count": null,
   "metadata": {},
   "outputs": [],
   "source": [
    "df['Producto'] = ['Queso manchego', 'Vino manchego', \n",
    "                  'Jamón Extremeño', 'Aceite Andaluz', 'Azafrán manchego']\n",
    "df"
   ]
  },
  {
   "cell_type": "markdown",
   "metadata": {},
   "source": [
    "\n",
    "---\n",
    "\n",
    "<a id=\"section65\"></a> \n",
    "## <font color=\"#004D7F\"> Manipulación de la estructura</font>\n",
    "\n",
    "### <font color=\"#004D7F\"> Cambio de índice </font>\n",
    "\n",
    "El índice se puede cambiar mediante la función `set_index`.  Esta función genera un nuevo DataFrame, salvo que explícitamente se indique lo contrario mediante el atributo `inplace`."
   ]
  },
  {
   "cell_type": "code",
   "execution_count": null,
   "metadata": {},
   "outputs": [],
   "source": [
    "df2 = df.copy()\n",
    "df2.set_index('Nombre', inplace=True)\n",
    "df2.head()"
   ]
  },
  {
   "cell_type": "markdown",
   "metadata": {},
   "source": [
    "También es posible asignar una columna del `DataFrame` al campo `DataFrame.index`. En este caso hay que hacer dos consideraciones importantes:\n",
    "\n",
    "1. El índice anterior se pierde, con lo que no hay manera de recuperarlo.\n",
    "2. La columna se mantiene, por lo que hay que eliminarla manualmente. "
   ]
  },
  {
   "cell_type": "code",
   "execution_count": null,
   "metadata": {},
   "outputs": [],
   "source": [
    "df2 = df.copy()\n",
    "df2.index = df2['Nombre']\n",
    "df2.head()"
   ]
  },
  {
   "cell_type": "markdown",
   "metadata": {},
   "source": [
    "El resultado de esta operación es la creación de un índice a partir de la columna, que permanece en el `DataFrame`."
   ]
  },
  {
   "cell_type": "code",
   "execution_count": null,
   "metadata": {},
   "outputs": [],
   "source": [
    "print(type(df2['Nombre']))\n",
    "print(type(df2.index))"
   ]
  },
  {
   "cell_type": "markdown",
   "metadata": {},
   "source": [
    "### <font color=\"#004D7F\"> Creación de nuevas columnas </font>\n",
    "\n",
    "\n",
    "Cuando se asignan valores a una columna no existente, se crea ésta automáticamente. Si el valor es una colección, asigna uno por uno, según el orden del índice, los elementos. El tamaño de la colección ha de coincidir con el número de filas del `DataFrame`."
   ]
  },
  {
   "cell_type": "code",
   "execution_count": null,
   "metadata": {},
   "outputs": [],
   "source": [
    "df['C.P'] = pd.Categorical(['08001', '08002', '08003', '08004','08004'])\n",
    "df"
   ]
  },
  {
   "cell_type": "markdown",
   "metadata": {},
   "source": [
    "También se puede añadir una columna y fijar los elementos en todas las filas a un valor determinado."
   ]
  },
  {
   "cell_type": "code",
   "execution_count": null,
   "metadata": {},
   "outputs": [],
   "source": [
    "df['Localidad'] = 'Barcelona'\n",
    "df"
   ]
  },
  {
   "cell_type": "markdown",
   "metadata": {},
   "source": [
    "Se pueden añadir valores a algunas filas solamente mediante un diccionario en el que las claves corresponden al índice, dejando el resto con valor indeterminado o NaN."
   ]
  },
  {
   "cell_type": "code",
   "execution_count": null,
   "metadata": {},
   "outputs": [],
   "source": [
    "df['Entregado'] = pd.Series({'Tienda 1': True, 'Tienda 2': True})\n",
    "df"
   ]
  },
  {
   "cell_type": "markdown",
   "metadata": {},
   "source": [
    "### <font color=\"#004D7F\"> Renombrado de índice y de columnas </font>\n",
    "\n",
    "\n",
    "Pueden renombrarse mediante el método `rename()`. Puede tomar como argumento un diccionario con las correspondencias, o una función de transformación ([documentación](https://pandas.pydata.org/pandas-docs/stable/generated/pandas.DataFrame.rename.html)).\n",
    "\n",
    "En caso de tomar una función de transformación, es necesario especificar si ésta actúa sobre índices o sobre columnas mediante el atributo `axis` (que por defecto toma el valor `index`). El siguiente ejemplo, renombra todos los índices anteponiéndoles el caracter '#' y transformándolo en un `String`. Esta operación devuelve un nuevo `DataFrame`, a menos que se indique que actúe sobre el mismo mediante el parámetro `inplace`."
   ]
  },
  {
   "cell_type": "code",
   "execution_count": null,
   "metadata": {},
   "outputs": [],
   "source": [
    "df2 = df.copy()              # Copia el original (por claridad en los ejemplos)\n",
    "df2.rename(lambda x: '#'+str(x), axis='index', inplace=True)\n",
    "df2.head()"
   ]
  },
  {
   "cell_type": "markdown",
   "metadata": {},
   "source": [
    "También se pueden renombrar índices o columnas asignando un diccionario a los atributos `index` o  `columns`."
   ]
  },
  {
   "cell_type": "code",
   "execution_count": null,
   "metadata": {},
   "outputs": [],
   "source": [
    "df2 = df.copy()       # Copia el original (por claridad en los ejemplos)\n",
    "df2.rename(columns = {'Venta': 'PVP', 'Entregado':'Disponible'}, inplace = True);\n",
    "df2.head()"
   ]
  },
  {
   "cell_type": "markdown",
   "metadata": {},
   "source": [
    "Por último, es posible renombrar las columnas directamente asignando una colección de valores al campo `DataFrame.columns`."
   ]
  },
  {
   "cell_type": "code",
   "execution_count": null,
   "metadata": {},
   "outputs": [],
   "source": [
    "df2.columns = ['COMPRA','NOMBRE', 'PVP','PRODUCTO','C.P', 'LOCALIDAD','ENTREGADO']\n",
    "df2\n"
   ]
  },
  {
   "cell_type": "markdown",
   "metadata": {},
   "source": [
    "### <font color=\"#004D7F\"> Reordenación de columnas </font>\n",
    "\n",
    "Al acceder a una colección de columnas se genera un nuevo `DataFrame` en el que las columnas se colocan en el orden de la colección. "
   ]
  },
  {
   "cell_type": "code",
   "execution_count": null,
   "metadata": {},
   "outputs": [],
   "source": [
    "df2 = df2[['NOMBRE','LOCALIDAD','C.P', 'PRODUCTO','COMPRA','PVP']]\n",
    "df2"
   ]
  },
  {
   "cell_type": "markdown",
   "metadata": {},
   "source": [
    "### <font color=\"#004D7F\"> Eliminación de filas y columnas </font>\n",
    "\n",
    "El método `drop()` permite eliminar filas y columnas. Sin embargo, devuelve un nuevo objeto, y el original permanece en su estado. Para que la eliminación se haga sobre el objeto original, ha de indicarse fijando el parámetro `inplace=True`."
   ]
  },
  {
   "cell_type": "markdown",
   "metadata": {},
   "source": [
    "<div class=\"alert alert-block alert-warning\">\n",
    "<i class=\"fa fa-exclamation-circle\" aria-hidden=\"true\"></i>\n",
    "__Importante__: La mayor parte de operaciones que manipulan la estructura del `DataFrame` no los elementos, producen una copia del mismo, pero aceptan el parámetro `inplace`.\n",
    "</div>"
   ]
  },
  {
   "cell_type": "code",
   "execution_count": null,
   "metadata": {},
   "outputs": [],
   "source": [
    "df2 = df.copy()                             # Copia el original (por claridad en los ejemplos))\n",
    "df2.drop('Tienda 2', inplace = True)\n",
    "df2"
   ]
  },
  {
   "cell_type": "markdown",
   "metadata": {},
   "source": [
    "La eliminación de columnas puede hacerse con el mismo método, utilizando el parámetro `axis=1` (el valor por defecto de `axis` es 0, que indica que se eliminen filas)."
   ]
  },
  {
   "cell_type": "code",
   "execution_count": null,
   "metadata": {},
   "outputs": [],
   "source": [
    "df2 = df.copy()                             # Copia el original (por claridad en los ejemplos))\n",
    "df2.drop('Entregado', axis=1, inplace=True)\n",
    "df2"
   ]
  },
  {
   "cell_type": "markdown",
   "metadata": {},
   "source": [
    "Se pueden borrar __columnas__ también mediante la función `del`."
   ]
  },
  {
   "cell_type": "code",
   "execution_count": null,
   "metadata": {},
   "outputs": [],
   "source": [
    "del df2['Localidad']\n",
    "df2"
   ]
  },
  {
   "cell_type": "markdown",
   "metadata": {},
   "source": [
    "<div class=\"alert alert-block alert-warning\">\n",
    "<i class=\"fa fa-exclamation-circle\" aria-hidden=\"true\"></i>\n",
    "__Importante__: Esta función solamente permite borrar __columnas__, no filas. \n",
    "</div>"
   ]
  },
  {
   "cell_type": "markdown",
   "metadata": {},
   "source": [
    "\n",
    "---\n",
    "\n",
    "<a id=\"section66\"></a> \n",
    "## <font color=\"#004D7F\" > Descripción de los datos </font>\n",
    "\n",
    "<br>\n",
    "La función `describe()` devuelve diversa información con respecto a las columnas. Esta información varía según el tipo de datos. Además, se puede especificar sobre qué columnas se aplica la función con los parámetros `include` \\ `exclude`.\n",
    "\n",
    "La siguiente llamada incluye todas las columnas. Puede apreciarse que para las numéricas muestra unos datos, y para las no numéricas otros. "
   ]
  },
  {
   "cell_type": "code",
   "execution_count": null,
   "metadata": {},
   "outputs": [],
   "source": [
    "df2.describe(include=\"all\")"
   ]
  },
  {
   "cell_type": "markdown",
   "metadata": {},
   "source": [
    "En el caso de las variables numéricas, se pueden determinar los percentiles que se han de mostrar. "
   ]
  },
  {
   "cell_type": "code",
   "execution_count": null,
   "metadata": {},
   "outputs": [],
   "source": [
    "df2.describe(include=\"all\", percentiles=[0.32, 0.61])"
   ]
  },
  {
   "cell_type": "markdown",
   "metadata": {},
   "source": [
    "\n",
    "\n",
    "---\n",
    "\n",
    "<a id=\"section7\"></a>\n",
    "# <font color=\"#004D7F\"> 7. Selección y ordenación </font>\n",
    "\n",
    "<a id=\"section71\"></a> \n",
    "## <font color=\"#004D7F\"> Consulta y selección </font>\n"
   ]
  },
  {
   "cell_type": "code",
   "execution_count": null,
   "metadata": {},
   "outputs": [],
   "source": [
    "df_titanic.head()"
   ]
  },
  {
   "cell_type": "markdown",
   "metadata": {},
   "source": [
    "La aplicación de un operador booleano sobre una columna, que es de tipo `Series`, genera como resultado un objeto de tipo `Series` cuyo índice es el mismo del `DataFrame` y en el que los elementos correspoden al valor de la operación correspondiente a cada caso.\n",
    "\n",
    "Por ejemplo, el siguiente código comprueba si los pasajeros tienen más de 18 años."
   ]
  },
  {
   "cell_type": "code",
   "execution_count": null,
   "metadata": {},
   "outputs": [],
   "source": [
    "consulta = df_titanic['Edad']>18\n",
    "consulta[:5]                      # Muestra los 5 primeros elementos."
   ]
  },
  {
   "cell_type": "markdown",
   "metadata": {},
   "source": [
    "Es posible utilizar indexación lógica en un `DataFrame` para devolver los casos de interés."
   ]
  },
  {
   "cell_type": "code",
   "execution_count": null,
   "metadata": {},
   "outputs": [],
   "source": [
    "adultos = df_titanic[df_titanic['Edad']>18]\n",
    "adultos.head(5)"
   ]
  },
  {
   "cell_type": "markdown",
   "metadata": {},
   "source": [
    "Se pueden utilizar las operaciones entre series para generar condiciones más complejas. "
   ]
  },
  {
   "cell_type": "code",
   "execution_count": null,
   "metadata": {},
   "outputs": [],
   "source": [
    "varones_adultos = df_titanic[(df_titanic['Edad']>18) & (df_titanic['Sexo']=='male')]\n",
    "varones_adultos.head()"
   ]
  },
  {
   "cell_type": "markdown",
   "metadata": {},
   "source": [
    "<div class=\"alert alert-block alert-danger\">\n",
    "<i class=\"fa fa-exclamation-triangle\" aria-hidden=\"true\"></i>\n",
    "Debido a que los operadores binarios tienen precedencia sobre las comparaciones, la siguiente expresión, en la que se han quitado los paréntesis de la expresión, devolvería un error.\n",
    "</div>"
   ]
  },
  {
   "cell_type": "code",
   "execution_count": null,
   "metadata": {},
   "outputs": [],
   "source": [
    "varones_ancianos = df_titanic[(df_titanic['Edad']>65) & (df_titanic['Sexo']=='male')]\n",
    "varones_ancianos.head()"
   ]
  },
  {
   "cell_type": "markdown",
   "metadata": {},
   "source": [
    "### <font color=\"#004D7F\" face=\"monospace\"> where() </font>\n",
    "\n",
    "Las consultas pueden hacerse mediante  el método `where()`. En ese caso, se devuelven todas las filas, pero se fija el valor de que no cumplen la condición se reemplazan con un valor (por defecto NaN).\n"
   ]
  },
  {
   "cell_type": "code",
   "execution_count": null,
   "metadata": {},
   "outputs": [],
   "source": [
    "#adultos = df_titanic.where(df_titanic['Edad']>18)\n",
    "adultos = df_titanic.where(df_titanic['Edad']>18, '---')\n",
    "adultos.head()"
   ]
  },
  {
   "cell_type": "markdown",
   "metadata": {},
   "source": [
    "Del mismo modo que la indexación mediante valores booleanos, `where` admite condiciones obtenidas mediante operaciones booleanas entre series. "
   ]
  },
  {
   "cell_type": "code",
   "execution_count": null,
   "metadata": {},
   "outputs": [],
   "source": [
    "adultas = df_titanic.where((df_titanic['Edad']>18) & (df_titanic['Sexo']=='female'),'---')\n",
    "adultas.head()"
   ]
  },
  {
   "cell_type": "markdown",
   "metadata": {},
   "source": [
    "### <font color=\"#004D7F\" face=\"monospace\"> mask() </font>\n",
    "\n",
    "La función `mask` es opuesta a `where`, es decir, devuelve los valores que __no__ cumplen la condición."
   ]
  },
  {
   "cell_type": "code",
   "execution_count": null,
   "metadata": {},
   "outputs": [],
   "source": [
    "adultas = df_titanic.mask((df_titanic['Edad']<18) | (df_titanic['Sexo']=='female'),'---')\n",
    "adultas.head()"
   ]
  },
  {
   "cell_type": "markdown",
   "metadata": {},
   "source": [
    "### <font color=\"#004D7F\" face=\"monospace\"> isin() </font>\n",
    "\n",
    "La función `isin` también es de suma utiliad, ya que permite seleccionar las filas cuyo valor esté dentro de un conjunto. "
   ]
  },
  {
   "cell_type": "code",
   "execution_count": null,
   "metadata": {},
   "outputs": [],
   "source": [
    "df_titanic[df_titanic['Edad'].isin([14,35,53])]"
   ]
  },
  {
   "cell_type": "markdown",
   "metadata": {},
   "source": [
    "\n",
    "---\n",
    "\n",
    "<a id=\"section72\"></a> \n",
    "## <font color=\"#004D7F\"> Ordenación </font>\n",
    "\n",
    "La operación `DataFrame.sort_index` ordena el `DataFrame` en función de su índice. Mediante el parámetro `ascending` se establece el orden de la ordenación. Además, por defecto produce un nuevo `DataFrame`, a no ser que se indique lo contrario mediante el parámetro `inplace`."
   ]
  },
  {
   "cell_type": "code",
   "execution_count": null,
   "metadata": {},
   "outputs": [],
   "source": [
    "df_titanic.sort_index(ascending=False, inplace=True)\n",
    "df_titanic.head()"
   ]
  },
  {
   "cell_type": "markdown",
   "metadata": {},
   "source": [
    "El método `DataFrame.sort_values` ordena el `DataFrame` en función de una o varias columnas. El siguiente código ordena descendentemente en función del campo _Edad_ y, en segunda instancia, ascendentemente en función del campo _ID_ (en realidad se hace al revés)."
   ]
  },
  {
   "cell_type": "code",
   "execution_count": null,
   "metadata": {},
   "outputs": [],
   "source": [
    "df_titanic.sort_values(['Edad', 'ID'], ascending=[False, True], inplace=True)\n",
    "df_titanic.head()"
   ]
  },
  {
   "cell_type": "markdown",
   "metadata": {},
   "source": [
    "<div class=\"alert alert-block alert-warning\">\n",
    "<i class=\"fa fa-exclamation-circle\" aria-hidden=\"true\"></i>\n",
    "__Importante__: El parámetro `kind` permite determinar el algoritmo de ordenación. En este caso, es interesante saber que `mergesort` es un algoritmo de ordenación estable. Es decir, cuando ordena por un campo, para los elementos con un mismo valor de ese campo, preserva el orden relativo de los elementos anterior a la ordenación.\n",
    "</div>"
   ]
  },
  {
   "cell_type": "markdown",
   "metadata": {},
   "source": [
    "\n",
    "\n",
    "---\n",
    "\n",
    "<a id=\"section8\"></a>\n",
    "# <font color=\"#004D7F\" size=5> 8. Operaciones sobre elementos </font>\n",
    "\n",
    "<a id=\"section81\"></a> \n",
    "## <font color=\"#004D7F\"> Operaciones básicas </font>\n",
    "\n",
    "Es posible operar sobre las columnas del mismo modo que se hace en el caso de las series.\n",
    "\n",
    "El siguiente ejemplo añade una columna con el _IVA_ de los productos, calculada a partir de los valores en la columna _Precio_."
   ]
  },
  {
   "cell_type": "code",
   "execution_count": null,
   "metadata": {},
   "outputs": [],
   "source": [
    "df = df.copy()                             # Copia el original (por claridad en los ejemplos))\n",
    "df['IVA']= df['Venta']*0.21                # Calcula y añade el iva\n",
    "df"
   ]
  },
  {
   "cell_type": "markdown",
   "metadata": {},
   "source": [
    "En el siguiente ejemplo, se crea una columna mediante una suma de otras dos, y borra el _IVA_. "
   ]
  },
  {
   "cell_type": "code",
   "execution_count": null,
   "metadata": {},
   "outputs": [],
   "source": [
    "df['P.V.P'] = df['Venta']+df['IVA']\n",
    "del df['IVA']\n",
    "df"
   ]
  },
  {
   "cell_type": "markdown",
   "metadata": {},
   "source": [
    "\n",
    "\n",
    "---\n",
    "\n",
    "<a id=\"section82\"></a> \n",
    "## <font color=\"#004D7F\">Operaciones de transformación </font>\n",
    "\n",
    "\n",
    "### <font color=\"#004D7F\" face=\"monospace\"> apply() y map()</font>\n",
    "\n",
    "Las funciones `apply()` y `map()` se pueden aplicar sobre columnas, a cada uno de los elementos, del mismo modo que se aplicaba con las series."
   ]
  },
  {
   "cell_type": "code",
   "execution_count": null,
   "metadata": {},
   "outputs": [],
   "source": [
    "df2 = df.copy()                 # Copia el original (por claridad en los ejemplos))\n",
    "\n",
    "def IVA(x):                     # Crea la función que aplica el IVA\n",
    "    return x*0.21\n",
    "\n",
    "df2['IVA'] = df2['Venta'].apply(IVA) \n",
    "#df2['IVA'] = df2['Venta'].map(IVA)\n",
    "  \n",
    "#df2['IVA'] = df2['Venta'].apply(lambda pr: pr*0.21)  # Hace lo mismo, pero utilizando una función lambda\n",
    "#df2['IVA'] = df2['Venta'].map(lambda pr: pr*0.21) \n",
    "df2"
   ]
  },
  {
   "cell_type": "markdown",
   "metadata": {},
   "source": [
    "\n",
    "### <font color=\"#004D7F\" face=\"monospace\"> applymap() </font>\n",
    "\n",
    "<br>\n",
    "La función `applymap` aplica la función de transformación sobre todos los elementos del DataFrame. En este ejemplo concreto, copiamos todas las columnas numéricas (tipo `np.number`) en el `DataFrame` y se aplica una función que convierte los valores a String con tres decimales."
   ]
  },
  {
   "cell_type": "code",
   "execution_count": null,
   "metadata": {},
   "outputs": [],
   "source": [
    "import numpy as np\n",
    "df2 = df.select_dtypes(include=np.number)\n",
    "df2 = df2.applymap(lambda x: '{:.3f}'.format(x))\n",
    "df2"
   ]
  },
  {
   "cell_type": "markdown",
   "metadata": {},
   "source": [
    "\n",
    "### <font color=\"#004D7F\" face=\"monospace\"> transform() </font>"
   ]
  },
  {
   "cell_type": "markdown",
   "metadata": {},
   "source": [
    "La función `transform()` permite llevar a cabo una transformación de los elementos de un `DataFrame`. Permite especificar qué columnas se transforman, y también aplicar varias transformaciones. Como resultado, devuelve una estructura que contiene todas las transformaciones llevadas a cabo  ([documentación](http://pandas.pydata.org/pandas-docs/version/0.20/basics.html#transform-api))."
   ]
  },
  {
   "cell_type": "code",
   "execution_count": null,
   "metadata": {},
   "outputs": [],
   "source": [
    "df2 = df.copy()\n",
    "df2.transform({'P.V.P': [lambda p: p*1.21, lambda p: \"{:.1f} euros\".format(p*1.21)], 'Localidad':str.upper})"
   ]
  },
  {
   "cell_type": "markdown",
   "metadata": {},
   "source": [
    "\n",
    "---\n",
    "<a id=\"section9\"></a>\n",
    "# <font color=\"#004D7F\" size=5> 9. Agregación </font>\n",
    "\n",
    "<a id=\"section91\"></a> \n",
    "\n",
    "## <font color=\"#004D7F\" > Agregación de datos: <font face=\"monospace\">apply() y agg()</font></font>\n",
    "\n",
    "### <font color=\"#004D7F\" face=\"monospace\"> apply()  </font>\n",
    "\n",
    "A diferencia de `Series.apply()` en este caso __también__ se pueden aplicar funciones que generen un escalar (no elemento por elemento). El parámetro `axis=0` o `axis='index'` indica que se aplique la función a los elementos a lo largo del índice, es decir, se aplica para cada columna."
   ]
  },
  {
   "cell_type": "code",
   "execution_count": null,
   "metadata": {},
   "outputs": [],
   "source": [
    "df_precios = df[['Compra','Venta']]\n",
    "print(df_precios)\n",
    "print()\n",
    "\n",
    "def min_max(valores):\n",
    "    return (np.min(valores),np.max(valores))\n",
    "\n",
    "# Valor mínimo y máximo por cada producto\n",
    "print(df_precios.apply(min_max, axis=0))"
   ]
  },
  {
   "cell_type": "markdown",
   "metadata": {},
   "source": [
    "Con el parámetro `axis=1` o `axis='columns'` se aplica la función a lo largo de las columnas, es decir, para cada índice. En este caso, las funciones pueden acceder a los valores individuales de cada columna."
   ]
  },
  {
   "cell_type": "markdown",
   "metadata": {},
   "source": [
    "<div class=\"alert alert-block alert-warning\">\n",
    "<i class=\"fa fa-exclamation-circle\" aria-hidden=\"true\"></i>\n",
    "__Importante__: Esta es una de las formas de crear columnas como resultado de la operación o transformación sobre otras. \n",
    "</div>"
   ]
  },
  {
   "cell_type": "code",
   "execution_count": null,
   "metadata": {},
   "outputs": [],
   "source": [
    "df_precios = df[['Producto','Compra','Venta']]\n",
    "print(df_precios)\n",
    "print()\n",
    "\n",
    "def anuncio(entrada):\n",
    "    return '¡'+entrada['Producto']+' a '+str(entrada['Venta']-entrada['Compra']) + ' euros!'\n",
    "\n",
    "print(df_precios.apply(anuncio, axis=1))"
   ]
  },
  {
   "cell_type": "markdown",
   "metadata": {},
   "source": [
    "<div class=\"alert alert-block alert-danger\">\n",
    "<i class=\"fa fa-exclamation-triangle\" aria-hidden=\"true\"></i>\n",
    "El parámetro `axis=1` indica columnas, pero en este caso quiere decir que se aplica sobre cada fila. Este hecho puede generar confusión.\n",
    "</div>"
   ]
  },
  {
   "cell_type": "markdown",
   "metadata": {},
   "source": [
    "\n",
    "\n",
    "---\n",
    "\n",
    "<a id=\"section73\"></a> \n",
    "## <font color=\"#004D7F\"> Agregación </font>\n",
    "<br>\n",
    "\n",
    "Las funciones `aggregate()` o `agg()` (son la misma) permiten aplicar funciones de agregación a filas o columnas. A diferencia de `apply()`, descrito anteriormente, permite aplicar varias funciones en una operación. Éstas pueden ser referidas por un nombre (String), identificador, incluso ser funciones `lambda` ([documentación](http://pandas.pydata.org/pandas-docs/version/0.20/basics.html#aggregation-api)).\n",
    "\n",
    "Por ejemplo, el código siguiente aplica las funciones suma, media y rango de dos columnas (en realidad, se crea un `DataFrame` con dos columnas y se aplica la agregación). "
   ]
  },
  {
   "cell_type": "code",
   "execution_count": null,
   "metadata": {},
   "outputs": [],
   "source": [
    "df_precios[['Compra','Venta']].agg(['sum', np.mean, lambda col: col.max()-col.min()], axis=0)"
   ]
  },
  {
   "cell_type": "markdown",
   "metadata": {},
   "source": [
    "`agg()` permite que se especifique, mediante un diccionario, qué función o funciones se aplican a cada columna."
   ]
  },
  {
   "cell_type": "code",
   "execution_count": null,
   "metadata": {},
   "outputs": [],
   "source": [
    "df_precios.agg({'Producto':np.min, 'Compra':[np.mean, np.sum]}, axis=0)"
   ]
  },
  {
   "cell_type": "markdown",
   "metadata": {},
   "source": [
    "Por último, es posible aplicar por filas."
   ]
  },
  {
   "cell_type": "code",
   "execution_count": null,
   "metadata": {},
   "outputs": [],
   "source": [
    "df_precios[['Compra','Venta']].agg(lambda p:p['Venta']-p['Compra'], axis=1)"
   ]
  },
  {
   "cell_type": "markdown",
   "metadata": {},
   "source": [
    "\n",
    "\n",
    "---\n",
    "\n",
    "<div style=\"text-align: right\"> <font size=6><i class=\"fa fa-coffee\" aria-hidden=\"true\" style=\"color:#004D7F\"></i> </font></div>"
   ]
  },
  {
   "cell_type": "code",
   "execution_count": null,
   "metadata": {},
   "outputs": [],
   "source": []
  }
 ],
 "metadata": {
  "kernelspec": {
   "display_name": "Python 3",
   "language": "python",
   "name": "python3"
  },
  "language_info": {
   "codemirror_mode": {
    "name": "ipython",
    "version": 3
   },
   "file_extension": ".py",
   "mimetype": "text/x-python",
   "name": "python",
   "nbconvert_exporter": "python",
   "pygments_lexer": "ipython3",
   "version": "3.7.3"
  }
 },
 "nbformat": 4,
 "nbformat_minor": 2
}
