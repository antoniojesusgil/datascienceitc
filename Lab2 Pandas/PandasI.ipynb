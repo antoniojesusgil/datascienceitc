{
 "cells": [
  {
   "cell_type": "markdown",
   "metadata": {},
   "source": [
    "<img src=\"../img/crowdlearning-etic.png\" alt=\"Logo ETIC\" align=\"right\">\n",
    "\n",
    "<br>\n",
    "<h1><font color=\"#004D7F\" size=6>Pandas I</font></h1>\n",
    "\n",
    "<br><br>\n",
    "<div style=\"text-align: right\">\n",
    "<font color=\"#004D7F\" size=3>Antonio Jesús Gil</font><br>\n",
    "<font color=\"#004D7F\" size=3>Introducción a la Ciencia de Datos</font><br>\n",
    "\n",
    "</div>"
   ]
  },
  {
   "cell_type": "markdown",
   "metadata": {},
   "source": [
    "---\n",
    "\n",
    "<a id=\"indice\"></a>\n",
    "<h2><font color=\"#004D7F\" size=5>Índice</font></h2>\n",
    "\n",
    "\n",
    "* [1. Introducción](#section1)\n",
    "* [2. Series](#section2)\n",
    "   * [Creación de series](#section21)\n",
    "   * [Acceso a los elementos de una serie](#section22)\n",
    "* [3. Operaciones y funciones sobre series](#section3)\n",
    "   * [Operadores binarios](#section31)\n",
    "   * [<font face=\"monospace\">apply() y map()</font>](#section32)\n",
    "   * [Operaciones sobre Strings](#section33)   \n",
    "   * [Descripción y resumen](#section34)\n",
    "   * [Manipulación de series](#section35)   \n",
    "   * [Consulta y selección](#section36)\n",
    "* [4. Datos categóricos](#section4)\n",
    "    * [El objeto <font face=\"monospace\">Categorical</font> y el tipo <font face=\"monospace\">CategoricalDType</font>](#section41)\n",
    "    * [Series con valores categóricos](#section42)    \n",
    "    * [Operaciones con valores categóricos](#section43) \n",
    "    * [Indexación con valores categóricos](#section44)    \n",
    "* [5. Datos temporales en Pandas](#section5)"
   ]
  },
  {
   "cell_type": "markdown",
   "metadata": {},
   "source": [
    "---\n",
    "\n",
    "<a id=\"section1\"></a>\n",
    "# <font color=\"#004D7F\" size=5> 1. Introducción</font>\n",
    "\n",
    "[**Pandas**](http://pandas.pydata.org) es una librería de Python que proporciona estructuras y herramientas para el preprocesamiento y análisis exploratorio de conjuntos de datos. Trabaja principalemente con objetos denominados `DataFrame`, que representan tablas indexadas de datos, e implementan funciones avanzadas para selección, consultas, agrupamiento, procesamiento, etc..."
   ]
  },
  {
   "cell_type": "markdown",
   "metadata": {},
   "source": [
    "En estas libretas se proporciona una descripción inicial de Pandas, y se presentarán, mediante ejemplos, las funcionalidades básicas de uso más común. Esta introducción será extendida en _módulo 2_ del curso en el que, además se dará una visión formal del conjunto de los datos y su tratamiento. No obstante, Pandas es una librería _completa y compleja_, por lo que será indispensable recurrir ocasionalmente a la abundante información existente en la red, a foros como [Stack Overflow](https://stackoverflow.com/questions/tagged/pandas), y a la [documentación oficial de Pandas](http://pandas.pydata.org/pandas-docs/stable/). "
   ]
  },
  {
   "cell_type": "markdown",
   "metadata": {},
   "source": [
    "<a id=\"section2\"></a>\n",
    "# <font color=\"#004D7F\" size=5> 2. Series </font>\n",
    "\n",
    "Un objeto de la clase `Series` almacena una colección de valores e _indexarlos_ mediante etiquetas. Además, esta clase implementa multitud de operaciones, y es la forma en que se accede a columnas o filas individuales en objetos de tipo `DataFrame`, que serán descritos con detalle en la próxima libreta. \n",
    "\n",
    "<div class=\"alert alert-block alert-info\">\n",
    "<i class=\"fa fa-info-circle\" aria-hidden=\"true\"></i>\n",
    "Este último uso de las series, que se verá posteriormente, es el más común. \n",
    "</div>"
   ]
  },
  {
   "cell_type": "markdown",
   "metadata": {},
   "source": [
    "<a id=\"section21\"></a> \n",
    "## <font color=\"#004D7F\"> Creación de series </font>\n",
    "\n",
    "Es posible crear objetos de tipo `Series` de distintos modos a partir de estructuras estándar de Python y Numpy.\n",
    "\n",
    "### <font color=\"#004D7F\"> Creación a partir de una colección de elementos</font>\n",
    "\n",
    "Se puede construir una serie a partir de una colección de datos. En caso de no especificar un índice, la serie se indexa internamente con enteros."
   ]
  },
  {
   "cell_type": "code",
   "execution_count": null,
   "metadata": {},
   "outputs": [],
   "source": [
    "import pandas as pd\n",
    "\n",
    "equipos = ['Real Madrid', 'Manchester United', 'Milán']\n",
    "serie_equipos = pd.Series(equipos)\n",
    "print(serie_equipos)                       # Se indexa con enteros\n",
    "print()\n",
    "\n",
    "numeros = [2, 21, 23]                      # La serie también puede contener datos de tipos básicos.\n",
    "serie_numeros = pd.Series(numeros)         # Se indexa también con enteros\n",
    "print(serie_numeros)"
   ]
  },
  {
   "cell_type": "markdown",
   "metadata": {},
   "source": [
    "### <font color=\"#004D7F\"> Creación a partir de una colección y un índice </font>\n",
    "\n",
    "Es posible especificar la secuencia que contiene el índice. Éste, que por defecto es un entero, puede estar formado por datos de cualquier tipo al que se pueda aplicar una función _hash_ (función _hashable_)."
   ]
  },
  {
   "cell_type": "code",
   "execution_count": null,
   "metadata": {},
   "outputs": [],
   "source": [
    "serie_equipos = pd.Series(['Real Madrid', 'Manchester United', 'Milán'], \n",
    "                          index=['España', 'Reino Unido', 'Italia'])\n",
    "print(serie_equipos)"
   ]
  },
  {
   "cell_type": "markdown",
   "metadata": {},
   "source": [
    "### <font color=\"#004D7F\"> Creación a partir de un diccionario </font>\n",
    "\n",
    "También se puede construir la serie a partir de un diccionario. En ese caso, las claves corresponden a los índices, y los valores a los elementos de la serie. Si además del diccionario se pasa una lista de índices, ésta se usa para determinar qué valores del diccionario se incluyen."
   ]
  },
  {
   "cell_type": "code",
   "execution_count": null,
   "metadata": {},
   "outputs": [],
   "source": [
    "equipos = {'España': 'Real Madrid',\n",
    "           'Reino Unido': 'Manchester United',\n",
    "           'Italia': 'Milán',\n",
    "           'Francia': 'PSG',\n",
    "           'Alemania': 'Bayern Munich' }\n",
    "serie_equipos = pd.Series(equipos)\n",
    "print(serie_equipos)\n",
    "print()\n",
    "\n",
    "# En este caso, se indican índices, por lo que solo se tomarán del diccionario entradas cuya clave coincida\n",
    "# con alguno de los índices.\n",
    "serie_equipos = pd.Series(equipos, index=['España', 'Reino Unido', 'Italia'])\n",
    "print('Segunda serie:')\n",
    "print(serie_equipos)"
   ]
  },
  {
   "cell_type": "markdown",
   "metadata": {},
   "source": [
    "Es posible nombrar la serie de valores, y también es posible dar un valor al índice. "
   ]
  },
  {
   "cell_type": "code",
   "execution_count": null,
   "metadata": {},
   "outputs": [],
   "source": [
    "serie_equipos.name='Equipo'\n",
    "serie_equipos.index.name = 'País'\n",
    "serie_equipos"
   ]
  },
  {
   "cell_type": "markdown",
   "metadata": {},
   "source": [
    "<div class=\"alert alert-block alert-info\">\n",
    "<i class=\"fa fa-info-circle\" aria-hidden=\"true\"></i>\n",
    "**Nota**: Posteriormente se verá que, cuando las series se obtienen a partir de un `DataFrame`, toman como nombre el de la columna (o índice) correspondiente.\n",
    "</div>"
   ]
  },
  {
   "cell_type": "markdown",
   "metadata": {},
   "source": [
    "<a id=\"section22\"></a> \n",
    "## <font color=\"#004D7F\"> Acceso a los elementos de una serie </font>\n",
    "\n",
    "El acceso natural a los elementos de una serie se hace mediante su índice, con `loc[índice]`, aunque también se pueden acceder mediante la posición, como el resto de colecciones, a través de `iloc[posición]`. \n",
    "\n",
    "También es posible acceder a los elementos mediante el operador `[]`, que llama internamente al método correspondiente (`loc` o `iloc`). "
   ]
  },
  {
   "cell_type": "code",
   "execution_count": null,
   "metadata": {},
   "outputs": [],
   "source": [
    "print(serie_equipos, '\\n')\n",
    "\n",
    "print(\"Mediante loc e iloc:\")\n",
    "print(serie_equipos.loc['España'])\n",
    "print(serie_equipos.iloc[1])\n",
    "\n",
    "print(\"\\nMediante []\")\n",
    "print(serie_equipos['España'])\n",
    "print(serie_equipos[0])"
   ]
  },
  {
   "cell_type": "markdown",
   "metadata": {},
   "source": [
    "<div class=\"alert alert-block alert-danger\">\n",
    "<i class=\"fa fa-exclamation-triangle\" aria-hidden=\"true\"></i>\n",
    "__Importante__: Cuando el índice de la serie es un entero, llama a `loc[]`, es decir, usa el entero como como índice, y no como posición. \n",
    "</div>"
   ]
  },
  {
   "cell_type": "code",
   "execution_count": null,
   "metadata": {},
   "outputs": [],
   "source": [
    "print(\"Este ejemplo muestra la situación que se da cuando el índice es un entero: \\n\")\n",
    "equipos = {9: 'Real Madrid',\n",
    "           4: 'Manchester United',\n",
    "           8: 'Milán',\n",
    "           2: 'PSG',\n",
    "           1: 'Bayern Munich'}\n",
    "\n",
    "s = pd.Series(equipos)\n",
    "print(s,'\\n')\n",
    "print(s.loc[2])            # Imprime el elemento de índice 2.\n",
    "print(s.iloc[2])           # Imprime el elemento en la posición 2.\n",
    "print(s[2])                # En este caso, llama a loc[]\n",
    "#print(s[0])               # Esta sentencia daría error, porque no hay ningún elemento con índice 0."
   ]
  },
  {
   "cell_type": "markdown",
   "metadata": {},
   "source": [
    "### <font color=\"#004D7F\"> Indexación mediante listas y arrays. </font>\n",
    "\n",
    "Tanto la función `loc` como `iloc` admiten el uso de colecciones, es decir, acceder a varios elementos de la serie a la vez.\n"
   ]
  },
  {
   "cell_type": "code",
   "execution_count": null,
   "metadata": {},
   "outputs": [],
   "source": [
    "equipos = {'España': 'Real Madrid',\n",
    "           'Reino Unido': 'Manchester United',\n",
    "           'Italia': 'Milán',\n",
    "           'Francia': 'PSG',\n",
    "           'Alemania': 'Bayern Munich'}\n",
    "serie_equipos = pd.Series(equipos)\n",
    "print(serie_equipos, '\\n')\n",
    "\n",
    "print(serie_equipos.loc[['España', 'Italia', 'Francia']],'\\n')\n",
    "print(serie_equipos.iloc[[0,2,3]])"
   ]
  },
  {
   "cell_type": "markdown",
   "metadata": {},
   "source": [
    "<div class=\"alert alert-block alert-warning\">\n",
    "<i class=\"fa fa-exclamation-circle\" aria-hidden=\"true\"></i>\n",
    "__Importante__: Tanto `loc` como `iloc` toman _un solo argumento_, que ha de ser una colección (no varios datos).\n",
    "</div>"
   ]
  },
  {
   "cell_type": "markdown",
   "metadata": {},
   "source": [
    "### <font color=\"#004D7F\"> Slicing </font>\n",
    "\n",
    "El acceso a los elementos de una serie también se puede hacer mediante _slicing_.\n"
   ]
  },
  {
   "cell_type": "code",
   "execution_count": null,
   "metadata": {},
   "outputs": [],
   "source": [
    "equipos = {'España': 'Real Madrid',\n",
    "           'Reino Unido': 'Manchester United',\n",
    "           'Italia': 'Milán',\n",
    "           'Francia': 'PSG',\n",
    "           'Alemania': 'Bayern Munich'}\n",
    "serie_equipos = pd.Series(equipos)\n",
    "print(serie_equipos,'\\n')\n",
    "\n",
    "print(serie_equipos.iloc[0:3],'\\n')\n",
    "print(serie_equipos.loc['España':'Reino Unido'])"
   ]
  },
  {
   "cell_type": "markdown",
   "metadata": {},
   "source": [
    "### <font color=\"#004D7F\"> Indexación mediante valores booleanos </font>\n",
    "\n",
    "Por último, es posible acceder a las series mediante una colección de datos de tipo booleano."
   ]
  },
  {
   "cell_type": "code",
   "execution_count": null,
   "metadata": {},
   "outputs": [],
   "source": [
    "equipos = {'España': 'Real Madrid',\n",
    "           'Reino Unido': 'Manchester United',\n",
    "           'Italia': 'Milán',\n",
    "           'Francia': 'PSG',\n",
    "           'Alemania': 'Bayern Munich'}\n",
    "serie_equipos = pd.Series(equipos)\n",
    "print(serie_equipos,'\\n')\n",
    "\n",
    "serie_equipos[[True,False,True,False,True]]"
   ]
  },
  {
   "cell_type": "markdown",
   "metadata": {},
   "source": [
    "El uso más común de esta funcionalidad es el filtrado de elementos según una condición. "
   ]
  },
  {
   "cell_type": "code",
   "execution_count": null,
   "metadata": {},
   "outputs": [],
   "source": [
    "import numpy as np\n",
    "mundiales = {'España': 1 ,\n",
    "             'Reino Unido': 1,\n",
    "             'Italia': 4,\n",
    "             'Francia': 2,\n",
    "             'Alemania': 4}\n",
    "serie_mundiales = pd.Series(mundiales)\n",
    "print(serie_mundiales,'\\n')\n",
    "\n",
    "print(serie_mundiales>1,'\\n')                     # Genera una serie de valores booleanos\n",
    "\n",
    "print(serie_mundiales[serie_mundiales>1])         # Accede a los elementos con ese índice de valores booleanos."
   ]
  },
  {
   "cell_type": "markdown",
   "metadata": {},
   "source": [
    "Se puede hacer un acceso con condiciones más complejas, siempre y cuando éstas den lugar a un conjunto de valores booleanos."
   ]
  },
  {
   "cell_type": "code",
   "execution_count": null,
   "metadata": {},
   "outputs": [],
   "source": [
    "champions = {'Real Madrid':13, 'Manchester':3, 'Milán':7, 'Bayern Munich':5, 'PSG': 0}\n",
    "\n",
    "equipos = {'España': 'Real Madrid',\n",
    "           'Reino Unido': 'Manchester',\n",
    "           'Italia': 'Milán',\n",
    "           'Francia': 'PSG',\n",
    "           'Alemania': 'Bayern Munich'}\n",
    "\n",
    "serie_equipos = pd.Series(equipos)\n",
    "\n",
    "# Esta línea de código mira para cada elemento de la serie, si el número de champions es mayor que 5.\n",
    "print(list(map(lambda equipo: champions[equipo]>=5, serie_equipos)),'\\n')\n",
    "\n",
    "# Se puede utilizarla expresión anterior para obtener una serie con los equipos.\n",
    "serie_equipos[list(map(lambda equipo: champions[equipo]>=5, serie_equipos))]"
   ]
  },
  {
   "cell_type": "markdown",
   "metadata": {},
   "source": [
    "### <font color=\"#004D7F\">  Acceso para escritura  </font>\n",
    "\n",
    "\n",
    "\n",
    "Se hace de manera similar. Es posible escribir varias posiciones a la vez."
   ]
  },
  {
   "cell_type": "code",
   "execution_count": null,
   "metadata": {},
   "outputs": [],
   "source": [
    "print(serie_equipos)\n",
    "print()\n",
    "\n",
    "serie_equipos.loc['Alemania'] = 'Borussia Dormund'  \n",
    "serie_equipos.iloc[3] = 'Chelsea'                    \n",
    "serie_equipos['España']='Atlético de Madrid'\n",
    "serie_equipos[[2,4]]=['Mónaco', 'Juventus']\n",
    "serie_equipos['Portugal']='Benfica'            # Si se asigna un valor a un nuevo índice, se añade a la serie\n",
    "print(serie_equipos)"
   ]
  },
  {
   "cell_type": "markdown",
   "metadata": {},
   "source": [
    "### <font color=\"#004D7F\">  Acceso a índices y valores </font>\n",
    "\n",
    "Es posible acceder al índice y lista de valores contenidos en la serie por separado."
   ]
  },
  {
   "cell_type": "code",
   "execution_count": null,
   "metadata": {},
   "outputs": [],
   "source": [
    "print(serie_equipos.index.values)\n",
    "print(serie_equipos.index.values[0])\n",
    "print()\n",
    "\n",
    "print(serie_equipos.values)\n",
    "print(serie_equipos.values[0])"
   ]
  },
  {
   "cell_type": "markdown",
   "metadata": {},
   "source": [
    "<a id=\"section3\"></a>\n",
    "# <font color=\"#004D7F\" size=5> 3. Operaciones y funciones sobre series </font>\n",
    "\n",
    "<br>\n",
    "La clase `Series` implementa una gran cantidad de operadores y funciones. Las de uso más general se organizan y describen a continuación. Para información completa, se puede consultar el [API de la clase Series](https://pandas.pydata.org/pandas-docs/stable/api.html#series)."
   ]
  },
  {
   "cell_type": "markdown",
   "metadata": {},
   "source": [
    "<a id=\"section31\"></a> \n",
    "## <font color=\"#004D7F\"> Operadores binarios </font>\n",
    "\n",
    "Al igual que con los arrays Numpy, es posible llevar a cabo operaciones a nivel de elemento entre series, o entre series y escalares. Éstas pueden hacerse mediante operadores o funciones."
   ]
  },
  {
   "cell_type": "code",
   "execution_count": null,
   "metadata": {},
   "outputs": [],
   "source": [
    "champions = {'Real Madrid':13, 'Manchester United':3, 'Milán':7, 'Bayern Munich':5, 'PSG': 0}\n",
    "serie_champions = pd.Series(champions)\n",
    "\n",
    "europa_league = {'Real Madrid':2, 'Manchester United':1, 'Milán':0, 'Bayern Munich':1, 'PSG': 0}\n",
    "serie_europa_league = pd.Series(europa_league)\n",
    "\n",
    "# Operación entre series\n",
    "print(serie_champions+serie_europa_league,'\\n')      # Operador\n",
    "print(serie_champions.add(serie_europa_league),'\\n') # Función\n",
    "\n",
    "# Operación entre serie y valor escalar\n",
    "print(serie_champions>3)"
   ]
  },
  {
   "cell_type": "markdown",
   "metadata": {},
   "source": [
    "Las operaciones que involucran varias series se llevan a cabo entre elementos con el mismo índice. "
   ]
  },
  {
   "cell_type": "code",
   "execution_count": null,
   "metadata": {},
   "outputs": [],
   "source": [
    "europa_league = {'Real Madrid':2, 'Manchester United':1, 'Milán':0, \n",
    "                 'Bayern Munich':1, 'PSG': 0, 'Atlético de Madrid':2}\n",
    "serie_europa_league = pd.Series(europa_league)\n",
    "\n",
    "print(serie_champions+serie_europa_league)      # De igual modo se pueden aplicar otros operadores"
   ]
  },
  {
   "cell_type": "markdown",
   "metadata": {},
   "source": [
    "<div class=\"alert alert-block alert-warning\">\n",
    "<i class=\"fa fa-exclamation-circle\" aria-hidden=\"true\"></i>\n",
    "__Importante__: Cuando uno de los elementos no aparece en alguna de las series implicadas, el resultado es NaN.\n",
    "</div>"
   ]
  },
  {
   "cell_type": "markdown",
   "metadata": {},
   "source": [
    "Es posible definir funciones que se implementen a partir de estos operadores u otros definidos para series, y aplicarlas sobre las series. "
   ]
  },
  {
   "cell_type": "code",
   "execution_count": null,
   "metadata": {},
   "outputs": [],
   "source": [
    "import numpy as np\n",
    "\n",
    "def titulos_decada(titulos):\n",
    "    ''' Numero medio de títulos ganados por cada década de competición'''\n",
    "    return titulos/6.0\n",
    "\n",
    "champions = {'Real Madrid':13, 'Manchester United':3, 'Milán':7, 'Bayern Munich':5, 'PSG': 0}\n",
    "serie_champions = pd.Series(champions)\n",
    "\n",
    "titulos_decada(serie_champions) # Se aplica la función sobre cada elemento de la serie. "
   ]
  },
  {
   "cell_type": "markdown",
   "metadata": {},
   "source": [
    "<a id=\"section32\"></a> \n",
    "## <font color=\"#004D7F\" face=\"monospace\"> apply() y map()</font>\n",
    "\n",
    "Las funciones `apply()`  y `map()` permiten _aplicar_ una función cualquiera a cada elemento de una serie. Como resultado de su aplicación, se genera otra serie. \n",
    "\n",
    "\n",
    "<div class=\"alert alert-block alert-info\">\n",
    "<i class=\"fa fa-info-circle\" aria-hidden=\"true\"></i>\n",
    "**Nota**: Estas funciones se utilizan de manera muy frecuente, ya permiten utilizar _cualquier_ función para transformar los valores de la serie. \n",
    "</div>"
   ]
  },
  {
   "cell_type": "code",
   "execution_count": null,
   "metadata": {},
   "outputs": [],
   "source": [
    "champions = {'Real Madrid':13, 'Manchester United':3, 'Milán':7, 'Bayern Munich':5, 'PSG': 0}\n",
    "europa_league = {'Real Madrid':2, 'Manchester United':1, 'Milán':0, 'Bayern Munich':1, 'PSG': 0}\n",
    "\n",
    "# Ahora solamente se dispone de una serie que se indexa por países. \n",
    "equipos = {'España': 'Real Madrid',\n",
    "           'Reino Unido': 'Manchester United',\n",
    "           'Italia': 'Milán',\n",
    "           'Francia': 'PSG',\n",
    "           'Alemania': 'Bayern Munich'}\n",
    "serie_equipos = pd.Series(equipos)\n",
    "\n",
    "def copas_equipo(equipo):                                        # Utilizamos get en lugar de [] en el acceso a los\n",
    "    return champions.get(equipo,0)+europa_league.get(equipo,0)   # diccionarios para poder devolver un valor por\n",
    "                                                                 # defecto (0) si el equipo no existe. \n",
    "serie_equipos.apply(copas_equipo)"
   ]
  },
  {
   "cell_type": "markdown",
   "metadata": {},
   "source": [
    "Es muy frecuente utilizar funciones `lambda` junto con `apply` o `map`."
   ]
  },
  {
   "cell_type": "code",
   "execution_count": null,
   "metadata": {},
   "outputs": [],
   "source": [
    "serie_equipos.map(lambda equipo: champions.get(equipo,0)+europa_league.get(equipo,0))"
   ]
  },
  {
   "cell_type": "markdown",
   "metadata": {},
   "source": [
    "<div class=\"alert alert-block alert-info\">\n",
    "<i class=\"fa fa-info-circle\" aria-hidden=\"true\"></i>\n",
    "**Nota**: Las funciones `lambda` se usan por agilidad y claridad en el código. No obstante, las funciones estándar son más eficientes.\n",
    "</div>"
   ]
  },
  {
   "cell_type": "markdown",
   "metadata": {},
   "source": [
    "<a id=\"section33\"></a> \n",
    "## <font color=\"#004D7F\"> Operaciones sobre Strings </font>\n",
    "\n",
    "Pandas implementa un conjunto de operaciones para el manejo de series de Strings, y que se aplican a nivel de elemento. Muchas de estas funciones corresponden con las equivalentes en las librerías de Python. El listado completo de funciones puede encontrarse en la sección correspondiente de la [API](https://pandas.pydata.org/pandas-docs/stable/api.html#string-handling)."
   ]
  },
  {
   "cell_type": "code",
   "execution_count": null,
   "metadata": {},
   "outputs": [],
   "source": [
    "equipos = {'España': 'Real Madrid',\n",
    "           'Reino Unido': 'Manchester',\n",
    "           'Italia': 'Milán',\n",
    "           'Francia': 'PSG',\n",
    "           'Alemania': 'Bayern Munich'}\n",
    "serie_equipos = pd.Series(equipos)\n",
    "\n",
    "# Pasa a mayúsculas cada elemento de la serie. \n",
    "serie_equipos = serie_equipos.str.upper()\n",
    "print(serie_equipos,'\\n')\n",
    "\n",
    "# Ahora deja solo cada inicial en mayúscula.\n",
    "serie_equipos = serie_equipos.str.capitalize()\n",
    "print(serie_equipos)"
   ]
  },
  {
   "cell_type": "markdown",
   "metadata": {},
   "source": [
    "<a id=\"section34\"></a> \n",
    "## <font color=\"#004D7F\"> Descripción y resumen </font>\n",
    "\n",
    "Los objetos de tipo `Series` implementan también una gran cantidad de funciones que actúan sobre el conjunto general de los datos. Algunas de ellas permiten obtener algunos datos de interés sobre la serie. El siguiente fragmento de código contiene ejemplos de llamadas a algunas de ellas. "
   ]
  },
  {
   "cell_type": "code",
   "execution_count": null,
   "metadata": {},
   "outputs": [],
   "source": [
    "champions = {'Real Madrid':13, 'Manchester United':3, 'Milán':7, 'Bayern Munich':5, 'PSG': 0}\n",
    "serie_champions = pd.Series(champions)\n",
    "\n",
    "print(\"Numero de elementos: \",serie_champions.count())                   \n",
    "print(\"Suma de los valores: \",serie_champions.sum())                      \n",
    "print(\"Índice del máximo valor: \",serie_champions.idxmax())                   \n",
    "print(\"Máximo valor: \",serie_champions.max())                     \n",
    "print(\"Media: \",serie_champions.mean())                      \n",
    "print(\"Desviación estándar: \", serie_champions.std())                      \n",
    "print(\"2 mayores valores: \",serie_champions.nlargest(2))  "
   ]
  },
  {
   "cell_type": "markdown",
   "metadata": {},
   "source": [
    "La función `describe` devuelve un resumen descriptivo de los datos. Admite algunos parámetros, como por ejemplo los percentiles. "
   ]
  },
  {
   "cell_type": "code",
   "execution_count": null,
   "metadata": {},
   "outputs": [],
   "source": [
    "equipos = {'España': 'Real Madrid', 'Reino Unido': 'Manchester', 'Italia': 'Milán','Francia': 'PSG', 'Alemania': 'Bayern Munich'}\n",
    "serie_equipos = pd.Series(equipos)\n",
    "\n",
    "champions = {'Real Madrid':13, 'Manchester United':3, 'Milán':7, 'Bayern Munich':5, 'PSG': 0}\n",
    "serie_champions = pd.Series(champions)\n",
    "\n",
    "print(\"Serie con valores numéricos:\")\n",
    "print(serie_champions.describe(percentiles=[0.2,0.4,0.6,0.8]),'\\n')                 # Resumen de los valores (datos numéricos) \n",
    "\n",
    "print(\"Serie con valores no numéricos:\")\n",
    "print(serie_equipos.describe(),'\\n')                   # Resumen de los valores (datos no numéricos)"
   ]
  },
  {
   "cell_type": "markdown",
   "metadata": {},
   "source": [
    "Mediante la función `unique()` es posible determinar qué valores aparecen en la serie. Esta funcionalidad es especialmente  útil cuando los valores son categóricos."
   ]
  },
  {
   "cell_type": "code",
   "execution_count": null,
   "metadata": {},
   "outputs": [],
   "source": [
    "europa_league = {'Real Madrid':2, 'Manchester United':1, 'Milán':0, \n",
    "                 'Bayern Munich':1, 'PSG': 0, 'Atlético de Madrid':2}\n",
    "serie_europa_league = pd.Series(europa_league)\n",
    "                                \n",
    "print(\"Valores distintos: \",serie_europa_league.unique())               \n",
    "print(\"Número de valores distintos:\", serie_europa_league.nunique())             \n",
    "print(\"Veces que aparece cada valor:\\n\", serie_europa_league.value_counts())          "
   ]
  },
  {
   "cell_type": "markdown",
   "metadata": {},
   "source": [
    "<a id=\"section35\"></a> \n",
    "## <font color=\"#004D7F\"> Manipulación de series </font>"
   ]
  },
  {
   "cell_type": "markdown",
   "metadata": {},
   "source": [
    "### <font color=\"#004D7F\"> Eliminación de elementos </font>\n",
    "\n",
    "Es posible eliminar elementos de la serie mediante la función `drop()`. Ésta recibe como argumento una clave."
   ]
  },
  {
   "cell_type": "code",
   "execution_count": null,
   "metadata": {},
   "outputs": [],
   "source": [
    "champions = {'Real Madrid':13, 'Manchester United':3, 'Milán':7, 'Bayern Munich':5, 'PSG': 0}\n",
    "serie_champions = pd.Series(champions)\n",
    "\n",
    "serie_champions.drop('Real Madrid')\n",
    "print(serie_champions)"
   ]
  },
  {
   "cell_type": "markdown",
   "metadata": {},
   "source": [
    "### <font color=\"#004D7F\"> Concatenación de series </font>\n",
    "\n",
    "El método `append()` permite concatenar series. "
   ]
  },
  {
   "cell_type": "code",
   "execution_count": null,
   "metadata": {},
   "outputs": [],
   "source": [
    "champions = {'Real Madrid':13, 'Manchester United':3, 'Milán':7, 'Bayern Munich':5, 'PSG': 0}\n",
    "serie_champions = pd.Series(champions)\n",
    "\n",
    "europa_league = {'Real Madrid':2, 'Manchester United':1, 'Milán':0, 'Bayern Munich':1, 'PSG': 0}\n",
    "serie_europa_league = pd.Series(europa_league)\n",
    "\n",
    "print(serie_champions.append(serie_europa_league))"
   ]
  },
  {
   "cell_type": "markdown",
   "metadata": {},
   "source": [
    "### <font color=\"#004D7F\">Sustitución de elementos </font>\n",
    "\n",
    "El método `replace()` permite reemplazar valores. Admite como parámetro un diccionario, permitiendo así sustituir varios valores a la vez. Incluso es posible utilizar expresiones regulares."
   ]
  },
  {
   "cell_type": "code",
   "execution_count": null,
   "metadata": {},
   "outputs": [],
   "source": [
    "champions = {'Real Madrid':13, 'Manchester United':3, 'Milán':7, 'Bayern Munich':5, 'PSG': 0, 'Atlético de Madrid':0}\n",
    "serie_champions = pd.Series(champions)\n",
    "print(serie_champions,'\\n')\n",
    "print(serie_champions.replace(0,'Nunca'),'\\n')\n",
    "\n",
    "equipos = {'España': 'Real Madrid', 'Reino Unido': 'Manchester United', 'Italia': 'Milán', 'Francia': 'PSG', 'Alemania': 'Bayern Munich'}\n",
    "serie_equipos = pd.Series(equipos)\n",
    "\n",
    "print(serie_equipos, '\\n')\n",
    "print(serie_equipos.replace({'Real Madrid':'Atlético de Madrid', 'Milán':'Juventus'}))"
   ]
  },
  {
   "cell_type": "markdown",
   "metadata": {},
   "source": [
    "<a id=\"section36\"></a> \n",
    "## <font color=\"#004D7F\"> Consulta y selección </font>\n",
    "\n",
    "Además de las posibilidades que ofrece la indexación, existen algunas funciones que permiten llevar a cabo diversas operaciones de consulta y selección sobre `Series`."
   ]
  },
  {
   "cell_type": "markdown",
   "metadata": {},
   "source": [
    "### <font color=\"#004D7F\" face=\"monospace\"> head() / tail() </font>\n",
    "\n",
    "\n",
    "La función `head()` muestra los primeros elementos de la serie; la función `tail()` los últimos."
   ]
  },
  {
   "cell_type": "code",
   "execution_count": null,
   "metadata": {},
   "outputs": [],
   "source": [
    "champions = {'Real Madrid':13, 'Manchester United':3, 'Milán':7, 'Bayern Munich':5, 'PSG': 0}\n",
    "serie_champions = pd.Series(champions)\n",
    "\n",
    "print(serie_champions.head(3),'\\n')                 # Devuelve los 3 primeros elementos. \n",
    "print(serie_champions.tail(2))                      # Devuelve los 2 últimos elementos. "
   ]
  },
  {
   "cell_type": "markdown",
   "metadata": {},
   "source": [
    "### <font color=\"#004D7F\" face=\"monospace\"> any() / all() </font>\n",
    "\n",
    "Las funciones denominadas `any()` y `all()`  permiten determinar si uno o todos  (respectivamente) los valores de la serie, son distintos de `False` (o 0). Estas funciones se suelen utilizar también junto a una condición. "
   ]
  },
  {
   "cell_type": "code",
   "execution_count": null,
   "metadata": {},
   "outputs": [],
   "source": [
    "champions = {'Real Madrid':13, 'Manchester United':3, 'Milán':7, 'Bayern Munich':5, 'PSG': 0}\n",
    "serie_champions = pd.Series(champions)\n",
    "\n",
    "print(serie_champions.any())\n",
    "print(serie_champions.all(),'\\n')\n",
    "\n",
    "print(serie_champions>2,'\\n')                      # Esta comparación genera una serie. \n",
    "\n",
    "print((serie_champions>=2).any())                  # Se le puede aplicar la función any()."
   ]
  },
  {
   "cell_type": "markdown",
   "metadata": {},
   "source": [
    "### <font color=\"#004D7F\" face=\"monospace\">isna()/isnull() y notna()/notnull() </font>\n",
    "\n",
    "También existen las funciones `isna()`/`isnull()` y `notna()`/`notnull()` que permiten determinar qué elementos de la serie son `NaN` (o `None`, dependiendo del tipo de datos) o no lo son."
   ]
  },
  {
   "cell_type": "code",
   "execution_count": null,
   "metadata": {},
   "outputs": [],
   "source": [
    "import numpy as np\n",
    "\n",
    "champions = {'Real Madrid':13, 'Manchester United':3, 'Milán':7, 'Bayern Munich':5, 'PSG': 0}\n",
    "serie_champions = pd.Series(champions)\n",
    "serie_champions['Real Madrid']=np.nan       # Muestra qué elementos son null o na.\n",
    "\n",
    "print(serie_champions.isnull())"
   ]
  },
  {
   "cell_type": "markdown",
   "metadata": {},
   "source": [
    "### <font color=\"#004D7F\" face=\"monospace\"> where() y mask() </font>\n",
    "\n",
    "La función `where(condición)` devuelve una serie en la que los elementos que __no__ cumplen la conadición toman un valor predefinido, que por defecto es `NaN`, pero puede ser un escalar, o incluso el valor correspondiente en otra serie. "
   ]
  },
  {
   "cell_type": "code",
   "execution_count": null,
   "metadata": {},
   "outputs": [],
   "source": [
    "print(serie_champions.where((serie_champions > 3) & (serie_champions<10)))\n",
    "print()\n",
    "print(\"Con un 0 por defecto:\")\n",
    "print(serie_champions.where((serie_champions > 3) & (serie_champions<10),0))\n",
    "print()\n",
    "print(\"A los que tienen menos de 3 champions, o más de 10, les asigna el número de Europa League\")\n",
    "print(serie_champions.where((serie_champions > 3) & (serie_champions<10),serie_europa_league))"
   ]
  },
  {
   "cell_type": "markdown",
   "metadata": {},
   "source": [
    "<div class=\"alert alert-block alert-warning\">\n",
    "<i class=\"fa fa-exclamation-circle\" aria-hidden=\"true\"></i>\n",
    "Además de la posibilidad de reemplazar los elementos que no cumplen la condición, la diferencia de esta función con la indexación es que esta última opción solamente devuelve los elementos que cumplen la condición.\n",
    "</div>"
   ]
  },
  {
   "cell_type": "code",
   "execution_count": null,
   "metadata": {},
   "outputs": [],
   "source": [
    "serie_champions[(serie_champions>3) & (serie_champions<12)]"
   ]
  },
  {
   "cell_type": "markdown",
   "metadata": {},
   "source": [
    "La función `mask()` es similar a la anterior, pero copia tal cual los elementos que __no__ cumplen la condición."
   ]
  },
  {
   "cell_type": "code",
   "execution_count": null,
   "metadata": {},
   "outputs": [],
   "source": [
    "print(\"Con un 0 por defecto:\")\n",
    "print(serie_champions.mask((serie_champions > 5),0))"
   ]
  },
  {
   "cell_type": "markdown",
   "metadata": {},
   "source": [
    "<a id=\"section4\"></a>\n",
    "# <font color=\"#004D7F\"> 4. Datos categóricos </font>\n",
    "\n",
    "<br>\n",
    "Pandas implementa un tipo de datos específico para el trabajo con datos categóricos, es decir, variables que pueden tomar un número limitado de valores. Aunque estos se visualizan generalmente como Strings, internamente se representan mediante (enteros), lo cual permite aumentar la eficiencia en su tratamiento."
   ]
  },
  {
   "cell_type": "markdown",
   "metadata": {},
   "source": [
    "<a id=\"section41\"></a>\n",
    "## <font color=\"#004D7F\"> El objeto <font face=\"monospace\">Categorical</font> y el tipo  <font face=\"monospace\">CategoricalDType </font></font>\n",
    "\n",
    "<br>\n",
    "El objeto `pd.Categorical` permite representar __una colección__ (_no una serie_) de datos relativos a categorías. Por defecto, considera tantas categorías como detecta en los datos, pero éstas se pueden especificar mediante el argumento `categories`."
   ]
  },
  {
   "cell_type": "code",
   "execution_count": null,
   "metadata": {},
   "outputs": [],
   "source": [
    "calidades = pd.Categorical([\"primera\",\"segunda\",\"tercera\",\"primera\", \"tercera\", \"especial\"])\n",
    "print(calidades,'\\n')\n",
    "\n",
    "# Solo considera tres categorías. \n",
    "calidades = pd.Categorical([\"primera\",\"segunda\",\"tercera\",\"primera\", \"tercera\", \"especial\"],\n",
    "                           categories=[\"primera\",\"segunda\",\"especial\"])\n",
    "print(calidades)"
   ]
  },
  {
   "cell_type": "markdown",
   "metadata": {},
   "source": [
    "<div class=\"alert alert-block alert-info\">\n",
    "<i class=\"fa fa-info-circle\" aria-hidden=\"true\"></i>\n",
    "\n",
    "En una colección de valores categóricos, aquellos cuya categoría no ha sido especificada se codifican como `np.NaN`.\n",
    "</div>\n",
    "\n",
    "También es posible asignar un orden en las categorías."
   ]
  },
  {
   "cell_type": "code",
   "execution_count": null,
   "metadata": {},
   "outputs": [],
   "source": [
    "calidades = pd.Categorical([\"primera\",\"segunda\",\"tercera\",\"primera\", \"tercera\", \"especial\"]\n",
    "                          ,categories=[\"primera\",\"segunda\",\"especial\"], ordered=True)\n",
    "print(calidades)\n",
    "print(type(calidades))"
   ]
  },
  {
   "cell_type": "markdown",
   "metadata": {},
   "source": [
    "Una categoría se define por dos parámetros:\n",
    "\n",
    "1. `categories`: La secuencia de valores que representan las categorías.\n",
    "2. `ordered`: Un valor booleano que representa si se establece un orden o no en las categorías. \n",
    "\n",
    "Ambos se representan en el tipo `CategoricalDType`."
   ]
  },
  {
   "cell_type": "code",
   "execution_count": null,
   "metadata": {},
   "outputs": [],
   "source": [
    "from pandas.api.types import CategoricalDtype\n",
    "\n",
    "tipo_calidades = CategoricalDtype(categories=[\"primera\",\"segunda\",\"especial\"], ordered=True)"
   ]
  },
  {
   "cell_type": "markdown",
   "metadata": {},
   "source": [
    "Es posible construir una secuencia de valores categóricos pasando como parámetro un objeto de tipo `CategoricalDtype` a través del parámetro `dtype`."
   ]
  },
  {
   "cell_type": "code",
   "execution_count": null,
   "metadata": {},
   "outputs": [],
   "source": [
    "calidades = pd.Categorical([\"primera\",\"segunda\",\"tercera\",\"primera\", \"tercera\", \"especial\"], dtype=tipo_calidades)\n",
    "print(calidades)"
   ]
  },
  {
   "cell_type": "markdown",
   "metadata": {},
   "source": [
    "<a id=\"section42\"></a>\n",
    "## <font color=\"#004D7F\"> Series con valores categóricos</font>\n",
    "\n",
    "\n",
    "Se puede crear una serie de valores categóricos directamente, especificando (a través de `dtype`) el tipo `category`."
   ]
  },
  {
   "cell_type": "code",
   "execution_count": null,
   "metadata": {},
   "outputs": [],
   "source": [
    "# Crea una serie con valores de tipo category\n",
    "calidades = pd.Series([\"primera\",\"segunda\",\"tercera\",\"primera\", \"tercera\", \"especial\"], dtype=\"category\")\n",
    "print(calidades,'\\n')\n",
    "\n",
    "# Crea una serie de valores de tipo String\n",
    "calidades = pd.Series([\"primera\",\"segunda\",\"tercera\",\"primera\", \"tercera\", \"especial\"])\n",
    "print(calidades,'\\n')\n",
    "print()\n",
    "\n",
    "# Convierte la serie a valores de tipo category\n",
    "calidades = calidades.astype(\"category\")\n",
    "print(calidades)"
   ]
  },
  {
   "cell_type": "markdown",
   "metadata": {},
   "source": [
    "También es posible crear la serie pasando como tipo un objeto  `CategoricalDtype`."
   ]
  },
  {
   "cell_type": "code",
   "execution_count": null,
   "metadata": {},
   "outputs": [],
   "source": [
    "tipo_calidades = CategoricalDtype(categories=[\"primera\",\"segunda\",\"especial\"], ordered=True)\n",
    "calidades = pd.Series([\"primera\",\"segunda\",\"tercera\",\"primera\", \"tercera\", \"especial\"], dtype=tipo_calidades)\n",
    "print(calidades)"
   ]
  },
  {
   "cell_type": "markdown",
   "metadata": {},
   "source": [
    "### <font color=\"#004D7F\"> Manipulación de las categorías </font>\n",
    "\n",
    "En series categóricas, es posible acceder a las propiedades de las categorías a través del atributo `cat`."
   ]
  },
  {
   "cell_type": "code",
   "execution_count": null,
   "metadata": {},
   "outputs": [],
   "source": [
    "print(calidades.cat.categories)\n",
    "print(calidades.cat.ordered)"
   ]
  },
  {
   "cell_type": "markdown",
   "metadata": {},
   "source": [
    "<div class=\"alert alert-block alert-info\">\n",
    "<i class=\"fa fa-info-circle\" aria-hidden=\"true\"></i>\n",
    "Internamente, la serie contiene, en el atributo `values`, un objeto del tipo `Categorical`. Es posible acceder a sus campos y métodos, pero es preferible hacer este acceso a traves de serie.cat. \n",
    "</div>"
   ]
  },
  {
   "cell_type": "markdown",
   "metadata": {},
   "source": [
    "Es posible renombrar las categorías accediendo directamente al atributo `cat.categories`."
   ]
  },
  {
   "cell_type": "code",
   "execution_count": null,
   "metadata": {},
   "outputs": [],
   "source": [
    "tipo_calidades = CategoricalDtype(categories=[\"primera\",\"segunda\",\"especial\"], ordered=True)\n",
    "calidades = pd.Series([\"primera\",\"segunda\",\"tercera\",\"primera\", \"tercera\", \"especial\"], dtype=tipo_calidades)\n",
    "print(calidades,'\\n')\n",
    "\n",
    "calidades.cat.categories = ['1ª','2ª','Extra']\n",
    "print(calidades)"
   ]
  },
  {
   "cell_type": "markdown",
   "metadata": {},
   "source": [
    "También mediante el método `rename_categories()` de `Categorical`.\n",
    "\n",
    "<div class=\"alert alert-block alert-warning\">\n",
    "<i class=\"fa fa-exclamation-circle\" aria-hidden=\"true\"></i>\n",
    "Las funciones que se aplican a `Categorical` se pueden aplicar a `Series.cat`. La aplicación de éstas genera una nueva serie. Para modificar la original, hay que pasar el parámetro `inplace=True`.\n",
    "</div>"
   ]
  },
  {
   "cell_type": "code",
   "execution_count": null,
   "metadata": {},
   "outputs": [],
   "source": [
    "tipo_calidades = CategoricalDtype(categories=[\"primera\",\"segunda\",\"especial\"], ordered=True)\n",
    "calidades = pd.Series([\"primera\",\"segunda\",\"tercera\",\"primera\", \"tercera\", \"especial\"], dtype=tipo_calidades)\n",
    "calidades.cat.rename_categories(['1ª','2ª','Extra'], inplace=True)\n",
    "print(calidades,'\\n')\n",
    "\n",
    "# También puede tomar un diccionario\n",
    "calidades.cat.rename_categories({'1ª':'primera otra vez','2ª':'segunda otra vez','Extra':'extra otra vez'}, inplace=True)\n",
    "print(calidades)"
   ]
  },
  {
   "cell_type": "markdown",
   "metadata": {},
   "source": [
    "Es posible añadir y borrar categorías con las funciones`add_categories`, `remove_categories`, respectivamente. "
   ]
  },
  {
   "cell_type": "code",
   "execution_count": null,
   "metadata": {},
   "outputs": [],
   "source": [
    "tipo_calidades = CategoricalDtype(categories=[\"primera\",\"segunda\",\"especial\"], ordered=True)\n",
    "calidades = pd.Series([\"primera\",\"segunda\",\"tercera\",\"primera\", \"tercera\", \"especial\"], dtype=tipo_calidades)\n",
    "print(calidades,'\\n')\n",
    "\n",
    "calidades.cat.add_categories([\"otra\"], inplace=True)\n",
    "print(calidades)"
   ]
  },
  {
   "cell_type": "markdown",
   "metadata": {},
   "source": [
    "También es posible borrar solamente las categorías que no aperecen mediante `remove_unused_categories`."
   ]
  },
  {
   "cell_type": "code",
   "execution_count": null,
   "metadata": {},
   "outputs": [],
   "source": [
    "calidades=calidades.cat.remove_unused_categories()\n",
    "print(calidades)"
   ]
  },
  {
   "cell_type": "markdown",
   "metadata": {},
   "source": [
    "El método `set_categories()` permite fijar las categorías directamente.  Al aplicarlo, todos aquellos valores que no correspondan con alguna de las nuevas categorías, pasan a valer `NaN`."
   ]
  },
  {
   "cell_type": "code",
   "execution_count": null,
   "metadata": {},
   "outputs": [],
   "source": [
    "calidades.cat.set_categories([\"2ª\",\"primera\",\"Extra\"], ordered=True, inplace=True)\n",
    "print(calidades)"
   ]
  },
  {
   "cell_type": "markdown",
   "metadata": {},
   "source": [
    "También es posible cambiar solamente el orden entre las categorías mediante `reorder_categories()`."
   ]
  },
  {
   "cell_type": "code",
   "execution_count": null,
   "metadata": {},
   "outputs": [],
   "source": [
    "tipo_calidades = CategoricalDtype(categories=[\"primera\",\"segunda\",\"especial\"], ordered=True)\n",
    "calidades = pd.Series([\"primera\",\"segunda\",\"tercera\",\"primera\", \"tercera\", \"especial\"], dtype=tipo_calidades)\n",
    "print(calidades,'\\n')\n",
    "\n",
    "calidades.cat.reorder_categories([\"segunda\",\"primera\",\"especial\"], ordered=True)"
   ]
  },
  {
   "cell_type": "markdown",
   "metadata": {},
   "source": [
    "### <font color=\"#004D7F\"> Ordenación según categorías</font>\n",
    "\n",
    "Es posible ordenar las series en función de las etiquetas mediante `sort_values()`. "
   ]
  },
  {
   "cell_type": "code",
   "execution_count": null,
   "metadata": {},
   "outputs": [],
   "source": [
    "tipo_calidades = CategoricalDtype(categories=[\"segunda\",\"primera\",\"especial\"], ordered=True)\n",
    "calidades = pd.Series([\"primera\",\"segunda\",\"tercera\",\"primera\", \"tercera\", \"especial\"], dtype=tipo_calidades)\n",
    "\n",
    "print(calidades.sort_values(),'\\n')"
   ]
  },
  {
   "cell_type": "markdown",
   "metadata": {},
   "source": [
    "Igualmente, es posible transformar series ordenadas a no ordenadas o viceversa. Estas operaciones producen nuevas series a menos que se fije `inplace=True`. "
   ]
  },
  {
   "cell_type": "code",
   "execution_count": null,
   "metadata": {},
   "outputs": [],
   "source": [
    "print(calidades.cat.as_ordered(),'\\n')\n",
    "print(calidades.cat.as_unordered())"
   ]
  },
  {
   "cell_type": "markdown",
   "metadata": {},
   "source": [
    "<a id=\"section5\"></a>\n",
    "# <font color=\"#004D7F\"> 5. Datos temporales en Pandas </font>\n",
    "\n",
    "<br>\n",
    "Pandas proporciona objetos y una gran cantidad de funcionalidades para el manejo de datos relativos a fechas y horas. \n",
    "Una descripción detallada puede encontrarse en la [documentación relativa a series temporales en Pandas](http://pandas.pydata.org/pandas-docs/stable/timeseries.html#).\n",
    "\n",
    "Los objetos utilizados en la representación de datos temporales son:\n",
    "\n",
    "* `TimeStamp`. Que representa marcas de tiempo (en concreto, nanosegundos desde el primer instante del 01/01/1970), y que pueden ser convertidas a distintos formatos.\n",
    "\n",
    "* `DatetimeIndex`. Que permite construir índices con marcas de tiempo.\n",
    "\n",
    "* `Period`. Representa periodos de tiempo.\n",
    "\n",
    "* `PeriodIndex`. Permite construir índices con periodos de tiempo.\n",
    "\n",
    "* `Timedelta`. Permite representar intervalos de tiempo. \n",
    "\n",
    "A continuación se describen estos, así como las principales funciones para su manejo.\n",
    "\n",
    "<div class=\"alert alert-block alert-danger\">\n",
    "<i class=\"fa fa-exclamation-triangle\" aria-hidden=\"true\"></i>\n",
    "Python, Numpy y Pandas manejan de manera distinta las marcas temporales (Pandas extiende la funcionalidad de Numpy). También proporcionan funciones para transformar unas en otras. En este tutorial nos centraremos en las funcionalidades de Pandas.\n",
    "</div>"
   ]
  }
 ],
 "metadata": {
  "kernelspec": {
   "display_name": "Python 3",
   "language": "python",
   "name": "python3"
  },
  "language_info": {
   "codemirror_mode": {
    "name": "ipython",
    "version": 3
   },
   "file_extension": ".py",
   "mimetype": "text/x-python",
   "name": "python",
   "nbconvert_exporter": "python",
   "pygments_lexer": "ipython3",
   "version": "3.7.3"
  }
 },
 "nbformat": 4,
 "nbformat_minor": 2
}
