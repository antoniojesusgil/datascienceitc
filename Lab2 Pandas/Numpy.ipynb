{
 "cells": [
  {
   "cell_type": "markdown",
   "metadata": {},
   "source": [
    "\n",
    "<h2><font color=\"#004D7F\" size=5>Módulo 1</font></h2>\n",
    "\n",
    "\n",
    "\n",
    "<h1><font color=\"#004D7F\" size=6>Introducción a Numpy</font></h1>\n",
    "\n",
    "<br><br>\n",
    "<div style=\"text-align: right\">\n",
    "<font color=\"#004D7F\" size=3>Antonio Jesús Gil</font><br>\n",
    "<font color=\"#004D7F\" size=3>Ciencia de Datos </font><br>\n",
    "\n",
    "</div>\n"
   ]
  },
  {
   "cell_type": "markdown",
   "metadata": {},
   "source": [
    "---\n",
    "<h2><font color=\"#004D7F\" size=5>Índice</font></h2><a id=\"indice\"></a>\n",
    "\n",
    "\n",
    "* [1. Introducción](#section1)\n",
    "* [2. Creación de arrays](#section2)\n",
    "    * [Creación de un array NumPy](#section21)\n",
    "    * [Tipos de datos de los elementos del array](#section22)\n",
    "    * [Creación de un array bidimensional](#section23)\n",
    "    * [Dimensiones de un array](#section24)\n",
    "    * [Funciones para la inicialización de arrays](#section25)\n",
    "    * [Inicialización a partir de colecciones](#section26)\n",
    "    * [Inicialización a partir de rangos numéricos](#section27)\n",
    "    \n",
    "* [3. Acceso a elementos e indexación de arrays](#section3)\n",
    "    * [Acceso a los elementos de un array](#section31)\n",
    "    * [Slicing](#section32)\n",
    "    * [Indexación mediante arrays de enteros](#section33)\n",
    "    * [Indexación mediante arrays de valores booleanos](#section34)"
   ]
  },
  {
   "cell_type": "markdown",
   "metadata": {},
   "source": [
    "---\n",
    "\n",
    "<a id=\"section1\"></a> \n",
    "<h2><font color=\"#004D7F\" size=5> 1. Introducción</font></h2>\n",
    "<br>\n",
    "\n",
    "[** NumPy **](http://www.numpy.org) es la librería para procesamiento numérico de Python. Proporciona funcionalidades para el manejo _eficiente_ de vectores, y es la base de otras librerías, como ** SciPy**, ** Pandas ** o ** Scikit-learn**.\n",
    "\n",
    "En estas libretas se presentarán, mediante ejemplos, los conceptos de __Numpy__ que son necesarios para el seguimiento del curso, y que serán ampliados a lo largo del mismo.  Esta introducción puede completarse con la abundante información existente en la red, y con la [documentación oficial de NumPy](https://docs.scipy.org/doc/numpy/index.html). "
   ]
  },
  {
   "cell_type": "markdown",
   "metadata": {},
   "source": [
    "---\n",
    "\n",
    "<a id=\"section2\"></a> \n",
    "<h2><font color=\"#004D7F\" size=5> 2. Creación de arrays</font></h2>\n",
    "<br>\n",
    "\n",
    "En NumPy, un array (un objeto de la clase `ndarray`) es una colección _multidimensional_ de valores del mismo tipo, indexada por enteros. \n",
    "\n",
    "<a id=\"section21\"></a> \n",
    "<h2><font color=\"#004D7F\" size=4> Creación de un array NumPy </font></h2>\n",
    " \n",
    "\n",
    "Los arrays pueden inicializarse a partir de colecciones de Python."
   ]
  },
  {
   "cell_type": "code",
   "execution_count": null,
   "metadata": {},
   "outputs": [],
   "source": [
    "import numpy as np\n",
    "\n",
    "v = np.array([2, 4, 6, 8, 10, 12])  # Crea un vector de 6 elementos a partir de una lista\n",
    "print(v)                      "
   ]
  },
  {
   "cell_type": "markdown",
   "metadata": {},
   "source": [
    "---\n",
    "\n",
    "<a id=\"section22\"></a> \n",
    "<h2><font color=\"#004D7F\" size=4> Tipos de datos de los elementos del array </font></h2>\n",
    "<br>\n",
    "\n",
    "El tipo de los elementos del array es definido por la propiedad `dtype`. El tipo se establece de manera automática en función de los valores del array, a menos que se especifique en el constructor. \n",
    "\n",
    "Aunque los tipos más comunes son `int64` y `float64`, Numpy implementa una gran cantidad de tipos. Información detallada al respecto puede encontrarse en la [documentación oficial de NumPy](https://docs.scipy.org/doc/numpy/reference/arrays.dtypes.html)."
   ]
  },
  {
   "cell_type": "code",
   "execution_count": null,
   "metadata": {},
   "outputs": [],
   "source": [
    "# Imprime el tipo de datos del vector anterior.\n",
    "print(\"v:\", v)\n",
    "print(\"Tipo de v:\", v.dtype)   \n",
    "print()\n",
    "\n",
    "# Crea un vector similar, pero de tipo float\n",
    "vf = np.array([2, 4, 6, 8, 10, 12], dtype = float)\n",
    "print(\"vf:\", vf)\n",
    "print(\"Tipo de vf: \",vf.dtype) "
   ]
  },
  {
   "cell_type": "markdown",
   "metadata": {
    "slideshow": {
     "slide_type": "-"
    }
   },
   "source": [
    "Además de los valores numéricos, los arrays pueden contener otros valores especiales. Los más importantes son:\n",
    "\n",
    "- `np.nan` representa el valor \"_Not a number_\". \n",
    "- `np.inf` representa el valor infinito."
   ]
  },
  {
   "cell_type": "markdown",
   "metadata": {},
   "source": [
    "<div class=\"alert alert-block alert-warning\">\n",
    "<i class=\"fa fa-exclamation-circle\" aria-hidden=\"true\"></i>\n",
    "Estos valores se codifican como valores en punto flotante. No es posible asignarlos a una posición de un array de enteros.\n",
    "</div>"
   ]
  },
  {
   "cell_type": "markdown",
   "metadata": {},
   "source": [
    "---\n",
    "\n",
    "<a id=\"section23\"></a> \n",
    "<h2><font color=\"#004D7F\" size=4> Creación de un array bidimensional </font></h2>\n",
    "<br>\n",
    "\n",
    "Se puede crear con una \"lista de listas\" (en realidad, colección de colecciones). Por defecto, cada una de ellas corresponde a una dimensión."
   ]
  },
  {
   "cell_type": "code",
   "execution_count": null,
   "metadata": {},
   "outputs": [],
   "source": [
    "m = np.array([[1,2,3],[4,5,6]])     # Crea una matriz bidimensional\n",
    "print(\"m:\")\n",
    "print(m)       "
   ]
  },
  {
   "cell_type": "markdown",
   "metadata": {},
   "source": [
    "---\n",
    "\n",
    "<a id=\"section24\"></a> \n",
    "<h2><font color=\"#004D7F\" size=4> Dimensiones de un array </font></h2>\n",
    "<br>\n",
    "\n",
    "La propiedad `ndim` contiene el número de dimensiones del array, mientras que la propiedad denominada `shape` (una tupla) contiene el tamaño del array en cada dimensión.\n",
    "\n",
    "__Nota__: Por mantener la nomenclatura \"natural\" en castellano, nos refereremos a `ndim` como \"_número de dimensiones_\", y a `shape` como \"_dimensiones_\"."
   ]
  },
  {
   "cell_type": "code",
   "execution_count": null,
   "metadata": {},
   "outputs": [],
   "source": [
    "print(\"Número de dimensiones y dimensiones de v:\",v.ndim, v.shape)      # Array de seis elementos\n",
    "print(\"Número de dimensiones y dimensiones de m:\",m.ndim, m.shape)      # Matriz de 2x3"
   ]
  },
  {
   "cell_type": "markdown",
   "metadata": {},
   "source": [
    "<div class=\"alert alert-block alert-info\">\n",
    "<i class=\"fa fa-info-circle\" aria-hidden=\"true\"></i>\n",
    "En matrices bidimensionales, se considera que la primera dimensión se refiere a la fila y la segunda a la columna.</div>"
   ]
  },
  {
   "cell_type": "markdown",
   "metadata": {},
   "source": [
    "Cambiando los valores de la propiedad `shape` se redimensiona el array."
   ]
  },
  {
   "cell_type": "code",
   "execution_count": null,
   "metadata": {},
   "outputs": [],
   "source": [
    "v.shape = (3,2)                         # Redimensiona el vector de 6 elementos a una matriz de 3 filas y 2 columnas\n",
    "print(v)\n",
    "print()\n",
    "\n",
    "v.shape=(6)                             # Vuelve a redimensionar la matriz como un vector de 6 elementos.\n",
    "print(v)"
   ]
  },
  {
   "cell_type": "markdown",
   "metadata": {},
   "source": [
    "---\n",
    "\n",
    "<a id=\"section25\"></a>\n",
    "<h2><font color=\"#004D7F\" size=4> Funciones para la inicialización de arrays </font></h2> \n",
    "<br>\n",
    "\n",
    "NumPy proporciona funciones para llevar a cabo distintas inicializaciones de matrices sin necesidad de especificar los datos."
   ]
  },
  {
   "cell_type": "code",
   "execution_count": null,
   "metadata": {},
   "outputs": [],
   "source": [
    "print(\"\\nMatriz vacía:\")\n",
    "mv = np.empty((2,2))                                    # Crea la matriz vacía con valores indeterminados.\n",
    "print(mv,'\\n')  \n",
    "\n",
    "print(\"Matriz de ceros:\")\n",
    "mz = np.zeros((2,3))                                    # Inicializa un array con ceros.\n",
    "print(mz,'\\n')  \n",
    "\n",
    "print(\"\\nMatriz de unos:\")\n",
    "mu = np.ones((2,3))                                     # Inicializa un array con unos.\n",
    "print(mu,'\\n')                \n",
    "\n",
    "print(\"\\nMatriz inicializada a un valor constante:\")\n",
    "mc = np.full((2,2), 7.2)                                # Inicializa un array con un valor constante.\n",
    "print(mc,'\\n')  \n",
    "\n",
    "print(\"\\nMatriz identidad:\")\n",
    "mi = np.eye(2)                                          # Crea la matriz identidad\n",
    "print(mi,'\\n')  \n",
    "    \n",
    "print(\"\\nMatriz con valores aleatorios:\")\n",
    "mr = np.random.random((2,2))                            # Crea un array con valores aleatorios\n",
    "print(mr,'\\n')"
   ]
  },
  {
   "cell_type": "markdown",
   "metadata": {},
   "source": [
    "Estas funciones también permiten que se especifique el tipo de datos."
   ]
  },
  {
   "cell_type": "code",
   "execution_count": null,
   "metadata": {},
   "outputs": [],
   "source": [
    "print(\"\\nMatriz inicializada a un valor constante (con enteros):\")\n",
    "mc = np.full((2,2), 7, dtype=int)  \n",
    "print(mc)\n",
    "print('\\n Tipo de mc:',mc.dtype)"
   ]
  },
  {
   "cell_type": "markdown",
   "metadata": {},
   "source": [
    "---\n",
    "\n",
    "<a id=\"section26\"></a> \n",
    "<h2><font color=\"#004D7F\" size=4> Inicialización a partir de colecciones </font></h2>\n",
    "<br>\n",
    "\n",
    "La función `np.asarray()` se puede utilizar para convertir una secuencia en un array. Es parecida al método `np.array()`, pero permite menos parámetros, y hace una copia de la colección solamente si es necesario."
   ]
  },
  {
   "cell_type": "code",
   "execution_count": null,
   "metadata": {},
   "outputs": [],
   "source": [
    "l = [2,2,2]\n",
    "a = np.asarray(l)\n",
    "print(a)"
   ]
  },
  {
   "cell_type": "markdown",
   "metadata": {},
   "source": [
    "---\n",
    "\n",
    "<a id=\"section27\"></a> \n",
    "<h2><font color=\"#004D7F\" size=4> Inicialización a partir de rangos numéricos</font></h2>\n",
    "<br>\n",
    "\n",
    "La función `np.arange()` devuelve un vector de valores distribuidos uniformemente en el rango especificado."
   ]
  },
  {
   "cell_type": "code",
   "execution_count": null,
   "metadata": {},
   "outputs": [],
   "source": [
    "x = np.arange(10)                           # Crea un array con valores del 0 al 9\n",
    "print(x)\n",
    "\n",
    "x = np.arange(2,10)                         # Crea un array con valores del 2 al 9\n",
    "print(x)\n",
    "\n",
    "x = np.arange(2,10,3)                       # Crea un array con valores del 2 al 9 separados por intervalos de 3\n",
    "print(x)\n",
    "\n",
    "x = np.arange(2,10,dtype=float)             # También puede especificar el dtype\n",
    "print(x)"
   ]
  },
  {
   "cell_type": "markdown",
   "metadata": {},
   "source": [
    "La función `np.linspace()` es muy parecida a la anterior, pero en lugar de especificar la distancia entre valores, permite especificar el número de valores dentro del intervalo."
   ]
  },
  {
   "cell_type": "code",
   "execution_count": null,
   "metadata": {},
   "outputs": [],
   "source": [
    "x = np.linspace(10,20,5)                    # Crea un vector con 5 valores igualmente espaciados que van del 10 al 20\n",
    "print(x)\n",
    "\n",
    "x = np.linspace(10,20, 5, endpoint = False) # Se puede excluir el punto final.\n",
    "print(x)\n",
    "\n",
    "x = np.linspace(10,20,5, retstep = True)    # Fijando retstep a True puede devolver también el tamaño del intervalo \n",
    "print(x)                                    # El resultado es una tupla (array, intervalo)"
   ]
  },
  {
   "cell_type": "markdown",
   "metadata": {},
   "source": [
    "La función `np.logspace(start, stop, num, endpoint, base, dtype)` es muy parecida a la anterior, pero devuelve un array de valores distribuidos uniformemente en escala logarítmica en el intervalo\n",
    "$$ [base^{start}, base^{stop}]$$"
   ]
  },
  {
   "cell_type": "code",
   "execution_count": null,
   "metadata": {},
   "outputs": [],
   "source": [
    "x = np.logspace(1.0, 3.0, num = 10)        # Por defecto, base=10 devuelve números entre 10 y 1000\n",
    "print(x)\n",
    "print()\n",
    "\n",
    "x = np.logspace(1.0, 10.0, base=2, num = 10) \n",
    "print(x)"
   ]
  },
  {
   "cell_type": "markdown",
   "metadata": {},
   "source": [
    "---\n",
    "\n",
    "<h3><font color=\"#004D7F\" size=4> <i class=\"fa fa-pencil-square-o\" aria-hidden=\"true\" style=\"color:#113D68\"></i> Ejercicio</font></h3>\n"
   ]
  },
  {
   "cell_type": "markdown",
   "metadata": {},
   "source": [
    "Crear un vector de tamaño 20 que contenga valores del cero al cien distribuídos de manera equidistante."
   ]
  },
  {
   "cell_type": "code",
   "execution_count": null,
   "metadata": {},
   "outputs": [],
   "source": [
    "\n"
   ]
  },
  {
   "cell_type": "markdown",
   "metadata": {},
   "source": [
    "Generar esos mismos valores pero como enteros. Para eso, utilizar el parámetro `dtype`."
   ]
  },
  {
   "cell_type": "code",
   "execution_count": null,
   "metadata": {},
   "outputs": [],
   "source": [
    "\n",
    "print(x)"
   ]
  },
  {
   "cell_type": "markdown",
   "metadata": {},
   "source": [
    "Convertir el vector en una matriz de tamaño 4 x 5."
   ]
  },
  {
   "cell_type": "code",
   "execution_count": null,
   "metadata": {},
   "outputs": [],
   "source": [
    "\n",
    "\n",
    "print(x)"
   ]
  },
  {
   "cell_type": "markdown",
   "metadata": {},
   "source": [
    "---\n",
    "<a id=\"section3\"></a> \n",
    "<h2><font color=\"#004D7F\" size=5> 3. Acceso a elementos e indexación de arrays</font></h2>\n",
    "<br>\n",
    "\n",
    "Numpy proporciona varios modos para indexar los arrays.\n",
    "\n",
    "---\n",
    "\n",
    "<a id=\"section31\"></a> \n",
    "<h2><font color=\"#004D7F\" size=4> Acceso a los elementos de un array</font></h2>\n",
    "<br>\n",
    "\n",
    "Al igual que en las colecciones de Python, y los vectores y matrices en todos los lenguajes de programación, los elementos pueden ser accedidos mediante índices especificados entre corchetes."
   ]
  },
  {
   "cell_type": "code",
   "execution_count": null,
   "metadata": {},
   "outputs": [],
   "source": [
    "v = np.arange(6)               # Crea el array [0,1,2,3,4,5]\n",
    "print(v[0])                               \n",
    "v[5]=10                                           \n",
    "print(v[-1])                   # Imprime el último elemento (se podría haber utilizado también v[5])"
   ]
  },
  {
   "cell_type": "markdown",
   "metadata": {},
   "source": [
    "Para acceder a un elemento de un array bidimensional puede utilizarse una lista de índices, cada uno correspondiente a unda dimensión."
   ]
  },
  {
   "cell_type": "code",
   "execution_count": null,
   "metadata": {},
   "outputs": [],
   "source": [
    "print(m)                          # Imprime la matriz\n",
    "print(m[0, 0], m[0, 1], m[1, 0])  # Imprime \"1 2 4\""
   ]
  },
  {
   "cell_type": "markdown",
   "metadata": {},
   "source": [
    "---\n",
    "<a id=\"section32\"></a>\n",
    "<h2><font color=\"#004D7F\" size=4> Slicing</font></h2> \n",
    "<br>\n",
    "\n",
    "De manera similar a las colecciones standard de Python, se pueden indicar rangos de índices mediante el sígno \":\", e incluso se pueden indicar secuencias. "
   ]
  },
  {
   "cell_type": "code",
   "execution_count": null,
   "metadata": {},
   "outputs": [],
   "source": [
    "a = np.arange(10)\n",
    "print(a)\n",
    "print(a[2])                              # Imprime el tercer valor (se indexa a partir del cero) \n",
    "print(a[2:])                             # Imprime desde el tercer valor en adelante\n",
    "print(a[2:-1])                           # Imprime desde el tercer valor al penúltimo (de dos formas)\n",
    "print(a[2:9])\n",
    "print(a[2: :3])                          # Imprime desde el tercer valor hasta el último de tres en tres"
   ]
  },
  {
   "cell_type": "markdown",
   "metadata": {},
   "source": [
    "En arrays multidimensionales, se ha de especificar el rango para cada dimensión del array. "
   ]
  },
  {
   "cell_type": "code",
   "execution_count": null,
   "metadata": {},
   "outputs": [],
   "source": [
    "a = np.arange(20)                              # Crea una matriz de tamaño 4*5\n",
    "m = a.reshape(4,5)\n",
    "print(m)\n",
    "print()\n",
    "print(m[1,2], m[2,4])                          # Imprime las posiciones (1,2) y (2,4)\n",
    "\n",
    "\n",
    "print(\"\\nImprime la segunda fila de dos modos distintos\")\n",
    "print(m[1,])\n",
    "print(m[1,:])\n",
    "\n",
    "print(\"\\nImprime las dos primeras filas\")\n",
    "print(m[:2,])\n",
    "\n",
    "print(\"\\nImprime desde la primera a la tercera columna\")\n",
    "print(m[:, 1:4])\n",
    "\n",
    "print(\"\\nImprime desde la segunda fila en adelante, y de la primera a la tercera columna\")\n",
    "print(m[1:, 1:4])"
   ]
  },
  {
   "cell_type": "markdown",
   "metadata": {},
   "source": [
    "---\n",
    "<a id=\"section33\"></a> \n",
    "<h2><font color=\"#004D7F\" size=4> Indexación mediante arrays de enteros </font></h2>\n",
    "<br>\n",
    "\n",
    "Permite construir arrays arbitrarios a partir de un array original, y otro array o lista con los índices seleccionados"
   ]
  },
  {
   "cell_type": "code",
   "execution_count": null,
   "metadata": {},
   "outputs": [],
   "source": [
    "v = np.arange(10)*2\n",
    "print(v)\n",
    "print(v[[0,3,5,6]])                             # Imprime las posiciones 0,3,5 y 6 del array v"
   ]
  },
  {
   "cell_type": "markdown",
   "metadata": {},
   "source": [
    "En arrays multidimensionales, se han de especificar los índices para cada dimensión del array. "
   ]
  },
  {
   "cell_type": "code",
   "execution_count": null,
   "metadata": {},
   "outputs": [],
   "source": [
    "a = np.arange(20)                                   # Crea una matriz de tamaño 4*5\n",
    "m = a.reshape(4,5)\n",
    "print(m)\n",
    "print(m[[0, 0, 1, 2],[0, 2, 3, 4]])                # Imprime un array con m[0,0], m[0,2], m[1,3], m[2,4]"
   ]
  },
  {
   "cell_type": "markdown",
   "metadata": {},
   "source": [
    "La indexación permite también escribir en varias posiciones del array a la vez."
   ]
  },
  {
   "cell_type": "code",
   "execution_count": null,
   "metadata": {},
   "outputs": [],
   "source": [
    "print(m)\n",
    "print()\n",
    "m[1:3,1:4]=-1\n",
    "print(m)\n",
    "print()\n",
    "m[1:3,1:4]=np.array([[10,10,10],[20,20,20]])\n",
    "print(m)"
   ]
  },
  {
   "cell_type": "markdown",
   "metadata": {},
   "source": [
    "---\n",
    "<a id=\"section34\"></a> \n",
    "<h2><font color=\"#004D7F\" size=4> Indexación mediante arrays de valores booleanos </font></h2>\n",
    "<br>\n",
    "\n",
    "Permite acceder a elementos de un array arbitrariamente. Se suele usar para seleccionar elementos que satisfacen alguna condición.  "
   ]
  },
  {
   "cell_type": "code",
   "execution_count": null,
   "metadata": {},
   "outputs": [],
   "source": [
    "v = np.array([0,1,2,3,4,5])\n",
    "b = np.array([True, False, False, False, False, True])\n",
    "v2 = v[b];                                               # v2 es un array que contiene el primer y último valor de v.\n",
    "print(v2)                                                # Ya que son los dos que se pasan con valor a True.\n",
    "print()\n",
    "\n",
    "a = np.arange(20)                                        # Crea una matriz de tamaño 4*5\n",
    "m = a.reshape(4,5)\n",
    "print(m)\n",
    "print()\n",
    "\n",
    "print(m % 2==0)                                          # Imprime un array bidimensional de valores booleanos. \n",
    "print()                                                  # True si elvalor de m es par y False si es impar\n",
    "\n",
    "\n",
    "mb = m[m % 2 == 0]                                       # Crea un vector con los elemenentos pares de m.\n",
    "print(mb)"
   ]
  },
  {
   "cell_type": "markdown",
   "metadata": {},
   "source": [
    "---\n",
    "\n",
    "<h3><font color=\"#004D7F\" size=4> <i class=\"fa fa-pencil-square-o\" aria-hidden=\"true\" style=\"color:#113D68\"></i> Ejercicio</font></h3>\n",
    "\n",
    "Crear un array de tamaño 10x10 con números aleatorios del 0 al 1000. Para ello, utilizar la función `np.random.randint(máximo, size=tamaño)`. Asignar el valor '0' a todos los elementos del borde de la matriz anterior (primera y última fila y columna)"
   ]
  },
  {
   "cell_type": "code",
   "execution_count": null,
   "metadata": {},
   "outputs": [],
   "source": []
  },
  {
   "cell_type": "markdown",
   "metadata": {},
   "source": [
    "Asignar el valor 2 a todos los elementos ubicados entre las filas y columnas tres y seis (16 elementos en total)."
   ]
  },
  {
   "cell_type": "code",
   "execution_count": null,
   "metadata": {},
   "outputs": [],
   "source": []
  },
  {
   "cell_type": "markdown",
   "metadata": {},
   "source": [
    "Asignar el valor -1 a todos los elementos que son menores que 500."
   ]
  },
  {
   "cell_type": "code",
   "execution_count": null,
   "metadata": {},
   "outputs": [],
   "source": []
  }
 ],
 "metadata": {
  "kernelspec": {
   "display_name": "Python 3",
   "language": "python",
   "name": "python3"
  },
  "language_info": {
   "codemirror_mode": {
    "name": "ipython",
    "version": 3
   },
   "file_extension": ".py",
   "mimetype": "text/x-python",
   "name": "python",
   "nbconvert_exporter": "python",
   "pygments_lexer": "ipython3",
   "version": "3.7.3"
  }
 },
 "nbformat": 4,
 "nbformat_minor": 2
}
